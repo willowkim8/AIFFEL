{
 "cells": [
  {
   "cell_type": "markdown",
   "id": "honest-oxygen",
   "metadata": {},
   "source": [
    "# (E5)Realization_of_Spectogram_calssification's_model_InYu\n",
    "  \n",
    "1. 데이터 처리와 분류  \n",
    "   1) 라벨 데이터 처리하기  \n",
    "   2) sklearn의 train_test_split함수를 이용하여 train, test 분리    \n",
    "      \n",
    "2. 학습을 위한 하이퍼파라미터 설정    \n",
    "  \n",
    "3. 데이터셋 구성  \n",
    "   1) tf.data.Dataset을 이용  \n",
    "   2) from_tensor_slices 함수에 return 받길 원하는 데이터를 튜플 (data, label) 형태로 넣어서 사용   \n",
    "   3) map과 batch를 이용한 데이터 전처리  \n",
    "  \n",
    "4. 2차원 Spectrogram 데이터를 처리하는 모델 구성  \n",
    "      \n",
    "5. 학습 후, 학습이 어떻게 진행됐는지 그래프로 출력\n",
    "    loss, accuracy를 그래프로 표현  \n",
    "      \n",
    "6. Test dataset을 이용해서 모델의 성능을 평가  \n",
    "   1) 저장한 weight 불러오기  \n",
    "      모델의 예측값과 정답값이 얼마나 일치하는지 확인  "
   ]
  },
  {
   "cell_type": "markdown",
   "id": "double-necessity",
   "metadata": {},
   "source": [
    "## 1. 데이터 처리와 분류\n",
    "### 1) 라벨 데이터 처리하기"
   ]
  },
  {
   "cell_type": "code",
   "execution_count": 2,
   "id": "indonesian-terminology",
   "metadata": {},
   "outputs": [],
   "source": [
    "import tensorflow as tf\n",
    "gpus = tf.config.experimental.list_physical_devices('GPU')\n",
    "if gpus:\n",
    "  # 텐서플로가 첫 번째 GPU만 사용하도록 제한\n",
    "  try:\n",
    "    tf.config.experimental.set_visible_devices(gpus[0], 'GPU')\n",
    "  except RuntimeError as e:\n",
    "    # 프로그램 시작시에 접근 가능한 장치가 설정되어야만 합니다\n",
    "    print(e)"
   ]
  },
  {
   "cell_type": "code",
   "execution_count": 3,
   "id": "careful-instruction",
   "metadata": {},
   "outputs": [
    {
     "name": "stdout",
     "output_type": "stream",
     "text": [
      "<numpy.lib.npyio.NpzFile object at 0x7efe431e2410>\n"
     ]
    }
   ],
   "source": [
    "import numpy as np\n",
    "import os\n",
    "\n",
    "data_path = os.getenv(\"HOME\")+'/aiffel/speech_recognition/data/speech_wav_8000.npz'\n",
    "speech_data = np.load(data_path) # np.load()함수로 npz파일 열어 배열로 불러온다.\n",
    "\n",
    "print(speech_data) "
   ]
  },
  {
   "cell_type": "code",
   "execution_count": 4,
   "id": "labeled-slide",
   "metadata": {},
   "outputs": [
    {
     "name": "stdout",
     "output_type": "stream",
     "text": [
      "Wave data shape :  (50620, 8000)\n",
      "Label data shape :  (50620, 1)\n"
     ]
    }
   ],
   "source": [
    "# npz 파일로 이뤄진 데이터이며, 각각 데이터는 \"wav_vals\", \"label_vals\"로 저장\n",
    "# 데이터셋은 1초 길이의 오디오 음성데이터 50620개로 이뤄져 있습니다.\n",
    "print(\"Wave data shape : \", speech_data[\"wav_vals\"].shape)\n",
    "print(\"Label data shape : \", speech_data[\"label_vals\"].shape)"
   ]
  },
  {
   "cell_type": "code",
   "execution_count": 5,
   "id": "radio-closing",
   "metadata": {},
   "outputs": [
    {
     "name": "stdout",
     "output_type": "stream",
     "text": [
      "speech_data타입: <class 'numpy.lib.npyio.NpzFile'>\n",
      "speech_data[\"wav_vals\"]타입: <class 'numpy.ndarray'>\n",
      "speech_data[\"label_vals\"]타입: <class 'numpy.ndarray'>\n"
     ]
    }
   ],
   "source": [
    "print('speech_data타입:',type(speech_data))\n",
    "print('speech_data[\"wav_vals\"]타입:',type(speech_data[\"wav_vals\"]))\n",
    "print('speech_data[\"label_vals\"]타입:',type(speech_data[\"label_vals\"]))"
   ]
  },
  {
   "cell_type": "markdown",
   "id": "novel-grounds",
   "metadata": {},
   "source": [
    "```# 많은 단어의 반복 확인하기\n",
    "for i in range(120, 123) : \n",
    "    print(speech_data[\"wav_vals\"][i])\n",
    "    print(speech_data[\"label_vals\"][i])\n",
    "```\n",
    "실행하면 아래와 같이 나온다.  \n",
    "\\[ 0.0000000e+00  0.0000000e+00  0.0000000e+00 ... -2.8508673e-05\n",
    " -1.6771010e-05 -4.5352524e-05]  \n",
    "\\['down']  \n",
    "\\[ 1.0690438e-04  1.0059651e-04  4.4463042e-05 ... -1.7473207e-06\n",
    "  6.1626197e-05  2.3100653e-04]  \n",
    "\\['down']  \n",
    "\\[-0.00024025 -0.00061578 -0.00053798 ... -0.00056475 -0.00047532\n",
    " -0.00034912]  \n",
    "\\['down']  \n",
    "  \n",
    ">speech_data 안에는 총 12개의 단어가 들어있는데, 샘플 개수는 50620이다.  \n",
    "그 이유는 위와 같이 단어들이 반복되어 있음을 알 수 있다."
   ]
  },
  {
   "cell_type": "code",
   "execution_count": 6,
   "id": "further-label",
   "metadata": {},
   "outputs": [
    {
     "name": "stdout",
     "output_type": "stream",
     "text": [
      "LABEL :  ['yes', 'no', 'up', 'down', 'left', 'right', 'on', 'off', 'stop', 'go', 'unknown', 'silence']\n",
      "Indexed LABEL :  {'yes': 0, 'no': 1, 'up': 2, 'down': 3, 'left': 4, 'right': 5, 'on': 6, 'off': 7, 'stop': 8, 'go': 9, 'unknown': 10, 'silence': 11}\n",
      "Decoded LABEL: {0: 'yes', 1: 'no', 2: 'up', 3: 'down', 4: 'left', 5: 'right', 6: 'on', 7: 'off', 8: 'stop', 9: 'go', 10: 'unknown', 11: 'silence'}\n"
     ]
    }
   ],
   "source": [
    "target_list = ['yes', 'no', 'up', 'down', 'left', 'right', 'on', 'off', 'stop', 'go','unknown','silence'  ]\n",
    "\n",
    "label_value = target_list\n",
    "print('LABEL : ', label_value) # 밑 코드에서 label_value를 리스트를 딕셔너리로 바꿈\n",
    "\n",
    "new_label_value = dict()\n",
    "for i, l in enumerate(label_value): # i 라벨목록값, l 인덱스값\n",
    "    new_label_value[l] = i\n",
    "label_value = new_label_value\n",
    "print('Indexed LABEL : ', new_label_value)\n",
    "\n",
    "reverse_dict = {v: k for k, v in new_label_value.items()} # 위의 Dict에서 key-value 뒤집기\n",
    "print('Decoded LABEL:', reverse_dict)"
   ]
  },
  {
   "cell_type": "markdown",
   "id": "needed-pacific",
   "metadata": {},
   "source": [
    "### 2) speech_data\\[\"label_vals\"] -> Indexed LABEL 로 배열(numpy.ndarray) 생성"
   ]
  },
  {
   "cell_type": "code",
   "execution_count": 7,
   "id": "several-memorabilia",
   "metadata": {},
   "outputs": [
    {
     "name": "stdout",
     "output_type": "stream",
     "text": [
      "<class 'numpy.ndarray'>\n",
      "[ 3  3  3 ... 11 11 11]\n",
      "--------------------------\n",
      "['down']\n",
      "3\n"
     ]
    }
   ],
   "source": [
    "temp = []\n",
    "for v in speech_data[\"label_vals\"]: \n",
    "    #print(v[0])\n",
    "    temp.append(label_value[v[0]])\n",
    "label_data = np.array(temp)\n",
    "\n",
    "print(type(label_data))\n",
    "print(label_data)\n",
    "print('--------------------------')\n",
    "# numpy.ndarray 확인하기\n",
    "print(speech_data[\"label_vals\"][0])\n",
    "print(label_data[0])"
   ]
  },
  {
   "cell_type": "markdown",
   "id": "detailed-parish",
   "metadata": {},
   "source": [
    "## \\*1차원인 wav 음성 데이터를 Spectrogram으로 변환\\*"
   ]
  },
  {
   "cell_type": "code",
   "execution_count": 8,
   "id": "average-canadian",
   "metadata": {},
   "outputs": [],
   "source": [
    "import librosa\n",
    "\n",
    "# 1차원의 Waveform 데이터를 2차원의 Spectrogram 데이터로 변환\n",
    "def wav2spec(wav, fft_size=258): # spectrogram shape을 맞추기위해서 size 변형\n",
    "    D = np.abs(librosa.stft(wav, n_fft=fft_size))\n",
    "    return D"
   ]
  },
  {
   "cell_type": "markdown",
   "id": "terminal-gregory",
   "metadata": {},
   "source": [
    ">- np.abs : 절대값을 구하는 함수\n",
    ">- librosa.stft : 짧은 겹치는 창에 대해 이산 푸리에 변환 (DFT)을 계산하여 시간-주파수 영역의 신호를 나타냅니다."
   ]
  },
  {
   "cell_type": "code",
   "execution_count": 9,
   "id": "cognitive-restriction",
   "metadata": {},
   "outputs": [],
   "source": [
    "tmp = []\n",
    "for wav in speech_data[\"wav_vals\"] : # speech_data 할 일 다 함\n",
    "    spec = wav2spec(wav) \n",
    "    tmp.append(spec)"
   ]
  },
  {
   "cell_type": "code",
   "execution_count": 10,
   "id": "owned-consensus",
   "metadata": {},
   "outputs": [
    {
     "name": "stdout",
     "output_type": "stream",
     "text": [
      "(50620, 8000)\n",
      "(50620, 130, 126)\n"
     ]
    }
   ],
   "source": [
    "spec_data = np.array(tmp) # 2차원으로 변환한 data 변수 지정\n",
    "\n",
    "\n",
    "print(speech_data[\"wav_vals\"].shape)\n",
    "print(spec_data.shape)"
   ]
  },
  {
   "cell_type": "markdown",
   "id": "arbitrary-variation",
   "metadata": {},
   "source": [
    "### 3)sklearn의 train_test_split함수를 이용하여 train, test 분리"
   ]
  },
  {
   "cell_type": "code",
   "execution_count": 11,
   "id": "brazilian-beaver",
   "metadata": {},
   "outputs": [
    {
     "name": "stdout",
     "output_type": "stream",
     "text": [
      "<class 'numpy.ndarray'>\n",
      "(45558, 130, 126)\n",
      "(5062, 130, 126)\n"
     ]
    }
   ],
   "source": [
    "from sklearn.model_selection import train_test_split\n",
    "\n",
    "train_spec, test_spec, train_label, test_label = train_test_split(spec_data, # spec_data 할 일 다 함\n",
    "                                                                label_data, \n",
    "                                                                test_size=0.1,\n",
    "                                                                shuffle=True)\n",
    "\n",
    "print(type(train_spec))\n",
    "print(train_spec.shape)\n",
    "print(test_spec.shape)"
   ]
  },
  {
   "cell_type": "code",
   "execution_count": 12,
   "id": "divided-ireland",
   "metadata": {},
   "outputs": [],
   "source": [
    "# del을 이용해서 speech_data 변수를 지워\n",
    "del speech_data\n",
    "del spec_data"
   ]
  },
  {
   "cell_type": "markdown",
   "id": "certain-victory",
   "metadata": {},
   "source": [
    "### \\*Spectrogram 시각화로 데이터가 잘 들어왔는지 확인\\*"
   ]
  },
  {
   "cell_type": "code",
   "execution_count": 13,
   "id": "australian-upset",
   "metadata": {},
   "outputs": [
    {
     "name": "stdout",
     "output_type": "stream",
     "text": [
      "2차원 data shape: (130, 126)\n",
      "0 ~ 45557 중  :  8853\n",
      "8853 의 label : 3\n",
      "8853 label의 target : down\n"
     ]
    }
   ],
   "source": [
    "import random\n",
    "# 데이터 선택 (랜덤하게 선택하고 있으니, 여러번 실행해 보세요)\n",
    "rand = random.randint(0, len(train_spec))\n",
    "\n",
    "data = train_spec[rand]\n",
    "print('2차원 data shape:', data.shape)\n",
    "\n",
    "# rand숫자에 대한 라벨 \n",
    "print(\"0 ~ 45557 중  : \", rand) \n",
    "print(rand,'의 label :', train_label[rand])\n",
    "\n",
    "i = train_label[rand]\n",
    "print(rand, 'label의 target :', reverse_dict[i])"
   ]
  },
  {
   "cell_type": "code",
   "execution_count": 14,
   "id": "voluntary-maker",
   "metadata": {},
   "outputs": [
    {
     "data": {
      "image/png": "[encoded data removed]",
      "text/plain": [
       "<Figure size 432x288 with 2 Axes>"
      ]
     },
     "metadata": {
      "needs_background": "light"
     },
     "output_type": "display_data"
    }
   ],
   "source": [
    "import librosa.display\n",
    "import matplotlib.pyplot as plt\n",
    "\n",
    "librosa.display.specshow(librosa.amplitude_to_db(data, ref=np.max), x_axis='time')\n",
    "plt.title(reverse_dict[i] + ' ' + 'spectrogram') # 해당 스펙토그램 target 같이 쓰기\n",
    "plt.colorbar(format='%+2.0f dB')\n",
    "plt.xticks(range(0, 1))\n",
    "plt.tight_layout()\n",
    "plt.show()"
   ]
  },
  {
   "cell_type": "markdown",
   "id": "japanese-patch",
   "metadata": {},
   "source": [
    "## 2. 하이퍼파라미터 세팅\n",
    "### 1) checkpoint "
   ]
  },
  {
   "cell_type": "code",
   "execution_count": 15,
   "id": "roman-spyware",
   "metadata": {},
   "outputs": [
    {
     "name": "stdout",
     "output_type": "stream",
     "text": [
      "/home/aiffel-dj35/aiffel/speech_recognition/models/spec\n"
     ]
    }
   ],
   "source": [
    "batch_size = 32\n",
    "max_epochs = 10\n",
    "\n",
    "# the save point\n",
    "checkpoint = os.getenv('HOME')+'/aiffel/speech_recognition/models/spec' \n",
    "\n",
    "# 모델 체크포인트 Callback 함수를 설정하거나, 모델을 불러올때 사용합니다.\n",
    "print(checkpoint)"
   ]
  },
  {
   "cell_type": "markdown",
   "id": "brazilian-collar",
   "metadata": {},
   "source": [
    "## 3. 데이터셋 구성"
   ]
  },
  {
   "cell_type": "code",
   "execution_count": 16,
   "id": "duplicate-childhood",
   "metadata": {},
   "outputs": [],
   "source": [
    "# 원핫인코딩 \n",
    "# 텍스트를 [0,0,0,0,0,1,0,0,0,0,0,0] 꼴로 변경하기 위한 함수\n",
    "def one_hot_label(spec, label):\n",
    "    label = tf.one_hot(label, depth=12) # 12개인 이유는 12단어 이기때문에\n",
    "    return spec, label"
   ]
  },
  {
   "cell_type": "markdown",
   "id": "statutory-yorkshire",
   "metadata": {},
   "source": [
    "### 1) tf.data.Dataset을 이용  &\n",
    "### 2) from_tensor_slices 함수에 return 받길 원하는 데이터를 튜플 (data, label) 형태로 넣어서 사용 &\n",
    "### 3) map과 batch를 이용한 데이터 전처리"
   ]
  },
  {
   "cell_type": "code",
   "execution_count": 17,
   "id": "electronic-canal",
   "metadata": {},
   "outputs": [
    {
     "name": "stdout",
     "output_type": "stream",
     "text": [
      "<BatchDataset shapes: ((None, 130, 126), (None, 12)), types: (tf.float32, tf.float32)>\n",
      "<BatchDataset shapes: ((None, 130, 126), (None, 12)), types: (tf.float32, tf.float32)>\n"
     ]
    }
   ],
   "source": [
    "import tensorflow as tf\n",
    "\n",
    "# for train\n",
    "train_dataset = tf.data.Dataset.from_tensor_slices((train_spec, train_label))\n",
    "train_dataset = train_dataset.map(one_hot_label)\n",
    "train_dataset = train_dataset.repeat().batch(batch_size=batch_size)\n",
    "print(train_dataset)\n",
    "\n",
    "# for test\n",
    "test_dataset = tf.data.Dataset.from_tensor_slices((test_spec, test_label))\n",
    "test_dataset = test_dataset.map(one_hot_label)\n",
    "test_dataset = test_dataset.batch(batch_size=batch_size)\n",
    "print(test_dataset)"
   ]
  },
  {
   "cell_type": "code",
   "execution_count": 18,
   "id": "regulated-shore",
   "metadata": {},
   "outputs": [
    {
     "name": "stdout",
     "output_type": "stream",
     "text": [
      "<class 'tensorflow.python.data.ops.dataset_ops.BatchDataset'>\n"
     ]
    }
   ],
   "source": [
    "print(type(test_dataset))"
   ]
  },
  {
   "cell_type": "markdown",
   "id": "global-eight",
   "metadata": {},
   "source": [
    "## 4. 2차원 Spectrogram 데이터를 처리하는 모델 구성  "
   ]
  },
  {
   "cell_type": "code",
   "execution_count": 19,
   "id": "mediterranean-machine",
   "metadata": {},
   "outputs": [
    {
     "name": "stdout",
     "output_type": "stream",
     "text": [
      "Model: \"model\"\n",
      "_________________________________________________________________\n",
      "Layer (type)                 Output Shape              Param #   \n",
      "=================================================================\n",
      "input_1 (InputLayer)         [(None, 130, 126)]        0         \n",
      "_________________________________________________________________\n",
      "conv1d (Conv1D)              (None, 130, 32)           36320     \n",
      "_________________________________________________________________\n",
      "conv1d_1 (Conv1D)            (None, 130, 32)           9248      \n",
      "_________________________________________________________________\n",
      "max_pooling1d (MaxPooling1D) (None, 65, 32)            0         \n",
      "_________________________________________________________________\n",
      "conv1d_2 (Conv1D)            (None, 65, 64)            18496     \n",
      "_________________________________________________________________\n",
      "conv1d_3 (Conv1D)            (None, 65, 64)            36928     \n",
      "_________________________________________________________________\n",
      "max_pooling1d_1 (MaxPooling1 (None, 32, 64)            0         \n",
      "_________________________________________________________________\n",
      "conv1d_4 (Conv1D)            (None, 32, 128)           73856     \n",
      "_________________________________________________________________\n",
      "conv1d_5 (Conv1D)            (None, 32, 128)           147584    \n",
      "_________________________________________________________________\n",
      "conv1d_6 (Conv1D)            (None, 32, 128)           147584    \n",
      "_________________________________________________________________\n",
      "max_pooling1d_2 (MaxPooling1 (None, 16, 128)           0         \n",
      "_________________________________________________________________\n",
      "conv1d_7 (Conv1D)            (None, 16, 256)           295168    \n",
      "_________________________________________________________________\n",
      "conv1d_8 (Conv1D)            (None, 16, 256)           590080    \n",
      "_________________________________________________________________\n",
      "conv1d_9 (Conv1D)            (None, 16, 256)           590080    \n",
      "_________________________________________________________________\n",
      "max_pooling1d_3 (MaxPooling1 (None, 8, 256)            0         \n",
      "_________________________________________________________________\n",
      "dropout (Dropout)            (None, 8, 256)            0         \n",
      "_________________________________________________________________\n",
      "flatten (Flatten)            (None, 2048)              0         \n",
      "_________________________________________________________________\n",
      "dense (Dense)                (None, 256)               524544    \n",
      "_________________________________________________________________\n",
      "batch_normalization (BatchNo (None, 256)               1024      \n",
      "_________________________________________________________________\n",
      "activation (Activation)      (None, 256)               0         \n",
      "_________________________________________________________________\n",
      "dense_1 (Dense)              (None, 12)                3084      \n",
      "=================================================================\n",
      "Total params: 2,473,996\n",
      "Trainable params: 2,473,484\n",
      "Non-trainable params: 512\n",
      "_________________________________________________________________\n"
     ]
    }
   ],
   "source": [
    "from tensorflow.keras import layers\n",
    "\n",
    "input_tensor = layers.Input(shape=(130, 126)) #(130,126)\n",
    "\n",
    "x = layers.Conv1D(32, 9, padding='same', activation='relu')(input_tensor)\n",
    "x = layers.Conv1D(32, 9, padding='same', activation='relu')(x)\n",
    "x = layers.MaxPool1D()(x)\n",
    "\n",
    "x = layers.Conv1D(64, 9, padding='same', activation='relu')(x)\n",
    "x = layers.Conv1D(64, 9, padding='same', activation='relu')(x)\n",
    "x = layers.MaxPool1D()(x)\n",
    "\n",
    "x = layers.Conv1D(128, 9, padding='same', activation='relu')(x)\n",
    "x = layers.Conv1D(128, 9, padding='same', activation='relu')(x)\n",
    "x = layers.Conv1D(128, 9, padding='same', activation='relu')(x)\n",
    "x = layers.MaxPool1D()(x)\n",
    "\n",
    "x = layers.Conv1D(256, 9, padding='same', activation='relu')(x)\n",
    "x = layers.Conv1D(256, 9, padding='same', activation='relu')(x)\n",
    "x = layers.Conv1D(256, 9, padding='same', activation='relu')(x)\n",
    "x = layers.MaxPool1D()(x)\n",
    "x = layers.Dropout(0.3)(x)\n",
    "\n",
    "x = layers.Flatten()(x)\n",
    "x = layers.Dense(256)(x)\n",
    "x = layers.BatchNormalization()(x)\n",
    "x = layers.Activation('relu')(x)\n",
    "\n",
    "output_tensor = layers.Dense(12)(x)\n",
    "\n",
    "model01_spec = tf.keras.Model(input_tensor, output_tensor)\n",
    "\n",
    "model01_spec.summary()"
   ]
  },
  {
   "cell_type": "code",
   "execution_count": 20,
   "id": "atmospheric-ecuador",
   "metadata": {},
   "outputs": [
    {
     "name": "stdout",
     "output_type": "stream",
     "text": [
      "✅\n"
     ]
    }
   ],
   "source": [
    "optimizer=tf.keras.optimizers.Adam(1e-4)\n",
    "model01_spec.compile(loss=tf.keras.losses.CategoricalCrossentropy(from_logits=True),\n",
    "             optimizer=optimizer,\n",
    "             metrics=['accuracy'])\n",
    "print(\"✅\")"
   ]
  },
  {
   "cell_type": "code",
   "execution_count": 21,
   "id": "binding-advocacy",
   "metadata": {},
   "outputs": [
    {
     "name": "stdout",
     "output_type": "stream",
     "text": [
      "✅\n"
     ]
    }
   ],
   "source": [
    "optimizer=tf.keras.optimizers.Adam(1e-4)\n",
    "model01_spec.compile(loss=tf.keras.losses.CategoricalCrossentropy(from_logits=True),\n",
    "             optimizer=optimizer,\n",
    "             metrics=['accuracy'])\n",
    "print(\"✅\")"
   ]
  },
  {
   "cell_type": "code",
   "execution_count": 22,
   "id": "amino-eligibility",
   "metadata": {},
   "outputs": [
    {
     "name": "stdout",
     "output_type": "stream",
     "text": [
      "✅\n"
     ]
    }
   ],
   "source": [
    "cp_callback = tf.keras.callbacks.ModelCheckpoint(checkpoint,\n",
    "                                                 save_weights_only=True,\n",
    "                                                 monitor='val_loss',\n",
    "                                                 mode='auto',\n",
    "                                                 save_best_only=True,\n",
    "                                                 verbose=1)\n",
    "print(\"✅\")"
   ]
  },
  {
   "cell_type": "code",
   "execution_count": 23,
   "id": "alpine-crystal",
   "metadata": {},
   "outputs": [
    {
     "name": "stdout",
     "output_type": "stream",
     "text": [
      "Epoch 1/10\n",
      "1421/1423 [============================>.] - ETA: 0s - loss: 1.3759 - accuracy: 0.5245\n",
      "Epoch 00001: val_loss improved from inf to 0.89285, saving model to /home/aiffel-dj35/aiffel/speech_recognition/models/spec\n",
      "1423/1423 [==============================] - 11s 8ms/step - loss: 1.3751 - accuracy: 0.5248 - val_loss: 0.8928 - val_accuracy: 0.7035\n",
      "Epoch 2/10\n",
      "1417/1423 [============================>.] - ETA: 0s - loss: 0.6527 - accuracy: 0.7846\n",
      "Epoch 00002: val_loss improved from 0.89285 to 0.52282, saving model to /home/aiffel-dj35/aiffel/speech_recognition/models/spec\n",
      "1423/1423 [==============================] - 11s 7ms/step - loss: 0.6524 - accuracy: 0.7847 - val_loss: 0.5228 - val_accuracy: 0.8313\n",
      "Epoch 3/10\n",
      "1419/1423 [============================>.] - ETA: 0s - loss: 0.4420 - accuracy: 0.8531\n",
      "Epoch 00003: val_loss improved from 0.52282 to 0.43521, saving model to /home/aiffel-dj35/aiffel/speech_recognition/models/spec\n",
      "1423/1423 [==============================] - 11s 8ms/step - loss: 0.4422 - accuracy: 0.8530 - val_loss: 0.4352 - val_accuracy: 0.8554\n",
      "Epoch 4/10\n",
      "1418/1423 [============================>.] - ETA: 0s - loss: 0.3350 - accuracy: 0.8893\n",
      "Epoch 00004: val_loss improved from 0.43521 to 0.38376, saving model to /home/aiffel-dj35/aiffel/speech_recognition/models/spec\n",
      "1423/1423 [==============================] - 11s 7ms/step - loss: 0.3349 - accuracy: 0.8893 - val_loss: 0.3838 - val_accuracy: 0.8780\n",
      "Epoch 5/10\n",
      "1417/1423 [============================>.] - ETA: 0s - loss: 0.2627 - accuracy: 0.9143\n",
      "Epoch 00005: val_loss improved from 0.38376 to 0.35770, saving model to /home/aiffel-dj35/aiffel/speech_recognition/models/spec\n",
      "1423/1423 [==============================] - 11s 7ms/step - loss: 0.2625 - accuracy: 0.9144 - val_loss: 0.3577 - val_accuracy: 0.8859\n",
      "Epoch 6/10\n",
      "1416/1423 [============================>.] - ETA: 0s - loss: 0.2128 - accuracy: 0.9303\n",
      "Epoch 00006: val_loss improved from 0.35770 to 0.32554, saving model to /home/aiffel-dj35/aiffel/speech_recognition/models/spec\n",
      "1423/1423 [==============================] - 11s 8ms/step - loss: 0.2129 - accuracy: 0.9302 - val_loss: 0.3255 - val_accuracy: 0.8948\n",
      "Epoch 7/10\n",
      "1416/1423 [============================>.] - ETA: 0s - loss: 0.1821 - accuracy: 0.9394\n",
      "Epoch 00007: val_loss improved from 0.32554 to 0.29057, saving model to /home/aiffel-dj35/aiffel/speech_recognition/models/spec\n",
      "1423/1423 [==============================] - 11s 8ms/step - loss: 0.1822 - accuracy: 0.9393 - val_loss: 0.2906 - val_accuracy: 0.9062\n",
      "Epoch 8/10\n",
      "1416/1423 [============================>.] - ETA: 0s - loss: 0.1569 - accuracy: 0.9477\n",
      "Epoch 00008: val_loss improved from 0.29057 to 0.26115, saving model to /home/aiffel-dj35/aiffel/speech_recognition/models/spec\n",
      "1423/1423 [==============================] - 11s 7ms/step - loss: 0.1568 - accuracy: 0.9477 - val_loss: 0.2612 - val_accuracy: 0.9179\n",
      "Epoch 9/10\n",
      "1422/1423 [============================>.] - ETA: 0s - loss: 0.1332 - accuracy: 0.9556\n",
      "Epoch 00009: val_loss did not improve from 0.26115\n",
      "1423/1423 [==============================] - 11s 7ms/step - loss: 0.1333 - accuracy: 0.9556 - val_loss: 0.2755 - val_accuracy: 0.9167\n",
      "Epoch 10/10\n",
      "1423/1423 [==============================] - ETA: 0s - loss: 0.1250 - accuracy: 0.9576\n",
      "Epoch 00010: val_loss improved from 0.26115 to 0.22704, saving model to /home/aiffel-dj35/aiffel/speech_recognition/models/spec\n",
      "1423/1423 [==============================] - 11s 7ms/step - loss: 0.1250 - accuracy: 0.9576 - val_loss: 0.2270 - val_accuracy: 0.9300\n"
     ]
    }
   ],
   "source": [
    "history_spec01 = model01_spec.fit(train_dataset, epochs=max_epochs,\n",
    "                    steps_per_epoch=len(train_spec) // batch_size,\n",
    "                    validation_data=test_dataset,\n",
    "                    validation_steps=len(test_spec) // batch_size,\n",
    "                    callbacks=[cp_callback]\n",
    "                    )"
   ]
  },
  {
   "cell_type": "markdown",
   "id": "bronze-runner",
   "metadata": {},
   "source": [
    "## 5. 학습 후, 학습이 어떻게 진행됐는지 그래프로 출력"
   ]
  },
  {
   "cell_type": "code",
   "execution_count": 24,
   "id": "dominant-reduction",
   "metadata": {},
   "outputs": [
    {
     "data": {
      "image/png": "[encoded data removed]",
      "text/plain": [
       "<Figure size 576x576 with 2 Axes>"
      ]
     },
     "metadata": {
      "needs_background": "light"
     },
     "output_type": "display_data"
    }
   ],
   "source": [
    "import matplotlib.pyplot as plt\n",
    "\n",
    "acc = history_spec01.history['accuracy']\n",
    "val_acc = history_spec01.history['val_accuracy']\n",
    "\n",
    "loss=history_spec01.history['loss']\n",
    "val_loss=history_spec01.history['val_loss']\n",
    "\n",
    "epochs_range = range(len(acc))\n",
    "\n",
    "plt.figure(figsize=(8, 8))\n",
    "plt.subplot(1, 2, 1)\n",
    "plt.plot(epochs_range, acc, label='Training Accuracy')\n",
    "plt.plot(epochs_range, val_acc, label='Validation Accuracy')\n",
    "plt.legend(loc='lower right')\n",
    "plt.title('Training and Validation Accuracy')\n",
    "\n",
    "plt.subplot(1, 2, 2)\n",
    "plt.plot(epochs_range, loss, label='Training Loss')\n",
    "plt.plot(epochs_range, val_loss, label='Validation Loss')\n",
    "plt.legend(loc='upper right')\n",
    "plt.title('Training and Validation Loss')\n",
    "plt.show()"
   ]
  },
  {
   "cell_type": "markdown",
   "id": "fatty-heating",
   "metadata": {},
   "source": [
    "## 6. Test dataset을 이용해서 모델의 성능을 평가\n",
    "\n",
    "### 1) 저장한 weight 불러오기"
   ]
  },
  {
   "cell_type": "code",
   "execution_count": 25,
   "id": "viral-sheffield",
   "metadata": {},
   "outputs": [
    {
     "data": {
      "text/plain": [
       "<tensorflow.python.training.tracking.util.CheckpointLoadStatus at 0x7efd7405f850>"
      ]
     },
     "execution_count": 25,
     "metadata": {},
     "output_type": "execute_result"
    }
   ],
   "source": [
    "model01_spec.load_weights(checkpoint)"
   ]
  },
  {
   "cell_type": "code",
   "execution_count": 26,
   "id": "horizontal-israel",
   "metadata": {},
   "outputs": [
    {
     "name": "stdout",
     "output_type": "stream",
     "text": [
      "159/159 [==============================] - 20s 128ms/step - loss: 0.2268 - accuracy: 0.9301\n"
     ]
    }
   ],
   "source": [
    "# evaluate\n",
    "results = model01_spec.evaluate(test_dataset)"
   ]
  },
  {
   "cell_type": "code",
   "execution_count": 27,
   "id": "korean-criminal",
   "metadata": {},
   "outputs": [
    {
     "name": "stdout",
     "output_type": "stream",
     "text": [
      "loss value: 0.227\n",
      "accuracy value: 93.0067%\n"
     ]
    }
   ],
   "source": [
    "# loss\n",
    "print(\"loss value: {:.3f}\".format(results[0]))\n",
    "# accuracy\n",
    "print(\"accuracy value: {:.4f}%\".format(results[1]*100))"
   ]
  },
  {
   "cell_type": "code",
   "execution_count": 28,
   "id": "wicked-disability",
   "metadata": {},
   "outputs": [],
   "source": [
    "del model01_spec"
   ]
  },
  {
   "cell_type": "markdown",
   "id": "worth-minneapolis",
   "metadata": {},
   "source": [
    "## +Skip-Connection model"
   ]
  },
  {
   "cell_type": "code",
   "execution_count": 29,
   "id": "intelligent-principal",
   "metadata": {},
   "outputs": [
    {
     "name": "stdout",
     "output_type": "stream",
     "text": [
      "Model: \"model_1\"\n",
      "__________________________________________________________________________________________________\n",
      "Layer (type)                    Output Shape         Param #     Connected to                     \n",
      "==================================================================================================\n",
      "input_2 (InputLayer)            [(None, 8000, 1)]    0                                            \n",
      "__________________________________________________________________________________________________\n",
      "conv1d_10 (Conv1D)              (None, 8000, 32)     320         input_2[0][0]                    \n",
      "__________________________________________________________________________________________________\n",
      "conv1d_11 (Conv1D)              (None, 8000, 32)     9248        conv1d_10[0][0]                  \n",
      "__________________________________________________________________________________________________\n",
      "max_pooling1d_4 (MaxPooling1D)  (None, 4000, 32)     0           conv1d_11[0][0]                  \n",
      "__________________________________________________________________________________________________\n",
      "conv1d_12 (Conv1D)              (None, 4000, 64)     18496       max_pooling1d_4[0][0]            \n",
      "__________________________________________________________________________________________________\n",
      "conv1d_13 (Conv1D)              (None, 4000, 64)     36928       conv1d_12[0][0]                  \n",
      "__________________________________________________________________________________________________\n",
      "tf_op_layer_concat (TensorFlowO [(None, 4000, 96)]   0           conv1d_13[0][0]                  \n",
      "                                                                 max_pooling1d_4[0][0]            \n",
      "__________________________________________________________________________________________________\n",
      "max_pooling1d_5 (MaxPooling1D)  (None, 2000, 96)     0           tf_op_layer_concat[0][0]         \n",
      "__________________________________________________________________________________________________\n",
      "conv1d_14 (Conv1D)              (None, 2000, 128)    110720      max_pooling1d_5[0][0]            \n",
      "__________________________________________________________________________________________________\n",
      "conv1d_15 (Conv1D)              (None, 2000, 128)    147584      conv1d_14[0][0]                  \n",
      "__________________________________________________________________________________________________\n",
      "conv1d_16 (Conv1D)              (None, 2000, 128)    147584      conv1d_15[0][0]                  \n",
      "__________________________________________________________________________________________________\n",
      "tf_op_layer_concat_1 (TensorFlo [(None, 2000, 224)]  0           conv1d_16[0][0]                  \n",
      "                                                                 max_pooling1d_5[0][0]            \n",
      "__________________________________________________________________________________________________\n",
      "max_pooling1d_6 (MaxPooling1D)  (None, 1000, 224)    0           tf_op_layer_concat_1[0][0]       \n",
      "__________________________________________________________________________________________________\n",
      "conv1d_17 (Conv1D)              (None, 1000, 256)    516352      max_pooling1d_6[0][0]            \n",
      "__________________________________________________________________________________________________\n",
      "conv1d_18 (Conv1D)              (None, 1000, 256)    590080      conv1d_17[0][0]                  \n",
      "__________________________________________________________________________________________________\n",
      "conv1d_19 (Conv1D)              (None, 1000, 256)    590080      conv1d_18[0][0]                  \n",
      "__________________________________________________________________________________________________\n",
      "tf_op_layer_concat_2 (TensorFlo [(None, 1000, 480)]  0           conv1d_19[0][0]                  \n",
      "                                                                 max_pooling1d_6[0][0]            \n",
      "__________________________________________________________________________________________________\n",
      "max_pooling1d_7 (MaxPooling1D)  (None, 500, 480)     0           tf_op_layer_concat_2[0][0]       \n",
      "__________________________________________________________________________________________________\n",
      "dropout_1 (Dropout)             (None, 500, 480)     0           max_pooling1d_7[0][0]            \n",
      "__________________________________________________________________________________________________\n",
      "flatten_1 (Flatten)             (None, 240000)       0           dropout_1[0][0]                  \n",
      "__________________________________________________________________________________________________\n",
      "dense_2 (Dense)                 (None, 256)          61440256    flatten_1[0][0]                  \n",
      "__________________________________________________________________________________________________\n",
      "batch_normalization_1 (BatchNor (None, 256)          1024        dense_2[0][0]                    \n",
      "__________________________________________________________________________________________________\n",
      "activation_1 (Activation)       (None, 256)          0           batch_normalization_1[0][0]      \n",
      "__________________________________________________________________________________________________\n",
      "dense_3 (Dense)                 (None, 12)           3084        activation_1[0][0]               \n",
      "==================================================================================================\n",
      "Total params: 63,611,756\n",
      "Trainable params: 63,611,244\n",
      "Non-trainable params: 512\n",
      "__________________________________________________________________________________________________\n"
     ]
    }
   ],
   "source": [
    "sr= 8000\n",
    "input_tensor = layers.Input(shape=(sr, 1))\n",
    "\n",
    "x = layers.Conv1D(32, 9, padding='same', activation='relu')(input_tensor)\n",
    "x = layers.Conv1D(32, 9, padding='same', activation='relu')(x)\n",
    "skip_1 = layers.MaxPool1D()(x)\n",
    "\n",
    "x = layers.Conv1D(64, 9, padding='same', activation='relu')(skip_1)\n",
    "x = layers.Conv1D(64, 9, padding='same', activation='relu')(x)\n",
    "x = tf.concat([x, skip_1], -1)\n",
    "skip_2 = layers.MaxPool1D()(x)\n",
    "\n",
    "x = layers.Conv1D(128, 9, padding='same', activation='relu')(skip_2)\n",
    "x = layers.Conv1D(128, 9, padding='same', activation='relu')(x)\n",
    "x = layers.Conv1D(128, 9, padding='same', activation='relu')(x)\n",
    "x = tf.concat([x, skip_2], -1)\n",
    "skip_3 = layers.MaxPool1D()(x)\n",
    "\n",
    "x = layers.Conv1D(256, 9, padding='same', activation='relu')(skip_3)\n",
    "x = layers.Conv1D(256, 9, padding='same', activation='relu')(x)\n",
    "x = layers.Conv1D(256, 9, padding='same', activation='relu')(x)\n",
    "x = tf.concat([x, skip_3], -1)\n",
    "x = layers.MaxPool1D()(x)\n",
    "x = layers.Dropout(0.3)(x)\n",
    "\n",
    "x = layers.Flatten()(x)\n",
    "x = layers.Dense(256)(x)\n",
    "x = layers.BatchNormalization()(x)\n",
    "x = layers.Activation('relu')(x)\n",
    "\n",
    "output_tensor = layers.Dense(12)(x)\n",
    "\n",
    "model01_spec_skip = tf.keras.Model(input_tensor, output_tensor)\n",
    "\n",
    "model01_spec_skip.summary()"
   ]
  },
  {
   "cell_type": "code",
   "execution_count": 30,
   "id": "neural-indian",
   "metadata": {},
   "outputs": [
    {
     "name": "stdout",
     "output_type": "stream",
     "text": [
      "✅\n"
     ]
    }
   ],
   "source": [
    "optimizer=tf.keras.optimizers.Adam(1e-4)\n",
    "model01_spec_skip.compile(loss=tf.keras.losses.CategoricalCrossentropy(from_logits=True),\n",
    "             optimizer=optimizer,\n",
    "             metrics=['accuracy'])\n",
    "print(\"✅\")"
   ]
  },
  {
   "cell_type": "code",
   "execution_count": 31,
   "id": "danish-restriction",
   "metadata": {},
   "outputs": [
    {
     "name": "stdout",
     "output_type": "stream",
     "text": [
      "✅\n"
     ]
    }
   ],
   "source": [
    "# the save point\n",
    "checkpoint_dir = os.getenv('HOME')+'/aiffel/speech_recognition/models/wav_skip'\n",
    "\n",
    "cp_callback = tf.keras.callbacks.ModelCheckpoint(checkpoint_dir,\n",
    "                                                 save_weights_only=True,\n",
    "                                                 monitor='val_loss',\n",
    "                                                 mode='auto',\n",
    "                                                 save_best_only=True,\n",
    "                                                 verbose=1)\n",
    "print(\"✅\")"
   ]
  },
  {
   "cell_type": "code",
   "execution_count": null,
   "id": "monthly-teaching",
   "metadata": {},
   "outputs": [],
   "source": [
    "#30분 내외 소요 => 커널이 터졌다.\n",
    "model01_spec_skip = model01_spec_skip.fit(train_dataset, epochs=max_epochs,\n",
    "                    steps_per_epoch=len(train_spec) // batch_size,\n",
    "                    validation_data=test_dataset,\n",
    "                    validation_steps=len(test_spec) // batch_size,\n",
    "                    callbacks=[cp_callback]\n",
    "                    )"
   ]
  },
  {
   "cell_type": "code",
   "execution_count": null,
   "id": "fewer-shell",
   "metadata": {},
   "outputs": [],
   "source": [
    "import matplotlib.pyplot as plt\n",
    "\n",
    "acc = history_wav_skip.history['accuracy']\n",
    "val_acc = history_wav_skip.history['val_accuracy']\n",
    "\n",
    "loss=history_wav_skip.history['loss']\n",
    "val_loss=history_wav_skip.history['val_loss']\n",
    "\n",
    "epochs_range = range(len(acc))\n",
    "\n",
    "plt.figure(figsize=(8, 8))\n",
    "plt.subplot(1, 2, 1)\n",
    "plt.plot(epochs_range, acc, label='Training Accuracy')\n",
    "plt.plot(epochs_range, val_acc, label='Validation Accuracy')\n",
    "plt.legend(loc='lower right')\n",
    "plt.title('Training and Validation Accuracy')\n",
    "\n",
    "plt.subplot(1, 2, 2)\n",
    "plt.plot(epochs_range, loss, label='Training Loss')\n",
    "plt.plot(epochs_range, val_loss, label='Validation Loss')\n",
    "plt.legend(loc='upper right')\n",
    "plt.title('Training and Validation Loss')\n",
    "plt.show()\n",
    "print(\"✅\")"
   ]
  },
  {
   "cell_type": "code",
   "execution_count": null,
   "id": "accomplished-pennsylvania",
   "metadata": {},
   "outputs": [],
   "source": [
    "# Evaluation \n",
    "\n",
    "model_wav_skip.load_weights(checkpoint_dir)\n",
    "results = model_wav_skip.evaluate(test_dataset)\n",
    "\n",
    "# loss\n",
    "print(\"loss value: {:.3f}\".format(results[0]))\n",
    "# accuracy\n",
    "print(\"accuracy value: {:.4f}%\".format(results[1]*100))\n",
    "print(\"✅\")"
   ]
  },
  {
   "cell_type": "code",
   "execution_count": null,
   "id": "trained-allergy",
   "metadata": {},
   "outputs": [],
   "source": [
    "# Test \n",
    "\n",
    "inv_label_value = {v: k for k, v in label_value.items()}\n",
    "batch_index = np.random.choice(len(test_wav), size=1, replace=False)\n",
    "\n",
    "batch_xs = test_wav[batch_index]\n",
    "batch_ys = test_label[batch_index]\n",
    "y_pred_ = model_wav_skip(batch_xs, training=False)\n",
    "\n",
    "print(\"label : \", str(inv_label_value[batch_ys[0]]))\n",
    "\n",
    "ipd.Audio(batch_xs.reshape(8000,), rate=8000)"
   ]
  },
  {
   "cell_type": "code",
   "execution_count": null,
   "id": "embedded-undergraduate",
   "metadata": {},
   "outputs": [],
   "source": [
    "if np.argmax(y_pred_) == batch_ys[0]:\n",
    "    print(\"y_pred: \" + str(inv_label_value[np.argmax(y_pred_)]) + '(Correct!)')\n",
    "else:\n",
    "    print(\"y_pred: \" + str(inv_label_value[np.argmax(y_pred_)]) + '(Incorrect!)')\n",
    "print(\"✅\")"
   ]
  },
  {
   "cell_type": "markdown",
   "id": "successful-banner",
   "metadata": {},
   "source": [
    "## 루브릭 평가\n",
    "1. 음성데이터를 2차원 Spectrogram 으로 변환하여 데이터셋을 구성하였다. 스펙트로그램 시각화 및 train/test 데이터셋 구성이 정상진행되었다.  \n",
    "> sampling된 data를 FFT(시간영역의 신호를 주파수 영역으로 변환시키는 알고리즘)을 사용해서 변환한다.  \n",
    "random으로 고른 data에 해당 targat과 함께 spectogram을 그렸다.  \n",
    "split을 이용해서 전체의 1/10만 test data로 구성했다.\n",
    "  \n",
    "\n",
    "2. 1,2차원 데이터를 처리하는 음성인식 모델이 정상 작동한다. 스펙트로그램을 입력받은 모델이 학습과정에서 안정적으로 수렴하며, evaluation/test 단계를 무리없이 진행가능하다.\n",
    "> 1차원 모델로 진행했고 메모리를 많이 써서 중간에 많이 연결이 끊어졌지만, batch size를 조정하면서 정상 작동하게 되었다. complie -> fit -> evaluation 까지 모두 진행하였다.\n",
    "\n",
    "3. 테스트셋 수행결과 음성인식 모델의 Accuracy가 일정 수준에 도달하였다. evaluation 결과 75% 이상의 정확도를 달성하는 모델이 하나 이상 존재한다.\n",
    "> 1차원 모델의 acc는 92.01% 정도로 높게 나왔다.\n",
    "***\n",
    "## 회고\n",
    "완벽히 이해하지는 못했지만, 음성 데이터를 1차원과 2차원에서도 그대로 Conv1D로 쓸 수 있는 점을 처음 알게 되었다. 터널이 끊겼는데, 슬랙에서 도움을 받아서 GPU를 관리하는 방법으로 해결했다. 코드가 올바르다고 모두 진행할 수 있는 건 아니다. 주어진 환경(gpu 용량)에서 실행 될 수 있도록 코드 또는 필요하지 않은 인자들을 적절한 타이밍에 delete 할 수 있다. 온라인 수업이지만 집단지성의 힘을 이렇게 종종 마주한다. 다음 자연어에서는 자세한 설명이 있다면 발전된 모습으로 해결할 수 있을 것이다. \n",
    "\n",
    "***\n",
    "## 더 탐구\n",
    "+ 나열하기에는 많은 speech_data으로 target_list를 알아낼 수 있을까?\n",
    "+ numpy 복습\n",
    "+ del에 대한 복습\n",
    "+ skip-connectiondp의 이해와 실행"
   ]
  },
  {
   "cell_type": "code",
   "execution_count": null,
   "id": "different-survey",
   "metadata": {},
   "outputs": [],
   "source": []
  }
 ],
 "metadata": {
  "kernelspec": {
   "display_name": "aiffel",
   "language": "python",
   "name": "aiffel"
  },
  "language_info": {
   "codemirror_mode": {
    "name": "ipython",
    "version": 3
   },
   "file_extension": ".py",
   "mimetype": "text/x-python",
   "name": "python",
   "nbconvert_exporter": "python",
   "pygments_lexer": "ipython3",
   "version": "3.7.9"
  }
 },
 "nbformat": 4,
 "nbformat_minor": 5
}
