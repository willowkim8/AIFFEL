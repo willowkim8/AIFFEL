{
 "cells": [
  {
   "cell_type": "markdown",
   "id": "billion-modification",
   "metadata": {},
   "source": [
    "# 15-1. 들어가며"
   ]
  },
  {
   "cell_type": "markdown",
   "id": "cordless-announcement",
   "metadata": {},
   "source": [
    "## 대화형 챗봇"
   ]
  },
  {
   "cell_type": "markdown",
   "id": "comprehensive-prayer",
   "metadata": {},
   "source": [
    "챗봇에는 인간과 자연어로 대화를 주고받는 대화형 챗봇 이외에도, 정해진 트리형 메뉴 구조를 따라가는 트리형(버튼) 챗봇, 추천형 챗봇, 시나리오형 챗봇이 있고, 이들을 결합한 결합형 챗봇이 있다  \n",
    "대화형을 제외하면 사실상 챗봇은 대화형 UX를 가졌지만 본질적으로는 검색엔진이거나, 혹은 음성ARS를 대화형 UX에 옮겨놓은 것이라 할 수 있다  \n",
    "진정한 챗봇의 가치는 사용자가 어떤 말을 하더라도 알아듣고 적절히 대응할 수 있는 자유도에 있기 때문  \n"
   ]
  },
  {
   "cell_type": "markdown",
   "id": "grand-programming",
   "metadata": {},
   "source": [
    "## 챗봇과 딥러닝"
   ]
  },
  {
   "cell_type": "markdown",
   "id": "cardiovascular-detection",
   "metadata": {},
   "source": [
    "LSTM 등 RNN 기반의 딥러닝 모델, 그리고 이를 인코더-디코더 구조로 엮은 seq2seq 모델 등을 활용하여 챗봇 제작을 시도해 왔음  \n",
    "그러나 2017년에 발표된 트랜스포머는 병렬처리에 불리한 LSTM에 비해 훨씬 뛰어난 처리속도를 보이면서도   \n",
    "LSTM 등 RNN 모델이 가지는 장기의존성에 강건한 특징 때문에   \n",
    "매우 긴 길이의 문장을 처리하는 데 유리하다는 좋은 특징을 보여주었고, 이후 자연어처리 분야의 혁신을 가져온 발판이 되어 주었습니다.  \n",
    "  \n",
    "인코더-디코더 구조를 바탕  \n",
    "-> seq2seq, AutoEncoder, GAN, 트랜스포머 모델  \n",
    "  \n",
    "오늘은 트랜스포머 모델을 기반으로 한 인코더-디코더 구조를 바탕으로 챗봇을 제작할 예정  "
   ]
  },
  {
   "cell_type": "markdown",
   "id": "worth-submission",
   "metadata": {},
   "source": [
    "## 학습 목표"
   ]
  },
  {
   "cell_type": "markdown",
   "id": "cathedral-arbitration",
   "metadata": {},
   "source": [
    "1. 트랜스포머의 인코더 디코더 구조 이해하기\n",
    "2. 내부 단어 토크나이저 사용하기\n",
    "3. 셀프 어텐션 이해하기\n",
    "4. 한국어에도 적용해보기"
   ]
  },
  {
   "cell_type": "code",
   "execution_count": 1,
   "id": "unsigned-bidder",
   "metadata": {},
   "outputs": [],
   "source": [
    "! mkdir -p ~/aiffel/songys_chatbot"
   ]
  },
  {
   "cell_type": "markdown",
   "id": "contained-duration",
   "metadata": {},
   "source": [
    "# 15-2. 트랜스포머와 인코더 디코더"
   ]
  },
  {
   "cell_type": "markdown",
   "id": "occasional-syndrome",
   "metadata": {},
   "source": [
    "## 인코더와 디코더 구조 되짚어보기"
   ]
  },
  {
   "cell_type": "markdown",
   "id": "imposed-bradley",
   "metadata": {},
   "source": [
    "![](https://aiffelstaticprd.blob.core.windows.net/media/images/Untitled_UcFQAjh.max-800x600.png)"
   ]
  },
  {
   "cell_type": "markdown",
   "id": "moved-dispatch",
   "metadata": {},
   "source": [
    "번역기는 인코더와 디코더 두 가지 아키텍처로 구성되어져 있었습니다. 인코더에 입력 문장이 들어가고, 디코더는 이에 상응하는 출력 문장을 생성합니다. 그리고 이를 훈련한다는 것은 결국 입력 문장과 출력 문장 두 가지 병렬 구조로 구성된 데이터셋을 훈련한다는 의미였습니다. - ???  \n",
    "-> 가중치를 뭐시기 한다거나 그런거 아닌가??? 이따가 다시 은지님 ppt봐봐야지"
   ]
  },
  {
   "cell_type": "markdown",
   "id": "civilian-inspiration",
   "metadata": {},
   "source": [
    "번역과 대답을 할 수 있는 챗봇 둘 다 만들 수 있다.  "
   ]
  },
  {
   "cell_type": "markdown",
   "id": "descending-compound",
   "metadata": {},
   "source": [
    "## 트랜스포머의 인코더와 디코더"
   ]
  },
  {
   "cell_type": "markdown",
   "id": "further-verification",
   "metadata": {},
   "source": [
    "![](https://aiffelstaticprd.blob.core.windows.net/media/images/Untitled_2_EnQyi4S.max-800x600.png)"
   ]
  },
  {
   "cell_type": "markdown",
   "id": "engaged-trustee",
   "metadata": {},
   "source": [
    "초록색 색깔의 도형을 인코더 층(Encoder layer), 핑크색 색깔의 도형을 디코더(Decoder layer)  \n",
    "확대하면 아래 그림처럼  여러 가지 부품들로 구성되어져 있다  "
   ]
  },
  {
   "cell_type": "markdown",
   "id": "intimate-hobby",
   "metadata": {},
   "source": [
    "![](https://aiffelstaticprd.blob.core.windows.net/media/images/Untitled_3_ddZedfW.max-800x600.png)"
   ]
  },
  {
   "cell_type": "markdown",
   "id": "noted-junior",
   "metadata": {},
   "source": [
    "# 15-3. 트랜스포머의 입력 이해하기"
   ]
  },
  {
   "cell_type": "code",
   "execution_count": 2,
   "id": "reliable-pearl",
   "metadata": {},
   "outputs": [
    {
     "name": "stdout",
     "output_type": "stream",
     "text": [
      "Requirement already satisfied: tensorflow-datasets in /home/aiffel-dj35/anaconda3/envs/aiffel/lib/python3.7/site-packages (4.2.0)\n",
      "Requirement already satisfied: attrs>=18.1.0 in /home/aiffel-dj35/anaconda3/envs/aiffel/lib/python3.7/site-packages (from tensorflow-datasets) (20.3.0)\n",
      "Requirement already satisfied: requests>=2.19.0 in /home/aiffel-dj35/anaconda3/envs/aiffel/lib/python3.7/site-packages (from tensorflow-datasets) (2.25.1)\n",
      "Requirement already satisfied: promise in /home/aiffel-dj35/anaconda3/envs/aiffel/lib/python3.7/site-packages (from tensorflow-datasets) (2.3)\n",
      "Requirement already satisfied: tensorflow-metadata in /home/aiffel-dj35/anaconda3/envs/aiffel/lib/python3.7/site-packages (from tensorflow-datasets) (0.28.0)\n",
      "Requirement already satisfied: tqdm in /home/aiffel-dj35/anaconda3/envs/aiffel/lib/python3.7/site-packages (from tensorflow-datasets) (4.55.1)\n",
      "Requirement already satisfied: typing-extensions in /home/aiffel-dj35/anaconda3/envs/aiffel/lib/python3.7/site-packages (from tensorflow-datasets) (3.7.4.3)\n",
      "Requirement already satisfied: numpy in /home/aiffel-dj35/anaconda3/envs/aiffel/lib/python3.7/site-packages (from tensorflow-datasets) (1.18.5)\n",
      "Requirement already satisfied: termcolor in /home/aiffel-dj35/anaconda3/envs/aiffel/lib/python3.7/site-packages (from tensorflow-datasets) (1.1.0)\n",
      "Requirement already satisfied: dill in /home/aiffel-dj35/anaconda3/envs/aiffel/lib/python3.7/site-packages (from tensorflow-datasets) (0.3.3)\n",
      "Requirement already satisfied: absl-py in /home/aiffel-dj35/anaconda3/envs/aiffel/lib/python3.7/site-packages (from tensorflow-datasets) (0.10.0)\n",
      "Requirement already satisfied: six in /home/aiffel-dj35/anaconda3/envs/aiffel/lib/python3.7/site-packages (from tensorflow-datasets) (1.15.0)\n",
      "Requirement already satisfied: future in /home/aiffel-dj35/anaconda3/envs/aiffel/lib/python3.7/site-packages (from tensorflow-datasets) (0.18.2)\n",
      "Requirement already satisfied: protobuf>=3.12.2 in /home/aiffel-dj35/anaconda3/envs/aiffel/lib/python3.7/site-packages (from tensorflow-datasets) (3.13.0)\n",
      "Requirement already satisfied: importlib-resources in /home/aiffel-dj35/anaconda3/envs/aiffel/lib/python3.7/site-packages (from tensorflow-datasets) (5.1.1)\n",
      "Requirement already satisfied: setuptools in /home/aiffel-dj35/anaconda3/envs/aiffel/lib/python3.7/site-packages (from protobuf>=3.12.2->tensorflow-datasets) (51.1.2.post20210112)\n",
      "Requirement already satisfied: urllib3<1.27,>=1.21.1 in /home/aiffel-dj35/anaconda3/envs/aiffel/lib/python3.7/site-packages (from requests>=2.19.0->tensorflow-datasets) (1.26.2)\n",
      "Requirement already satisfied: chardet<5,>=3.0.2 in /home/aiffel-dj35/anaconda3/envs/aiffel/lib/python3.7/site-packages (from requests>=2.19.0->tensorflow-datasets) (3.0.4)\n",
      "Requirement already satisfied: certifi>=2017.4.17 in /home/aiffel-dj35/anaconda3/envs/aiffel/lib/python3.7/site-packages (from requests>=2.19.0->tensorflow-datasets) (2020.12.5)\n",
      "Requirement already satisfied: idna<3,>=2.5 in /home/aiffel-dj35/anaconda3/envs/aiffel/lib/python3.7/site-packages (from requests>=2.19.0->tensorflow-datasets) (2.10)\n",
      "Requirement already satisfied: zipp>=0.4 in /home/aiffel-dj35/anaconda3/envs/aiffel/lib/python3.7/site-packages (from importlib-resources->tensorflow-datasets) (3.4.0)\n",
      "Requirement already satisfied: googleapis-common-protos<2,>=1.52.0 in /home/aiffel-dj35/anaconda3/envs/aiffel/lib/python3.7/site-packages (from tensorflow-metadata->tensorflow-datasets) (1.53.0)\n"
     ]
    }
   ],
   "source": [
    "!pip install tensorflow-datasets"
   ]
  },
  {
   "cell_type": "code",
   "execution_count": 3,
   "id": "injured-childhood",
   "metadata": {},
   "outputs": [
    {
     "name": "stdout",
     "output_type": "stream",
     "text": [
      "슝=3\n"
     ]
    }
   ],
   "source": [
    "import tensorflow as tf\n",
    "import tensorflow_datasets as tfds\n",
    "import os\n",
    "import re\n",
    "import numpy as np\n",
    "import matplotlib.pyplot as plt\n",
    "print(\"슝=3\")"
   ]
  },
  {
   "cell_type": "markdown",
   "id": "normal-affair",
   "metadata": {},
   "source": [
    "![](https://aiffelstaticprd.blob.core.windows.net/media/original_images/Untitled_4_fuzN6PD.png)"
   ]
  },
  {
   "cell_type": "markdown",
   "id": "center-constitution",
   "metadata": {},
   "source": [
    "단어를 임베딩 벡터로 변환 = 벡터화 과정  \n",
    "트랜스포머 모델이 RNN 계열 모델과 다른 점 -> 임베딩 벡터에 어떤 값을 더해준 뒤에 입력으로 사용한다  \n",
    "그 어떤 값은  위 그림에서의 포지셔널 인코딩(positional Encoding)에 해당  \n",
    "  \n",
    "![](https://aiffelstaticprd.blob.core.windows.net/media/original_images/Untitled_5_kH52kQN.png)"
   ]
  },
  {
   "cell_type": "markdown",
   "id": "functional-validation",
   "metadata": {},
   "source": [
    "그 이유는 트랜스포머는 입력을 받을 때, 문장에 있는 단어들을 1개씩 순차적으로 받는 것이 아니라,  \n",
    "문장에 있는 모든 단어를 한꺼번에 입력으로 받기 때문 <- RNN과 결정적으로 다른 점    \n",
    "RNN에는 어순대로 입력되니까 어순 정보를 알려줄 필요가 없음  \n",
    "단어의 임베딩 벡터에다가 위치 정보를 가진 벡터(Positional Encoding) 값을 더해서 모델의 입력으로 삼는 것  \n"
   ]
  },
  {
   "cell_type": "markdown",
   "id": "banner-driver",
   "metadata": {},
   "source": [
    "![](https://aiffelstaticprd.blob.core.windows.net/media/original_images/Untitled_7_3Rneu0P.png)\n",
    "![](https://aiffelstaticprd.blob.core.windows.net/media/original_images/Untitled_6_DyxB6Ax.png)"
   ]
  },
  {
   "cell_type": "markdown",
   "id": "announced-massage",
   "metadata": {},
   "source": [
    ">d_model은 임베딩 벡터의 차원을 의미하고 있고,   \n",
    "pos는 입력 문장에서의 임베딩 벡터의 위치를 나타내며,  \n",
    "i는 임베딩 벡터 내의 차원의 인덱스를 의미  \n",
    "  \n",
    "임베딩 행렬과 포지셔널 행렬이라는 두 행렬을 더함으로써 각 단어 벡터에 위치 정보를 더해주게 되는 것  \n",
    "임베딩 벡터가 모여 만들어진 문장 벡터 행렬과 포지셔널 인코딩 행렬의 덧셈 연산을 통해 이루어진다"
   ]
  },
  {
   "cell_type": "markdown",
   "id": "greater-chess",
   "metadata": {},
   "source": [
    "**Q1. 한 문장에 같은 단어 A가 여러 번 등장하였다고 가정해보겠습니다. 임베딩 문장 행렬에 포지셔널 인코딩을 해주었을 때와 해주지 않았을 때, 트랜스포머가 임베딩 문장 행렬 내의 다수의 A 단어 벡터로부터 얻을 수 있는 정보의 차이는 어떤 것이 있을까요?**\n",
    ">포지셔널 행렬을 직접 구현해서 눈으로 확인해보자  "
   ]
  },
  {
   "cell_type": "code",
   "execution_count": 4,
   "id": "polished-begin",
   "metadata": {},
   "outputs": [],
   "source": [
    "# # positional encoding layer \n",
    "# class PositionalEncoding(tf.keras.layers.Layer):\n",
    "    \n",
    "#     def __init__(self, position, d_model):\n",
    "#         super(PositionalEncoding, self).__init__()\n",
    "#         self.pos_encoding=self.positional_encoding(position, d_model)\n",
    "        \n",
    "#     def get_angles(self, position, i, d_model):\n",
    "#         angles = 1/tf.pow(10000, (2*(1//2))/tf.cast(d_model, tf.float32))\n",
    "#         return position*angles\n",
    "    \n",
    "#     def positional_encoding(self, position, d_model):\n",
    "#         angle_rads = self.get_angles(\n",
    "#         position=tf.range(position, dtype=tf.float32)[:, tf.newaxis],\n",
    "#         i=tf.range(d_model, dtype=tf.float32)[tf.newaxis, :],\n",
    "#         d_model=d_model)\n",
    "        \n",
    "#         # 배열의 짝수 인덱스에는 sin 함수 적용\n",
    "#         sines = tf.math.sin(angle_rads[:, 0::2])\n",
    "#         # 배열의 홀수 인덱스에는 cosine 함수 적용\n",
    "#         consines = tf.math.cos(angle_rads[:, 1::2])\n",
    "    \n",
    "#         pos_encoding = tf.concat([sines, consines], axis=-1)\n",
    "#         pos_encoding = pos_encoding[tf.newaxis, ...]\n",
    "#         return tf.cast(pos_encoding, tf.float32)\n",
    "\n",
    "#     def call(self, inputs):\n",
    "#         return inputs + self.pos_encoding[:, :tf.shape(inputs)[1], :]\n",
    "\n",
    "# 아래랑 들여쓰기가 다른건 알겠는데, 재귀함수를 내가 모르나?"
   ]
  },
  {
   "cell_type": "code",
   "execution_count": 5,
   "id": "nutritional-workstation",
   "metadata": {},
   "outputs": [
    {
     "name": "stdout",
     "output_type": "stream",
     "text": [
      "슝=3\n"
     ]
    }
   ],
   "source": [
    "# 포지셔널 인코딩 레이어\n",
    "class PositionalEncoding(tf.keras.layers.Layer):\n",
    "\n",
    "  def __init__(self, position, d_model):\n",
    "    super(PositionalEncoding, self).__init__()\n",
    "    self.pos_encoding = self.positional_encoding(position, d_model)\n",
    "\n",
    "  def get_angles(self, position, i, d_model):\n",
    "    angles = 1 / tf.pow(10000, (2 * (i // 2)) / tf.cast(d_model, tf.float32))\n",
    "    return position * angles\n",
    "\n",
    "  def positional_encoding(self, position, d_model):\n",
    "    angle_rads = self.get_angles(\n",
    "        position=tf.range(position, dtype=tf.float32)[:, tf.newaxis],\n",
    "        i=tf.range(d_model, dtype=tf.float32)[tf.newaxis, :],\n",
    "        d_model=d_model)\n",
    "    # 배열의 짝수 인덱스에는 sin 함수 적용\n",
    "    sines = tf.math.sin(angle_rads[:, 0::2])\n",
    "    # 배열의 홀수 인덱스에는 cosine 함수 적용\n",
    "    cosines = tf.math.cos(angle_rads[:, 1::2])\n",
    "\n",
    "    pos_encoding = tf.concat([sines, cosines], axis=-1)\n",
    "    pos_encoding = pos_encoding[tf.newaxis, ...]\n",
    "    return tf.cast(pos_encoding, tf.float32)\n",
    "\n",
    "  def call(self, inputs):\n",
    "    return inputs + self.pos_encoding[:, :tf.shape(inputs)[1], :]\n",
    "print(\"슝=3\")"
   ]
  },
  {
   "cell_type": "markdown",
   "id": "synthetic-future",
   "metadata": {},
   "source": [
    "행의 크기가 50, 열의 크기가 512인 행렬 = 최대 문장의 길이가 50이고 워드 임베딩 차원을 512로 하는 모델의 입력 벡터 모양"
   ]
  },
  {
   "cell_type": "code",
   "execution_count": 6,
   "id": "coordinate-massachusetts",
   "metadata": {},
   "outputs": [
    {
     "data": {
      "image/png": "[encoded data removed]",
      "text/plain": [
       "<Figure size 792x432 with 2 Axes>"
      ]
     },
     "metadata": {
      "needs_background": "light"
     },
     "output_type": "display_data"
    }
   ],
   "source": [
    "sample_pos_encoding = PositionalEncoding(50,512)\n",
    "\n",
    "plt.figure(figsize=(11,6))\n",
    "plt.pcolormesh(sample_pos_encoding.pos_encoding.numpy()[0], cmap='RdBu')\n",
    "plt.xlabel('Depth')\n",
    "plt.xlim((0, 512))\n",
    "plt.ylabel('Position')\n",
    "plt.colorbar()\n",
    "plt.show()"
   ]
  },
  {
   "cell_type": "markdown",
   "id": "frank-broad",
   "metadata": {},
   "source": [
    "**Q2. 임베딩 벡터의 차원이 256이고 최대 문장의 길이가 30인 텍스트를 입력으로 하는 트랜스포머를 구현한다고 하였을 때, 적절한 포지셔널 인코딩 행렬의 크기를 추측해보고 위에 구현한 포지셔널 인코딩 레이어를 사용해 표현해 보세요.**  \n",
    ">PositionalEncoding(30,256)"
   ]
  },
  {
   "cell_type": "code",
   "execution_count": 7,
   "id": "fabulous-chicken",
   "metadata": {},
   "outputs": [
    {
     "data": {
      "image/png": "[encoded data removed]",
      "text/plain": [
       "<Figure size 792x432 with 2 Axes>"
      ]
     },
     "metadata": {
      "needs_background": "light"
     },
     "output_type": "display_data"
    }
   ],
   "source": [
    "sample_pos_encoding = PositionalEncoding(30,256)\n",
    "\n",
    "plt.figure(figsize=(11,6))\n",
    "plt.pcolormesh(sample_pos_encoding.pos_encoding.numpy()[0], cmap='RdBu')\n",
    "plt.xlabel('Depth')\n",
    "plt.xlim((0, 256))\n",
    "plt.ylabel('Position')\n",
    "plt.colorbar()\n",
    "plt.show()"
   ]
  },
  {
   "cell_type": "markdown",
   "id": "forced-windows",
   "metadata": {},
   "source": [
    "![](https://aiffelstaticprd.blob.core.windows.net/media/images/Untitled_9_l58gVWT.max-800x600.png)"
   ]
  },
  {
   "cell_type": "markdown",
   "id": "conscious-insertion",
   "metadata": {},
   "source": [
    "# 15-4. 어텐션? 어텐션!"
   ]
  },
  {
   "cell_type": "markdown",
   "id": "aboriginal-miller",
   "metadata": {},
   "source": [
    "## 어텐션이란?"
   ]
  },
  {
   "cell_type": "markdown",
   "id": "sticky-renewal",
   "metadata": {},
   "source": [
    "![](https://aiffelstaticprd.blob.core.windows.net/media/original_images/Untitled_10_AaCfqrY.png)"
   ]
  },
  {
   "cell_type": "markdown",
   "id": "adjusted-census",
   "metadata": {},
   "source": [
    "어텐션 함수  \n",
    "주어진 '쿼리(Query)'에 대해서 모든 '키(Key)'와의 유사도를 각각 구하고  \n",
    "구해낸 이 유사도를 키(Key)와 맵핑되어있는 각각의 '값(Value)'에 반영  \n",
    "유사도가 반영된 '값(Value)'을 모두 더해서 뭉쳐주면 => 어텐션 값(Attention Value)"
   ]
  },
  {
   "cell_type": "markdown",
   "id": "indonesian-aaron",
   "metadata": {},
   "source": [
    "## 트랜스포머에서 사용된 어텐션"
   ]
  },
  {
   "cell_type": "markdown",
   "id": "precious-necklace",
   "metadata": {},
   "source": [
    "트랜스포머는 총 세 가지의 어텐션을 사용\n",
    "![](https://aiffelstaticprd.blob.core.windows.net/media/original_images/Untitled_11_tFFhFjx.png)"
   ]
  },
  {
   "cell_type": "markdown",
   "id": "architectural-brain",
   "metadata": {},
   "source": [
    ">인코더 셀프 어텐션은 인코더에서  \n",
    "디코더 셀프 어텐션은 디코더에서  \n",
    "인코더-디코더 어텐션 또한 디코더에서  "
   ]
  },
  {
   "cell_type": "markdown",
   "id": "administrative-contrast",
   "metadata": {},
   "source": [
    "![](https://aiffelstaticprd.blob.core.windows.net/media/original_images/Untitled_12_SIe2V15.png)"
   ]
  },
  {
   "cell_type": "markdown",
   "id": "treated-chuck",
   "metadata": {},
   "source": [
    "^각 어텐션이 위치를 보여줌  \n",
    "트랜스포머의 어텐션 함수에 사용되는 쿼리(Query), 키(Key), 밸류(Value)는 기본적으로 '단어 (정보를 함축한) 벡터'입니다.  \n",
    "여기서 '단어 벡터'란 초기 입력으로 사용되었던 임베딩 벡터가 아니고,  \n",
    "트랜스포머의 여러 연산을 거친 후의 '단어 벡터'입니다.  \n",
    "\n",
    "**세 가지 어텐션이 하는 일**  \n",
    "* 인코더 셀프 어텐션 : 인코더의 입력으로 들어간 문장 내 단어들이 서로 유사도를 구한다. \n",
    "* 디코더 셀프 어텐션 : 단어를 1개씩 생성하는 디코더가 이미 생성된 앞 단어들과의 유사도를 구한다. \n",
    "* 인코더-디코더 어텐션 : 디코더가 잘! 예측하기 위해서 인코더에 입력된 단어들과 유사도를 구한다.   \n",
    "\n",
    "세 가지 어텐션 중 두 가지가 셀프 어텐션  \n",
    "셀프 어텐션이 어떤 의미를 가지고 있으며 트랜스포머에서 왜 중요한지 이해해 볼까요 ?"
   ]
  },
  {
   "cell_type": "markdown",
   "id": "judicial-termination",
   "metadata": {},
   "source": [
    "## 셀프 어텐션(Self Attention)"
   ]
  },
  {
   "cell_type": "markdown",
   "id": "under-comedy",
   "metadata": {},
   "source": [
    "셀프 어텐션은 현재 문장 내의 단어들이 서로 유사도를 구하는 경우를 말합니다.  \n",
    "![](https://aiffelstaticprd.blob.core.windows.net/media/original_images/Untitled_13_hjMyZwL.png)  \n"
   ]
  },
  {
   "cell_type": "markdown",
   "id": "worse-genealogy",
   "metadata": {},
   "source": [
    "그것(it)에 해당하는 것은 과연 길(street)일까요? 동물(animal)일까요?  \n",
    "셀프 어텐션은 입력 문장 내의 단어들끼리 유사도를 구하여 그것(it)이 동물(animal)과 연관되었을 확률이 높다는 것을 찾아냅니다.  \n",
    "그런데 한 가지 의문이 듭니다.   \n",
    "유사도는 어떻게 구할까요?"
   ]
  },
  {
   "cell_type": "markdown",
   "id": "scheduled-african",
   "metadata": {},
   "source": [
    "# 15-5. 스케일드 닷 프로덕트 어텐션"
   ]
  },
  {
   "cell_type": "markdown",
   "id": "sonic-intellectual",
   "metadata": {},
   "source": [
    "트랜스포머에서는 어텐션 값을 구하는 방법으로 아래와 같은 수식을 사용  \n",
    "$$Attention(Q,K,V) = softmax \\left( \\frac {QK^T} {\\sqrt{d_k}} \\right) V$$"
   ]
  },
  {
   "cell_type": "markdown",
   "id": "upper-annex",
   "metadata": {},
   "source": [
    "Q, K, V는 각각 쿼리(Query), 키(Key), 값(Value) 나타냄  \n",
    "\n",
    "**어텐션 값을 구하는 과정**  \n",
    "1) '쿼리(Query)'에 대해서 모든 '키(Key)'와의 유사도를 각각 구하고  \n",
    "2) 이 유사도를 키와 맵핑되어있는 각각의 '값(Value)'에 반영  \n",
    "3) 유사도가 반영된 '값(Value)'을 모두 더해서 뭉쳐주기  \n",
    "4) 최종 결과 어텐션 값이 나온다  \n",
    "   \n",
    "Q, K, V는 단어 벡터를 행으로 하는 문장 행렬이다.  \n",
    "벡터의 내적(dot product)은 벡터의 유사도를 의미한다.  \n",
    "특정 값을 분모로 사용하는 것은 값의 크기를 조절하는 스케일링(Scaling)을 위함이다.  "
   ]
  },
  {
   "cell_type": "markdown",
   "id": "isolated-cheat",
   "metadata": {},
   "source": [
    "Q와 K의 전치 행렬 곱하기  \n",
    "![](https://aiffelstaticprd.blob.core.windows.net/media/original_images/Untitled_15_pUfIgKn.png)"
   ]
  },
  {
   "cell_type": "markdown",
   "id": "insured-copper",
   "metadata": {},
   "source": [
    "**유사도 구하는 과정**  \n",
    "초록색 행렬은 각 단어 벡터의 유사도가 모두 기록된 유사도 행렬  \n",
    "스케일링 해주기 위해서 이 행렬 전체를 특정 값으로 나눠주고  \n",
    "유사도를 0과 1사이의 값으로 Normalize해주기 위해서 소프트맥스 함수를 사용  \n",
    "![](https://aiffelstaticprd.blob.core.windows.net/media/original_images/Untitled_16_neA52rZ.png)"
   ]
  },
  {
   "cell_type": "markdown",
   "id": "backed-buying",
   "metadata": {},
   "source": [
    "내적(dot product)을 통해 단어 벡터 간 유사도를 구한 후에, 특정 값을 분모로 나눠주는 방식으로 Q와 K의 유사도를 구하였다고 하여   \n",
    "스케일드 닷 프로덕트 어텐션(Scaled Dot Product Attention)이라고 합니다.  \n",
    "  \n",
    "나눠주는 부분이 없었다면 그 어텐션의 닷 프로덕트 어텐션(dot product attention)이라고 부릅니다."
   ]
  },
  {
   "cell_type": "markdown",
   "id": "latest-exclusion",
   "metadata": {},
   "source": [
    "## 구현하기"
   ]
  },
  {
   "cell_type": "code",
   "execution_count": 8,
   "id": "south-easter",
   "metadata": {},
   "outputs": [],
   "source": [
    "# [[my code]]\n",
    "# scaled dot product attention\n",
    "def scaled_dot_product_attention(query, key, value, mask):\n",
    "  \"\"\"어텐션 가중치를 계산\"\"\"\n",
    "  matmul_qk = tf.matmul(query, key, transpose_b=True)\n",
    "\n",
    "  # scale matmul_pk\n",
    "  depth = tf.cast(tf.shape(key)[-1], tf.float32)\n",
    "  logits = matmul_qk/tf.math.sqrt(depth)\n",
    "    \n",
    "  # add the mask to zero out padding tokens\n",
    "  if mask is not None:\n",
    "    logits+=(mask * -1e9)\n",
    "\n",
    "  # softmax is normalized on the last axis (swq_len_k)\n",
    "  attention_weights = tf.nn.softmax(logits, axis=-1)\n",
    "    \n",
    "  output = tf.matmul(attention_weights, value)\n",
    "\n",
    "  return output"
   ]
  },
  {
   "cell_type": "code",
   "execution_count": 9,
   "id": "better-highlight",
   "metadata": {},
   "outputs": [],
   "source": [
    "# # 스케일드 닷 프로덕트 어텐션 함수\n",
    "# def scaled_dot_product_attention(query, key, value, mask):\n",
    "#   \"\"\"어텐션 가중치를 계산. \"\"\"\n",
    "#   matmul_qk = tf.matmul(query, key, transpose_b=True)\n",
    "\n",
    "#   # scale matmul_qk\n",
    "#   depth = tf.cast(tf.shape(key)[-1], tf.float32)\n",
    "#   logits = matmul_qk / tf.math.sqrt(depth)\n",
    "\n",
    "#   # add the mask to zero out padding tokens\n",
    "#   if mask is not None:\n",
    "#     logits += (mask * -1e9)\n",
    "\n",
    "#   # softmax is normalized on the last axis (seq_len_k)\n",
    "#   attention_weights = tf.nn.softmax(logits, axis=-1)\n",
    "\n",
    "#   output = tf.matmul(attention_weights, value)\n",
    "\n",
    "#   return output"
   ]
  },
  {
   "cell_type": "markdown",
   "id": "configured-travel",
   "metadata": {},
   "source": [
    "# 15-6. 머리가 여러 개인 어텐션"
   ]
  },
  {
   "cell_type": "markdown",
   "id": "exempt-brand",
   "metadata": {},
   "source": [
    "## 병렬로 어텐션 수행하기"
   ]
  },
  {
   "cell_type": "markdown",
   "id": "growing-trailer",
   "metadata": {},
   "source": [
    "트랜스포머에서 num_heads라는 변수는   \n",
    "기계가 몇 개의 똑똑한 머리를 사용할지, 다시 말해 병렬적으로 몇 개의 어텐션 연산을 수행할지를 결정하는 하이퍼파라미터이다  \n",
    "![](https://aiffelstaticprd.blob.core.windows.net/media/original_images/Untitled_18_nnOTx9p.png)"
   ]
  },
  {
   "cell_type": "markdown",
   "id": "public-mexico",
   "metadata": {},
   "source": [
    "d_model은 임베딩 벡터의 차원  \n",
    "초기 입력인 문장 행렬의 크기는 문장의 길이를 행으로, d_model을 열의 크기로 가진다  \n",
    "이 행렬을 num_heads의 수만큼 쪼개서 어텐션을 수행  \n",
    "이렇게 얻은 num_heads의 개수만큼의 어텐션 값 행렬을 다시 하나로 concatenate한다  \n",
    "  \n",
    "위의 그림은 num_heads가 8개인 경우인데, 다시 concatenate하면서 열의 크기가 d_model이 됩니다.-???\n",
    "\n",
    "**Q3. 논문에서 d_model은 512의 값을 가졌다고 하고, num_heads는 8의 값을 가졌다고 해요. 그렇다면, 연결하기 전 8개의 어텐션 값(Attention Value) 행렬의 열의 크기는 몇 차원이었을까요?**  \n",
    ">2^9/2^3 = 2^6"
   ]
  },
  {
   "cell_type": "markdown",
   "id": "prompt-standard",
   "metadata": {},
   "source": [
    "## 멀티-헤드 어텐션"
   ]
  },
  {
   "cell_type": "markdown",
   "id": "hispanic-electricity",
   "metadata": {},
   "source": [
    "![](https://aiffelstaticprd.blob.core.windows.net/media/original_images/Untitled_19_FwmaA3q.png)"
   ]
  },
  {
   "cell_type": "markdown",
   "id": "bronze-drama",
   "metadata": {},
   "source": [
    "위의 그림은 num_heads가 8일때  \n",
    "여기서부터???  \n",
    "병렬로 수행되는 어텐션이 서로 다른 셀프 어텐션 결과를 얻을 수 있음을 보여줌  \n",
    "한 번의 어텐션만 수행했다면 놓칠 수도 있던 정보를 캐치할 수 있다  \n",
    "it_이라는 토큰이 animal_과 유사하다고 보는 관점과 street_과 유사하다고 보는 관점이 한꺼번에 모두 표현 가능하다는 뜻입니다.  \n",
    "=>  멀티 헤드 어텐션이라고 부릅니다.  \n"
   ]
  },
  {
   "cell_type": "markdown",
   "id": "first-government",
   "metadata": {},
   "source": [
    "## 구현하기"
   ]
  },
  {
   "cell_type": "markdown",
   "id": "normal-italian",
   "metadata": {},
   "source": [
    "멀티 헤드 어텐션을 구현  \n",
    "-> 스케일드 닷 프로덕트 어테션 함수를 호출  "
   ]
  },
  {
   "cell_type": "code",
   "execution_count": 10,
   "id": "sensitive-chester",
   "metadata": {},
   "outputs": [
    {
     "name": "stdout",
     "output_type": "stream",
     "text": [
      "슝=3\n"
     ]
    }
   ],
   "source": [
    "class MultiHeadAttention(tf.keras.layers.Layer):\n",
    "\n",
    "  def __init__(self, d_model, num_heads, name=\"multi_head_attention\"):\n",
    "    super(MultiHeadAttention, self).__init__(name=name)\n",
    "    self.num_heads = num_heads\n",
    "    self.d_model = d_model\n",
    "\n",
    "    assert d_model % self.num_heads == 0\n",
    "\n",
    "    self.depth = d_model // self.num_heads\n",
    "\n",
    "    self.query_dense = tf.keras.layers.Dense(units=d_model)\n",
    "    self.key_dense = tf.keras.layers.Dense(units=d_model)\n",
    "    self.value_dense = tf.keras.layers.Dense(units=d_model)\n",
    "\n",
    "    self.dense = tf.keras.layers.Dense(units=d_model)\n",
    "\n",
    "  def split_heads(self, inputs, batch_size):\n",
    "    inputs = tf.reshape(\n",
    "        inputs, shape=(batch_size, -1, self.num_heads, self.depth))\n",
    "    return tf.transpose(inputs, perm=[0, 2, 1, 3])\n",
    "\n",
    "  def call(self, inputs):\n",
    "    query, key, value, mask = inputs['query'], inputs['key'], inputs[\n",
    "        'value'], inputs['mask']\n",
    "    batch_size = tf.shape(query)[0]\n",
    "\n",
    "    # linear layers\n",
    "    query = self.query_dense(query)\n",
    "    key = self.key_dense(key)\n",
    "    value = self.value_dense(value)\n",
    "\n",
    "    # 병렬 연산을 위한 머리를 여러 개 만듭니다.\n",
    "    query = self.split_heads(query, batch_size)\n",
    "    key = self.split_heads(key, batch_size)\n",
    "    value = self.split_heads(value, batch_size)\n",
    "\n",
    "    # 스케일드 닷 프로덕트 어텐션 함수\n",
    "    scaled_attention = scaled_dot_product_attention(query, key, value, mask)\n",
    "\n",
    "    scaled_attention = tf.transpose(scaled_attention, perm=[0, 2, 1, 3])\n",
    "\n",
    "    # 어텐션 연산 후에 각 결과를 다시 연결(concatenate)합니다.\n",
    "    concat_attention = tf.reshape(scaled_attention,\n",
    "                                  (batch_size, -1, self.d_model))\n",
    "\n",
    "    # final linear layer\n",
    "    outputs = self.dense(concat_attention)\n",
    "\n",
    "    return outputs\n",
    "print(\"슝=3\")"
   ]
  },
  {
   "cell_type": "markdown",
   "id": "empirical-reality",
   "metadata": {},
   "source": [
    "# 15-7. 마스킹"
   ]
  },
  {
   "cell_type": "markdown",
   "id": "banner-width",
   "metadata": {},
   "source": [
    "마스킹(Masking)이란, 특정 값들을 가려서 실제 연산에 방해가 되지 않도록 하는 기법  \n",
    "트랜스포머에서는 어텐션을 위해서 크게 두 가지 마스킹   \n",
    "## 패딩 마스킹(Padding Masking)"
   ]
  },
  {
   "cell_type": "markdown",
   "id": "smart-indianapolis",
   "metadata": {},
   "source": [
    "첫 번째 마스킹은 패딩 토큰(Padding token)을 이용한 방법  \n",
    "자연어 처리에서 패딩(Padding)이란 어떤 개념일까요?  \n",
    "![](https://aiffelstaticprd.blob.core.windows.net/media/images/1365906-20200410103623697-871078599.max-800x600.png)"
   ]
  },
  {
   "cell_type": "markdown",
   "id": "acting-grant",
   "metadata": {},
   "source": [
    "짧은 문장의 경우에는 숫자 0을 채워서 문장의 길이를 맞춰주는 자연어 처리 전처리 방법  \n",
    "그런데 이렇게 주어진 숫자 0은 실제 의미가 있는 단어가 아니므로 실제 어텐션 등과 같은 연산에서는 제외할 필요가 있습니다.    \n",
    "-> 패딩 마스킹은 이를 위해 숫자 0인 위치를 체크합니다.    \n"
   ]
  },
  {
   "cell_type": "code",
   "execution_count": 11,
   "id": "reverse-mileage",
   "metadata": {},
   "outputs": [],
   "source": [
    "# [[my code인데 왜 맨날 안먹히냐.. 하 참네]]\n",
    "# # padding masking\n",
    "# def create_padding_mask(x):\n",
    "#     mask = tf.cast(tf.math.equel(x, 0), tf.float32)\n",
    "#     # (batch_size, 1,1, sequence length)\n",
    "#     return mask[:, tf.newaxis, tf.newaxis, :]\n",
    "# print('ok')"
   ]
  },
  {
   "cell_type": "code",
   "execution_count": 12,
   "id": "crucial-wallace",
   "metadata": {},
   "outputs": [
    {
     "name": "stdout",
     "output_type": "stream",
     "text": [
      "슝=3\n"
     ]
    }
   ],
   "source": [
    "def create_padding_mask(x):\n",
    "  mask = tf.cast(tf.math.equal(x, 0), tf.float32)\n",
    "  # (batch_size, 1, 1, sequence length)\n",
    "  return mask[:, tf.newaxis, tf.newaxis, :]\n",
    "print(\"슝=3\")"
   ]
  },
  {
   "cell_type": "code",
   "execution_count": 13,
   "id": "lasting-democracy",
   "metadata": {
    "scrolled": true
   },
   "outputs": [
    {
     "name": "stdout",
     "output_type": "stream",
     "text": [
      "tf.Tensor(\n",
      "[[[[0. 0. 1. 0. 1.]]]\n",
      "\n",
      "\n",
      " [[[1. 1. 1. 0. 0.]]]], shape=(2, 1, 1, 5), dtype=float32)\n"
     ]
    }
   ],
   "source": [
    "print(create_padding_mask(tf.constant([[1,2,0,3,0],[0,0,0,4,5]])))"
   ]
  },
  {
   "cell_type": "markdown",
   "id": "brilliant-validity",
   "metadata": {},
   "source": [
    "두 정수 시퀀스에 대해서 각각 결과가 출력되는데, 오직 숫자가 0인 위치에서만 숫자 1이 나오고 숫자 0이 아닌 위치에서는 숫자 0인 벡터를 출력합니다.\n",
    "\n",
    "어텐션 연산 시에 패딩 마스킹을 참고하면 불필요하게 숫자 0을 참고하지 않게 할 수 있겠죠?"
   ]
  },
  {
   "cell_type": "markdown",
   "id": "hybrid-processing",
   "metadata": {},
   "source": [
    "## 룩 어헤드 마스킹(Look-ahead masking, 다음 단어 가리기)"
   ]
  },
  {
   "cell_type": "markdown",
   "id": "restricted-furniture",
   "metadata": {},
   "source": [
    "순환 신경망, RNN과 트랜스포머는 문장을 입력받을 때 입력받는 방법이 전혀 다릅니다.  \n",
    "  \n",
    "RNN은 step이라는 개념이 존재해서 각 step마다 단어가 순서대로 입력으로 들어가는 구조인 반면 트랜스포머의 경우에는 문장 행렬을 만들어 한 번에 행렬 형태로 입력으로 들어간다는 특징이 있습니다. 그리고 이 특징 때문에 추가적인 마스킹(Masking)을 필요합니다.  "
   ]
  },
  {
   "cell_type": "markdown",
   "id": "ready-endorsement",
   "metadata": {},
   "source": [
    "### RNN"
   ]
  },
  {
   "cell_type": "markdown",
   "id": "diagnostic-deposit",
   "metadata": {},
   "source": [
    "RNN으로 다음 단어를 예측해가면서 문장을 생성해내는 과정을 보겠습니다.  \n",
    "다시 말해 RNN으로 디코더를 구현했을 경우입니다.  \n",
    "![](https://aiffelstaticprd.blob.core.windows.net/media/images/Untitled_20_NAntZnv.max-800x600.png)"
   ]
  },
  {
   "cell_type": "markdown",
   "id": "bearing-activation",
   "metadata": {},
   "source": [
    "RNN은 구조상으로 다음 단어를 만들어 갈 때, 자신보다 앞에 있는 단어들만 참고해서 다음 단어를 예측합니다. 위의 그림을 참고로 각 단계에서 다음 단어 예측 과정을 서술하면 다음과 같습니다.  \n",
    "  \n",
    "* 첫 번째 step  \n",
    "  현재까지의 입력 : what → 출력 : is  \n",
    "  \n",
    "* 두 번째 step  \n",
    "  현재까지의 입력 : what is → 출력 : the  \n",
    "  \n",
    "* 세 번째 step  \n",
    "  현재까지의 입력 : what is the → 출력 problem  "
   ]
  },
  {
   "cell_type": "markdown",
   "id": "comprehensive-daisy",
   "metadata": {},
   "source": [
    "### 트랜스포머"
   ]
  },
  {
   "cell_type": "markdown",
   "id": "consistent-steps",
   "metadata": {},
   "source": [
    "하지만 트랜스포머의 경우, 전체 문장이 문장 행렬로 들어가기 때문에 위치와 상관없이 모든 단어를 참고해서 다음 단어를 예측할 수 있습니다. 하지만 사실 우리가 원하는 것은 이전 단어들로부터 다음 단어를 예측하는 훈련을 제대로 하는 것입니다. 따라서 이러한 문제를 해결하기 위해 자신보다 다음에 나올 단어를 참고하지 않도록 가리는 기법이 룩 어헤드 마스킹 기법입니다.  \n",
    "  \n",
    "이 기법은 어텐션을 수행할 때, Query 단어 뒤에 나오는 Key 단어들에 대해서는 마스킹합니다.  \n",
    "![](https://aiffelstaticprd.blob.core.windows.net/media/images/_.max-800x600.png)"
   ]
  },
  {
   "cell_type": "markdown",
   "id": "metric-dialogue",
   "metadata": {},
   "source": [
    "위의 그림에서 빨간색으로 색칠된 부분은 마스킹을 표현하고 있습니다. 빨간색은 실제 어텐션 연산에서 가리는 역할을 하여 어텐션 연산 시에 현재 단어를 기준으로 이전 단어들하고만 유사도를 구할 수 있습니다. 행을 Query, 열을 Key로 표현된 행렬임을 감안하고 천천히 행렬을 살펴봅시다.  \n",
    "  \n",
    "예를 들어 Query 단어가 '찾고'라고 한다면, 이 '찾고'라는 행에는 \\<s>, <나는>, <행복을>, <찾고>까지의 열만 보이고 그 뒤 열은 아예 빨간색으로 칠해져 있습니다. 즉, 유사도를 구할 수 없도록 해놓았습니다. 저 빨간색 부분을 마스킹 함수로 구현하면 다음과 같습니다.  "
   ]
  },
  {
   "cell_type": "code",
   "execution_count": 14,
   "id": "stunning-childhood",
   "metadata": {},
   "outputs": [
    {
     "name": "stdout",
     "output_type": "stream",
     "text": [
      "슝=3\n"
     ]
    }
   ],
   "source": [
    "def create_look_ahead_mask(x):\n",
    "  seq_len = tf.shape(x)[1]\n",
    "  look_ahead_mask = 1 - tf.linalg.band_part(tf.ones((seq_len, seq_len)), -1, 0)\n",
    "  padding_mask = create_padding_mask(x)\n",
    "  return tf.maximum(look_ahead_mask, padding_mask)\n",
    "print(\"슝=3\")"
   ]
  },
  {
   "cell_type": "code",
   "execution_count": 15,
   "id": "offensive-disabled",
   "metadata": {},
   "outputs": [
    {
     "name": "stdout",
     "output_type": "stream",
     "text": [
      "tf.Tensor(\n",
      "[[[[0. 1. 1. 1. 1.]\n",
      "   [0. 0. 1. 1. 1.]\n",
      "   [0. 0. 0. 1. 1.]\n",
      "   [0. 0. 0. 0. 1.]\n",
      "   [0. 0. 0. 0. 0.]]]], shape=(1, 1, 5, 5), dtype=float32)\n"
     ]
    }
   ],
   "source": [
    "print(create_look_ahead_mask(tf.constant([[1, 2, 3, 4, 5]])))"
   ]
  },
  {
   "cell_type": "markdown",
   "id": "forward-azerbaijan",
   "metadata": {},
   "source": [
    "대각선의 형태로 숫자 1이 채워지는 것을 볼 수 있습니다. 그런데 이 마스킹과 패딩 마스킹은 별개이므로, 이 마스킹을 수행할 때 만약에 숫자 0인 단어가 있다면 이 또한 패딩 해야 합니다. 그래서 create_look_ahead_mask() 함수는 내부적으로 앞서 구현한 패딩 마스크 함수도 호출하고 있습니다.  \n",
    "   \n",
    "숫자 0이 포함되었을 경우에도 테스트해 봅시다.  "
   ]
  },
  {
   "cell_type": "code",
   "execution_count": 16,
   "id": "level-chrome",
   "metadata": {},
   "outputs": [
    {
     "name": "stdout",
     "output_type": "stream",
     "text": [
      "tf.Tensor(\n",
      "[[[[1. 1. 1. 1. 1.]\n",
      "   [1. 0. 1. 1. 1.]\n",
      "   [1. 0. 0. 1. 1.]\n",
      "   [1. 0. 0. 0. 1.]\n",
      "   [1. 0. 0. 0. 0.]]]], shape=(1, 1, 5, 5), dtype=float32)\n"
     ]
    }
   ],
   "source": [
    "print(create_look_ahead_mask(tf.constant([[0, 5, 1, 5, 5]])))"
   ]
  },
  {
   "cell_type": "markdown",
   "id": "corporate-costa",
   "metadata": {},
   "source": [
    "# 15-8. 트랜스포머의 인코더"
   ]
  },
  {
   "cell_type": "markdown",
   "id": "received-airplane",
   "metadata": {},
   "source": [
    "## 인코더 층 만들기"
   ]
  },
  {
   "cell_type": "markdown",
   "id": "based-belly",
   "metadata": {},
   "source": [
    "![](https://aiffelstaticprd.blob.core.windows.net/media/images/Untitled_21_Y7Cy8sm.max-800x600.png)"
   ]
  },
  {
   "cell_type": "markdown",
   "id": "centered-example",
   "metadata": {},
   "source": [
    "하나의 인코더 층은 크게 총 2개의 서브 층(sublayer)으로 나누어집니다.  \n",
    "바로 셀프 어텐션과 피드 포워드 신경망입니다. 셀프 어텐션은 멀티 헤드 어텐션으로 병렬적으로 이루어집니다.  \n",
    "  \n",
    "두 개의 서브 층을 가지는 하나의 인코더 층을 구현하는 함수는 다음과 같습니다. 함수 내부적으로 첫 번째 서브 층와 두 번째 서브 층을 구현하고 있습니다.  "
   ]
  },
  {
   "cell_type": "code",
   "execution_count": 17,
   "id": "ranging-spelling",
   "metadata": {},
   "outputs": [
    {
     "name": "stdout",
     "output_type": "stream",
     "text": [
      "슝=3\n"
     ]
    }
   ],
   "source": [
    "# 인코더 하나의 레이어를 함수로 구현.\n",
    "# 이 하나의 레이어 안에는 두 개의 서브 레이어가 존재합니다.\n",
    "def encoder_layer(units, d_model, num_heads, dropout, name=\"encoder_layer\"):\n",
    "  inputs = tf.keras.Input(shape=(None, d_model), name=\"inputs\")\n",
    "\n",
    "\t# 패딩 마스크 사용\n",
    "  padding_mask = tf.keras.Input(shape=(1, 1, None), name=\"padding_mask\")\n",
    "\n",
    "  # 첫 번째 서브 레이어 : 멀티 헤드 어텐션 수행 (셀프 어텐션)\n",
    "  attention = MultiHeadAttention(\n",
    "      d_model, num_heads, name=\"attention\")({\n",
    "          'query': inputs,\n",
    "          'key': inputs,\n",
    "          'value': inputs,\n",
    "          'mask': padding_mask\n",
    "      })\n",
    "\n",
    "  # 어텐션의 결과는 Dropout과 Layer Normalization이라는 훈련을 돕는 테크닉을 수행\n",
    "  attention = tf.keras.layers.Dropout(rate=dropout)(attention)\n",
    "  attention = tf.keras.layers.LayerNormalization(\n",
    "      epsilon=1e-6)(inputs + attention)\n",
    "\n",
    "  # 두 번째 서브 레이어 : 2개의 완전연결층\n",
    "  outputs = tf.keras.layers.Dense(units=units, activation='relu')(attention)\n",
    "  outputs = tf.keras.layers.Dense(units=d_model)(outputs)\n",
    "\n",
    "  # 완전연결층의 결과는 Dropout과 LayerNormalization이라는 훈련을 돕는 테크닉을 수행\n",
    "  outputs = tf.keras.layers.Dropout(rate=dropout)(outputs)\n",
    "  outputs = tf.keras.layers.LayerNormalization(\n",
    "      epsilon=1e-6)(attention + outputs)\n",
    "\n",
    "  return tf.keras.Model(\n",
    "      inputs=[inputs, padding_mask], outputs=outputs, name=name)\n",
    "print(\"슝=3\")"
   ]
  },
  {
   "cell_type": "markdown",
   "id": "instructional-hours",
   "metadata": {},
   "source": [
    "## 인코더 층을 쌓아 인코더 만들기"
   ]
  },
  {
   "cell_type": "markdown",
   "id": "partial-cricket",
   "metadata": {},
   "source": [
    "![](https://aiffelstaticprd.blob.core.windows.net/media/images/Untitled_22_teJgoCi.max-800x600.png)"
   ]
  },
  {
   "cell_type": "markdown",
   "id": "sexual-joint",
   "metadata": {},
   "source": [
    "이렇게 구현한 인코더 층을 임베딩 층(Embedding layer)과 포지셔널 인코딩(Positional Encoding)을 연결하고, 사용자가 원하는 만큼 인코더 층을 쌓음으로써 트랜스포머의 인코더가 완성됩니다.  \n",
    "  \n",
    "인코더와 디코더 내부에서는 각 서브층 이후에 훈련을 돕는 Layer Normalization이라는 테크닉이 사용되었습니다. 위 그림에서는 Normalize라고 표시된 부분에 해당됩니다.  \n",
    "  \n",
    "트랜스포머는 하이퍼파라미터인 num_layers 개수의 인코더 층을 쌓습니다. 논문에서는 총 6개의 인코더 층을 사용하였지만, 실습에서는 학습 시간을 고려하여 그보다 적은 개수를 사용할 예정입니다.  "
   ]
  },
  {
   "cell_type": "code",
   "execution_count": 18,
   "id": "greatest-distributor",
   "metadata": {},
   "outputs": [
    {
     "name": "stdout",
     "output_type": "stream",
     "text": [
      "슝=3\n"
     ]
    }
   ],
   "source": [
    "def encoder(vocab_size,\n",
    "            num_layers,\n",
    "            units,\n",
    "            d_model,\n",
    "            num_heads,\n",
    "            dropout,\n",
    "            name=\"encoder\"):\n",
    "  inputs = tf.keras.Input(shape=(None,), name=\"inputs\")\n",
    "\n",
    "\t# 패딩 마스크 사용\n",
    "  padding_mask = tf.keras.Input(shape=(1, 1, None), name=\"padding_mask\")\n",
    "\n",
    "  # 임베딩 레이어\n",
    "  embeddings = tf.keras.layers.Embedding(vocab_size, d_model)(inputs)\n",
    "  embeddings *= tf.math.sqrt(tf.cast(d_model, tf.float32))\n",
    "\n",
    "  # 포지셔널 인코딩\n",
    "  embeddings = PositionalEncoding(vocab_size, d_model)(embeddings)\n",
    "\n",
    "  outputs = tf.keras.layers.Dropout(rate=dropout)(embeddings)\n",
    "\n",
    "  # num_layers만큼 쌓아올린 인코더의 층.\n",
    "  for i in range(num_layers):\n",
    "    outputs = encoder_layer(\n",
    "        units=units,\n",
    "        d_model=d_model,\n",
    "        num_heads=num_heads,\n",
    "        dropout=dropout,\n",
    "        name=\"encoder_layer_{}\".format(i),\n",
    "    )([outputs, padding_mask])\n",
    "\n",
    "  return tf.keras.Model(\n",
    "      inputs=[inputs, padding_mask], outputs=outputs, name=name)\n",
    "print(\"슝=3\")"
   ]
  },
  {
   "cell_type": "markdown",
   "id": "civilian-gateway",
   "metadata": {},
   "source": [
    "# 트랜스포머의 디코더"
   ]
  },
  {
   "cell_type": "markdown",
   "id": "every-elements",
   "metadata": {},
   "source": [
    "디코더는 인코더와 비슷하지만, 인코더보다 조금 더 복잡합니다. 인코더는 두 개의 서브 층으로 구성되지만, 디코더는 세 개의 서브 층으로 구성된다는 점이 다릅니다.  "
   ]
  },
  {
   "cell_type": "markdown",
   "id": "legislative-alexander",
   "metadata": {},
   "source": [
    "## 디코더 층"
   ]
  },
  {
   "cell_type": "markdown",
   "id": "surprised-mercury",
   "metadata": {},
   "source": [
    "![](https://aiffelstaticprd.blob.core.windows.net/media/images/Untitled_23_vBHZ3i0.max-800x600.png)"
   ]
  },
  {
   "cell_type": "markdown",
   "id": "mediterranean-socket",
   "metadata": {},
   "source": [
    "첫 번째는 셀프 어텐션, 두 번째는 인코더-디코더 어텐션, 세 번째는 피드 포워드 신경망입니다. 인코더-디코더 어텐션은 셀프 어텐션과는 달리, Query가 디코더의 벡터인 반면에 Key와 Value가 인코더의 벡터라는 특징이 있습니다. 이 부분이 인코더가 입력 문장으로부터 정보를 디코더에 전달하는 과정입니다.  "
   ]
  },
  {
   "cell_type": "markdown",
   "id": "solar-burlington",
   "metadata": {},
   "source": [
    "![](https://aiffelstaticprd.blob.core.windows.net/media/images/Untitled_24_Kj9egLY.max-800x600.png)"
   ]
  },
  {
   "cell_type": "markdown",
   "id": "permanent-vertical",
   "metadata": {},
   "source": [
    "인코더의 셀프 어텐션과 마찬가지로 디코더의 셀프 어텐션, 인코더-디코더 어텐션 두 개의 어텐션 모두 스케일드 닷 프로덕트 어텐션을 멀티 헤드 어텐션으로 병렬적으로 수행합니다.  \n",
    "  \n",
    "디코더의 세 개의 서브 층을 내부적으로 구현한 디코더의 함수는 다음과 같습니다.  "
   ]
  },
  {
   "cell_type": "code",
   "execution_count": 19,
   "id": "productive-chinese",
   "metadata": {},
   "outputs": [
    {
     "name": "stdout",
     "output_type": "stream",
     "text": [
      "슝=3\n"
     ]
    }
   ],
   "source": [
    "# 디코더 하나의 레이어를 함수로 구현.\n",
    "# 이 하나의 레이어 안에는 세 개의 서브 레이어가 존재합니다.\n",
    "def decoder_layer(units, d_model, num_heads, dropout, name=\"decoder_layer\"):\n",
    "  inputs = tf.keras.Input(shape=(None, d_model), name=\"inputs\")\n",
    "  enc_outputs = tf.keras.Input(shape=(None, d_model), name=\"encoder_outputs\")\n",
    "  look_ahead_mask = tf.keras.Input(\n",
    "      shape=(1, None, None), name=\"look_ahead_mask\")\n",
    "  padding_mask = tf.keras.Input(shape=(1, 1, None), name='padding_mask')\n",
    "\n",
    "  # 첫 번째 서브 레이어 : 멀티 헤드 어텐션 수행 (셀프 어텐션)\n",
    "  attention1 = MultiHeadAttention(\n",
    "      d_model, num_heads, name=\"attention_1\")(inputs={\n",
    "          'query': inputs,\n",
    "          'key': inputs,\n",
    "          'value': inputs,\n",
    "          'mask': look_ahead_mask\n",
    "      })\n",
    "\n",
    "  # 멀티 헤드 어텐션의 결과는 LayerNormalization이라는 훈련을 돕는 테크닉을 수행\n",
    "  attention1 = tf.keras.layers.LayerNormalization(\n",
    "      epsilon=1e-6)(attention1 + inputs)\n",
    "\n",
    "  # 두 번째 서브 레이어 : 마스크드 멀티 헤드 어텐션 수행 (인코더-디코더 어텐션)\n",
    "  attention2 = MultiHeadAttention(\n",
    "      d_model, num_heads, name=\"attention_2\")(inputs={\n",
    "          'query': attention1,\n",
    "          'key': enc_outputs,\n",
    "          'value': enc_outputs,\n",
    "          'mask': padding_mask\n",
    "      })\n",
    "\n",
    "  # 마스크드 멀티 헤드 어텐션의 결과는\n",
    "  # Dropout과 LayerNormalization이라는 훈련을 돕는 테크닉을 수행\n",
    "  attention2 = tf.keras.layers.Dropout(rate=dropout)(attention2)\n",
    "  attention2 = tf.keras.layers.LayerNormalization(\n",
    "      epsilon=1e-6)(attention2 + attention1)\n",
    "\n",
    "  # 세 번째 서브 레이어 : 2개의 완전연결층\n",
    "  outputs = tf.keras.layers.Dense(units=units, activation='relu')(attention2)\n",
    "  outputs = tf.keras.layers.Dense(units=d_model)(outputs)\n",
    "\n",
    "  # 완전연결층의 결과는 Dropout과 LayerNormalization 수행\n",
    "  outputs = tf.keras.layers.Dropout(rate=dropout)(outputs)\n",
    "  outputs = tf.keras.layers.LayerNormalization(\n",
    "      epsilon=1e-6)(outputs + attention2)\n",
    "\n",
    "  return tf.keras.Model(\n",
    "      inputs=[inputs, enc_outputs, look_ahead_mask, padding_mask],\n",
    "      outputs=outputs,\n",
    "      name=name)\n",
    "print(\"슝=3\")"
   ]
  },
  {
   "cell_type": "markdown",
   "id": "polished-compromise",
   "metadata": {},
   "source": [
    "## 디코더 층을 쌓아 디코더 만들기"
   ]
  },
  {
   "cell_type": "markdown",
   "id": "smooth-frequency",
   "metadata": {},
   "source": [
    "이렇게 구현한 디코더의 층은 임베딩 층(Embedding layer)과 포지셔널 인코딩(Positional Encoding)을 연결하고, 사용자가 원하는 만큼 디코더 층을 쌓아 트랜스포머의 디코더가 완성됩니다.  \n",
    "  \n",
    "인코더와 마찬가지로 num_layers 개수의 디코더 층을 쌓습니다. 논문에서는 총 6개의 디코더 층을 사용하였지만, 실습에서는 학습 시간을 고려하여 그보다 적은 개수를 사용할 예정입니다.  "
   ]
  },
  {
   "cell_type": "code",
   "execution_count": 20,
   "id": "related-handy",
   "metadata": {},
   "outputs": [
    {
     "name": "stdout",
     "output_type": "stream",
     "text": [
      "슝=3\n"
     ]
    }
   ],
   "source": [
    "def decoder(vocab_size,\n",
    "            num_layers,\n",
    "            units,\n",
    "            d_model,\n",
    "            num_heads,\n",
    "            dropout,\n",
    "            name='decoder'):\n",
    "  inputs = tf.keras.Input(shape=(None,), name='inputs')\n",
    "  enc_outputs = tf.keras.Input(shape=(None, d_model), name='encoder_outputs')\n",
    "  look_ahead_mask = tf.keras.Input(\n",
    "      shape=(1, None, None), name='look_ahead_mask')\n",
    "\n",
    "\t# 패딩 마스크\n",
    "  padding_mask = tf.keras.Input(shape=(1, 1, None), name='padding_mask')\n",
    "  \n",
    "\t# 임베딩 레이어\n",
    "  embeddings = tf.keras.layers.Embedding(vocab_size, d_model)(inputs)\n",
    "  embeddings *= tf.math.sqrt(tf.cast(d_model, tf.float32))\n",
    "\n",
    "\t# 포지셔널 인코딩\n",
    "  embeddings = PositionalEncoding(vocab_size, d_model)(embeddings)\n",
    "\n",
    "\t# Dropout이라는 훈련을 돕는 테크닉을 수행\n",
    "  outputs = tf.keras.layers.Dropout(rate=dropout)(embeddings)\n",
    "\n",
    "  for i in range(num_layers):\n",
    "    outputs = decoder_layer(\n",
    "        units=units,\n",
    "        d_model=d_model,\n",
    "        num_heads=num_heads,\n",
    "        dropout=dropout,\n",
    "        name='decoder_layer_{}'.format(i),\n",
    "    )(inputs=[outputs, enc_outputs, look_ahead_mask, padding_mask])\n",
    "\n",
    "  return tf.keras.Model(\n",
    "      inputs=[inputs, enc_outputs, look_ahead_mask, padding_mask],\n",
    "      outputs=outputs,\n",
    "      name=name)\n",
    "print(\"슝=3\")"
   ]
  },
  {
   "cell_type": "markdown",
   "id": "acute-malta",
   "metadata": {},
   "source": [
    "이제 인코더 층과 디코더 층을 각각 함수로 구현하였습니다.  \n",
    "\n",
    "이를 하나로 조합하여 트랜스포머 모델을 만들 수 있을 텐데, 우선 그 전에 여기서 사용할 챗봇 데이터를 로드하고, 전처리해보겠습니다.  "
   ]
  },
  {
   "cell_type": "markdown",
   "id": "important-house",
   "metadata": {},
   "source": [
    "# 15-10. 챗봇의 병렬 데이터 받아오기"
   ]
  },
  {
   "cell_type": "markdown",
   "id": "operational-concentrate",
   "metadata": {},
   "source": [
    "여기서는 Cornell Movie-Dialogs Corpus라는 영화 및 TV 프로그램에서 사용되었던 대화의 쌍으로 구성된 데이터셋을 사용합니다. 대화의 쌍이라고 하는 것은 기본적으로 먼저 말하는 사람의 대화 문장이 있고, 그에 응답하는 대화 문장의 쌍으로 이루어집니다.  \n",
    "  \n",
    "데이터를 받아오는 이번 스텝에서 목표로 하는 것은 다음과 같습니다.  \n",
    ">정해진 개수인 50,000개의 질문과 답변의 쌍을 추출한다.  \n",
    "문장에서 단어와 구두점 사이에 공백을 추가한다.  \n",
    "알파벳과 ! ? , . 이 4개의 구두점을 제외하고 다른 특수문자는 모두 제거한다.  \n",
    "  \n",
    "데이터를 다운로드해 보겠습니다."
   ]
  },
  {
   "cell_type": "code",
   "execution_count": 21,
   "id": "provincial-silence",
   "metadata": {},
   "outputs": [
    {
     "name": "stdout",
     "output_type": "stream",
     "text": [
      "슝=3\n"
     ]
    }
   ],
   "source": [
    "path_to_zip = tf.keras.utils.get_file(\n",
    "    'cornell_movie_dialogs.zip',\n",
    "    origin='http://www.cs.cornell.edu/~cristian/data/cornell_movie_dialogs_corpus.zip',\n",
    "    extract=True)\n",
    "\n",
    "path_to_dataset = os.path.join(\n",
    "    os.path.dirname(path_to_zip), \"cornell movie-dialogs corpus\")\n",
    "\n",
    "path_to_movie_lines = os.path.join(path_to_dataset, 'movie_lines.txt')\n",
    "path_to_movie_conversations = os.path.join(path_to_dataset,'movie_conversations.txt')\n",
    "print(\"슝=3\")"
   ]
  },
  {
   "cell_type": "markdown",
   "id": "regular-queen",
   "metadata": {},
   "source": [
    "여기서 우리가 사용할 데이터는 실습 시간을 고려하여 전체 데이터 중 일부입니다. 우선, 데이터 중에서 5만 개만 가져오도록 하고 질문과 답변의 쌍의 형태로 데이터셋을 가공합니다."
   ]
  },
  {
   "cell_type": "code",
   "execution_count": 22,
   "id": "referenced-academy",
   "metadata": {},
   "outputs": [
    {
     "name": "stdout",
     "output_type": "stream",
     "text": [
      "50000\n"
     ]
    }
   ],
   "source": [
    "# 사용할 샘플의 최대 개수\n",
    "MAX_SAMPLES = 50000\n",
    "print(MAX_SAMPLES)"
   ]
  },
  {
   "cell_type": "markdown",
   "id": "moral-coffee",
   "metadata": {},
   "source": [
    "이를 위한 전처리 함수는 다음과 같습니다.  \n",
    "  \n",
    "이번 전처리는 정규 표현식(Regular Expression)을 사용하여 구두점(punctuation)을 제거하여 단어를 토크나이징(tokenizing)하는 일에 방해가 되지 않도록 정제하는 것을 목표로 합니다.  "
   ]
  },
  {
   "cell_type": "code",
   "execution_count": 23,
   "id": "funded-whale",
   "metadata": {},
   "outputs": [
    {
     "name": "stdout",
     "output_type": "stream",
     "text": [
      "슝=3\n"
     ]
    }
   ],
   "source": [
    "# 전처리 함수\n",
    "def preprocess_sentence(sentence):\n",
    "  sentence = sentence.lower().strip()\n",
    "\n",
    "  # 단어와 구두점(punctuation) 사이의 거리를 만듭니다.\n",
    "  # 예를 들어서 \"I am a student.\" => \"I am a student .\"와 같이\n",
    "  # student와 온점 사이에 거리를 만듭니다.\n",
    "  sentence = re.sub(r\"([?.!,])\", r\" \\1 \", sentence)\n",
    "  sentence = re.sub(r'[\" \"]+', \" \", sentence)\n",
    "\n",
    "  # (a-z, A-Z, \".\", \"?\", \"!\", \",\")를 제외한 모든 문자를 공백인 ' '로 대체합니다.\n",
    "  sentence = re.sub(r\"[^a-zA-Z?.!,]+\", \" \", sentence)\n",
    "  sentence = sentence.strip()\n",
    "  return sentence\n",
    "print(\"슝=3\")"
   ]
  },
  {
   "cell_type": "markdown",
   "id": "authorized-consensus",
   "metadata": {},
   "source": [
    "데이터를 로드하는 동시에 전처리 함수를 호출하여 질문과 답변의 쌍을 전처리합니다."
   ]
  },
  {
   "cell_type": "code",
   "execution_count": 24,
   "id": "relative-error",
   "metadata": {},
   "outputs": [
    {
     "name": "stdout",
     "output_type": "stream",
     "text": [
      "슝=3\n"
     ]
    }
   ],
   "source": [
    "# 질문과 답변의 쌍인 데이터셋을 구성하기 위한 데이터 로드 함수\n",
    "def load_conversations():\n",
    "  id2line = {}\n",
    "  with open(path_to_movie_lines, errors='ignore') as file:\n",
    "    lines = file.readlines()\n",
    "  for line in lines:\n",
    "    parts = line.replace('\\n', '').split(' +++$+++ ')\n",
    "    id2line[parts[0]] = parts[4]\n",
    "\n",
    "  inputs, outputs = [], []\n",
    "  with open(path_to_movie_conversations, 'r') as file:\n",
    "    lines = file.readlines()\n",
    "\n",
    "  for line in lines:\n",
    "    parts = line.replace('\\n', '').split(' +++$+++ ')\n",
    "    conversation = [line[1:-1] for line in parts[3][1:-1].split(', ')]\n",
    "\n",
    "    for i in range(len(conversation) - 1):\n",
    "\t\t\t# 전처리 함수를 질문에 해당되는 inputs와 답변에 해당되는 outputs에 적용.\n",
    "      inputs.append(preprocess_sentence(id2line[conversation[i]]))\n",
    "      outputs.append(preprocess_sentence(id2line[conversation[i + 1]]))\n",
    "\n",
    "      if len(inputs) >= MAX_SAMPLES:\n",
    "        return inputs, outputs\n",
    "  return inputs, outputs\n",
    "print(\"슝=3\")"
   ]
  },
  {
   "cell_type": "markdown",
   "id": "chronic-copyright",
   "metadata": {},
   "source": [
    "이렇게 로드한 데이터의 샘플 수를 확인해 볼까요?"
   ]
  },
  {
   "cell_type": "code",
   "execution_count": 25,
   "id": "aquatic-newcastle",
   "metadata": {},
   "outputs": [
    {
     "name": "stdout",
     "output_type": "stream",
     "text": [
      "전체 샘플 수 : 50000\n",
      "전체 샘플 수 : 50000\n"
     ]
    }
   ],
   "source": [
    "# 데이터를 로드하고 전처리하여 질문을 questions, 답변을 answers에 저장합니다.\n",
    "questions, answers = load_conversations()\n",
    "print('전체 샘플 수 :', len(questions))\n",
    "print('전체 샘플 수 :', len(answers))"
   ]
  },
  {
   "cell_type": "markdown",
   "id": "indie-sussex",
   "metadata": {},
   "source": [
    "질문과 답변은 병렬적으로 구성되는 데이터셋이므로 두 샘플 수는 정확하게 일치해야 합니다.  \n",
    "  \n",
    "둘 다 5만 개의 샘플이 저장되었습니다.  \n",
    "  \n",
    "임의로 22번째 샘플(인덱스 상으로는 21번 샘플)을 출력해서 질문과 답변이 병렬적으로 잘 저장은 되었는지, 그리고 전처리 함수에서 의도했던 전처리가 진행되었는지 확인해 봅시다!  "
   ]
  },
  {
   "cell_type": "code",
   "execution_count": 26,
   "id": "precious-banner",
   "metadata": {},
   "outputs": [
    {
     "name": "stdout",
     "output_type": "stream",
     "text": [
      "전처리 후의 22번째 질문 샘플: she s not a . . .\n",
      "전처리 후의 22번째 답변 샘플: lesbian ? no . i found a picture of jared leto in one of her drawers , so i m pretty sure she s not harboring same sex tendencies .\n"
     ]
    }
   ],
   "source": [
    "print('전처리 후의 22번째 질문 샘플: {}'.format(questions[21]))\n",
    "print('전처리 후의 22번째 답변 샘플: {}'.format(answers[21]))"
   ]
  },
  {
   "cell_type": "markdown",
   "id": "abroad-warrant",
   "metadata": {},
   "source": [
    "?나 .과 같은 구두점들이 단어들과 분리되어 단어와 구두점 사이에는 공백이 추가된 것을 확인할 수 있습니다. 이렇게 함으로써 단어를 토크나이징 하는 과정에서 구두점과 붙어있던 단어들을 하나의 단어로 인식하는 것을 방지할 수 있습니다."
   ]
  },
  {
   "cell_type": "markdown",
   "id": "circular-alberta",
   "metadata": {},
   "source": [
    "# 15-11. 병렬 데이터 전처리하기"
   ]
  },
  {
   "cell_type": "markdown",
   "id": "reserved-newport",
   "metadata": {},
   "source": [
    "질문과 답변의 셋을 각각 questions와 answers에 저장하였으므로, 본격적으로 전처리를 진행해보겠습니다. 이번 스텝에서 진행할 전체적인 과정을 요약하면 다음과 같습니다.\n",
    ">1. TensorFlow Datasets SubwordTextEncoder를 토크나이저로 사용한다.  단어보다 더 작은 단위인 Subword를 기준으로 토크나이징하고,  각 토큰을 고유한 정수로 인코딩한다.  \n",
    "2. 각 문장을 토큰화하고 각 문장의 시작과 끝을 나타내는 START_TOKEN 및 END_TOKEN을 추가한다.\n",
    "3. 최대 길이 MAX_LENGTH인 40을 넘는 문장들은 필터링한다.\n",
    "4. MAX_LENGTH보다 길이가 짧은 문장들은 40에 맞도록 패딩한다.\n"
   ]
  },
  {
   "cell_type": "markdown",
   "id": "aging-jersey",
   "metadata": {},
   "source": [
    "## 1. 단어장(Vocabulary) 만들기"
   ]
  },
  {
   "cell_type": "markdown",
   "id": "desperate-agreement",
   "metadata": {},
   "source": [
    "우선 각 단어에 고유한 정수 인덱스를 부여하기 위해서 단어장(Vocabulary)을 만들어보겠습니다. 단어장을 만들 때는 질문과 답변 데이터셋을 모두 사용하여 만듭니다.  "
   ]
  },
  {
   "cell_type": "code",
   "execution_count": 27,
   "id": "spanish-dance",
   "metadata": {},
   "outputs": [
    {
     "name": "stdout",
     "output_type": "stream",
     "text": [
      "살짝 오래 걸릴 수 있어요. 스트레칭 한 번 해볼까요? 👐\n",
      "슝=3 \n"
     ]
    }
   ],
   "source": [
    "print(\"살짝 오래 걸릴 수 있어요. 스트레칭 한 번 해볼까요? 👐\")\n",
    "\n",
    "# 질문과 답변 데이터셋에 대해서 Vocabulary 생성. (Tensorflow 2.2.0 이하)\n",
    "# tokenizer = tfds.features.text.SubwordTextEncoder.build_from_corpus(questions + answers, target_vocab_size=2**13)\n",
    "\n",
    "# (주의) Tensorflow 2.3.0 이상의 버전에서는 아래 주석의 코드를 대신 실행해 주세요. \n",
    "tokenizer = tfds.deprecated.text.SubwordTextEncoder.build_from_corpus(questions + answers, target_vocab_size=2**13)\n",
    "print(\"슝=3 \")"
   ]
  },
  {
   "cell_type": "markdown",
   "id": "ahead-genre",
   "metadata": {},
   "source": [
    "이때 디코더의 문장 생성 과정에서 사용할 '시작 토큰'과 '종료 토큰'에 대해서도 임의로 단어장에 추가하여서 정수를 부여해 줍니다. 이미 생성된 단어장의 번호와 겹치지 않도록 각각 단어장의 크기와 그보다 1이 큰 수를 번호로 부여하면 되겠죠?"
   ]
  },
  {
   "cell_type": "code",
   "execution_count": 28,
   "id": "together-retailer",
   "metadata": {},
   "outputs": [
    {
     "name": "stdout",
     "output_type": "stream",
     "text": [
      "슝=3\n"
     ]
    }
   ],
   "source": [
    "# 시작 토큰과 종료 토큰에 고유한 정수를 부여합니다.\n",
    "START_TOKEN, END_TOKEN = [tokenizer.vocab_size], [tokenizer.vocab_size + 1]\n",
    "print(\"슝=3\")"
   ]
  },
  {
   "cell_type": "markdown",
   "id": "stunning-renewal",
   "metadata": {},
   "source": [
    "시작 토큰과 종료 토큰에 부여된 정수를 출력해봅시다."
   ]
  },
  {
   "cell_type": "code",
   "execution_count": 29,
   "id": "serious-function",
   "metadata": {},
   "outputs": [
    {
     "name": "stdout",
     "output_type": "stream",
     "text": [
      "START_TOKEN의 번호 : [8331]\n",
      "END_TOKEN의 번호 : [8332]\n"
     ]
    }
   ],
   "source": [
    "print('START_TOKEN의 번호 :' ,[tokenizer.vocab_size])\n",
    "print('END_TOKEN의 번호 :' ,[tokenizer.vocab_size + 1])"
   ]
  },
  {
   "cell_type": "markdown",
   "id": "empty-advancement",
   "metadata": {},
   "source": [
    "각각 8,331과 8,332라는 점에서 현재 단어장의 크기가 8,331(0번부터 8,330번)이라는 의미입니다.\n",
    "\n",
    "두 개의 토큰을 추가해주었기 때문에 단어장의 크기도 +2임을 명시해주어야 합니다."
   ]
  },
  {
   "cell_type": "code",
   "execution_count": 30,
   "id": "naughty-joshua",
   "metadata": {},
   "outputs": [
    {
     "name": "stdout",
     "output_type": "stream",
     "text": [
      "8333\n"
     ]
    }
   ],
   "source": [
    "# 시작 토큰과 종료 토큰을 고려하여 +2를 하여 단어장의 크기를 산정합니다.\n",
    "VOCAB_SIZE = tokenizer.vocab_size + 2\n",
    "print(VOCAB_SIZE)"
   ]
  },
  {
   "cell_type": "markdown",
   "id": "unlike-expansion",
   "metadata": {},
   "source": [
    "## 2. 각 단어를 고유한 정수로 인코딩(Integer encoding) & 패딩(Padding)"
   ]
  },
  {
   "cell_type": "markdown",
   "id": "fourth-nebraska",
   "metadata": {},
   "source": [
    "위에서 tensorflow_datasets의 SubwordTextEncoder를 사용해서 tokenizer를 정의하고 Vocabulary를 만들었다면, tokenizer.encode()로 각 단어를 정수로 변환할 수 있고 또는 tokenizer.decode()를 통해 정수 시퀀스를 단어 시퀀스로 변환할 수 있습니다.  \n",
    "  \n",
    "예를 들어서 22번째 샘플을 tokenizer.encode()의 입력으로 사용해서 변환 결과를 봅시다.  "
   ]
  },
  {
   "cell_type": "code",
   "execution_count": 31,
   "id": "remarkable-bosnia",
   "metadata": {},
   "outputs": [
    {
     "name": "stdout",
     "output_type": "stream",
     "text": [
      "정수 인코딩 후의 21번째 질문 샘플: [60, 8, 37, 8172, 49]\n",
      "정수 인코딩 후의 21번째 답변 샘플: [7824, 1223, 19, 61, 2, 4, 336, 10, 1595, 14, 1104, 698, 3263, 263, 16, 71, 14, 107, 2133, 900, 3, 59, 4, 23, 355, 204, 60, 8, 37, 885, 2289, 8107, 344, 1001, 5179, 4214, 342, 1]\n"
     ]
    }
   ],
   "source": [
    "# 임의의 22번째 샘플에 대해서 정수 인코딩 작업을 수행.\n",
    "# 각 토큰을 고유한 정수로 변환\n",
    "print('정수 인코딩 후의 21번째 질문 샘플: {}'.format(tokenizer.encode(questions[21])))\n",
    "print('정수 인코딩 후의 21번째 답변 샘플: {}'.format(tokenizer.encode(answers[21])))"
   ]
  },
  {
   "cell_type": "markdown",
   "id": "muslim-indie",
   "metadata": {},
   "source": [
    "각 단어에 고유한 정수가 부여된 Vocabulary를 기준으로 단어 시퀀스가 정수 시퀀스로 인코딩된 결과를 확인할 수 있습니다. 위의 결과와 마찬가지로 질문과 답변 셋에 대해서 전부 정수 인코딩을 수행합니다. 이와 동시에 문장의 최대 길이를 정하고, 해당 길이로 패딩(padding)합니다.  "
   ]
  },
  {
   "cell_type": "code",
   "execution_count": 32,
   "id": "proper-internship",
   "metadata": {},
   "outputs": [
    {
     "name": "stdout",
     "output_type": "stream",
     "text": [
      "40\n"
     ]
    }
   ],
   "source": [
    "# 샘플의 최대 허용 길이 또는 패딩 후의 최종 길이\n",
    "MAX_LENGTH = 40\n",
    "print(MAX_LENGTH)"
   ]
  },
  {
   "cell_type": "code",
   "execution_count": 33,
   "id": "great-knock",
   "metadata": {},
   "outputs": [
    {
     "name": "stdout",
     "output_type": "stream",
     "text": [
      "슝=3\n"
     ]
    }
   ],
   "source": [
    "# 정수 인코딩, 최대 길이를 초과하는 샘플 제거, 패딩\n",
    "def tokenize_and_filter(inputs, outputs):\n",
    "  tokenized_inputs, tokenized_outputs = [], []\n",
    "  \n",
    "  for (sentence1, sentence2) in zip(inputs, outputs):\n",
    "    # 정수 인코딩 과정에서 시작 토큰과 종료 토큰을 추가\n",
    "    sentence1 = START_TOKEN + tokenizer.encode(sentence1) + END_TOKEN\n",
    "    sentence2 = START_TOKEN + tokenizer.encode(sentence2) + END_TOKEN\n",
    "\n",
    "    # 최대 길이 40 이하인 경우에만 데이터셋으로 허용\n",
    "    if len(sentence1) <= MAX_LENGTH and len(sentence2) <= MAX_LENGTH:\n",
    "      tokenized_inputs.append(sentence1)\n",
    "      tokenized_outputs.append(sentence2)\n",
    "  \n",
    "  # 최대 길이 40으로 모든 데이터셋을 패딩\n",
    "  tokenized_inputs = tf.keras.preprocessing.sequence.pad_sequences(\n",
    "      tokenized_inputs, maxlen=MAX_LENGTH, padding='post')\n",
    "  tokenized_outputs = tf.keras.preprocessing.sequence.pad_sequences(\n",
    "      tokenized_outputs, maxlen=MAX_LENGTH, padding='post')\n",
    "  \n",
    "  return tokenized_inputs, tokenized_outputs\n",
    "print(\"슝=3\")"
   ]
  },
  {
   "cell_type": "markdown",
   "id": "automated-timing",
   "metadata": {},
   "source": [
    "정수 인코딩 과정을 수행하면서 샘플의 길이가 40을 넘는 경우는 샘플들을 필터링하였으므로 일부 샘플이 제외되었습니다. 단어장의 크기와 샘플의 개수를 확인해 보겠습니다.  "
   ]
  },
  {
   "cell_type": "code",
   "execution_count": 34,
   "id": "lightweight-focus",
   "metadata": {},
   "outputs": [
    {
     "name": "stdout",
     "output_type": "stream",
     "text": [
      "단어장의 크기 : 8333\n",
      "필터링 후의 질문 샘플 개수: 44095\n",
      "필터링 후의 답변 샘플 개수: 44095\n"
     ]
    }
   ],
   "source": [
    "questions, answers = tokenize_and_filter(questions, answers)\n",
    "print('단어장의 크기 :',(VOCAB_SIZE))\n",
    "print('필터링 후의 질문 샘플 개수: {}'.format(len(questions)))\n",
    "print('필터링 후의 답변 샘플 개수: {}'.format(len(answers)))"
   ]
  },
  {
   "cell_type": "markdown",
   "id": "small-appendix",
   "metadata": {},
   "source": [
    "## 3. 교사 강요(Teacher Forcing) 사용하기"
   ]
  },
  {
   "cell_type": "markdown",
   "id": "chemical-timer",
   "metadata": {},
   "source": [
    "tf.data.Dataset API는 훈련 프로세스의 속도가 빨라지도록 입력 파이프라인을 구축하는 API입니다.  \n",
    "\n",
    "이를 적극 사용하기 위해서 질문과 답변의 쌍을 tf.data.Dataset의 입력으로 넣어주는 작업을 합니다.   \n",
    "\n",
    "이때, 디코더의 입력과 실제값(레이블)을 정의해주기 위해서는 교사 강요(Teacher Forcing)이라는 언어 모델의 훈련 기법을 이해해야만 합니다. 아래의 글을 통해 교사 강요에 대해 알아봅시다. (모두 읽을 필요는 없고, 교사 강요 부분까지만 읽어도 됩니다.)  \n",
    "\n",
    "**Q4. 교사 강요(Teacher Forcing)를 사용하지 않았을 경우, 훈련 과정에서 훈련 속도가 지나치게 느려지는 경우가 있다고 합니다. 그 이유는 무엇인가요?**    \n",
    ">https://wikidocs.net/46496  \n",
    "훈련 과정에서도 이전 시점의 출력을 다음 시점의 입력으로 사용하면서 훈련 시킬 수도 있지만 이는 한 번 잘못 예측하면 뒤에서의 예측까지 영향을 미쳐 훈련 시간이 느려지게 되므로 교사 강요를 사용하여 RNN을 좀 더 빠르고 효과적으로 훈련시킬 수 있습니다.  \n",
    "교사 강요를 하지 않은 경우, 잘못된 예측이 다음 시점(time step)의 입력으로 들어가면서 연쇄적으로 예측 정확도에 영향을 미친다.  \n",
    "  \n",
    "이전 자신의 출력이 현재 자신의 상태를 결정하는 모델을 자기회귀 모델(auto-regressive model, AR)이라고 합니다. 앞서 교사 강요를 이해하기 위해 읽었던 글에 등장한 RNN 언어 모델은 대표적인 자기 회귀 모델의 예이며, 트랜스포머의 디코더 또한 자기회귀 모델입니다.  \n",
    "  \n",
    "트랜스포머 디코더에서도 교사 강요(Teacher Forcing)를 적용합니다.  \n",
    "\n",
    "**Q5. 만약, answers의 한 샘플이 다음과 같았다고 해봅시다.  \n",
    "샘플 : '\\<START_TOKEN> I AM A STUDENT \\<END_TOKEN>\\<PAD>\\<PAD>\\<PAD>\\<PAD>'**  \n",
    "  \n",
    "**\\<START_TOKEN>은 문장의 시작을 의미하는 시작 토큰,  \n",
    "\\<END_TOKEN>은 문장의 끝을 의미하는 종료 토큰  \n",
    "\\<PAD>는 패딩을 위해 사용되는 패딩 토큰입니다.**  \n",
    "  \n",
    "**교사 강요를 적용하기 위해서 위 샘플을 디코더의 입력과 레이블로 사용한다고 하였을 때,  \n",
    "각각 어떻게 수정해서 입력과 레이블로 사용해야 할까요?**  \n",
    ">입력 : \\<START_TOKEN> I AM A STUDENT \\<END_TOKEN> \\<PAD> \\<PAD> \\<PAD>  \n",
    "레이블 : I AM A STUDENT \\<END_TOKEN> \\<PAD> \\<PAD> \\<PAD> \\<PAD>\n",
    "  \n",
    "질문과 답변의 쌍을 tf.data.Dataset API의 입력으로 사용하여 파이프라인을 구성합니다.  \n",
    "이때, 교사 강요를 위해서 answers\\[:, :-1]를 디코더의 입력값, answers\\[:, 1:]를 디코더의 레이블로 사용합니다.  "
   ]
  },
  {
   "cell_type": "code",
   "execution_count": 35,
   "id": "defined-sequence",
   "metadata": {},
   "outputs": [
    {
     "name": "stdout",
     "output_type": "stream",
     "text": [
      "슝=3\n"
     ]
    }
   ],
   "source": [
    "BATCH_SIZE = 64\n",
    "BUFFER_SIZE = 20000\n",
    "\n",
    "# 디코더는 이전의 target을 다음의 input으로 사용합니다.\n",
    "# 이에 따라 outputs에서는 START_TOKEN을 제거하겠습니다.\n",
    "dataset = tf.data.Dataset.from_tensor_slices((\n",
    "    {\n",
    "        'inputs': questions,\n",
    "        'dec_inputs': answers[:, :-1]\n",
    "    },\n",
    "    {\n",
    "        'outputs': answers[:, 1:]\n",
    "    },\n",
    "))\n",
    "\n",
    "dataset = dataset.cache()\n",
    "dataset = dataset.shuffle(BUFFER_SIZE)\n",
    "dataset = dataset.batch(BATCH_SIZE)\n",
    "dataset = dataset.prefetch(tf.data.experimental.AUTOTUNE)\n",
    "print(\"슝=3\")"
   ]
  },
  {
   "cell_type": "markdown",
   "id": "innocent-college",
   "metadata": {},
   "source": [
    "# 15-12. 모델 정의 및 학습하기"
   ]
  },
  {
   "cell_type": "markdown",
   "id": "premium-negative",
   "metadata": {},
   "source": [
    "이제 앞서 사용한 인코더 층 함수와 디코더 층 함수를 사용하여 트랜스포머 함수를 정의합니다."
   ]
  },
  {
   "cell_type": "code",
   "execution_count": 36,
   "id": "touched-addiction",
   "metadata": {},
   "outputs": [
    {
     "name": "stdout",
     "output_type": "stream",
     "text": [
      "슝=3\n"
     ]
    }
   ],
   "source": [
    "def transformer(vocab_size,\n",
    "                num_layers,\n",
    "                units,\n",
    "                d_model,\n",
    "                num_heads,\n",
    "                dropout,\n",
    "                name=\"transformer\"):\n",
    "  inputs = tf.keras.Input(shape=(None,), name=\"inputs\")\n",
    "  dec_inputs = tf.keras.Input(shape=(None,), name=\"dec_inputs\")\n",
    "\n",
    "\t# 인코더에서 패딩을 위한 마스크\n",
    "  enc_padding_mask = tf.keras.layers.Lambda(\n",
    "      create_padding_mask, output_shape=(1, 1, None),\n",
    "      name='enc_padding_mask')(inputs)\n",
    "\n",
    "  # 디코더에서 미래의 토큰을 마스크 하기 위해서 사용합니다.\n",
    "  # 내부적으로 패딩 마스크도 포함되어져 있습니다.\n",
    "  look_ahead_mask = tf.keras.layers.Lambda(\n",
    "      create_look_ahead_mask,\n",
    "      output_shape=(1, None, None),\n",
    "      name='look_ahead_mask')(dec_inputs)\n",
    "\n",
    "  # 두 번째 어텐션 블록에서 인코더의 벡터들을 마스킹\n",
    "  # 디코더에서 패딩을 위한 마스크\n",
    "  dec_padding_mask = tf.keras.layers.Lambda(\n",
    "      create_padding_mask, output_shape=(1, 1, None),\n",
    "      name='dec_padding_mask')(inputs)\n",
    "\n",
    "  # 인코더\n",
    "  enc_outputs = encoder(\n",
    "      vocab_size=vocab_size,\n",
    "      num_layers=num_layers,\n",
    "      units=units,\n",
    "      d_model=d_model,\n",
    "      num_heads=num_heads,\n",
    "      dropout=dropout,\n",
    "  )(inputs=[inputs, enc_padding_mask])\n",
    "\n",
    "  # 디코더\n",
    "  dec_outputs = decoder(\n",
    "      vocab_size=vocab_size,\n",
    "      num_layers=num_layers,\n",
    "      units=units,\n",
    "      d_model=d_model,\n",
    "      num_heads=num_heads,\n",
    "      dropout=dropout,\n",
    "  )(inputs=[dec_inputs, enc_outputs, look_ahead_mask, dec_padding_mask])\n",
    "\n",
    "  # 완전연결층\n",
    "  outputs = tf.keras.layers.Dense(units=vocab_size, name=\"outputs\")(dec_outputs)\n",
    "\n",
    "  return tf.keras.Model(inputs=[inputs, dec_inputs], outputs=outputs, name=name)\n",
    "print(\"슝=3\")"
   ]
  },
  {
   "cell_type": "markdown",
   "id": "joint-chase",
   "metadata": {},
   "source": [
    "## 1. 모델 생성"
   ]
  },
  {
   "cell_type": "markdown",
   "id": "referenced-bikini",
   "metadata": {},
   "source": [
    "num_layers, d-Model, units는 전부 사용자가 정할 수 있는 하이퍼파라미터값입니다.  \n",
    "\n",
    "논문에서 num_layers는 6, d-Model은 512였지만, 빠르고 원활한 훈련을 위해 여기서는 각 하이퍼파라미터를 논문에서보다는 작은 값을 사용합니다. "
   ]
  },
  {
   "cell_type": "code",
   "execution_count": 37,
   "id": "continental-mineral",
   "metadata": {},
   "outputs": [
    {
     "ename": "AttributeError",
     "evalue": "in user code:\n\n    <ipython-input-10-06a8094d37a8>:39 call  *\n        scaled_attention = scaled_dot_product_attention(query, key, value, mask)\n    <ipython-input-8-cea454402e79>:18 scaled_dot_product_attention  *\n        output = tf.matamul(attention_weights, value)\n\n    AttributeError: module 'tensorflow' has no attribute 'matamul'\n",
     "output_type": "error",
     "traceback": [
      "\u001b[0;31m---------------------------------------------------------------------------\u001b[0m",
      "\u001b[0;31mAttributeError\u001b[0m                            Traceback (most recent call last)",
      "\u001b[0;32m<ipython-input-37-9d7e28959a9a>\u001b[0m in \u001b[0;36m<module>\u001b[0;34m\u001b[0m\n\u001b[1;32m     14\u001b[0m     \u001b[0md_model\u001b[0m\u001b[0;34m=\u001b[0m\u001b[0mD_MODEL\u001b[0m\u001b[0;34m,\u001b[0m\u001b[0;34m\u001b[0m\u001b[0;34m\u001b[0m\u001b[0m\n\u001b[1;32m     15\u001b[0m     \u001b[0mnum_heads\u001b[0m\u001b[0;34m=\u001b[0m\u001b[0mNUM_HEADS\u001b[0m\u001b[0;34m,\u001b[0m\u001b[0;34m\u001b[0m\u001b[0;34m\u001b[0m\u001b[0m\n\u001b[0;32m---> 16\u001b[0;31m     dropout=DROPOUT)\n\u001b[0m\u001b[1;32m     17\u001b[0m \u001b[0;34m\u001b[0m\u001b[0m\n\u001b[1;32m     18\u001b[0m \u001b[0mmodel\u001b[0m\u001b[0;34m.\u001b[0m\u001b[0msummary\u001b[0m\u001b[0;34m(\u001b[0m\u001b[0;34m)\u001b[0m\u001b[0;34m\u001b[0m\u001b[0;34m\u001b[0m\u001b[0m\n",
      "\u001b[0;32m<ipython-input-36-b59819001d97>\u001b[0m in \u001b[0;36mtransformer\u001b[0;34m(vocab_size, num_layers, units, d_model, num_heads, dropout, name)\u001b[0m\n\u001b[1;32m     34\u001b[0m       \u001b[0md_model\u001b[0m\u001b[0;34m=\u001b[0m\u001b[0md_model\u001b[0m\u001b[0;34m,\u001b[0m\u001b[0;34m\u001b[0m\u001b[0;34m\u001b[0m\u001b[0m\n\u001b[1;32m     35\u001b[0m       \u001b[0mnum_heads\u001b[0m\u001b[0;34m=\u001b[0m\u001b[0mnum_heads\u001b[0m\u001b[0;34m,\u001b[0m\u001b[0;34m\u001b[0m\u001b[0;34m\u001b[0m\u001b[0m\n\u001b[0;32m---> 36\u001b[0;31m       \u001b[0mdropout\u001b[0m\u001b[0;34m=\u001b[0m\u001b[0mdropout\u001b[0m\u001b[0;34m,\u001b[0m\u001b[0;34m\u001b[0m\u001b[0;34m\u001b[0m\u001b[0m\n\u001b[0m\u001b[1;32m     37\u001b[0m   )(inputs=[inputs, enc_padding_mask])\n\u001b[1;32m     38\u001b[0m \u001b[0;34m\u001b[0m\u001b[0m\n",
      "\u001b[0;32m<ipython-input-18-197fd2bc6f89>\u001b[0m in \u001b[0;36mencoder\u001b[0;34m(vocab_size, num_layers, units, d_model, num_heads, dropout, name)\u001b[0m\n\u001b[1;32m     27\u001b[0m         \u001b[0mnum_heads\u001b[0m\u001b[0;34m=\u001b[0m\u001b[0mnum_heads\u001b[0m\u001b[0;34m,\u001b[0m\u001b[0;34m\u001b[0m\u001b[0;34m\u001b[0m\u001b[0m\n\u001b[1;32m     28\u001b[0m         \u001b[0mdropout\u001b[0m\u001b[0;34m=\u001b[0m\u001b[0mdropout\u001b[0m\u001b[0;34m,\u001b[0m\u001b[0;34m\u001b[0m\u001b[0;34m\u001b[0m\u001b[0m\n\u001b[0;32m---> 29\u001b[0;31m         \u001b[0mname\u001b[0m\u001b[0;34m=\u001b[0m\u001b[0;34m\"encoder_layer_{}\"\u001b[0m\u001b[0;34m.\u001b[0m\u001b[0mformat\u001b[0m\u001b[0;34m(\u001b[0m\u001b[0mi\u001b[0m\u001b[0;34m)\u001b[0m\u001b[0;34m,\u001b[0m\u001b[0;34m\u001b[0m\u001b[0;34m\u001b[0m\u001b[0m\n\u001b[0m\u001b[1;32m     30\u001b[0m     )([outputs, padding_mask])\n\u001b[1;32m     31\u001b[0m \u001b[0;34m\u001b[0m\u001b[0m\n",
      "\u001b[0;32m<ipython-input-17-d494986a1682>\u001b[0m in \u001b[0;36mencoder_layer\u001b[0;34m(units, d_model, num_heads, dropout, name)\u001b[0m\n\u001b[1;32m     13\u001b[0m           \u001b[0;34m'key'\u001b[0m\u001b[0;34m:\u001b[0m \u001b[0minputs\u001b[0m\u001b[0;34m,\u001b[0m\u001b[0;34m\u001b[0m\u001b[0;34m\u001b[0m\u001b[0m\n\u001b[1;32m     14\u001b[0m           \u001b[0;34m'value'\u001b[0m\u001b[0;34m:\u001b[0m \u001b[0minputs\u001b[0m\u001b[0;34m,\u001b[0m\u001b[0;34m\u001b[0m\u001b[0;34m\u001b[0m\u001b[0m\n\u001b[0;32m---> 15\u001b[0;31m           \u001b[0;34m'mask'\u001b[0m\u001b[0;34m:\u001b[0m \u001b[0mpadding_mask\u001b[0m\u001b[0;34m\u001b[0m\u001b[0;34m\u001b[0m\u001b[0m\n\u001b[0m\u001b[1;32m     16\u001b[0m       })\n\u001b[1;32m     17\u001b[0m \u001b[0;34m\u001b[0m\u001b[0m\n",
      "\u001b[0;32m~/anaconda3/envs/aiffel/lib/python3.7/site-packages/tensorflow/python/keras/engine/base_layer.py\u001b[0m in \u001b[0;36m__call__\u001b[0;34m(self, *args, **kwargs)\u001b[0m\n\u001b[1;32m    920\u001b[0m                     not base_layer_utils.is_in_eager_or_tf_function()):\n\u001b[1;32m    921\u001b[0m                   \u001b[0;32mwith\u001b[0m \u001b[0mauto_control_deps\u001b[0m\u001b[0;34m.\u001b[0m\u001b[0mAutomaticControlDependencies\u001b[0m\u001b[0;34m(\u001b[0m\u001b[0;34m)\u001b[0m \u001b[0;32mas\u001b[0m \u001b[0macd\u001b[0m\u001b[0;34m:\u001b[0m\u001b[0;34m\u001b[0m\u001b[0;34m\u001b[0m\u001b[0m\n\u001b[0;32m--> 922\u001b[0;31m                     \u001b[0moutputs\u001b[0m \u001b[0;34m=\u001b[0m \u001b[0mcall_fn\u001b[0m\u001b[0;34m(\u001b[0m\u001b[0mcast_inputs\u001b[0m\u001b[0;34m,\u001b[0m \u001b[0;34m*\u001b[0m\u001b[0margs\u001b[0m\u001b[0;34m,\u001b[0m \u001b[0;34m**\u001b[0m\u001b[0mkwargs\u001b[0m\u001b[0;34m)\u001b[0m\u001b[0;34m\u001b[0m\u001b[0;34m\u001b[0m\u001b[0m\n\u001b[0m\u001b[1;32m    923\u001b[0m                     \u001b[0;31m# Wrap Tensors in `outputs` in `tf.identity` to avoid\u001b[0m\u001b[0;34m\u001b[0m\u001b[0;34m\u001b[0m\u001b[0;34m\u001b[0m\u001b[0m\n\u001b[1;32m    924\u001b[0m                     \u001b[0;31m# circular dependencies.\u001b[0m\u001b[0;34m\u001b[0m\u001b[0;34m\u001b[0m\u001b[0;34m\u001b[0m\u001b[0m\n",
      "\u001b[0;32m~/anaconda3/envs/aiffel/lib/python3.7/site-packages/tensorflow/python/autograph/impl/api.py\u001b[0m in \u001b[0;36mwrapper\u001b[0;34m(*args, **kwargs)\u001b[0m\n\u001b[1;32m    263\u001b[0m       \u001b[0;32mexcept\u001b[0m \u001b[0mException\u001b[0m \u001b[0;32mas\u001b[0m \u001b[0me\u001b[0m\u001b[0;34m:\u001b[0m  \u001b[0;31m# pylint:disable=broad-except\u001b[0m\u001b[0;34m\u001b[0m\u001b[0;34m\u001b[0m\u001b[0m\n\u001b[1;32m    264\u001b[0m         \u001b[0;32mif\u001b[0m \u001b[0mhasattr\u001b[0m\u001b[0;34m(\u001b[0m\u001b[0me\u001b[0m\u001b[0;34m,\u001b[0m \u001b[0;34m'ag_error_metadata'\u001b[0m\u001b[0;34m)\u001b[0m\u001b[0;34m:\u001b[0m\u001b[0;34m\u001b[0m\u001b[0;34m\u001b[0m\u001b[0m\n\u001b[0;32m--> 265\u001b[0;31m           \u001b[0;32mraise\u001b[0m \u001b[0me\u001b[0m\u001b[0;34m.\u001b[0m\u001b[0mag_error_metadata\u001b[0m\u001b[0;34m.\u001b[0m\u001b[0mto_exception\u001b[0m\u001b[0;34m(\u001b[0m\u001b[0me\u001b[0m\u001b[0;34m)\u001b[0m\u001b[0;34m\u001b[0m\u001b[0;34m\u001b[0m\u001b[0m\n\u001b[0m\u001b[1;32m    266\u001b[0m         \u001b[0;32melse\u001b[0m\u001b[0;34m:\u001b[0m\u001b[0;34m\u001b[0m\u001b[0;34m\u001b[0m\u001b[0m\n\u001b[1;32m    267\u001b[0m           \u001b[0;32mraise\u001b[0m\u001b[0;34m\u001b[0m\u001b[0;34m\u001b[0m\u001b[0m\n",
      "\u001b[0;31mAttributeError\u001b[0m: in user code:\n\n    <ipython-input-10-06a8094d37a8>:39 call  *\n        scaled_attention = scaled_dot_product_attention(query, key, value, mask)\n    <ipython-input-8-cea454402e79>:18 scaled_dot_product_attention  *\n        output = tf.matamul(attention_weights, value)\n\n    AttributeError: module 'tensorflow' has no attribute 'matamul'\n"
     ]
    }
   ],
   "source": [
    "tf.keras.backend.clear_session()\n",
    "\n",
    "# 하이퍼파라미터\n",
    "NUM_LAYERS = 2 # 인코더와 디코더의 층의 개수\n",
    "D_MODEL = 256 # 인코더와 디코더 내부의 입, 출력의 고정 차원\n",
    "NUM_HEADS = 8 # 멀티 헤드 어텐션에서의 헤드 수 \n",
    "UNITS = 512 # 피드 포워드 신경망의 은닉층의 크기\n",
    "DROPOUT = 0.1 # 드롭아웃의 비율\n",
    "\n",
    "model = transformer(\n",
    "    vocab_size=VOCAB_SIZE,\n",
    "    num_layers=NUM_LAYERS,\n",
    "    units=UNITS,\n",
    "    d_model=D_MODEL,\n",
    "    num_heads=NUM_HEADS,\n",
    "    dropout=DROPOUT)\n",
    "\n",
    "model.summary()"
   ]
  },
  {
   "cell_type": "markdown",
   "id": "understood-credit",
   "metadata": {},
   "source": [
    "## 2. 손실 함수(Loss function)"
   ]
  },
  {
   "cell_type": "markdown",
   "id": "parallel-blank",
   "metadata": {},
   "source": [
    "레이블인 시퀀스에 패딩이 되어져 있으므로, loss를 계산할 때 패딩 마스크를 적용해야 합니다."
   ]
  },
  {
   "cell_type": "code",
   "execution_count": null,
   "id": "extensive-legislature",
   "metadata": {},
   "outputs": [],
   "source": [
    "def loss_function(y_true, y_pred):\n",
    "  y_true = tf.reshape(y_true, shape=(-1, MAX_LENGTH - 1))\n",
    "  \n",
    "  loss = tf.keras.losses.SparseCategoricalCrossentropy(\n",
    "      from_logits=True, reduction='none')(y_true, y_pred)\n",
    "\n",
    "  mask = tf.cast(tf.not_equal(y_true, 0), tf.float32)\n",
    "  loss = tf.multiply(loss, mask)\n",
    "\n",
    "  return tf.reduce_mean(loss)\n",
    "print(\"슝=3\")"
   ]
  },
  {
   "cell_type": "markdown",
   "id": "fitted-christmas",
   "metadata": {},
   "source": [
    "## 3. 커스텀된 학습률(Learning rate)"
   ]
  },
  {
   "cell_type": "markdown",
   "id": "activated-dealer",
   "metadata": {},
   "source": [
    "딥러닝 모델학습 시 learning rate는 매우 중요한 하이퍼파라미터입니다. 최근에는 모델학습 초기에 learning rate를 급격히 높였다가, 이후 train step이 진행됨에 따라 서서히 낮추어 가면서 안정적으로 수렴하게 하는 고급 기법을 널리 사용하고 있습니다. 이런 방법을 커스텀 학습률 스케줄링(Custom Learning rate Scheduling)이라고 합니다.  \n",
    "  \n",
    "논문에 나온 공식을 참고하여 커스텀 학습률 스케줄러를 통한 아담 옵티마이저를 사용합니다. 논문에 나온 공식은 다음과 같습니다.  \n",
    "$$lrate = d_{model}^{-0.5} \\cdot min(step\\_num^{-0.5}, step\\_num \\cdot warmup\\_steps^{-1.5})$$"
   ]
  },
  {
   "cell_type": "code",
   "execution_count": null,
   "id": "successful-primary",
   "metadata": {},
   "outputs": [],
   "source": [
    "class CustomSchedule(tf.keras.optimizers.schedules.LearningRateSchedule):\n",
    "\n",
    "  def __init__(self, d_model, warmup_steps=4000):\n",
    "    super(CustomSchedule, self).__init__()\n",
    "\n",
    "    self.d_model = d_model\n",
    "    self.d_model = tf.cast(self.d_model, tf.float32)\n",
    "\n",
    "    self.warmup_steps = warmup_steps\n",
    "\n",
    "  def __call__(self, step):\n",
    "    arg1 = tf.math.rsqrt(step)\n",
    "    arg2 = step * (self.warmup_steps**-1.5)\n",
    "\n",
    "    return tf.math.rsqrt(self.d_model) * tf.math.minimum(arg1, arg2)\n",
    "print(\"슝=3\")"
   ]
  },
  {
   "cell_type": "markdown",
   "id": "alternate-serve",
   "metadata": {},
   "source": [
    "그러면 방금 정의한 커스텀 학습률 스케줄링 계획을 시각화해 봅시다. 위에 언급한 수식은 $$step\\_num^{-0.5}$$에 비례하는 부분과 \n",
    "$$step\\_num$$에 비례하는 부분 중 작은 쪽을 택하도록 되어 있습니다. 그래서 학습 초기에는 learning_rate가 $$step\\_num$$\n",
    "에 비례해서 증가하다가 이후로는 감소하는 것을 확인할 수 있습니다."
   ]
  },
  {
   "cell_type": "code",
   "execution_count": null,
   "id": "portable-deposit",
   "metadata": {},
   "outputs": [],
   "source": [
    "sample_learning_rate = CustomSchedule(d_model=128)\n",
    "\n",
    "plt.plot(sample_learning_rate(tf.range(200000, dtype=tf.float32)))\n",
    "plt.ylabel(\"Learning Rate\")\n",
    "plt.xlabel(\"Train Step\")"
   ]
  },
  {
   "cell_type": "markdown",
   "id": "swiss-egypt",
   "metadata": {},
   "source": [
    "## 4. 모델 컴파일"
   ]
  },
  {
   "cell_type": "markdown",
   "id": "outside-danger",
   "metadata": {},
   "source": [
    "손실 함수와 커스텀 된 학습률(learning rate)을 사용하여 모델을 컴파일합니다."
   ]
  },
  {
   "cell_type": "code",
   "execution_count": null,
   "id": "aggressive-technical",
   "metadata": {},
   "outputs": [],
   "source": [
    "learning_rate = CustomSchedule(D_MODEL)\n",
    "\n",
    "optimizer = tf.keras.optimizers.Adam(\n",
    "    learning_rate, beta_1=0.9, beta_2=0.98, epsilon=1e-9)\n",
    "\n",
    "def accuracy(y_true, y_pred):\n",
    "  y_true = tf.reshape(y_true, shape=(-1, MAX_LENGTH - 1))\n",
    "  return tf.keras.metrics.sparse_categorical_accuracy(y_true, y_pred)\n",
    "\n",
    "model.compile(optimizer=optimizer, loss=loss_function, metrics=[accuracy])\n",
    "print(\"슝=3\")"
   ]
  },
  {
   "cell_type": "markdown",
   "id": "colored-kentucky",
   "metadata": {},
   "source": [
    "## 5. 훈련하기"
   ]
  },
  {
   "cell_type": "code",
   "execution_count": null,
   "id": "textile-majority",
   "metadata": {},
   "outputs": [],
   "source": [
    "EPOCHS = 20\n",
    "model.fit(dataset, epochs=EPOCHS, verbose=1)"
   ]
  },
  {
   "cell_type": "markdown",
   "id": "divided-progressive",
   "metadata": {},
   "source": [
    "# 15-13. 챗봇 테스트하기"
   ]
  },
  {
   "cell_type": "markdown",
   "id": "light-centre",
   "metadata": {},
   "source": [
    "예측(inference) 단계는 기본적으로 다음과 같은 과정을 거칩니다.  \n",
    "1. 새로운 입력 문장에 대해서는 훈련 때와 동일한 전처리를 거친다.  \n",
    "2. 입력 문장을 토크나이징하고, START_TOKEN과 END_TOKEN을 추가한다.  \n",
    "3. 패딩 마스킹과 룩 어헤드 마스킹을 계산한다.  \n",
    "4. 디코더는 입력 시퀀스로부터 다음 단어를 예측한다.  \n",
    "5. 디코더는 예측된 다음 단어를 기존의 입력 시퀀스에 추가하여 새로운 입력으로 사용한다.  \n",
    "6. END_TOKEN이 예측되거나 문장의 최대 길이에 도달하면 디코더는 동작을 멈춘다.  \n",
    "\n",
    "위의 과정을 모두 담은 decoder_inference() 함수를 만듭니다.  "
   ]
  },
  {
   "cell_type": "code",
   "execution_count": null,
   "id": "harmful-trading",
   "metadata": {},
   "outputs": [],
   "source": [
    "def decoder_inference(sentence):\n",
    "  sentence = preprocess_sentence(sentence)\n",
    "\n",
    "  # 입력된 문장을 정수 인코딩 후, 시작 토큰과 종료 토큰을 앞뒤로 추가.\n",
    "  # ex) Where have you been? → [[8331   86   30    5 1059    7 8332]]\n",
    "  sentence = tf.expand_dims(\n",
    "      START_TOKEN + tokenizer.encode(sentence) + END_TOKEN, axis=0)\n",
    "\n",
    "  # 디코더의 현재까지의 예측한 출력 시퀀스가 지속적으로 저장되는 변수.\n",
    "  # 처음에는 예측한 내용이 없음으로 시작 토큰만 별도 저장. ex) 8331\n",
    "  output_sequence = tf.expand_dims(START_TOKEN, 0)\n",
    "\n",
    "  # 디코더의 인퍼런스 단계\n",
    "  for i in range(MAX_LENGTH):\n",
    "    # 디코더는 최대 MAX_LENGTH의 길이만큼 다음 단어 예측을 반복합니다.\n",
    "    predictions = model(inputs=[sentence, output_sequence], training=False)\n",
    "    predictions = predictions[:, -1:, :]\n",
    "\n",
    "    # 현재 예측한 단어의 정수\n",
    "    predicted_id = tf.cast(tf.argmax(predictions, axis=-1), tf.int32)\n",
    "\n",
    "    # 만약 현재 예측한 단어가 종료 토큰이라면 for문을 종료\n",
    "    if tf.equal(predicted_id, END_TOKEN[0]):\n",
    "      break\n",
    "\n",
    "    # 예측한 단어들은 지속적으로 output_sequence에 추가됩니다.\n",
    "    # 이 output_sequence는 다시 디코더의 입력이 됩니다.\n",
    "    output_sequence = tf.concat([output_sequence, predicted_id], axis=-1)\n",
    "\n",
    "  return tf.squeeze(output_sequence, axis=0)\n",
    "print(\"슝=3\")"
   ]
  },
  {
   "cell_type": "markdown",
   "id": "explicit-decade",
   "metadata": {},
   "source": [
    "임의의 입력 문장에 대해서 decoder_inference() 함수를 호출하여 챗봇의 대답을 얻는 sentence_generation() 함수를 만듭니다."
   ]
  },
  {
   "cell_type": "code",
   "execution_count": null,
   "id": "royal-parade",
   "metadata": {},
   "outputs": [],
   "source": [
    "def sentence_generation(sentence):\n",
    "  # 입력 문장에 대해서 디코더를 동작 시켜 예측된 정수 시퀀스를 리턴받습니다.\n",
    "  prediction = decoder_inference(sentence)\n",
    "\n",
    "  # 정수 시퀀스를 다시 텍스트 시퀀스로 변환합니다.\n",
    "  predicted_sentence = tokenizer.decode(\n",
    "      [i for i in prediction if i < tokenizer.vocab_size])\n",
    "\n",
    "  print('입력 : {}'.format(sentence))\n",
    "  print('출력 : {}'.format(predicted_sentence))\n",
    "\n",
    "  return predicted_sentence\n",
    "print(\"슝=3\")"
   ]
  },
  {
   "cell_type": "markdown",
   "id": "incorrect-development",
   "metadata": {},
   "source": [
    "임의의 문장으로부터 챗봇의 대답을 얻어봅시다."
   ]
  },
  {
   "cell_type": "code",
   "execution_count": null,
   "id": "green-monitoring",
   "metadata": {},
   "outputs": [],
   "source": [
    "sentence_generation('Where have you been?')"
   ]
  },
  {
   "cell_type": "code",
   "execution_count": null,
   "id": "headed-desert",
   "metadata": {},
   "outputs": [],
   "source": [
    "sentence_generation(\"It's a trap\")"
   ]
  },
  {
   "cell_type": "markdown",
   "id": "purple-consideration",
   "metadata": {},
   "source": [
    "# 15-14. 프로젝트: 한국어 데이터로 챗봇 만들기"
   ]
  },
  {
   "cell_type": "markdown",
   "id": "secondary-korea",
   "metadata": {},
   "source": [
    "## Step 1. 데이터 수집하기"
   ]
  },
  {
   "cell_type": "markdown",
   "id": "brown-employee",
   "metadata": {},
   "source": [
    "한국어 챗봇 데이터는 송영숙님이 공개한 챗봇 데이터를 사용합니다.\n",
    "\n",
    "이 데이터는 아래의 링크에서 다운로드할 수 있습니다.  \n",
    "https://github.com/songys/Chatbot_data/blob/master/ChatbotData%20.csv  \n",
    "```\n",
    "! wget https://github.com/songys/Chatbot_data/raw/master/ChatbotData%20.csv\n",
    "```"
   ]
  },
  {
   "cell_type": "markdown",
   "id": "spanish-sugar",
   "metadata": {},
   "source": [
    "## Step 2. 데이터 전처리하기\n",
    "영어 데이터와는 전혀 다른 데이터인 만큼 영어 데이터에 사용했던 전처리와 일부 동일한 전처리도 필요하겠지만 전체적으로는 다른 전처리를 수행해야 할 수도 있습니다.\n",
    "\n",
    "## Step 3. SubwordTextEncoder 사용하기\n",
    "한국어 데이터는 형태소 분석기를 사용하여 토크나이징을 해야 한다고 많은 분이 알고 있습니다. 하지만 여기서는 형태소 분석기가 아닌 위 실습에서 사용했던 내부 단어 토크나이저인 SubwordTextEncoder를 그대로 사용해보세요.\n",
    "\n",
    "## Step 4. 모델 구성하기\n",
    "위 실습 내용을 참고하여 트랜스포머 모델을 구현합니다.\n",
    "\n",
    "## Step 5. 모델 평가하기\n",
    "Step 1에서 선택한 전처리 방법을 고려하여 입력된 문장에 대해서 대답을 얻는 예측 함수를 만듭니다."
   ]
  },
  {
   "cell_type": "markdown",
   "id": "broad-gasoline",
   "metadata": {},
   "source": []
  },
  {
   "cell_type": "markdown",
   "id": "lasting-carolina",
   "metadata": {},
   "source": []
  },
  {
   "cell_type": "markdown",
   "id": "descending-publisher",
   "metadata": {},
   "source": []
  },
  {
   "cell_type": "markdown",
   "id": "contained-wales",
   "metadata": {},
   "source": [
    "# 참고"
   ]
  },
  {
   "cell_type": "markdown",
   "id": "requested-honduras",
   "metadata": {},
   "source": [
    "https://wikidocs.net/89786"
   ]
  },
  {
   "cell_type": "markdown",
   "id": "professional-advertiser",
   "metadata": {},
   "source": []
  },
  {
   "cell_type": "markdown",
   "id": "turkish-castle",
   "metadata": {},
   "source": []
  }
 ],
 "metadata": {
  "kernelspec": {
   "display_name": "aiffel",
   "language": "python",
   "name": "aiffel"
  },
  "language_info": {
   "codemirror_mode": {
    "name": "ipython",
    "version": 3
   },
   "file_extension": ".py",
   "mimetype": "text/x-python",
   "name": "python",
   "nbconvert_exporter": "python",
   "pygments_lexer": "ipython3",
   "version": "3.7.9"
  },
  "toc": {
   "base_numbering": 1,
   "nav_menu": {},
   "number_sections": true,
   "sideBar": true,
   "skip_h1_title": false,
   "title_cell": "Table of Contents",
   "title_sidebar": "Contents",
   "toc_cell": false,
   "toc_position": {
    "height": "calc(100% - 180px)",
    "left": "10px",
    "top": "150px",
    "width": "370.594px"
   },
   "toc_section_display": true,
   "toc_window_display": true
  },
  "varInspector": {
   "cols": {
    "lenName": 16,
    "lenType": 16,
    "lenVar": 40
   },
   "kernels_config": {
    "python": {
     "delete_cmd_postfix": "",
     "delete_cmd_prefix": "del ",
     "library": "var_list.py",
     "varRefreshCmd": "print(var_dic_list())"
    },
    "r": {
     "delete_cmd_postfix": ") ",
     "delete_cmd_prefix": "rm(",
     "library": "var_list.r",
     "varRefreshCmd": "cat(var_dic_list()) "
    }
   },
   "types_to_exclude": [
    "module",
    "function",
    "builtin_function_or_method",
    "instance",
    "_Feature"
   ],
   "window_display": false
  }
 },
 "nbformat": 4,
 "nbformat_minor": 5
}
