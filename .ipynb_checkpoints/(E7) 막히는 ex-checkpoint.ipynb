{
 "cells": [
  {
   "cell_type": "markdown",
   "id": "upper-wonder",
   "metadata": {},
   "source": [
    "# ?\n",
    "자른 이미지는 PIL의 Image.fromarray를 통해서 PIL Image로 변환한 뒤에 저장을 해두면 다양한 재미있는 시각화를 시도해 보는 데 도움이 될 것입니다.   \n",
    "참조 : https://soyoung-new-challenge.tistory.com/112"
   ]
  },
  {
   "cell_type": "code",
   "execution_count": null,
   "id": "changing-posting",
   "metadata": {},
   "outputs": [],
   "source": [
    "import numpy as np\n",
    "from PIL import Image\n",
    "\n",
    "image_path = os.getenv('HOME')+'/aiffel/face_embedding/selected/소진.jpg'\n",
    "\n",
    "image = Image.open(image_path)\n",
    "np_array = np.array(image)\n",
    "\n",
    "pil_image=Image.fromarray(np_array)\n",
    "# pil_image.show()  # 창으로 이미지가 열린다."
   ]
  },
  {
   "cell_type": "code",
   "execution_count": null,
   "id": "overall-fireplace",
   "metadata": {},
   "outputs": [],
   "source": [
    "from PIL import Image\n",
    "\n",
    "#파일 읽기\n",
    "image_path = os.getenv('HOME')+'/aiffel/face_embedding/selected/소진.jpg'\n",
    "\n",
    "Image.open(image_path)"
   ]
  },
  {
   "cell_type": "code",
   "execution_count": null,
   "id": "residential-restriction",
   "metadata": {},
   "outputs": [],
   "source": [
    "# 사이즈 확인\n",
    "img = Image.open(image_path)\n",
    "img.size"
   ]
  },
  {
   "cell_type": "code",
   "execution_count": null,
   "id": "induced-hardwood",
   "metadata": {},
   "outputs": [],
   "source": [
    "# Error 뜸\n",
    "# Image crop\n",
    "image = Image.open(image_path)\n",
    "\n",
    "#(118, 414, 341, 191)\n",
    "x1 = 118\n",
    "y1 = 414\n",
    "x3 = 341\n",
    "y3 = 191\n",
    "\n",
    "crop_img = image.crop([x1,y1,x3,y3])\n",
    "# x1, y1 : 죄측 상단 좌표\n",
    "# x3, y3 : 우측 하단 좌표\n",
    "\n",
    "crop_img"
   ]
  },
  {
   "cell_type": "code",
   "execution_count": null,
   "id": "digital-relay",
   "metadata": {},
   "outputs": [],
   "source": [
    "# hint라고 준건데 써먹지를 못하네\n",
    "path_to_save = os.getenv('HOME')+'/aiffel/face_embedding/selected'\n",
    "pillow_image = Image.fromarray(cropped_face) # Pillow = PIL\n",
    "pillow_image.save(path_to_save)"
   ]
  },
  {
   "cell_type": "code",
   "execution_count": null,
   "id": "russian-junction",
   "metadata": {},
   "outputs": [],
   "source": [
    "import face_recognition\n",
    "import os\n",
    "\n",
    "image_path = os.getenv('HOME')+'/aiffel/face_embedding/images/obama.jpg'\n",
    "image = face_recognition.load_image_file(image_path)\n",
    "face_locations = face_recognition.face_locations(image)\n",
    "\n",
    "print(face_locations)  # 이미지에서 얼굴 영역의 좌표를 출력합니다.\n",
    "\n",
    "%matplotlib inline\n",
    "import matplotlib.pyplot as plt\n",
    "\n",
    "a, b, c, d = face_locations[0]\n",
    "cropped_face = image[a:c,d:b,:]\n",
    "\n",
    "plt.imshow(cropped_face)   # 이미지에서 얼굴영역만 잘라낸 cropped_face를 그려 봅니다."
   ]
  },
  {
   "cell_type": "code",
   "execution_count": null,
   "id": "closing-civilian",
   "metadata": {},
   "outputs": [],
   "source": []
  },
  {
   "cell_type": "code",
   "execution_count": null,
   "id": "prescription-local",
   "metadata": {},
   "outputs": [],
   "source": []
  },
  {
   "cell_type": "code",
   "execution_count": null,
   "id": "quiet-monaco",
   "metadata": {},
   "outputs": [],
   "source": []
  },
  {
   "cell_type": "code",
   "execution_count": null,
   "id": "assisted-despite",
   "metadata": {},
   "outputs": [],
   "source": []
  },
  {
   "cell_type": "code",
   "execution_count": 2,
   "id": "empty-spectacular",
   "metadata": {},
   "outputs": [],
   "source": [
    "import face_recognition\n",
    "import os\n",
    "\n",
    "def get_gropped_face(image_file):\n",
    "    image = face_recognition.load_image_file(image_file)\n",
    "    face_locations = face_recognition.face_locations(image)\n",
    "    a, b, c, d = face_locations[0]\n",
    "    cropped_face = image[a:c,d:b,:]\n",
    "\n",
    "    return cropped_face"
   ]
  },
  {
   "cell_type": "code",
   "execution_count": 3,
   "id": "environmental-education",
   "metadata": {},
   "outputs": [
    {
     "name": "stdout",
     "output_type": "stream",
     "text": [
      "file_list: ['biden.jpg', 'reagan.jpg', 'trump.jpg', 'clinton.jpeg', 'bush.jpeg', 'obama.jpg']\n"
     ]
    }
   ],
   "source": [
    "import os\n",
    "\n",
    "dir_path = os.getenv('HOME')+'/aiffel/face_embedding/images'\n",
    "file_list = os.listdir(dir_path)\n",
    "\n",
    "print (\"file_list: {}\".format(file_list))"
   ]
  },
  {
   "cell_type": "code",
   "execution_count": 4,
   "id": "aggressive-stage",
   "metadata": {},
   "outputs": [
    {
     "name": "stdout",
     "output_type": "stream",
     "text": [
      "128\n"
     ]
    },
    {
     "data": {
      "text/plain": [
       "[array([-0.08126248,  0.11014761, -0.01082448, -0.05268792,  0.01033717,\n",
       "        -0.00813808, -0.07251769, -0.0922646 ,  0.19304723, -0.09246384,\n",
       "         0.23908533,  0.06770287, -0.22123125, -0.14119367,  0.05562152,\n",
       "         0.13705511, -0.17924425, -0.07232306, -0.11183281, -0.11370818,\n",
       "         0.03956435, -0.01019115,  0.0942178 ,  0.04493114, -0.12757549,\n",
       "        -0.34449592, -0.05374938, -0.17703305,  0.00868226, -0.09721592,\n",
       "        -0.09817187,  0.00278232, -0.17721367, -0.12789807,  0.03489833,\n",
       "        -0.01991234, -0.00838933, -0.00132862,  0.18308581,  0.02447568,\n",
       "        -0.1237656 ,  0.09957044,  0.02323568,  0.22983313,  0.2838524 ,\n",
       "         0.06655717, -0.00558912, -0.09833544,  0.10058986, -0.23476946,\n",
       "         0.06006292,  0.1341591 ,  0.08373027,  0.03900504,  0.10194533,\n",
       "        -0.19337648,  0.01717628,  0.08978969, -0.16005114,  0.01892098,\n",
       "         0.03082444, -0.06051281, -0.04526773,  0.04633342,  0.20678686,\n",
       "         0.10299795, -0.12437531, -0.0490516 ,  0.12252682, -0.0280379 ,\n",
       "         0.04286709,  0.01386448, -0.18673278, -0.22230086, -0.23382807,\n",
       "         0.07662997,  0.3739067 ,  0.18993473, -0.20606737,  0.0244521 ,\n",
       "        -0.18487695,  0.04949443,  0.09670059, -0.00123947, -0.0688749 ,\n",
       "        -0.13414779, -0.04103697,  0.06179445,  0.07108597,  0.02471443,\n",
       "        -0.04194992,  0.22575834, -0.02099216,  0.04838851,  0.02123774,\n",
       "         0.05604827, -0.14657559, -0.02243515, -0.17425998, -0.06527615,\n",
       "         0.02526723, -0.04892462,  0.05058879,  0.13397783, -0.23065181,\n",
       "         0.06054964,  0.02031171, -0.0191126 ,  0.03631671,  0.06983903,\n",
       "        -0.03496742, -0.03203756,  0.05493437, -0.24500111,  0.24993542,\n",
       "         0.24442896,  0.04081136,  0.16412377,  0.06019448,  0.0062465 ,\n",
       "        -0.00932551, -0.02752422, -0.17775527, -0.03611944,  0.04782868,\n",
       "         0.06031797,  0.06846569,  0.00587987])]"
      ]
     },
     "execution_count": 4,
     "metadata": {},
     "output_type": "execute_result"
    }
   ],
   "source": [
    "image_file = os.path.join(dir_path, 'obama.jpg')\n",
    "face = get_gropped_face(image_file)   # 얼굴 영역을 구하는 함수(이전 스텝에서 구현)\n",
    "\n",
    "# 얼굴 영역을 가지고 얼굴 임베딩 벡터를 구하는 함수\n",
    "def get_face_embedding(face):\n",
    "    return face_recognition.face_encodings(face)\n",
    "\n",
    "embedding = get_face_embedding(face)  \n",
    "print(len(embedding[0]))\n",
    "embedding"
   ]
  },
  {
   "cell_type": "code",
   "execution_count": 7,
   "id": "backed-score",
   "metadata": {},
   "outputs": [],
   "source": [
    "def get_face_embedding_dict(dir_path):\n",
    "    file_list = os.listdir(dir_path)\n",
    "    embedding_dict = {}\n",
    "\n",
    "    for file in file_list:\n",
    "        img_path = os.path.join(dir_path, file)# 요런거가 떠오르지가 않는다.\n",
    "        face = get_gropped_face(img_path)\n",
    "        embedding = get_face_embedding(face)\n",
    "        if len(embedding) > 0:  # 얼굴영역 face가 제대로 detect되지 않으면  len(embedding)==0인 경우가 발생하므로 \n",
    "                    # os.path.splitext(file)[0]에는 이미지파일명에서 확장자를 제거한 이름이 담깁니다. \n",
    "            embedding_dict[os.path.splitext(file)[0]] = embedding[0]\n",
    "\n",
    "    return embedding_dict"
   ]
  },
  {
   "cell_type": "code",
   "execution_count": 9,
   "id": "typical-tours",
   "metadata": {},
   "outputs": [
    {
     "data": {
      "text/plain": [
       "array([-0.15962467,  0.20268655,  0.0323635 ,  0.02439232, -0.06226439,\n",
       "        0.05140705,  0.07351795, -0.16823348,  0.06962204, -0.05557961,\n",
       "        0.17270109, -0.05094168, -0.35293093, -0.0316438 ,  0.03792984,\n",
       "        0.17343847, -0.13260126, -0.15357377, -0.23523533, -0.08442692,\n",
       "       -0.00134139,  0.03210667, -0.08926154, -0.02670781, -0.09581181,\n",
       "       -0.25792354, -0.01056999, -0.11071672,  0.03133569, -0.07444921,\n",
       "        0.05670552, -0.02273796, -0.19461137, -0.04576054,  0.00947582,\n",
       "        0.01806056, -0.1502624 , -0.07787319,  0.17577608,  0.01933258,\n",
       "       -0.19744575, -0.03930519,  0.07374467,  0.20196027,  0.1476755 ,\n",
       "       -0.0141539 ,  0.0172476 , -0.11976205,  0.09462971, -0.24318144,\n",
       "       -0.02755127,  0.12169892,  0.14837705,  0.17079785,  0.06952555,\n",
       "       -0.15360466,  0.02005427,  0.08199155, -0.19544823,  0.10653654,\n",
       "        0.11468476, -0.21902837, -0.07677591, -0.06791042,  0.10587606,\n",
       "        0.05921567, -0.06115703, -0.11171092,  0.23917492, -0.15791436,\n",
       "       -0.13834007,  0.01942121,  0.01826206, -0.1869376 , -0.32023543,\n",
       "        0.01407088,  0.34068239,  0.20081407, -0.19736893, -0.06809217,\n",
       "       -0.0536031 , -0.03747801,  0.07641605,  0.09667511, -0.04759219,\n",
       "       -0.09811257, -0.05056169, -0.01899303,  0.24124743, -0.04360487,\n",
       "        0.00636286,  0.21936756,  0.01126812, -0.04524586, -0.00227514,\n",
       "        0.02113587, -0.11754515, -0.05986457, -0.08348871, -0.07204333,\n",
       "       -0.00065423, -0.14080839,  0.03825339,  0.08760153, -0.11946712,\n",
       "        0.18282008,  0.03533202,  0.01670191, -0.00815773, -0.00964593,\n",
       "       -0.06726068,  0.01727787,  0.16389623, -0.16469438,  0.25836599,\n",
       "        0.20883362, -0.0511426 ,  0.0673226 ,  0.11310361,  0.08522274,\n",
       "       -0.01515304, -0.03709226, -0.22167102, -0.18071674,  0.06958843,\n",
       "        0.02523582, -0.01741696,  0.03869874])"
      ]
     },
     "execution_count": 9,
     "metadata": {},
     "output_type": "execute_result"
    }
   ],
   "source": [
    "# 확인하기\n",
    "embedding_dict = get_face_embedding_dict(dir_path)\n",
    "embedding_dict['trump']"
   ]
  },
  {
   "cell_type": "code",
   "execution_count": null,
   "id": "italic-burden",
   "metadata": {},
   "outputs": [],
   "source": []
  },
  {
   "cell_type": "code",
   "execution_count": null,
   "id": "square-america",
   "metadata": {},
   "outputs": [],
   "source": []
  },
  {
   "cell_type": "code",
   "execution_count": null,
   "id": "million-coral",
   "metadata": {},
   "outputs": [],
   "source": []
  },
  {
   "cell_type": "code",
   "execution_count": null,
   "id": "certain-natural",
   "metadata": {},
   "outputs": [],
   "source": []
  },
  {
   "cell_type": "code",
   "execution_count": null,
   "id": "complimentary-industry",
   "metadata": {},
   "outputs": [],
   "source": []
  },
  {
   "cell_type": "code",
   "execution_count": 11,
   "id": "false-beijing",
   "metadata": {},
   "outputs": [
    {
     "name": "stdout",
     "output_type": "stream",
     "text": [
      "[t-SNE] Computing 5 nearest neighbors...\n",
      "[t-SNE] Indexed 6 samples in 0.000s...\n",
      "[t-SNE] Computed neighbors for 6 samples in 0.001s...\n",
      "[t-SNE] Computed conditional probabilities for sample 6 / 6\n",
      "[t-SNE] Mean sigma: 1125899906842624.000000\n",
      "[t-SNE] KL divergence after 250 iterations with early exaggeration: 48.279972\n",
      "[t-SNE] KL divergence after 300 iterations: 0.145902\n",
      "t-SNE done! Time elapsed: 0.20402121543884277 seconds\n"
     ]
    },
    {
     "data": {
      "text/plain": [
       "(<Figure size 576x576 with 1 Axes>,\n",
       " <AxesSubplot:>,\n",
       " <matplotlib.collections.PathCollection at 0x7fa5e4568150>,\n",
       " [Text(232.16277, -51.93032, '0'),\n",
       "  Text(-51.207165, -176.53477, '1'),\n",
       "  Text(40.120125, -6.0613, '2'),\n",
       "  Text(149.47623, 174.8434, '3'),\n",
       "  Text(-204.23166, -7.788381, '4'),\n",
       "  Text(-82.55245, 157.12154, '5')])"
      ]
     },
     "execution_count": 11,
     "metadata": {},
     "output_type": "execute_result"
    },
    {
     "data": {
      "image/png": "[encoded data removed]",
      "text/plain": [
       "<Figure size 576x576 with 1 Axes>"
      ]
     },
     "metadata": {
      "needs_background": "light"
     },
     "output_type": "display_data"
    }
   ],
   "source": [
    "from __future__ import print_function\n",
    "import time\n",
    "import numpy as np\n",
    "import pandas as pd\n",
    "from sklearn.decomposition import PCA\n",
    "from sklearn.manifold import TSNE\n",
    "%matplotlib inline\n",
    "import matplotlib.pyplot as plt\n",
    "from mpl_toolkits.mplot3d import Axes3D\n",
    "import seaborn as sns\n",
    "def fashion_scatter(x, colors):\n",
    "    # choose a color palette with seaborn.\n",
    "    num_classes = len(np.unique(colors))\n",
    "    palette = np.array(sns.color_palette(\"hls\", num_classes))\n",
    "    # create a scatter plot.\n",
    "    f = plt.figure(figsize=(8, 8))\n",
    "    ax = plt.subplot(aspect='equal')\n",
    "    sc = ax.scatter(x[:,0], x[:,1], lw=0, s=40, c=palette[colors.astype(np.int)])\n",
    "    plt.xlim(-25, 25)\n",
    "    plt.ylim(-25, 25)\n",
    "    ax.axis('off')\n",
    "    ax.axis('tight')\n",
    "    # add the labels for each digit corresponding to the label\n",
    "    txts = []\n",
    "    for i in range(num_classes):\n",
    "        # Position of each label at median of data points.\n",
    "        xtext, ytext = np.median(x[colors == i, :], axis=0)\n",
    "        txt = ax.text(xtext, ytext, str(i), fontsize=24)\n",
    "        txt.set_path_effects([\n",
    "            PathEffects.Stroke(linewidth=5, foreground=\"w\"),\n",
    "            PathEffects.Normal()])\n",
    "        txts.append(txt)\n",
    "    return f, ax, sc, txts\n",
    "y = np.array([0,1,2,3,4,5])\n",
    "#0트럼프 1바이든 2클린턴 3오바마 4레이건 5부시\n",
    "a = np.array(embedding_dict['trump'])\n",
    "b = np.array(embedding_dict['biden'])\n",
    "c = np.array(embedding_dict['clinton'])\n",
    "d = np.array(embedding_dict['obama'])\n",
    "e = np.array(embedding_dict['reagan'])\n",
    "f = np.array(embedding_dict['bush'])\n",
    "#print(a)\n",
    "bbb = np.concatenate((a,b,c,d,e,f))\n",
    "#print(bbb)\n",
    "bbb = bbb.reshape(-1,128)\n",
    "time_start = time.time()\n",
    "tsne = TSNE(n_components=2, verbose=1, perplexity=40, n_iter=300)\n",
    "tsne_results = tsne.fit_transform(bbb)\n",
    "print('t-SNE done! Time elapsed: {} seconds'.format(time.time()-time_start))\n",
    "#print(tsne_results)\n",
    "#print(tsne_results[:,0])\n",
    "#print(tsne_results[:,1])\n",
    "import time\n",
    "import pandas as pd\n",
    "import numpy as np\n",
    "import matplotlib.pyplot as plt\n",
    "import matplotlib.patheffects as PathEffects\n",
    "%matplotlib inline\n",
    "fashion_scatter(tsne_results, y)"
   ]
  },
  {
   "cell_type": "code",
   "execution_count": null,
   "id": "critical-ordering",
   "metadata": {},
   "outputs": [],
   "source": []
  },
  {
   "cell_type": "code",
   "execution_count": null,
   "id": "black-spoke",
   "metadata": {},
   "outputs": [],
   "source": []
  },
  {
   "cell_type": "code",
   "execution_count": null,
   "id": "described-petersburg",
   "metadata": {},
   "outputs": [],
   "source": []
  },
  {
   "cell_type": "code",
   "execution_count": null,
   "id": "skilled-lightweight",
   "metadata": {},
   "outputs": [],
   "source": []
  },
  {
   "cell_type": "code",
   "execution_count": null,
   "id": "equipped-blackberry",
   "metadata": {},
   "outputs": [],
   "source": []
  },
  {
   "cell_type": "code",
   "execution_count": null,
   "id": "cardiac-calcium",
   "metadata": {},
   "outputs": [],
   "source": []
  },
  {
   "cell_type": "code",
   "execution_count": null,
   "id": "breeding-concentration",
   "metadata": {},
   "outputs": [],
   "source": []
  },
  {
   "cell_type": "code",
   "execution_count": null,
   "id": "light-lunch",
   "metadata": {},
   "outputs": [],
   "source": []
  },
  {
   "cell_type": "code",
   "execution_count": null,
   "id": "iraqi-result",
   "metadata": {},
   "outputs": [],
   "source": []
  },
  {
   "cell_type": "code",
   "execution_count": null,
   "id": "published-writing",
   "metadata": {},
   "outputs": [],
   "source": []
  },
  {
   "cell_type": "code",
   "execution_count": null,
   "id": "eleven-certification",
   "metadata": {},
   "outputs": [],
   "source": []
  },
  {
   "cell_type": "code",
   "execution_count": null,
   "id": "canadian-painting",
   "metadata": {},
   "outputs": [],
   "source": []
  },
  {
   "cell_type": "code",
   "execution_count": null,
   "id": "excess-singles",
   "metadata": {},
   "outputs": [],
   "source": []
  }
 ],
 "metadata": {
  "kernelspec": {
   "display_name": "aiffel",
   "language": "python",
   "name": "aiffel"
  },
  "language_info": {
   "codemirror_mode": {
    "name": "ipython",
    "version": 3
   },
   "file_extension": ".py",
   "mimetype": "text/x-python",
   "name": "python",
   "nbconvert_exporter": "python",
   "pygments_lexer": "ipython3",
   "version": "3.7.9"
  }
 },
 "nbformat": 4,
 "nbformat_minor": 5
}
