{
 "cells": [
  {
   "cell_type": "markdown",
   "id": "resident-webster",
   "metadata": {},
   "source": [
    "# 14-1. 들어가며"
   ]
  },
  {
   "cell_type": "markdown",
   "id": "arranged-indian",
   "metadata": {},
   "source": [
    "최근의 발달된 딥러닝 기술은 숙련자 수준 이상의 정확도를 바탕으로 영상분석 인력의 개인적 편차 ,주관적 판단, 피로에 의한 오진 등의 부정확성을 극복할 수 있는 좋은 대안으로 인정받고 있다  \n",
    "  \n",
    "의료영상을 분석하는 것은 일반적인 이미지 처리와는 다소 다른 독특한 특징이 있다  \n",
    "* 의료영상 이미지는 개인정보 보호 등의 이슈로 인해 데이터를 구하는 것이 쉽지 않습니다.\n",
    "* 라벨링 작업 자체가 전문적 지식을 요하므로 데이터셋 구축 비용이 비쌉니다.\n",
    "* 희귀질병을 다루는 경우 데이터를 입수하는 것 자체가 드문 일입니다.\n",
    "* 음성/양성 데이터간 imbalance가 심합니다. 학습에 주의가 필요합니다.\n",
    "* 이미지만으로 진단이 쉽지 않아 다른 데이터와 결합해서 해석해야 할수도 있습니다.  \n",
    "  \n",
    "**목차**  \n",
    "1. 의료영상에 대해\n",
    "2. X-RAY 이미지\n",
    "3. 폐렴을 진단해보자!\n",
    "4. 직접 해보는 폐렴진단"
   ]
  },
  {
   "cell_type": "markdown",
   "id": "prescription-adelaide",
   "metadata": {},
   "source": [
    "# 14-2. 의료영상에 대해"
   ]
  },
  {
   "cell_type": "markdown",
   "id": "fleet-medicine",
   "metadata": {},
   "source": [
    "## 1.1 사람 속을 보는 방법"
   ]
  },
  {
   "cell_type": "markdown",
   "id": "legal-tucson",
   "metadata": {},
   "source": [
    " X-RAY, CT"
   ]
  },
  {
   "cell_type": "markdown",
   "id": "altered-execution",
   "metadata": {},
   "source": [
    "## 1.2 의료 영상 종류"
   ]
  },
  {
   "cell_type": "markdown",
   "id": "alike-sheffield",
   "metadata": {},
   "source": [
    "### X-RAY"
   ]
  },
  {
   "cell_type": "markdown",
   "id": "quiet-ratio",
   "metadata": {},
   "source": [
    "전자를 물체에 충돌시킬 때 발생하는 투과력이 강한 복사선(전자기파)  \n",
    "방사선의 일종으로 지방, 근육, 천, 종이 같이 밀도가 낮은 것은 수월하게 통과하지만, 밀도가 높은 뼈, 금속 같은 물질은 잘 통과하지 못합니다.  "
   ]
  },
  {
   "cell_type": "markdown",
   "id": "yellow-transparency",
   "metadata": {},
   "source": [
    "### CT"
   ]
  },
  {
   "cell_type": "markdown",
   "id": "prostate-conspiracy",
   "metadata": {},
   "source": [
    "Computed Tomography의 줄임말  \n",
    "X-RAY를 빠르게 회전하여 3D 이미지를 만들어내는 영상  \n",
    "3 차원 이미지를 형성  \n",
    "신체의 단면 이미지를 \"Slice\"라고 합니다.  \n"
   ]
  },
  {
   "cell_type": "markdown",
   "id": "resistant-haiti",
   "metadata": {},
   "source": [
    "### MRI"
   ]
  },
  {
   "cell_type": "markdown",
   "id": "virgin-huntington",
   "metadata": {},
   "source": [
    "Magnetic Resonance Imaging(자기 공명 영상)의 줄임말  \n",
    "강한 자기장를 사용하여 신체 기관의 이미지를 생성  \n",
    "CT, X-RAY와 다르게 방사선을 사용하지 않아서 방사선의 위험성에서는 보다 안전  "
   ]
  },
  {
   "cell_type": "markdown",
   "id": "anonymous-nerve",
   "metadata": {},
   "source": [
    "# 14-3. X-RAY 이미지"
   ]
  },
  {
   "cell_type": "markdown",
   "id": "facial-canada",
   "metadata": {},
   "source": [
    "## 의료영상 자세 분류"
   ]
  },
  {
   "cell_type": "markdown",
   "id": "developed-soviet",
   "metadata": {},
   "source": [
    "![](https://aiffelstaticprd.blob.core.windows.net/media/images/06.max-800x600.png)"
   ]
  },
  {
   "cell_type": "markdown",
   "id": "sticky-brief",
   "metadata": {},
   "source": [
    ">Sagittal plane : 시상면. 사람을 왼쪽과 오른쪽을 나누는 면.  \n",
    "Coronal plane : 관상면. 인체를 앞 뒤로 나누는 면.  \n",
    "Transverse plane : 횡단면(수평면). 인체를 상하로 나누는 면.  \n",
    "\n"
   ]
  },
  {
   "cell_type": "markdown",
   "id": "seeing-botswana",
   "metadata": {},
   "source": [
    "처음에 많이 헷갈리시는게 오른쪽과 왼쪽에 대해서 입니다.   \n",
    "의학쪽에선 실제 사람의 왼쪽과 오른쪽을 가르킨다  \n"
   ]
  },
  {
   "cell_type": "markdown",
   "id": "historic-tuition",
   "metadata": {},
   "source": [
    "## X-RAY 특성"
   ]
  },
  {
   "cell_type": "markdown",
   "id": "violent-dinner",
   "metadata": {},
   "source": [
    "![](https://aiffelstaticprd.blob.core.windows.net/media/original_images/10.png)\n",
    ">갈비뼈 : 하얀색  \n",
    "폐 : 검은색  \n",
    "어깨 쪽의 지방 및 근육 : 연한 회색  \n",
    "폐는 공기가 많이 차 있기 때문에 저렇게 검은색으로 나오게 됩니다.  "
   ]
  },
  {
   "cell_type": "markdown",
   "id": "portable-background",
   "metadata": {},
   "source": [
    "# 14-4. 폐렴을 진단해보자(1)"
   ]
  },
  {
   "cell_type": "markdown",
   "id": "documented-idaho",
   "metadata": {},
   "source": [
    "폐렴(Pneumonia)을 찾아내는 딥러닝 모델을 만들어 보자  \n",
    "이번 노드에서 사용할 데이터는 캐글의 Chest X-Ray Images   \n",
    "캐글에서 다운로드한 데이터는 chest_xray 하위에 chest_xray 폴더가 중복으로 포함되어 있어서 전체 데이터의 크기가 2.5GB인 경우가 있습니다. 중복된 데이터는 필요하지 않습니다.   \n",
    "해당 이미지는 중국 광저우에 있는 광저우 여성 및 어린이 병원의 1~5 세 소아 환자의 흉부 X 선 영상  "
   ]
  },
  {
   "cell_type": "code",
   "execution_count": 1,
   "id": "assured-portsmouth",
   "metadata": {},
   "outputs": [],
   "source": [
    "! mkdir -p ~/aiffel/chest_xray"
   ]
  },
  {
   "cell_type": "markdown",
   "id": "sophisticated-memorial",
   "metadata": {},
   "source": [
    "```\n",
    "$ cd ~/Downloads && unzip archive.zip -d ~/aiffel\n",
    "```"
   ]
  },
  {
   "cell_type": "markdown",
   "id": "stylish-franklin",
   "metadata": {},
   "source": [
    "기반 : https://www.kaggle.com/amyjang/tensorflow-pneumonia-classification-on-x-rays"
   ]
  },
  {
   "cell_type": "markdown",
   "id": "handled-concord",
   "metadata": {},
   "source": [
    "폐렴은 쉽게 말해 폐에 염증이 생기는 것  \n",
    "염증은 쉽게 말해 우리 몸을 지키기 위해 백혈구들이 싸우고 있는 장소  \n"
   ]
  },
  {
   "cell_type": "markdown",
   "id": "ethical-suite",
   "metadata": {},
   "source": [
    "## 폐렴 구별법"
   ]
  },
  {
   "cell_type": "markdown",
   "id": "universal-marketing",
   "metadata": {},
   "source": [
    "![](https://aiffelstaticprd.blob.core.windows.net/media/original_images/11_l7pucvb.png)"
   ]
  },
  {
   "cell_type": "markdown",
   "id": "retired-reasoning",
   "metadata": {},
   "source": [
    "X-RAY 사진상, 다양한 양상의 음영(폐 부위에 희미한 그림자) 증가가 관찰  \n",
    "구별 방법은 간단하지만 실제로 영상을 보면 희미한 경우가 많이 있어 저게 실제로 폐렴으로 인한 것인지 아니면 다른 이유 때문인지 파악하기 어렵다  \n"
   ]
  },
  {
   "cell_type": "markdown",
   "id": "executed-circle",
   "metadata": {},
   "source": []
  },
  {
   "cell_type": "markdown",
   "id": "brown-shakespeare",
   "metadata": {},
   "source": []
  },
  {
   "cell_type": "markdown",
   "id": "characteristic-hebrew",
   "metadata": {},
   "source": []
  },
  {
   "cell_type": "markdown",
   "id": "statutory-confidentiality",
   "metadata": {},
   "source": []
  },
  {
   "cell_type": "markdown",
   "id": "embedded-tobago",
   "metadata": {},
   "source": []
  },
  {
   "cell_type": "markdown",
   "id": "deluxe-recognition",
   "metadata": {},
   "source": []
  },
  {
   "cell_type": "code",
   "execution_count": 4,
   "id": "automatic-european",
   "metadata": {},
   "outputs": [],
   "source": [
    "import re    # 정규표현식 관련된 작업에 필요한 패키지\n",
    "import os    # I/O 관련된 작업에 필요한 패키지 \n",
    "import pandas as pd     # 데이터 전처리 관련된 작업에 필요한 패키지\n",
    "import numpy as np      # 데이터 array 작업에 필요한 패키지\n",
    "import tensorflow as tf  # 딥러닝 관련된 작업에 필요한 패키지\n",
    "import matplotlib.pyplot as plt    # 데이터 시각화에 관련된 작업에 필요한 패키지\n",
    "from sklearn.model_selection import train_test_split  # 데이터 전처리에 필요한 패키지"
   ]
  },
  {
   "cell_type": "code",
   "execution_count": 5,
   "id": "internal-roulette",
   "metadata": {},
   "outputs": [
    {
     "name": "stdout",
     "output_type": "stream",
     "text": [
      "/home/aiffel-dj35/aiffel\n"
     ]
    }
   ],
   "source": [
    "# 데이터 로드할 때 빠르게 로드할 수 있도록하는 설정 변수\n",
    "AUTOTUNE = tf.data.experimental.AUTOTUNE\n",
    "\n",
    "# 데이터 ROOT 경로 변수\n",
    "ROOT_PATH = os.path.join(os.getenv('HOME'), 'aiffel')\n",
    "\n",
    "# BATCH_SIZE 변수\n",
    "BATCH_SIZE = 16\n",
    "\n",
    "# X-RAY 이미지 사이즈 변수\n",
    "IMAGE_SIZE = [180, 180]\n",
    "\n",
    "# EPOCH 크기 변수\n",
    "EPOCHS = 25\n",
    "\n",
    "print(ROOT_PATH)"
   ]
  },
  {
   "cell_type": "markdown",
   "id": "upper-funeral",
   "metadata": {},
   "source": [
    "## 2. 데이터 가져오기"
   ]
  },
  {
   "cell_type": "code",
   "execution_count": 6,
   "id": "killing-serum",
   "metadata": {},
   "outputs": [
    {
     "name": "stdout",
     "output_type": "stream",
     "text": [
      "5216\n",
      "624\n",
      "16\n"
     ]
    }
   ],
   "source": [
    "train_filenames = tf.io.gfile.glob(str(ROOT_PATH + '/chest_xray/train/*/*')) # 와이드카드\n",
    "test_filenames = tf.io.gfile.glob(str(ROOT_PATH + '/chest_xray/test/*/*'))\n",
    "val_filenames = tf.io.gfile.glob(str(ROOT_PATH + '/chest_xray/val/*/*'))\n",
    "\n",
    "print(len(train_filenames))\n",
    "print(len(test_filenames))\n",
    "print(len(val_filenames))"
   ]
  },
  {
   "cell_type": "markdown",
   "id": "little-sculpture",
   "metadata": {},
   "source": [
    "train 안에는 5216개, test 안에는 624개, val 안에는 16개가 있습니다.  \n",
    "\n",
    "갯수 비는 89%, 10.7%, 0.3% 입니다. val 갯수가 너무 없기 때문에 train에서 val에 쓰일 데이터를 더 가져와보겠습니다.  \n",
    "\n",
    "train과 val에 있는 데이터를 모은 다음에 train : val를 80:20으로 분할하겠습니다.  "
   ]
  },
  {
   "cell_type": "code",
   "execution_count": 7,
   "id": "duplicate-workshop",
   "metadata": {},
   "outputs": [
    {
     "name": "stdout",
     "output_type": "stream",
     "text": [
      "4185\n",
      "1047\n"
     ]
    }
   ],
   "source": [
    "filenames = tf.io.gfile.glob(str(ROOT_PATH + '/chest_xray/train/*/*'))\n",
    "filenames.extend(tf.io.gfile.glob(str(ROOT_PATH + '/chest_xray/val/*/*')))\n",
    "\n",
    "# train, test(val) dataset으로 분할. test_size에 0.2는 20%롤 의미함.\n",
    "train_filenames, val_filenames = train_test_split(filenames, test_size=0.2)\n",
    "\n",
    "print(len(train_filenames))\n",
    "print(len(val_filenames))"
   ]
  },
  {
   "cell_type": "markdown",
   "id": "sealed-inside",
   "metadata": {},
   "source": [
    "train 데이터 안에 정상 이미지 수와 폐렴 이미지 수를 한번 보겠습니다."
   ]
  },
  {
   "cell_type": "code",
   "execution_count": 8,
   "id": "wooden-communication",
   "metadata": {},
   "outputs": [
    {
     "name": "stdout",
     "output_type": "stream",
     "text": [
      "Normal images count in training set: 1072\n",
      "Pneumonia images count in training set: 3113\n"
     ]
    }
   ],
   "source": [
    "COUNT_NORMAL = len([filename for filename in train_filenames if \"NORMAL\" in filename])\n",
    "print(\"Normal images count in training set: \" + str(COUNT_NORMAL))\n",
    "\n",
    "COUNT_PNEUMONIA = len([filename for filename in train_filenames if \"PNEUMONIA\" in filename])\n",
    "print(\"Pneumonia images count in training set: \" + str(COUNT_PNEUMONIA))"
   ]
  },
  {
   "cell_type": "markdown",
   "id": "spare-company",
   "metadata": {},
   "source": [
    "폐렴 이미지가 정상 이미지보다 3배가 많은데   \n",
    "CNN 모델의 경우 데이터가 클래스별 balance가 좋을 수록 training을 잘 한다  \n",
    "그래서 데이터가 클래스 불균형(imbalance)한 것은 차후에 조정할 예정  \n",
    "test와 val 데이터셋은 평가하기 위해서 사용되기 때문에 학습과 관련이 없으므로 imbalance한 데이터 셋이어도 문제 없습니다.  \n",
    "  \n",
    "tf.data 인스턴스를 만들어 봅시다. tf.data는 tensorflow에서 학습시킬 때, 배치처리 작업을 보다 효율적으로 할 수 있도록 해줍니다."
   ]
  },
  {
   "cell_type": "code",
   "execution_count": 9,
   "id": "durable-center",
   "metadata": {},
   "outputs": [],
   "source": [
    "train_list_ds = tf.data.Dataset.from_tensor_slices(train_filenames)\n",
    "val_list_ds = tf.data.Dataset.from_tensor_slices(val_filenames)"
   ]
  },
  {
   "cell_type": "code",
   "execution_count": 10,
   "id": "interracial-mission",
   "metadata": {},
   "outputs": [
    {
     "name": "stdout",
     "output_type": "stream",
     "text": [
      "Training images count: 4185\n",
      "Validating images count: 1047\n"
     ]
    }
   ],
   "source": [
    "# Train 데이터 셋, validation 데이터 셋 갯수 확인\n",
    "TRAIN_IMG_COUNT = tf.data.experimental.cardinality(train_list_ds).numpy()\n",
    "print(\"Training images count: \" + str(TRAIN_IMG_COUNT))\n",
    "\n",
    "VAL_IMG_COUNT = tf.data.experimental.cardinality(val_list_ds).numpy()\n",
    "print(\"Validating images count: \" + str(VAL_IMG_COUNT))"
   ]
  },
  {
   "cell_type": "code",
   "execution_count": 11,
   "id": "pointed-projector",
   "metadata": {},
   "outputs": [
    {
     "name": "stdout",
     "output_type": "stream",
     "text": [
      "['PNEUMONIA' 'NORMAL']\n"
     ]
    }
   ],
   "source": [
    "CLASS_NAMES = np.array([str(tf.strings.split(item, os.path.sep)[-1].numpy())[2:-1]\n",
    "                        for item in tf.io.gfile.glob(str(ROOT_PATH + \"/chest_xray/train/*\"))])\n",
    "print(CLASS_NAMES)"
   ]
  },
  {
   "cell_type": "markdown",
   "id": "romantic-newton",
   "metadata": {},
   "source": [
    "제목에 'NORMAL', 'PNEUMONIA'라고 되어 있기 때문에 이를 이용해서 라벨 데이터를 만들어 주는 함수를 만들어 보겠습니다."
   ]
  },
  {
   "cell_type": "code",
   "execution_count": 12,
   "id": "tamil-adult",
   "metadata": {},
   "outputs": [],
   "source": [
    "def get_label(file_path):\n",
    "    parts = tf.strings.split(file_path, os.path.sep)\n",
    "    return parts[-2] == 'PNEUMONIA'"
   ]
  },
  {
   "cell_type": "markdown",
   "id": "sustained-gibraltar",
   "metadata": {},
   "source": [
    "이미지 데이터는 현실적으로 사이즈가 제각각일 가능성이 높다  \n",
    "이미지의 사이즈를 통일 시키고 GPU 메모리를 더욱 효율적으로 사용하기 위해 이미지 사이즈를 줄이자  \n",
    "  \n",
    "process_path 함수에서 decode_img 함수를 이용해서 이미지의 데이터 타입을 float으로 바꾸고 사이즈를 변경  \n",
    "get_label을 이용해서 라벨 값을 가져옵니다."
   ]
  },
  {
   "cell_type": "code",
   "execution_count": 15,
   "id": "metropolitan-difference",
   "metadata": {},
   "outputs": [],
   "source": [
    "def decode_img(img):\n",
    "    # 이미지를 unit8 tensor로 바꾼다 \n",
    "    img = tf.image.decode_jpeg(img, channels=3)\n",
    "    # img를 범위 [0,1]의 float32데이터 타입으로 바꾼다  \n",
    "    img = tf.image.convert_image_dtype(img, tf.float32)\n",
    "    # img의 이미지 사이즈를 IMAGE_SIZE에서 지정한 사이즈로 수정한다 \n",
    "    return tf.image.resize(img, IMAGE_SIZE)\n",
    "\n",
    "def process_path(file_path):\n",
    "    label = get_label(file_path)\n",
    "    img = tf.io.read_file(file_path)\n",
    "    img = decode_img(img)\n",
    "    return img, label"
   ]
  },
  {
   "cell_type": "markdown",
   "id": "laughing-sitting",
   "metadata": {},
   "source": [
    "train 데이터 셋과 validation 데이터 셋 만들기  \n",
    " num_parallel_calls 파라미터에서 set-up에서 초기화 한 AUTOTUNE을 이용하면 더욱 빠르게 데이터를 처리해줌"
   ]
  },
  {
   "cell_type": "code",
   "execution_count": 16,
   "id": "intensive-photography",
   "metadata": {},
   "outputs": [],
   "source": [
    "train_ds = train_list_ds.map(process_path, num_parallel_calls=AUTOTUNE)\n",
    "val_ds = val_list_ds.map(process_path, num_parallel_calls=AUTOTUNE)"
   ]
  },
  {
   "cell_type": "code",
   "execution_count": 17,
   "id": "intellectual-reputation",
   "metadata": {},
   "outputs": [
    {
     "data": {
      "text/plain": [
       "<ParallelMapDataset shapes: ((180, 180, 3), ()), types: (tf.float32, tf.bool)>"
      ]
     },
     "execution_count": 17,
     "metadata": {},
     "output_type": "execute_result"
    }
   ],
   "source": [
    "train_ds"
   ]
  },
  {
   "cell_type": "markdown",
   "id": "acquired-ownership",
   "metadata": {},
   "source": [
    "확인해보기"
   ]
  },
  {
   "cell_type": "code",
   "execution_count": 44,
   "id": "animal-climb",
   "metadata": {},
   "outputs": [
    {
     "name": "stdout",
     "output_type": "stream",
     "text": [
      "image shape: (180, 180, 3)\n",
      "Label: False\n"
     ]
    }
   ],
   "source": [
    "for image, label in train_ds.take(1): # 하나의 데이터만 가져온다\n",
    "    print('image shape:', image.numpy().shape)\n",
    "    print('Label:', label.numpy())"
   ]
  },
  {
   "cell_type": "markdown",
   "id": "peaceful-serum",
   "metadata": {},
   "source": [
    "test 데이터 셋도 만들기"
   ]
  },
  {
   "cell_type": "code",
   "execution_count": 45,
   "id": "ongoing-filling",
   "metadata": {},
   "outputs": [
    {
     "name": "stdout",
     "output_type": "stream",
     "text": [
      "624\n"
     ]
    }
   ],
   "source": [
    "test_list_ds = tf.data.Dataset.list_files(str(ROOT_PATH + '/chest_xray/test/*/*'))\n",
    "TEST_IMAGE_COUNT = tf.data.experimental.cardinality(test_list_ds).numpy()\n",
    "test_ds = test_list_ds.map(process_path, num_parallel_calls=AUTOTUNE)\n",
    "test_ds = test_ds.batch(BATCH_SIZE)\n",
    "\n",
    "print(TEST_IMAGE_COUNT)"
   ]
  },
  {
   "cell_type": "markdown",
   "id": "arctic-karaoke",
   "metadata": {},
   "source": [
    "Tensorflow에서는 tf.data 파이프라인을 사용해서 학습 데이터를 효율적으로 사용할 수 있도록 해줍니다  \n"
   ]
  },
  {
   "cell_type": "code",
   "execution_count": 47,
   "id": "certified-toner",
   "metadata": {},
   "outputs": [],
   "source": [
    "# 학습 데이터를 효율적으로 할 수 있도록 데이터를 변환\n",
    "def prepare_for_training(ds, shuffle_buffer_size=1000):\n",
    "\t#shuffle(): 사용하며 고정 크기 버퍼를 유지하고 해당 버퍼에서 무작위로 균일하게 다음 요소를 선택\n",
    "    ds = ds.shuffle(buffer_size=shuffle_buffer_size)\n",
    "\t#repeat(): 100개의 데이터를 10번 반복하면 1000개의 데이터를 맞춰줍니다\n",
    "    ds = ds.repeat()\n",
    "\t#100개의 데이터를 10개의 배치로 나누게 되면 각 배치에는 10개의 데이터로 나뉘게 됩니다.\n",
    "    ds = ds.batch(BATCH_SIZE)\n",
    "\t# prefetch()를 사용하면 학습데이터를 나눠서 읽어오기 때문에, \n",
    "    #첫 번째 데이터를 GPU에서 학습하는 동안 두 번째 데이터를 CPU에서 준비할 수 있어 리소스의 유휴 상태를 줄일 수 있습니다.\n",
    "    ds = ds.prefetch(buffer_size=AUTOTUNE)\n",
    "\n",
    "    return ds\n",
    "\n",
    "train_ds = prepare_for_training(train_ds)\n",
    "val_ds = prepare_for_training(val_ds)"
   ]
  },
  {
   "cell_type": "markdown",
   "id": "decent-packaging",
   "metadata": {},
   "source": [
    "## 3. 데이터 시각화"
   ]
  },
  {
   "cell_type": "markdown",
   "id": "welcome-hardwood",
   "metadata": {},
   "source": [
    "train에 있는 batch 중 첫 번째 배치를 추출  \n",
    "추출된 배치를 image와 label 데이터 셋으로 나눈다  "
   ]
  },
  {
   "cell_type": "code",
   "execution_count": 51,
   "id": "christian-harrison",
   "metadata": {},
   "outputs": [
    {
     "data": {
      "image/png": "[encoded data removed]",
      "text/plain": [
       "<Figure size 720x720 with 16 Axes>"
      ]
     },
     "metadata": {
      "needs_background": "light"
     },
     "output_type": "display_data"
    }
   ],
   "source": [
    "image_batch, label_batch = next(iter(train_ds))\n",
    "\n",
    "def show_batch(image_batch, label_batch):\n",
    "    plt.figure(figsize=(10,10))\n",
    "    for n in range(16):\n",
    "        ax = plt.subplot(5,5,n+1)\n",
    "        plt.imshow(image_batch[n])\n",
    "        if label_batch[n]:\n",
    "            plt.title(\"PNEUMONIA\")\n",
    "        else:\n",
    "            plt.title(\"NORMAL\")\n",
    "        plt.axis(\"off\")\n",
    "\n",
    "show_batch(image_batch.numpy(), label_batch.numpy())"
   ]
  },
  {
   "cell_type": "markdown",
   "id": "formal-advocate",
   "metadata": {},
   "source": [
    "# 14-5. 폐렴을 진단해보자(2)"
   ]
  },
  {
   "cell_type": "markdown",
   "id": "religious-board",
   "metadata": {},
   "source": [
    "## 4. CNN 모델링"
   ]
  },
  {
   "cell_type": "markdown",
   "id": "billion-custody",
   "metadata": {},
   "source": [
    "먼저, Convolution block을 만든다  \n",
    "***\n",
    "conv_block()의 구성은 \n",
    ">Convolution을 두번 진행하고   \n",
    "Batch Normalization을 통해서 Gradient vanishing, Gradient Exploding을 해결합니다.   \n",
    "그리고 Max Pooling"
   ]
  },
  {
   "cell_type": "code",
   "execution_count": 53,
   "id": "stainless-executive",
   "metadata": {},
   "outputs": [],
   "source": [
    "def conv_block(filters):\n",
    "    block = tf.keras.Sequential([\n",
    "        tf.keras.layers.SeparableConv2D(filters, 3, activation='relu', padding='same'),\n",
    "        tf.keras.layers.SeparableConv2D(filters, 3, activation='relu', padding='same'),\n",
    "        tf.keras.layers.BatchNormaliZation(),\n",
    "        tf.keras.layers.MaxPool2D()\n",
    "    ])\n",
    "    \n",
    "    return block"
   ]
  },
  {
   "cell_type": "code",
   "execution_count": 54,
   "id": "unexpected-undergraduate",
   "metadata": {},
   "outputs": [],
   "source": [
    "def dense_block(units, dropout_rate):\n",
    "    block=tf.keras.Sequential([\n",
    "        tf.keras.layers.Dense(units, activation='relu'),\n",
    "        tf.keras.layers.BatchNormalization(),\n",
    "        tf.keras.layers.Dropout(dropout_rate)\n",
    "    ])\n",
    "    \n",
    "    return block"
   ]
  },
  {
   "cell_type": "markdown",
   "id": "under-incentive",
   "metadata": {},
   "source": [
    "우리가 만들 CNN 모델은 약간의 수정을 거쳐 만들어진 모델입니다. 전형적인 CNN 모델과는 약간 다른 모델입니다.  \n",
    "Batch Normalization과 Dropout이라는 두가지 regularization 기법이 동시에 사용되고 있습니다.  \n",
    "일반적으로 이런 방법은 잘 사용되지 않거나, 금기시되기도 합니다. 대표적으로 아래와 같은 논문의 사례를 들 수 있습니다.  \n",
    "https://openaccess.thecvf.com/content_CVPR_2019/papers/Li_Understanding_the_Disharmony_Between_Dropout_and_Batch_Normalization_by_Variance_CVPR_2019_paper.pdf  \n",
    "위 논문에서는 variance shift를 억제하는 Batch Normalization과 이를 유발시키는 Dropout을 동시에 사용하는 것이 어울리지 않는다고 밝히고 있습니다.  \n",
    "\n",
    "예외적으로 동시에 사용하는 것이 성능향상에 도움을 주는 경우가 실제로 있습니다. 아래 논문과 같이 두 방법을 같이 쓰는 것을 옹호하는 경우도 있습니다.  \n",
    "https://arxiv.org/pdf/1905.05928.pdf  \n",
    "이번 실습에서는 두가지를 함께 사용하는 이 모델이 성능향상에 도움이 될지 여부도 흥미롭게 살펴볼만 한 부분입니다.  "
   ]
  },
  {
   "cell_type": "code",
   "execution_count": null,
   "id": "theoretical-coast",
   "metadata": {},
   "outputs": [],
   "source": [
    "def build_model():\n",
    "    model = tf.keras.Sequential([\n",
    "        tf.keras.Input(shape=(IMAGE_SIZE[0], IMAGE_SIZE[1], 3)),\n",
    "        \n",
    "        tf.keras.layers.Conv2D(16, 3, activation='relu', padding='same'),\n",
    "        tf.keras.layers.Conv2D(16, 3, activation='relu', padding='same'),\n",
    "        tf.keras.layers.MaxPool2D(),\n",
    "        \n",
    "        conv_block(32),\n",
    "        conv_block(64),\n",
    "        \n",
    "        conv_block(128),\n",
    "        tf.keras.layers.Dropout(0.2),\n",
    "        \n",
    "        conv_block(256),\n",
    "        tf.keras.layers.Dropout(0.2),\n",
    "        \n",
    "        tf.keras.layers.Flatten(),\n",
    "        dense_block(512, 0.7),\n",
    "        dense_block(128, 0.5),\n",
    "        dense_block(64, 0.3),\n",
    "        \n",
    "        tf.keras.layers.Dense(1, activation='sigmoid')\n",
    "    ])\n",
    "    \n",
    "    return model"
   ]
  },
  {
   "cell_type": "markdown",
   "id": "rolled-bracket",
   "metadata": {},
   "source": [
    "## 5. 데이터 imbalance 처리"
   ]
  },
  {
   "cell_type": "markdown",
   "id": "atomic-unemployment",
   "metadata": {},
   "source": [
    "한 라벨이 너무 많은 경우를 imbalance 하다고 하는데 \n",
    "'Pneumonia' 데이터가 많음  \n",
    "  \n",
    "이런 문제들을 해결하는 방법으로 Weight balancing이라는 테크닉이 사용  \n",
    "training set 의 각 데이터에서 loss 를 계산할 때 특정 클래스의 데이터에 더 큰 loss 값을 갖도록 가중치를 부여하는 방법입니다.  \n",
    "Keras는 model.fit()을 호출할 때 파라미터로 넘기는 class_weight 에 이러한 클래스별 가중치를 세팅할 수 있도록 지원하고 있습니다.  \n",
    "https://3months.tistory.com/414  \n"
   ]
  },
  {
   "cell_type": "markdown",
   "id": "exceptional-henry",
   "metadata": {},
   "source": []
  },
  {
   "cell_type": "markdown",
   "id": "muslim-lotus",
   "metadata": {},
   "source": []
  },
  {
   "cell_type": "markdown",
   "id": "genuine-guarantee",
   "metadata": {},
   "source": []
  },
  {
   "cell_type": "markdown",
   "id": "underlying-missouri",
   "metadata": {},
   "source": []
  },
  {
   "cell_type": "markdown",
   "id": "unauthorized-greece",
   "metadata": {},
   "source": []
  },
  {
   "cell_type": "markdown",
   "id": "stuffed-residence",
   "metadata": {},
   "source": []
  },
  {
   "cell_type": "markdown",
   "id": "decent-volunteer",
   "metadata": {},
   "source": []
  },
  {
   "cell_type": "markdown",
   "id": "preceding-holder",
   "metadata": {},
   "source": []
  },
  {
   "cell_type": "markdown",
   "id": "qualified-cleaning",
   "metadata": {},
   "source": []
  },
  {
   "cell_type": "markdown",
   "id": "focused-inventory",
   "metadata": {},
   "source": []
  },
  {
   "cell_type": "markdown",
   "id": "passive-demographic",
   "metadata": {},
   "source": []
  },
  {
   "cell_type": "markdown",
   "id": "accredited-physics",
   "metadata": {},
   "source": []
  },
  {
   "cell_type": "markdown",
   "id": "external-shelf",
   "metadata": {},
   "source": []
  },
  {
   "cell_type": "markdown",
   "id": "another-drilling",
   "metadata": {},
   "source": []
  },
  {
   "cell_type": "markdown",
   "id": "incorporate-phoenix",
   "metadata": {},
   "source": []
  },
  {
   "cell_type": "markdown",
   "id": "broke-hospital",
   "metadata": {},
   "source": []
  },
  {
   "cell_type": "markdown",
   "id": "cultural-crisis",
   "metadata": {},
   "source": []
  },
  {
   "cell_type": "markdown",
   "id": "norwegian-marketplace",
   "metadata": {},
   "source": []
  },
  {
   "cell_type": "markdown",
   "id": "separated-surface",
   "metadata": {},
   "source": []
  },
  {
   "cell_type": "markdown",
   "id": "monetary-journey",
   "metadata": {},
   "source": []
  },
  {
   "cell_type": "markdown",
   "id": "contemporary-justice",
   "metadata": {},
   "source": []
  },
  {
   "cell_type": "markdown",
   "id": "elder-perspective",
   "metadata": {},
   "source": []
  },
  {
   "cell_type": "markdown",
   "id": "steady-bathroom",
   "metadata": {},
   "source": []
  },
  {
   "cell_type": "markdown",
   "id": "brazilian-highlight",
   "metadata": {},
   "source": []
  },
  {
   "cell_type": "markdown",
   "id": "similar-configuration",
   "metadata": {},
   "source": []
  },
  {
   "cell_type": "markdown",
   "id": "cordless-feedback",
   "metadata": {},
   "source": []
  },
  {
   "cell_type": "markdown",
   "id": "foreign-anthropology",
   "metadata": {},
   "source": []
  },
  {
   "cell_type": "markdown",
   "id": "enabling-wrong",
   "metadata": {},
   "source": []
  },
  {
   "cell_type": "markdown",
   "id": "surrounded-argentina",
   "metadata": {},
   "source": []
  },
  {
   "cell_type": "markdown",
   "id": "thousand-outdoors",
   "metadata": {},
   "source": []
  },
  {
   "cell_type": "markdown",
   "id": "cultural-publisher",
   "metadata": {},
   "source": []
  },
  {
   "cell_type": "markdown",
   "id": "working-cedar",
   "metadata": {},
   "source": []
  },
  {
   "cell_type": "markdown",
   "id": "fitted-weather",
   "metadata": {},
   "source": []
  },
  {
   "cell_type": "markdown",
   "id": "satellite-bikini",
   "metadata": {},
   "source": []
  },
  {
   "cell_type": "markdown",
   "id": "introductory-point",
   "metadata": {},
   "source": []
  },
  {
   "cell_type": "markdown",
   "id": "related-motorcycle",
   "metadata": {},
   "source": []
  },
  {
   "cell_type": "markdown",
   "id": "composite-cream",
   "metadata": {},
   "source": []
  },
  {
   "cell_type": "markdown",
   "id": "raised-scale",
   "metadata": {},
   "source": []
  },
  {
   "cell_type": "markdown",
   "id": "voluntary-thriller",
   "metadata": {},
   "source": []
  },
  {
   "cell_type": "markdown",
   "id": "adjustable-greece",
   "metadata": {},
   "source": []
  },
  {
   "cell_type": "markdown",
   "id": "selective-torture",
   "metadata": {},
   "source": []
  },
  {
   "cell_type": "markdown",
   "id": "gorgeous-cement",
   "metadata": {},
   "source": []
  },
  {
   "cell_type": "markdown",
   "id": "moderate-catering",
   "metadata": {},
   "source": []
  },
  {
   "cell_type": "markdown",
   "id": "urban-cambodia",
   "metadata": {},
   "source": []
  },
  {
   "cell_type": "markdown",
   "id": "isolated-republican",
   "metadata": {},
   "source": []
  },
  {
   "cell_type": "markdown",
   "id": "hazardous-wholesale",
   "metadata": {},
   "source": []
  },
  {
   "cell_type": "markdown",
   "id": "aware-study",
   "metadata": {},
   "source": []
  },
  {
   "cell_type": "markdown",
   "id": "focused-refrigerator",
   "metadata": {},
   "source": []
  },
  {
   "cell_type": "markdown",
   "id": "floppy-volume",
   "metadata": {},
   "source": []
  },
  {
   "cell_type": "markdown",
   "id": "medium-gregory",
   "metadata": {},
   "source": []
  },
  {
   "cell_type": "markdown",
   "id": "regional-rings",
   "metadata": {},
   "source": []
  },
  {
   "cell_type": "markdown",
   "id": "civilian-tiffany",
   "metadata": {},
   "source": []
  },
  {
   "cell_type": "markdown",
   "id": "challenging-malta",
   "metadata": {},
   "source": []
  },
  {
   "cell_type": "markdown",
   "id": "comfortable-daniel",
   "metadata": {},
   "source": []
  },
  {
   "cell_type": "markdown",
   "id": "ancient-commissioner",
   "metadata": {},
   "source": []
  },
  {
   "cell_type": "markdown",
   "id": "increased-application",
   "metadata": {},
   "source": []
  },
  {
   "cell_type": "markdown",
   "id": "intended-mediterranean",
   "metadata": {},
   "source": []
  },
  {
   "cell_type": "markdown",
   "id": "compact-reservoir",
   "metadata": {},
   "source": []
  },
  {
   "cell_type": "markdown",
   "id": "oriented-national",
   "metadata": {},
   "source": []
  },
  {
   "cell_type": "markdown",
   "id": "motivated-equity",
   "metadata": {},
   "source": []
  },
  {
   "cell_type": "markdown",
   "id": "accessible-amount",
   "metadata": {},
   "source": []
  },
  {
   "cell_type": "markdown",
   "id": "wooden-rocket",
   "metadata": {},
   "source": []
  },
  {
   "cell_type": "markdown",
   "id": "known-brush",
   "metadata": {},
   "source": []
  },
  {
   "cell_type": "markdown",
   "id": "outdoor-berkeley",
   "metadata": {},
   "source": []
  },
  {
   "cell_type": "markdown",
   "id": "velvet-method",
   "metadata": {},
   "source": []
  },
  {
   "cell_type": "markdown",
   "id": "stunning-sandwich",
   "metadata": {},
   "source": []
  },
  {
   "cell_type": "markdown",
   "id": "senior-wichita",
   "metadata": {},
   "source": []
  },
  {
   "cell_type": "markdown",
   "id": "alternate-cathedral",
   "metadata": {},
   "source": []
  },
  {
   "cell_type": "markdown",
   "id": "injured-translation",
   "metadata": {},
   "source": []
  },
  {
   "cell_type": "markdown",
   "id": "wireless-indonesia",
   "metadata": {},
   "source": []
  },
  {
   "cell_type": "markdown",
   "id": "funded-estonia",
   "metadata": {},
   "source": []
  },
  {
   "cell_type": "markdown",
   "id": "printable-melbourne",
   "metadata": {},
   "source": []
  },
  {
   "cell_type": "markdown",
   "id": "national-bleeding",
   "metadata": {},
   "source": []
  },
  {
   "cell_type": "markdown",
   "id": "sixth-verse",
   "metadata": {},
   "source": []
  },
  {
   "cell_type": "markdown",
   "id": "fresh-interface",
   "metadata": {},
   "source": []
  },
  {
   "cell_type": "markdown",
   "id": "congressional-romania",
   "metadata": {},
   "source": []
  },
  {
   "cell_type": "markdown",
   "id": "loose-impact",
   "metadata": {},
   "source": []
  },
  {
   "cell_type": "markdown",
   "id": "prerequisite-production",
   "metadata": {},
   "source": []
  },
  {
   "cell_type": "markdown",
   "id": "favorite-object",
   "metadata": {},
   "source": []
  },
  {
   "cell_type": "markdown",
   "id": "cellular-style",
   "metadata": {},
   "source": []
  },
  {
   "cell_type": "markdown",
   "id": "regular-fight",
   "metadata": {},
   "source": []
  },
  {
   "cell_type": "markdown",
   "id": "pleased-cooler",
   "metadata": {},
   "source": []
  },
  {
   "cell_type": "markdown",
   "id": "progressive-thermal",
   "metadata": {},
   "source": []
  },
  {
   "cell_type": "markdown",
   "id": "public-homework",
   "metadata": {},
   "source": [
    "# 보충 필요"
   ]
  },
  {
   "cell_type": "markdown",
   "id": "standing-haven",
   "metadata": {},
   "source": [
    "tf.data 인스턴스???  \n",
    "tf.data??? -> https://www.tensorflow.org/guide/data?hl=ko"
   ]
  },
  {
   "cell_type": "markdown",
   "id": "victorian-rings",
   "metadata": {},
   "source": []
  },
  {
   "cell_type": "markdown",
   "id": "tired-evening",
   "metadata": {},
   "source": []
  }
 ],
 "metadata": {
  "kernelspec": {
   "display_name": "aiffel",
   "language": "python",
   "name": "aiffel"
  },
  "language_info": {
   "codemirror_mode": {
    "name": "ipython",
    "version": 3
   },
   "file_extension": ".py",
   "mimetype": "text/x-python",
   "name": "python",
   "nbconvert_exporter": "python",
   "pygments_lexer": "ipython3",
   "version": "3.7.9"
  },
  "toc": {
   "base_numbering": 1,
   "nav_menu": {},
   "number_sections": true,
   "sideBar": true,
   "skip_h1_title": false,
   "title_cell": "Table of Contents",
   "title_sidebar": "Contents",
   "toc_cell": false,
   "toc_position": {
    "height": "calc(100% - 180px)",
    "left": "10px",
    "top": "150px",
    "width": "411.771px"
   },
   "toc_section_display": true,
   "toc_window_display": true
  },
  "varInspector": {
   "cols": {
    "lenName": 16,
    "lenType": 16,
    "lenVar": 40
   },
   "kernels_config": {
    "python": {
     "delete_cmd_postfix": "",
     "delete_cmd_prefix": "del ",
     "library": "var_list.py",
     "varRefreshCmd": "print(var_dic_list())"
    },
    "r": {
     "delete_cmd_postfix": ") ",
     "delete_cmd_prefix": "rm(",
     "library": "var_list.r",
     "varRefreshCmd": "cat(var_dic_list()) "
    }
   },
   "types_to_exclude": [
    "module",
    "function",
    "builtin_function_or_method",
    "instance",
    "_Feature"
   ],
   "window_display": false
  }
 },
 "nbformat": 4,
 "nbformat_minor": 5
}
