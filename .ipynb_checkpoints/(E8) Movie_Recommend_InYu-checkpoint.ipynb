{
 "cells": [
  {
   "cell_type": "markdown",
   "id": "hired-attachment",
   "metadata": {},
   "source": [
    "실습 목표  \n",
    "\n",
    "0. 추천시스템의 개념과 목적을 이해한다.\n",
    "1. Implicit 라이브러리를 활용하여 Matrix Factorization(이하 MF) 기반의 추천 모델을 만들어 본다.\n",
    "2. 음악 감상 기록을 활용하여 비슷한 아티스트를 찾고 아티스트를 추천해 본다.\n",
    "3. 추천 시스템에서 자주 사용되는 데이터 구조인 CSR Matrix을 익힌다\n",
    "4. 유저의 행위 데이터 중 Explicit data와 Implicit data의 차이점을 익힌다.\n",
    "5. 새로운 데이터셋으로 직접 추천 모델을 만들어 본다.\n",
    "  \n"
   ]
  },
  {
   "cell_type": "markdown",
   "id": "neutral-black",
   "metadata": {},
   "source": [
    "# 8-9. 프로젝트 - Movielens 영화 추천 실습\n",
    "이전 스텝에서 배운 MF 모델 학습 방법을 토대로, 내가 좋아할 만한 영화 추천 시스템을 제작해 보겠습니다.  \n",
    "이번에 활용할 데이터셋은 추천시스템의 MNIST라고 부를만한 Movielens 데이터입니다.  \n",
    "\n",
    "+ 유저가 영화에 대해 평점을 매긴 데이터가 데이터 크기 별로 있습니다. MovieLens 1M Dataset 사용을 권장합니다.\n",
    "+ 별점 데이터는 대표적인 explicit 데이터입니다. 하지만 implicit 데이터로 간주하고 테스트해볼 수 있습니다.\n",
    "  별점을 시청횟수로 해석해서 생각하겠습니다.\n",
    "+ 또한 유저가 3점 미만으로 준 데이터는 선호하지 않는다고 가정하고 제외하겠습니다.\n",
    "MovieLens 1M Dataset 데이터셋의 경우는 크기가 작아서 아래와 같이 직접 다운 받고 압축해제 하겠습니다.\n",
    "\n",
    "## 1) 데이터 준비와 전처리\n",
    "Movielens 데이터는 rating.dat 안에 이미 인덱싱까지 완료된 사용자-영화-평점 데이터가 깔끔하게 정리되어 있습니다.  \n",
    "  \n",
    "터미널에서 \n",
    "```\n",
    "1) wget으로 데이터 다운로드\n",
    "$ wget http://files.grouplens.org/datasets/movielens/ml-1m.zip\n",
    "\n",
    "2) 다운받은 데이터를 작업디렉토리로 옮김\n",
    "$ mv ml-1m.zip ~/aiffel/recommendata_iu/data\n",
    "\n",
    "3) 작업디렉토리로 이동\n",
    "$ cd ~/aiffel/recommendata_iu/data\n",
    "\n",
    "4) 압축 해제\n",
    "$ unzip ml-1m.zip\n",
    "```"
   ]
  },
  {
   "cell_type": "code",
   "execution_count": 1,
   "id": "married-consensus",
   "metadata": {},
   "outputs": [],
   "source": [
    "from scipy.sparse import csr_matrix\n",
    "from implicit.als import AlternatingLeastSquares\n",
    "import os\n",
    "import numpy as np\n",
    "import pandas as pd\n",
    "from pandas import DataFrame"
   ]
  },
  {
   "cell_type": "code",
   "execution_count": 2,
   "id": "modified-christianity",
   "metadata": {},
   "outputs": [
    {
     "name": "stdout",
     "output_type": "stream",
     "text": [
      "1000209\n"
     ]
    },
    {
     "data": {
      "text/html": [
       "<div>\n",
       "<style scoped>\n",
       "    .dataframe tbody tr th:only-of-type {\n",
       "        vertical-align: middle;\n",
       "    }\n",
       "\n",
       "    .dataframe tbody tr th {\n",
       "        vertical-align: top;\n",
       "    }\n",
       "\n",
       "    .dataframe thead th {\n",
       "        text-align: right;\n",
       "    }\n",
       "</style>\n",
       "<table border=\"1\" class=\"dataframe\">\n",
       "  <thead>\n",
       "    <tr style=\"text-align: right;\">\n",
       "      <th></th>\n",
       "      <th>user_id</th>\n",
       "      <th>movie_id</th>\n",
       "      <th>rating</th>\n",
       "      <th>timestamp</th>\n",
       "    </tr>\n",
       "  </thead>\n",
       "  <tbody>\n",
       "    <tr>\n",
       "      <th>0</th>\n",
       "      <td>1</td>\n",
       "      <td>1193</td>\n",
       "      <td>5</td>\n",
       "      <td>978300760</td>\n",
       "    </tr>\n",
       "    <tr>\n",
       "      <th>1</th>\n",
       "      <td>1</td>\n",
       "      <td>661</td>\n",
       "      <td>3</td>\n",
       "      <td>978302109</td>\n",
       "    </tr>\n",
       "    <tr>\n",
       "      <th>2</th>\n",
       "      <td>1</td>\n",
       "      <td>914</td>\n",
       "      <td>3</td>\n",
       "      <td>978301968</td>\n",
       "    </tr>\n",
       "    <tr>\n",
       "      <th>3</th>\n",
       "      <td>1</td>\n",
       "      <td>3408</td>\n",
       "      <td>4</td>\n",
       "      <td>978300275</td>\n",
       "    </tr>\n",
       "    <tr>\n",
       "      <th>4</th>\n",
       "      <td>1</td>\n",
       "      <td>2355</td>\n",
       "      <td>5</td>\n",
       "      <td>978824291</td>\n",
       "    </tr>\n",
       "  </tbody>\n",
       "</table>\n",
       "</div>"
      ],
      "text/plain": [
       "   user_id  movie_id  rating  timestamp\n",
       "0        1      1193       5  978300760\n",
       "1        1       661       3  978302109\n",
       "2        1       914       3  978301968\n",
       "3        1      3408       4  978300275\n",
       "4        1      2355       5  978824291"
      ]
     },
     "execution_count": 2,
     "metadata": {},
     "output_type": "execute_result"
    }
   ],
   "source": [
    "# 다운 받은 데이터 읽기\n",
    "rating_file_path=os.getenv('HOME') + '/aiffel/recommendata_iu/data/ml-1m/ratings.dat'\n",
    "ratings_cols = ['user_id', 'movie_id', 'rating', 'timestamp']\n",
    "ratings = pd.read_csv(rating_file_path, sep='::', names=ratings_cols, engine='python')\n",
    "orginal_data_size = len(ratings)\n",
    "print(len(ratings))\n",
    "ratings.head()"
   ]
  },
  {
   "cell_type": "markdown",
   "id": "geographic-graphics",
   "metadata": {},
   "source": [
    "1000209개의 영화 별점 data"
   ]
  },
  {
   "cell_type": "code",
   "execution_count": 3,
   "id": "ceramic-egypt",
   "metadata": {},
   "outputs": [
    {
     "name": "stdout",
     "output_type": "stream",
     "text": [
      "orginal_data_size: 1000209, filtered_data_size: 836478\n",
      "Ratio of Remaining Data is 83.63%\n"
     ]
    }
   ],
   "source": [
    "# 3점 이상만 남깁니다.\n",
    "ratings = ratings[ratings['rating']>=3]\n",
    "filtered_data_size = len(ratings)\n",
    "\n",
    "print(f'orginal_data_size: {orginal_data_size}, filtered_data_size: {filtered_data_size}')\n",
    "print(f'Ratio of Remaining Data is {filtered_data_size / orginal_data_size:.2%}')"
   ]
  },
  {
   "cell_type": "markdown",
   "id": "twelve-orchestra",
   "metadata": {},
   "source": [
    "3 & 4 & 5 점 짜리 영화가 836478개, 84% 정도있고 이것만 분석할 거다."
   ]
  },
  {
   "cell_type": "code",
   "execution_count": 4,
   "id": "infrared-puzzle",
   "metadata": {},
   "outputs": [],
   "source": [
    "# rating 컬럼의 이름을 count로 바꿉니다.\n",
    "ratings.rename(columns={'rating':'count1'}, inplace=True)"
   ]
  },
  {
   "cell_type": "code",
   "execution_count": 5,
   "id": "spectacular-somalia",
   "metadata": {},
   "outputs": [
    {
     "data": {
      "text/plain": [
       "0          5\n",
       "1          3\n",
       "2          3\n",
       "3          4\n",
       "4          5\n",
       "          ..\n",
       "1000203    3\n",
       "1000205    5\n",
       "1000206    5\n",
       "1000207    4\n",
       "1000208    4\n",
       "Name: count1, Length: 836478, dtype: int64"
      ]
     },
     "execution_count": 5,
     "metadata": {},
     "output_type": "execute_result"
    }
   ],
   "source": [
    "ratings['count1']"
   ]
  },
  {
   "cell_type": "code",
   "execution_count": 6,
   "id": "rental-doctrine",
   "metadata": {},
   "outputs": [
    {
     "data": {
      "text/html": [
       "<div>\n",
       "<style scoped>\n",
       "    .dataframe tbody tr th:only-of-type {\n",
       "        vertical-align: middle;\n",
       "    }\n",
       "\n",
       "    .dataframe tbody tr th {\n",
       "        vertical-align: top;\n",
       "    }\n",
       "\n",
       "    .dataframe thead th {\n",
       "        text-align: right;\n",
       "    }\n",
       "</style>\n",
       "<table border=\"1\" class=\"dataframe\">\n",
       "  <thead>\n",
       "    <tr style=\"text-align: right;\">\n",
       "      <th></th>\n",
       "      <th>user_id</th>\n",
       "      <th>movie_id</th>\n",
       "      <th>count1</th>\n",
       "      <th>timestamp</th>\n",
       "    </tr>\n",
       "  </thead>\n",
       "  <tbody>\n",
       "    <tr>\n",
       "      <th>1000203</th>\n",
       "      <td>6040</td>\n",
       "      <td>1090</td>\n",
       "      <td>3</td>\n",
       "      <td>956715518</td>\n",
       "    </tr>\n",
       "    <tr>\n",
       "      <th>1000205</th>\n",
       "      <td>6040</td>\n",
       "      <td>1094</td>\n",
       "      <td>5</td>\n",
       "      <td>956704887</td>\n",
       "    </tr>\n",
       "    <tr>\n",
       "      <th>1000206</th>\n",
       "      <td>6040</td>\n",
       "      <td>562</td>\n",
       "      <td>5</td>\n",
       "      <td>956704746</td>\n",
       "    </tr>\n",
       "    <tr>\n",
       "      <th>1000207</th>\n",
       "      <td>6040</td>\n",
       "      <td>1096</td>\n",
       "      <td>4</td>\n",
       "      <td>956715648</td>\n",
       "    </tr>\n",
       "    <tr>\n",
       "      <th>1000208</th>\n",
       "      <td>6040</td>\n",
       "      <td>1097</td>\n",
       "      <td>4</td>\n",
       "      <td>956715569</td>\n",
       "    </tr>\n",
       "  </tbody>\n",
       "</table>\n",
       "</div>"
      ],
      "text/plain": [
       "         user_id  movie_id  count1  timestamp\n",
       "1000203     6040      1090       3  956715518\n",
       "1000205     6040      1094       5  956704887\n",
       "1000206     6040       562       5  956704746\n",
       "1000207     6040      1096       4  956715648\n",
       "1000208     6040      1097       4  956715569"
      ]
     },
     "execution_count": 6,
     "metadata": {},
     "output_type": "execute_result"
    }
   ],
   "source": [
    "# column 이름 중 rating -> count1 확인하기\n",
    "ratings.tail()"
   ]
  },
  {
   "cell_type": "code",
   "execution_count": 7,
   "id": "consistent-character",
   "metadata": {},
   "outputs": [
    {
     "name": "stdout",
     "output_type": "stream",
     "text": [
      "3883\n"
     ]
    },
    {
     "data": {
      "text/html": [
       "<div>\n",
       "<style scoped>\n",
       "    .dataframe tbody tr th:only-of-type {\n",
       "        vertical-align: middle;\n",
       "    }\n",
       "\n",
       "    .dataframe tbody tr th {\n",
       "        vertical-align: top;\n",
       "    }\n",
       "\n",
       "    .dataframe thead th {\n",
       "        text-align: right;\n",
       "    }\n",
       "</style>\n",
       "<table border=\"1\" class=\"dataframe\">\n",
       "  <thead>\n",
       "    <tr style=\"text-align: right;\">\n",
       "      <th></th>\n",
       "      <th>movie_id</th>\n",
       "      <th>title</th>\n",
       "      <th>genre</th>\n",
       "    </tr>\n",
       "  </thead>\n",
       "  <tbody>\n",
       "    <tr>\n",
       "      <th>3878</th>\n",
       "      <td>3948</td>\n",
       "      <td>Meet the Parents (2000)</td>\n",
       "      <td>Comedy</td>\n",
       "    </tr>\n",
       "    <tr>\n",
       "      <th>3879</th>\n",
       "      <td>3949</td>\n",
       "      <td>Requiem for a Dream (2000)</td>\n",
       "      <td>Drama</td>\n",
       "    </tr>\n",
       "    <tr>\n",
       "      <th>3880</th>\n",
       "      <td>3950</td>\n",
       "      <td>Tigerland (2000)</td>\n",
       "      <td>Drama</td>\n",
       "    </tr>\n",
       "    <tr>\n",
       "      <th>3881</th>\n",
       "      <td>3951</td>\n",
       "      <td>Two Family House (2000)</td>\n",
       "      <td>Drama</td>\n",
       "    </tr>\n",
       "    <tr>\n",
       "      <th>3882</th>\n",
       "      <td>3952</td>\n",
       "      <td>Contender, The (2000)</td>\n",
       "      <td>Drama|Thriller</td>\n",
       "    </tr>\n",
       "  </tbody>\n",
       "</table>\n",
       "</div>"
      ],
      "text/plain": [
       "      movie_id                       title           genre\n",
       "3878      3948     Meet the Parents (2000)          Comedy\n",
       "3879      3949  Requiem for a Dream (2000)           Drama\n",
       "3880      3950            Tigerland (2000)           Drama\n",
       "3881      3951     Two Family House (2000)           Drama\n",
       "3882      3952       Contender, The (2000)  Drama|Thriller"
      ]
     },
     "execution_count": 7,
     "metadata": {},
     "output_type": "execute_result"
    }
   ],
   "source": [
    "# 영화 제목을 보기 위해 메타 데이터를 읽어옵니다.\n",
    "movie_file_path=os.getenv('HOME') + '/aiffel/recommendata_iu/data/ml-1m/movies.dat'\n",
    "cols = ['movie_id', 'title', 'genre'] \n",
    "movies = pd.read_csv(movie_file_path, sep='::', names=cols, engine='python')\n",
    "print(len(movies))\n",
    "movies.tail() # 여기까지가 전처리"
   ]
  },
  {
   "cell_type": "markdown",
   "id": "recreational-export",
   "metadata": {},
   "source": [
    "영화의 총 개수는 3883개 인데 이게 3, 4, 5점 영화에 포함되어있는지도 확인해야 할 듯"
   ]
  },
  {
   "cell_type": "markdown",
   "id": "public-spyware",
   "metadata": {},
   "source": [
    "## 2) 분석해 봅시다.\n",
    "+ ratings에 있는 유니크한 영화 개수\n",
    "+ rating에 있는 유니크한 사용자 수\n",
    "+ 가장 인기 있는 영화 30개(인기순)"
   ]
  },
  {
   "cell_type": "code",
   "execution_count": 8,
   "id": "entitled-attribute",
   "metadata": {},
   "outputs": [
    {
     "data": {
      "text/html": [
       "<div>\n",
       "<style scoped>\n",
       "    .dataframe tbody tr th:only-of-type {\n",
       "        vertical-align: middle;\n",
       "    }\n",
       "\n",
       "    .dataframe tbody tr th {\n",
       "        vertical-align: top;\n",
       "    }\n",
       "\n",
       "    .dataframe thead th {\n",
       "        text-align: right;\n",
       "    }\n",
       "</style>\n",
       "<table border=\"1\" class=\"dataframe\">\n",
       "  <thead>\n",
       "    <tr style=\"text-align: right;\">\n",
       "      <th></th>\n",
       "      <th>user_id</th>\n",
       "      <th>movie_id</th>\n",
       "      <th>count1</th>\n",
       "      <th>timestamp</th>\n",
       "      <th>title</th>\n",
       "      <th>genre</th>\n",
       "    </tr>\n",
       "  </thead>\n",
       "  <tbody>\n",
       "    <tr>\n",
       "      <th>0</th>\n",
       "      <td>1</td>\n",
       "      <td>1193</td>\n",
       "      <td>5</td>\n",
       "      <td>978300760</td>\n",
       "      <td>One Flew Over the Cuckoo's Nest (1975)</td>\n",
       "      <td>Drama</td>\n",
       "    </tr>\n",
       "    <tr>\n",
       "      <th>1</th>\n",
       "      <td>2</td>\n",
       "      <td>1193</td>\n",
       "      <td>5</td>\n",
       "      <td>978298413</td>\n",
       "      <td>One Flew Over the Cuckoo's Nest (1975)</td>\n",
       "      <td>Drama</td>\n",
       "    </tr>\n",
       "    <tr>\n",
       "      <th>2</th>\n",
       "      <td>12</td>\n",
       "      <td>1193</td>\n",
       "      <td>4</td>\n",
       "      <td>978220179</td>\n",
       "      <td>One Flew Over the Cuckoo's Nest (1975)</td>\n",
       "      <td>Drama</td>\n",
       "    </tr>\n",
       "    <tr>\n",
       "      <th>3</th>\n",
       "      <td>15</td>\n",
       "      <td>1193</td>\n",
       "      <td>4</td>\n",
       "      <td>978199279</td>\n",
       "      <td>One Flew Over the Cuckoo's Nest (1975)</td>\n",
       "      <td>Drama</td>\n",
       "    </tr>\n",
       "    <tr>\n",
       "      <th>4</th>\n",
       "      <td>17</td>\n",
       "      <td>1193</td>\n",
       "      <td>5</td>\n",
       "      <td>978158471</td>\n",
       "      <td>One Flew Over the Cuckoo's Nest (1975)</td>\n",
       "      <td>Drama</td>\n",
       "    </tr>\n",
       "    <tr>\n",
       "      <th>...</th>\n",
       "      <td>...</td>\n",
       "      <td>...</td>\n",
       "      <td>...</td>\n",
       "      <td>...</td>\n",
       "      <td>...</td>\n",
       "      <td>...</td>\n",
       "    </tr>\n",
       "    <tr>\n",
       "      <th>836473</th>\n",
       "      <td>5851</td>\n",
       "      <td>3607</td>\n",
       "      <td>5</td>\n",
       "      <td>957756608</td>\n",
       "      <td>One Little Indian (1973)</td>\n",
       "      <td>Comedy|Drama|Western</td>\n",
       "    </tr>\n",
       "    <tr>\n",
       "      <th>836474</th>\n",
       "      <td>5854</td>\n",
       "      <td>3026</td>\n",
       "      <td>4</td>\n",
       "      <td>958346883</td>\n",
       "      <td>Slaughterhouse (1987)</td>\n",
       "      <td>Horror</td>\n",
       "    </tr>\n",
       "    <tr>\n",
       "      <th>836475</th>\n",
       "      <td>5854</td>\n",
       "      <td>690</td>\n",
       "      <td>3</td>\n",
       "      <td>957744257</td>\n",
       "      <td>Promise, The (Versprechen, Das) (1994)</td>\n",
       "      <td>Romance</td>\n",
       "    </tr>\n",
       "    <tr>\n",
       "      <th>836476</th>\n",
       "      <td>5938</td>\n",
       "      <td>2909</td>\n",
       "      <td>4</td>\n",
       "      <td>957273353</td>\n",
       "      <td>Five Wives, Three Secretaries and Me (1998)</td>\n",
       "      <td>Documentary</td>\n",
       "    </tr>\n",
       "    <tr>\n",
       "      <th>836477</th>\n",
       "      <td>5948</td>\n",
       "      <td>1360</td>\n",
       "      <td>5</td>\n",
       "      <td>1016563709</td>\n",
       "      <td>Identification of a Woman (Identificazione di ...</td>\n",
       "      <td>Drama</td>\n",
       "    </tr>\n",
       "  </tbody>\n",
       "</table>\n",
       "<p>836478 rows × 6 columns</p>\n",
       "</div>"
      ],
      "text/plain": [
       "        user_id  movie_id  count1   timestamp  \\\n",
       "0             1      1193       5   978300760   \n",
       "1             2      1193       5   978298413   \n",
       "2            12      1193       4   978220179   \n",
       "3            15      1193       4   978199279   \n",
       "4            17      1193       5   978158471   \n",
       "...         ...       ...     ...         ...   \n",
       "836473     5851      3607       5   957756608   \n",
       "836474     5854      3026       4   958346883   \n",
       "836475     5854       690       3   957744257   \n",
       "836476     5938      2909       4   957273353   \n",
       "836477     5948      1360       5  1016563709   \n",
       "\n",
       "                                                    title  \\\n",
       "0                  One Flew Over the Cuckoo's Nest (1975)   \n",
       "1                  One Flew Over the Cuckoo's Nest (1975)   \n",
       "2                  One Flew Over the Cuckoo's Nest (1975)   \n",
       "3                  One Flew Over the Cuckoo's Nest (1975)   \n",
       "4                  One Flew Over the Cuckoo's Nest (1975)   \n",
       "...                                                   ...   \n",
       "836473                           One Little Indian (1973)   \n",
       "836474                              Slaughterhouse (1987)   \n",
       "836475             Promise, The (Versprechen, Das) (1994)   \n",
       "836476        Five Wives, Three Secretaries and Me (1998)   \n",
       "836477  Identification of a Woman (Identificazione di ...   \n",
       "\n",
       "                       genre  \n",
       "0                      Drama  \n",
       "1                      Drama  \n",
       "2                      Drama  \n",
       "3                      Drama  \n",
       "4                      Drama  \n",
       "...                      ...  \n",
       "836473  Comedy|Drama|Western  \n",
       "836474                Horror  \n",
       "836475               Romance  \n",
       "836476           Documentary  \n",
       "836477                 Drama  \n",
       "\n",
       "[836478 rows x 6 columns]"
      ]
     },
     "execution_count": 8,
     "metadata": {},
     "output_type": "execute_result"
    }
   ],
   "source": [
    "# ratings movie_id 에 맞쳐서 movies 의 title과 genre 합치기 (merging)\n",
    "# df_merge_how_outer = pd.merge(df_left, df_right,    ...: how='outer',    ...: on='KEY')\n",
    "df_merge = pd.merge(ratings, movies, on='movie_id')\n",
    "df_merge"
   ]
  },
  {
   "cell_type": "code",
   "execution_count": 9,
   "id": "downtown-independence",
   "metadata": {},
   "outputs": [
    {
     "name": "stdout",
     "output_type": "stream",
     "text": [
      "836478\n"
     ]
    }
   ],
   "source": [
    "# 사용하는 컬럼만 남겨줍니다.\n",
    "using_cols = ['user_id', 'movie_id', 'count1', 'title']\n",
    "df_merge = df_merge[using_cols]\n",
    "print(len(df_merge))"
   ]
  },
  {
   "cell_type": "code",
   "execution_count": 10,
   "id": "spare-genius",
   "metadata": {},
   "outputs": [
    {
     "data": {
      "text/html": [
       "<div>\n",
       "<style scoped>\n",
       "    .dataframe tbody tr th:only-of-type {\n",
       "        vertical-align: middle;\n",
       "    }\n",
       "\n",
       "    .dataframe tbody tr th {\n",
       "        vertical-align: top;\n",
       "    }\n",
       "\n",
       "    .dataframe thead th {\n",
       "        text-align: right;\n",
       "    }\n",
       "</style>\n",
       "<table border=\"1\" class=\"dataframe\">\n",
       "  <thead>\n",
       "    <tr style=\"text-align: right;\">\n",
       "      <th></th>\n",
       "      <th>user_id</th>\n",
       "      <th>movie_id</th>\n",
       "      <th>count1</th>\n",
       "      <th>title</th>\n",
       "    </tr>\n",
       "  </thead>\n",
       "  <tbody>\n",
       "    <tr>\n",
       "      <th>0</th>\n",
       "      <td>1</td>\n",
       "      <td>1193</td>\n",
       "      <td>5</td>\n",
       "      <td>One Flew Over the Cuckoo's Nest (1975)</td>\n",
       "    </tr>\n",
       "    <tr>\n",
       "      <th>1</th>\n",
       "      <td>2</td>\n",
       "      <td>1193</td>\n",
       "      <td>5</td>\n",
       "      <td>One Flew Over the Cuckoo's Nest (1975)</td>\n",
       "    </tr>\n",
       "    <tr>\n",
       "      <th>2</th>\n",
       "      <td>12</td>\n",
       "      <td>1193</td>\n",
       "      <td>4</td>\n",
       "      <td>One Flew Over the Cuckoo's Nest (1975)</td>\n",
       "    </tr>\n",
       "    <tr>\n",
       "      <th>3</th>\n",
       "      <td>15</td>\n",
       "      <td>1193</td>\n",
       "      <td>4</td>\n",
       "      <td>One Flew Over the Cuckoo's Nest (1975)</td>\n",
       "    </tr>\n",
       "    <tr>\n",
       "      <th>4</th>\n",
       "      <td>17</td>\n",
       "      <td>1193</td>\n",
       "      <td>5</td>\n",
       "      <td>One Flew Over the Cuckoo's Nest (1975)</td>\n",
       "    </tr>\n",
       "    <tr>\n",
       "      <th>...</th>\n",
       "      <td>...</td>\n",
       "      <td>...</td>\n",
       "      <td>...</td>\n",
       "      <td>...</td>\n",
       "    </tr>\n",
       "    <tr>\n",
       "      <th>836473</th>\n",
       "      <td>5851</td>\n",
       "      <td>3607</td>\n",
       "      <td>5</td>\n",
       "      <td>One Little Indian (1973)</td>\n",
       "    </tr>\n",
       "    <tr>\n",
       "      <th>836474</th>\n",
       "      <td>5854</td>\n",
       "      <td>3026</td>\n",
       "      <td>4</td>\n",
       "      <td>Slaughterhouse (1987)</td>\n",
       "    </tr>\n",
       "    <tr>\n",
       "      <th>836475</th>\n",
       "      <td>5854</td>\n",
       "      <td>690</td>\n",
       "      <td>3</td>\n",
       "      <td>Promise, The (Versprechen, Das) (1994)</td>\n",
       "    </tr>\n",
       "    <tr>\n",
       "      <th>836476</th>\n",
       "      <td>5938</td>\n",
       "      <td>2909</td>\n",
       "      <td>4</td>\n",
       "      <td>Five Wives, Three Secretaries and Me (1998)</td>\n",
       "    </tr>\n",
       "    <tr>\n",
       "      <th>836477</th>\n",
       "      <td>5948</td>\n",
       "      <td>1360</td>\n",
       "      <td>5</td>\n",
       "      <td>Identification of a Woman (Identificazione di ...</td>\n",
       "    </tr>\n",
       "  </tbody>\n",
       "</table>\n",
       "<p>836478 rows × 4 columns</p>\n",
       "</div>"
      ],
      "text/plain": [
       "        user_id  movie_id  count1  \\\n",
       "0             1      1193       5   \n",
       "1             2      1193       5   \n",
       "2            12      1193       4   \n",
       "3            15      1193       4   \n",
       "4            17      1193       5   \n",
       "...         ...       ...     ...   \n",
       "836473     5851      3607       5   \n",
       "836474     5854      3026       4   \n",
       "836475     5854       690       3   \n",
       "836476     5938      2909       4   \n",
       "836477     5948      1360       5   \n",
       "\n",
       "                                                    title  \n",
       "0                  One Flew Over the Cuckoo's Nest (1975)  \n",
       "1                  One Flew Over the Cuckoo's Nest (1975)  \n",
       "2                  One Flew Over the Cuckoo's Nest (1975)  \n",
       "3                  One Flew Over the Cuckoo's Nest (1975)  \n",
       "4                  One Flew Over the Cuckoo's Nest (1975)  \n",
       "...                                                   ...  \n",
       "836473                           One Little Indian (1973)  \n",
       "836474                              Slaughterhouse (1987)  \n",
       "836475             Promise, The (Versprechen, Das) (1994)  \n",
       "836476        Five Wives, Three Secretaries and Me (1998)  \n",
       "836477  Identification of a Woman (Identificazione di ...  \n",
       "\n",
       "[836478 rows x 4 columns]"
      ]
     },
     "execution_count": 10,
     "metadata": {},
     "output_type": "execute_result"
    }
   ],
   "source": [
    "df_merge"
   ]
  },
  {
   "cell_type": "markdown",
   "id": "excessive-palmer",
   "metadata": {},
   "source": [
    "### ratings에 있는 유니크한 영화 개수"
   ]
  },
  {
   "cell_type": "code",
   "execution_count": 11,
   "id": "theoretical-simple",
   "metadata": {},
   "outputs": [
    {
     "data": {
      "text/plain": [
       "3628"
      ]
     },
     "execution_count": 11,
     "metadata": {},
     "output_type": "execute_result"
    }
   ],
   "source": [
    "# ratings에 있는 유니크한 영화 개수\n",
    "df_merge['movie_id'].nunique()"
   ]
  },
  {
   "cell_type": "markdown",
   "id": "settled-portuguese",
   "metadata": {},
   "source": [
    "### rating에 있는 유니크한 사용자 수"
   ]
  },
  {
   "cell_type": "code",
   "execution_count": 12,
   "id": "initial-blair",
   "metadata": {},
   "outputs": [
    {
     "data": {
      "text/plain": [
       "6039"
      ]
     },
     "execution_count": 12,
     "metadata": {},
     "output_type": "execute_result"
    }
   ],
   "source": [
    "# rating에 있는 유니크한 사용자 수  \n",
    "df_merge['user_id'].nunique()"
   ]
  },
  {
   "cell_type": "markdown",
   "id": "grateful-corruption",
   "metadata": {},
   "source": [
    "### 가장 인기 있는 영화 30개(인기순)"
   ]
  },
  {
   "cell_type": "code",
   "execution_count": 13,
   "id": "productive-framework",
   "metadata": {},
   "outputs": [
    {
     "data": {
      "text/plain": [
       "title\n",
       "American Beauty (1999)                                   3211\n",
       "Star Wars: Episode IV - A New Hope (1977)                2910\n",
       "Star Wars: Episode V - The Empire Strikes Back (1980)    2885\n",
       "Star Wars: Episode VI - Return of the Jedi (1983)        2716\n",
       "Saving Private Ryan (1998)                               2561\n",
       "Terminator 2: Judgment Day (1991)                        2509\n",
       "Silence of the Lambs, The (1991)                         2498\n",
       "Raiders of the Lost Ark (1981)                           2473\n",
       "Back to the Future (1985)                                2460\n",
       "Matrix, The (1999)                                       2434\n",
       "Jurassic Park (1993)                                     2413\n",
       "Sixth Sense, The (1999)                                  2385\n",
       "Fargo (1996)                                             2371\n",
       "Braveheart (1995)                                        2314\n",
       "Men in Black (1997)                                      2297\n",
       "Schindler's List (1993)                                  2257\n",
       "Princess Bride, The (1987)                               2252\n",
       "Shakespeare in Love (1998)                               2213\n",
       "L.A. Confidential (1997)                                 2210\n",
       "Shawshank Redemption, The (1994)                         2194\n",
       "Godfather, The (1972)                                    2167\n",
       "Groundhog Day (1993)                                     2121\n",
       "E.T. the Extra-Terrestrial (1982)                        2102\n",
       "Being John Malkovich (1999)                              2066\n",
       "Ghostbusters (1984)                                      2051\n",
       "Pulp Fiction (1994)                                      2030\n",
       "Forrest Gump (1994)                                      2022\n",
       "Terminator, The (1984)                                   2019\n",
       "Toy Story (1995)                                         2000\n",
       "Fugitive, The (1993)                                     1941\n",
       "Name: count1, dtype: int64"
      ]
     },
     "execution_count": 13,
     "metadata": {},
     "output_type": "execute_result"
    }
   ],
   "source": [
    "# 가장 인기 있는 영화 30개(인기순)\n",
    "movie_count = df_merge.groupby('title')['count1'].count()\n",
    "movie_count.sort_values(ascending=False).head(30)"
   ]
  },
  {
   "cell_type": "markdown",
   "id": "entitled-friendship",
   "metadata": {},
   "source": [
    "## 3) 내가 선호하는 영화를 5가지 골라서 rating에 추가해 줍시다."
   ]
  },
  {
   "cell_type": "markdown",
   "id": "grand-therapy",
   "metadata": {},
   "source": [
    "Silence of the Lambs, The (1991)  \n",
    "Jurassic Park (1993)  \n",
    "Matrix, The (1999)  \n",
    "Ghostbusters (1984)  \n",
    "Bug's Life, A (1998)    \n",
    "좋아하는 영화를 df_merge에 행 추가하기  "
   ]
  },
  {
   "cell_type": "code",
   "execution_count": 14,
   "id": "bigger-solid",
   "metadata": {},
   "outputs": [
    {
     "data": {
      "text/html": [
       "<div>\n",
       "<style scoped>\n",
       "    .dataframe tbody tr th:only-of-type {\n",
       "        vertical-align: middle;\n",
       "    }\n",
       "\n",
       "    .dataframe tbody tr th {\n",
       "        vertical-align: top;\n",
       "    }\n",
       "\n",
       "    .dataframe thead th {\n",
       "        text-align: right;\n",
       "    }\n",
       "</style>\n",
       "<table border=\"1\" class=\"dataframe\">\n",
       "  <thead>\n",
       "    <tr style=\"text-align: right;\">\n",
       "      <th></th>\n",
       "      <th>user_id</th>\n",
       "      <th>movie_id</th>\n",
       "      <th>count1</th>\n",
       "      <th>title</th>\n",
       "    </tr>\n",
       "  </thead>\n",
       "  <tbody>\n",
       "    <tr>\n",
       "      <th>0</th>\n",
       "      <td>inyu</td>\n",
       "      <td>593</td>\n",
       "      <td>5</td>\n",
       "      <td>Silence of the Lambs, The (1991)</td>\n",
       "    </tr>\n",
       "    <tr>\n",
       "      <th>1</th>\n",
       "      <td>inyu</td>\n",
       "      <td>480</td>\n",
       "      <td>5</td>\n",
       "      <td>Jurassic Park (1993)</td>\n",
       "    </tr>\n",
       "    <tr>\n",
       "      <th>2</th>\n",
       "      <td>inyu</td>\n",
       "      <td>42571</td>\n",
       "      <td>5</td>\n",
       "      <td>Matrix, The (1999)</td>\n",
       "    </tr>\n",
       "    <tr>\n",
       "      <th>3</th>\n",
       "      <td>inyu</td>\n",
       "      <td>2716</td>\n",
       "      <td>5</td>\n",
       "      <td>Ghostbusters (1984)</td>\n",
       "    </tr>\n",
       "    <tr>\n",
       "      <th>4</th>\n",
       "      <td>inyu</td>\n",
       "      <td>2355</td>\n",
       "      <td>5</td>\n",
       "      <td>Bug's Life, A (1998)</td>\n",
       "    </tr>\n",
       "  </tbody>\n",
       "</table>\n",
       "</div>"
      ],
      "text/plain": [
       "  user_id  movie_id  count1                             title\n",
       "0    inyu       593       5  Silence of the Lambs, The (1991)\n",
       "1    inyu       480       5              Jurassic Park (1993)\n",
       "2    inyu     42571       5                Matrix, The (1999)\n",
       "3    inyu      2716       5               Ghostbusters (1984)\n",
       "4    inyu      2355       5              Bug's Life, A (1998)"
      ]
     },
     "execution_count": 14,
     "metadata": {},
     "output_type": "execute_result"
    }
   ],
   "source": [
    "movie_id_i_like = [593, 480, 42571, 2716, 2355]\n",
    "\n",
    "title_i_like = ['Silence of the Lambs, The (1991)',\n",
    "               'Jurassic Park (1993)',\n",
    "               'Matrix, The (1999)',\n",
    "               'Ghostbusters (1984)',\n",
    "               'Bug\\'s Life, A (1998)']\n",
    "\n",
    "my_list = pd.DataFrame({'user_id':['inyu']*5, 'movie_id':movie_id_i_like, 'count1':[5]*5, 'title':title_i_like})\n",
    "\n",
    "if not df_merge.isin({'user_id':['inyu']})['user_id'].any():\n",
    "    df_merge = df_merge.append(my_list)\n",
    "    \n",
    "df_merge.tail()"
   ]
  },
  {
   "cell_type": "code",
   "execution_count": 18,
   "id": "polyphonic-poison",
   "metadata": {},
   "outputs": [],
   "source": [
    "# 고유한 유저, 아티스트를 찾아내는 코드\n",
    "user_unique = df_merge['user_id'].unique()\n",
    "title_unique = df_merge['title'].unique()\n",
    "movie_unique = df_merge['title'].unique()\n",
    "\n",
    "# 유저, 아티스트 indexing 하는 코드 idx는 index의 약자입니다.\n",
    "user_to_idx = {v:k for k,v in enumerate(user_unique)}\n",
    "title_to_idx = {v:k for k,v in enumerate(title_unique)}"
   ]
  },
  {
   "cell_type": "code",
   "execution_count": 17,
   "id": "textile-saver",
   "metadata": {},
   "outputs": [
    {
     "data": {
      "text/plain": [
       "array([\"One Flew Over the Cuckoo's Nest (1975)\",\n",
       "       'James and the Giant Peach (1996)', 'My Fair Lady (1964)', ...,\n",
       "       'Promise, The (Versprechen, Das) (1994)',\n",
       "       'Five Wives, Three Secretaries and Me (1998)',\n",
       "       'Identification of a Woman (Identificazione di una donna) (1982)'],\n",
       "      dtype=object)"
      ]
     },
     "execution_count": 17,
     "metadata": {},
     "output_type": "execute_result"
    }
   ],
   "source": [
    "title_unique"
   ]
  },
  {
   "cell_type": "markdown",
   "id": "accomplished-scotland",
   "metadata": {},
   "source": [
    "### 모델에 활용하기 위한 전처리 \n",
    "우리가 다루는 데이터에 indexing 하기. 추천시스템, 자연어처리에서 자주 하는 작업   \n",
    "(참고) pandas.DataFrame.unique()은 indexing 작업에서 매우 유용  "
   ]
  },
  {
   "cell_type": "code",
   "execution_count": 19,
   "id": "relevant-spoke",
   "metadata": {},
   "outputs": [
    {
     "name": "stdout",
     "output_type": "stream",
     "text": [
      "user_id column indexing OK!!\n",
      "title column indexing OK!!\n"
     ]
    },
    {
     "data": {
      "text/html": [
       "<div>\n",
       "<style scoped>\n",
       "    .dataframe tbody tr th:only-of-type {\n",
       "        vertical-align: middle;\n",
       "    }\n",
       "\n",
       "    .dataframe tbody tr th {\n",
       "        vertical-align: top;\n",
       "    }\n",
       "\n",
       "    .dataframe thead th {\n",
       "        text-align: right;\n",
       "    }\n",
       "</style>\n",
       "<table border=\"1\" class=\"dataframe\">\n",
       "  <thead>\n",
       "    <tr style=\"text-align: right;\">\n",
       "      <th></th>\n",
       "      <th>user_id</th>\n",
       "      <th>movie_id</th>\n",
       "      <th>count1</th>\n",
       "      <th>title</th>\n",
       "    </tr>\n",
       "  </thead>\n",
       "  <tbody>\n",
       "    <tr>\n",
       "      <th>0</th>\n",
       "      <td>0</td>\n",
       "      <td>1193</td>\n",
       "      <td>5</td>\n",
       "      <td>0</td>\n",
       "    </tr>\n",
       "    <tr>\n",
       "      <th>1</th>\n",
       "      <td>1</td>\n",
       "      <td>1193</td>\n",
       "      <td>5</td>\n",
       "      <td>0</td>\n",
       "    </tr>\n",
       "    <tr>\n",
       "      <th>2</th>\n",
       "      <td>2</td>\n",
       "      <td>1193</td>\n",
       "      <td>4</td>\n",
       "      <td>0</td>\n",
       "    </tr>\n",
       "    <tr>\n",
       "      <th>3</th>\n",
       "      <td>3</td>\n",
       "      <td>1193</td>\n",
       "      <td>4</td>\n",
       "      <td>0</td>\n",
       "    </tr>\n",
       "    <tr>\n",
       "      <th>4</th>\n",
       "      <td>4</td>\n",
       "      <td>1193</td>\n",
       "      <td>5</td>\n",
       "      <td>0</td>\n",
       "    </tr>\n",
       "    <tr>\n",
       "      <th>...</th>\n",
       "      <td>...</td>\n",
       "      <td>...</td>\n",
       "      <td>...</td>\n",
       "      <td>...</td>\n",
       "    </tr>\n",
       "    <tr>\n",
       "      <th>0</th>\n",
       "      <td>6039</td>\n",
       "      <td>593</td>\n",
       "      <td>5</td>\n",
       "      <td>121</td>\n",
       "    </tr>\n",
       "    <tr>\n",
       "      <th>1</th>\n",
       "      <td>6039</td>\n",
       "      <td>480</td>\n",
       "      <td>5</td>\n",
       "      <td>107</td>\n",
       "    </tr>\n",
       "    <tr>\n",
       "      <th>2</th>\n",
       "      <td>6039</td>\n",
       "      <td>42571</td>\n",
       "      <td>5</td>\n",
       "      <td>124</td>\n",
       "    </tr>\n",
       "    <tr>\n",
       "      <th>3</th>\n",
       "      <td>6039</td>\n",
       "      <td>2716</td>\n",
       "      <td>5</td>\n",
       "      <td>243</td>\n",
       "    </tr>\n",
       "    <tr>\n",
       "      <th>4</th>\n",
       "      <td>6039</td>\n",
       "      <td>2355</td>\n",
       "      <td>5</td>\n",
       "      <td>4</td>\n",
       "    </tr>\n",
       "  </tbody>\n",
       "</table>\n",
       "<p>836483 rows × 4 columns</p>\n",
       "</div>"
      ],
      "text/plain": [
       "    user_id  movie_id  count1  title\n",
       "0         0      1193       5      0\n",
       "1         1      1193       5      0\n",
       "2         2      1193       4      0\n",
       "3         3      1193       4      0\n",
       "4         4      1193       5      0\n",
       "..      ...       ...     ...    ...\n",
       "0      6039       593       5    121\n",
       "1      6039       480       5    107\n",
       "2      6039     42571       5    124\n",
       "3      6039      2716       5    243\n",
       "4      6039      2355       5      4\n",
       "\n",
       "[836483 rows x 4 columns]"
      ]
     },
     "execution_count": 19,
     "metadata": {},
     "output_type": "execute_result"
    }
   ],
   "source": [
    "# indexing을 통해 데이터 컬럼 내 값을 바꾸는 코드\n",
    "# dictionary 자료형의 get 함수는 https://wikidocs.net/16 을 참고하세요.\n",
    "\n",
    "# user_to_idx.get을 통해 user_id 컬럼의 모든 값을 인덱싱한 Series를 구해 봅시다. \n",
    "# 혹시 정상적으로 인덱싱되지 않은 row가 있다면 인덱스가 NaN이 될 테니 dropna()로 제거합니다. \n",
    "temp_user_data = df_merge['user_id'].map(user_to_idx.get).dropna()\n",
    "if len(temp_user_data) == len(df_merge):   # 모든 row가 정상적으로 인덱싱되었다면\n",
    "    print('user_id column indexing OK!!')\n",
    "    df_merge['user_id'] = temp_user_data   # data['user_id']을 인덱싱된 Series로 교체해 줍니다. \n",
    "else:\n",
    "    print('user_id column indexing Fail!!')\n",
    "\n",
    "# artist_to_idx을 통해 artist 컬럼도 동일한 방식으로 인덱싱해 줍니다. \n",
    "temp_title_data = df_merge['title'].map(movie_to_idx.get).dropna()\n",
    "if len(temp_title_data) == len(df_merge):\n",
    "    print('title column indexing OK!!')\n",
    "    df_merge['title'] = temp_title_data\n",
    "else:\n",
    "    print('title column indexing Fail!!')\n",
    "\n",
    "df_merge # data의 user_id와 title 컬럼 내 값들이 모두 정수 인덱스 값으로 잘 변경 => 훈련을 위한 전처리 완료!"
   ]
  },
  {
   "cell_type": "markdown",
   "id": "revised-czech",
   "metadata": {},
   "source": [
    "row가 836178 -> 836483으로 5개 추가 되었음 알 수 있다."
   ]
  },
  {
   "cell_type": "markdown",
   "id": "historic-knife",
   "metadata": {},
   "source": [
    "## 4) CSR matrix를 직접 만들어 봅시다.\n",
    "```\n",
    "csr_matrix((data, (row_ind, col_ind)), [shape=(M, N)])  \n",
    "where data, row_ind and col_ind satisfy the relationship a[row_ind[k], col_ind[k]] = data[k]., M,N은 matrix의 shape\n",
    "```"
   ]
  },
  {
   "cell_type": "code",
   "execution_count": 20,
   "id": "guilty-environment",
   "metadata": {},
   "outputs": [],
   "source": [
    "from scipy.sparse import csr_matrix\n",
    "\n",
    "num_user = df_merge['user_id'].nunique()\n",
    "num_movie = df_merge['title'].nunique()"
   ]
  },
  {
   "cell_type": "code",
   "execution_count": 21,
   "id": "chicken-rapid",
   "metadata": {},
   "outputs": [
    {
     "data": {
      "text/plain": [
       "<6040x3628 sparse matrix of type '<class 'numpy.int64'>'\n",
       "\twith 836483 stored elements in Compressed Sparse Row format>"
      ]
     },
     "execution_count": 21,
     "metadata": {},
     "output_type": "execute_result"
    }
   ],
   "source": [
    "csr_data = csr_matrix((df_merge['count1'], (df_merge.user_id, df_merge.title)), shape = (num_user, num_movie))\n",
    "csr_data"
   ]
  },
  {
   "cell_type": "markdown",
   "id": "olive-survey",
   "metadata": {},
   "source": [
    "## 5) als_model = AlternatingLeastSquares 모델을 직접 구성하여 훈련시켜 봅시다."
   ]
  },
  {
   "cell_type": "markdown",
   "id": "deadly-wealth",
   "metadata": {},
   "source": [
    "Matrix Factorization 모델을 implicit 패키지를 사용하여 학습해 봅시다.  \n",
    "이 패키지에 구현된 als(AlternatingLeastSquares) 모델을 사용하겠습니다.   \n",
    "Matrix Factorization에서 쪼개진 두 Feature Matrix를 한꺼번에 훈련하는 것은 잘 수렴하지 않기 때문에, 한쪽을 고정시키고 다른 쪽을 학습하는 방식을 번갈아 수행하는 AlternatingLeastSquares 방식이 효과적인 것으로 알려져 있습니다.  "
   ]
  },
  {
   "cell_type": "code",
   "execution_count": 22,
   "id": "changing-justice",
   "metadata": {},
   "outputs": [],
   "source": [
    "from implicit.als import AlternatingLeastSquares\n",
    "import os\n",
    "import numpy as np\n",
    "\n",
    "# implicit 라이브러리에서 권장하고 있는 부분. 학습 내용과는 무관.\n",
    "os.environ['OPENBLAS_NUM_THREADS']='1'\n",
    "os.environ['KMP_DUPLICATE_LIB_OK']='True'\n",
    "os.environ['MKL_NUM_THREADS']='1'"
   ]
  },
  {
   "cell_type": "markdown",
   "id": "statewide-notice",
   "metadata": {},
   "source": [
    "AlternatingLeastSquares 클래스의 init 파라미터를 살펴보겠습니다.\n",
    "1. factors : 유저와 아이템의 벡터를 몇 차원으로 할 것인지\n",
    "2. regularization : 과적합을 방지하기 위해 정규화 값을 얼마나 사용할 것인지\n",
    "3. use_gpu : GPU를 사용할 것인지\n",
    "4. iterations : epochs와 같은 의미입니다. 데이터를 몇 번 반복해서 학습할 것인지\n",
    "  \n",
    "1,4를 늘릴수록 학습데이터를 잘 학습하게 되지만 과적합의 우려가 있으니 좋은 값을 찾아야 합니다."
   ]
  },
  {
   "cell_type": "code",
   "execution_count": 23,
   "id": "advance-channels",
   "metadata": {},
   "outputs": [],
   "source": [
    "# Implicit AlternatingLeastSquares 모델의 선언\n",
    "als_model = AlternatingLeastSquares(factors=100, \n",
    "                                    regularization=0.01, \n",
    "                                    use_gpu=False, \n",
    "                                    iterations=15, dtype=np.float32)"
   ]
  },
  {
   "cell_type": "code",
   "execution_count": 24,
   "id": "reduced-channels",
   "metadata": {},
   "outputs": [
    {
     "data": {
      "text/plain": [
       "<3628x6040 sparse matrix of type '<class 'numpy.int64'>'\n",
       "\twith 836483 stored elements in Compressed Sparse Column format>"
      ]
     },
     "execution_count": 24,
     "metadata": {},
     "output_type": "execute_result"
    }
   ],
   "source": [
    "# als 모델은 input으로 (item X user 꼴의 matrix를 받기 때문에 Transpose해줍니다.)\n",
    "csr_data_transpose = csr_data.T\n",
    "csr_data_transpose"
   ]
  },
  {
   "cell_type": "code",
   "execution_count": 25,
   "id": "faced-decade",
   "metadata": {},
   "outputs": [
    {
     "data": {
      "application/vnd.jupyter.widget-view+json": {
       "model_id": "0d12b205fd2544cc82d9cb02d5035cdf",
       "version_major": 2,
       "version_minor": 0
      },
      "text/plain": [
       "  0%|          | 0/15 [00:00<?, ?it/s]"
      ]
     },
     "metadata": {},
     "output_type": "display_data"
    }
   ],
   "source": [
    "# 모델 훈련\n",
    "als_model.fit(csr_data_transpose)"
   ]
  },
  {
   "cell_type": "markdown",
   "id": "chicken-legislature",
   "metadata": {},
   "source": [
    "##  6) 내가 선호하는 5가지 영화 중 하나와 그 외의 영화 하나를 골라 훈련된 모델이 예측한 나의 선호도를 파악해 보세요."
   ]
  },
  {
   "cell_type": "code",
   "execution_count": 26,
   "id": "parallel-discrimination",
   "metadata": {},
   "outputs": [
    {
     "name": "stdout",
     "output_type": "stream",
     "text": [
      "6040\n"
     ]
    },
    {
     "data": {
      "text/plain": [
       "array([   0,    1,    2, ..., 6037, 6038, 6039])"
      ]
     },
     "execution_count": 26,
     "metadata": {},
     "output_type": "execute_result"
    }
   ],
   "source": [
    "# 고유한 유저, 아티스트를 찾아내는 코드\n",
    "user_unique = df_merge['user_id'].unique()\n",
    "movie_unique = df_merge['title'].unique()\n",
    "\n",
    "# 유저, 아티스트 indexing 하는 코드 idx는 index의 약자입니다.\n",
    "user_to_idx = {v:k for k,v in enumerate(user_unique)}\n",
    "movie_to_idx = {v:k for k,v in enumerate(movie_unique)}\n",
    "print(len(user_unique))\n",
    "user_unique"
   ]
  },
  {
   "cell_type": "markdown",
   "id": "seeing-policy",
   "metadata": {},
   "source": [
    "### 나와 내가 선호한 Matrix의 내적"
   ]
  },
  {
   "cell_type": "code",
   "execution_count": 27,
   "id": "diverse-rapid",
   "metadata": {},
   "outputs": [
    {
     "name": "stdout",
     "output_type": "stream",
     "text": [
      "ok\n"
     ]
    }
   ],
   "source": [
    "user, movie = user_to_idx[6039], movie_to_idx[124]  # 124:Matrix, The (1999)\n",
    "user_vector, movie_vector = als_model.user_factors[user], als_model.item_factors[movie]\n",
    "\n",
    "print('ok')"
   ]
  },
  {
   "cell_type": "code",
   "execution_count": 28,
   "id": "stylish-arcade",
   "metadata": {},
   "outputs": [
    {
     "data": {
      "text/plain": [
       "array([-1.5236168e-02,  5.8052145e-02, -1.5299320e-01, -6.7701447e-01,\n",
       "        6.1518973e-01, -1.5307081e-01, -1.2542813e-01, -2.8274587e-01,\n",
       "       -5.4459000e-01,  2.9757455e-01,  2.2660138e-02, -7.8756177e-01,\n",
       "        3.4810323e-01,  3.5542354e-01, -2.3750801e-01,  2.5224990e-01,\n",
       "        6.1987126e-01,  4.5089072e-01,  1.3342901e+00, -4.5710754e-01,\n",
       "        1.2116484e-01,  9.2568052e-01,  6.2104195e-02,  8.3778703e-01,\n",
       "       -6.7921184e-02, -8.5200316e-01, -6.1360228e-01, -9.2960936e-01,\n",
       "        1.1614891e-01, -2.8196093e-01,  4.4165310e-01,  8.8177514e-01,\n",
       "        1.3272965e-01, -8.2561141e-03, -3.2144198e-01, -2.1706349e-01,\n",
       "        1.4133475e+00, -9.0122201e-02,  2.5290608e-01,  6.2376118e-01,\n",
       "       -2.7666166e-01,  4.0630397e-01,  1.4021793e-02, -1.6297716e-01,\n",
       "        6.9792873e-01, -5.1046282e-01,  4.9828760e-02, -4.6364492e-01,\n",
       "        1.9202955e-01, -4.0349093e-01, -9.2663074e-01, -3.6148775e-01,\n",
       "       -7.7428639e-02, -1.4923804e-01,  3.6461383e-01, -4.5636100e-01,\n",
       "       -5.1583713e-01, -1.5710936e-01, -1.9626115e-01,  2.4529397e-01,\n",
       "       -6.4473468e-01,  5.0662696e-02, -2.3520128e-01, -2.5537950e-01,\n",
       "        3.5281393e-01, -4.8749259e-01,  4.1639170e-01,  7.9822576e-01,\n",
       "        3.9972484e-01,  1.2284265e-01,  6.3065219e-01, -6.0784351e-02,\n",
       "       -1.5688922e-01, -1.0153087e+00,  5.9979415e-01,  7.8641486e-01,\n",
       "        1.4196651e-04,  4.9339238e-01, -1.3432883e+00,  5.3065109e-01,\n",
       "        1.5903455e-01, -4.5270553e-01, -3.5412915e-02,  2.1724303e-01,\n",
       "        1.3443087e-01,  7.6837701e-01,  2.1221554e-01, -5.0379008e-01,\n",
       "        2.9136613e-01, -8.9377093e-01,  1.2796181e-01,  4.3819425e-01,\n",
       "       -3.5896391e-01, -4.7804487e-01,  5.1273388e-01,  5.8474410e-01,\n",
       "       -8.1357017e-02, -5.4866010e-01,  6.7252183e-01, -6.1458045e-01],\n",
       "      dtype=float32)"
      ]
     },
     "execution_count": 28,
     "metadata": {},
     "output_type": "execute_result"
    }
   ],
   "source": [
    "user_vector"
   ]
  },
  {
   "cell_type": "code",
   "execution_count": 29,
   "id": "amino-geology",
   "metadata": {},
   "outputs": [
    {
     "data": {
      "text/plain": [
       "array([ 0.01763114,  0.01650981,  0.0027351 , -0.0081425 ,  0.00813866,\n",
       "        0.03084476,  0.00468973, -0.00360374, -0.01716575,  0.00415077,\n",
       "        0.01490416, -0.00674123,  0.03584789,  0.03803024, -0.00059114,\n",
       "        0.01068634,  0.01248632, -0.01112321,  0.02741348, -0.02403677,\n",
       "       -0.00813989,  0.0298785 ,  0.03889809,  0.04003103,  0.0076413 ,\n",
       "       -0.01340166, -0.01905148, -0.00280073,  0.01042582,  0.01144323,\n",
       "        0.01778906,  0.01603164, -0.00409327,  0.01407538, -0.00175621,\n",
       "        0.0041545 ,  0.01758534,  0.0128152 ,  0.00986454,  0.01377301,\n",
       "       -0.01473454,  0.00772766, -0.01563272,  0.01178577,  0.05600795,\n",
       "       -0.01151151,  0.01026739,  0.0093149 ,  0.02305096, -0.02138852,\n",
       "       -0.01477145, -0.0221703 ,  0.0018959 , -0.01927603,  0.03047724,\n",
       "        0.00244005,  0.00817861,  0.00850403, -0.00738319, -0.00046213,\n",
       "       -0.00826979,  0.0110811 , -0.00644955, -0.01210919, -0.01800833,\n",
       "       -0.01746245, -0.00659101,  0.01358022,  0.00187661,  0.03013528,\n",
       "        0.00403946, -0.01010049,  0.01699411, -0.00969617,  0.02056784,\n",
       "        0.01909779, -0.0044639 ,  0.02562543, -0.02703801,  0.00043111,\n",
       "        0.00584146,  0.01924438, -0.00175979, -0.00033633,  0.02715117,\n",
       "        0.02587726,  0.0044232 ,  0.00081777,  0.0250165 , -0.00377029,\n",
       "        0.0129305 , -0.00371145, -0.0107055 , -0.00128456,  0.01153586,\n",
       "       -0.00388898,  0.02333024, -0.00358281,  0.01335747, -0.01828811],\n",
       "      dtype=float32)"
      ]
     },
     "execution_count": 29,
     "metadata": {},
     "output_type": "execute_result"
    }
   ],
   "source": [
    "movie_vector"
   ]
  },
  {
   "cell_type": "code",
   "execution_count": 30,
   "id": "packed-richmond",
   "metadata": {},
   "outputs": [
    {
     "data": {
      "text/plain": [
       "0.5003752"
      ]
     },
     "execution_count": 30,
     "metadata": {},
     "output_type": "execute_result"
    }
   ],
   "source": [
    "# 내적 \n",
    "np.dot(user_vector, movie_vector)"
   ]
  },
  {
   "cell_type": "markdown",
   "id": "steady-dallas",
   "metadata": {},
   "source": [
    "### 나와 선택하지 않은 영화와의 내적"
   ]
  },
  {
   "cell_type": "code",
   "execution_count": 31,
   "id": "accomplished-coordinate",
   "metadata": {},
   "outputs": [
    {
     "name": "stdout",
     "output_type": "stream",
     "text": [
      "ok\n"
     ]
    }
   ],
   "source": [
    "movie = movie_to_idx[0]\n",
    "movie_vector = als_model.item_factors[movie]\n",
    "\n",
    "print('ok')"
   ]
  },
  {
   "cell_type": "code",
   "execution_count": 32,
   "id": "convinced-shelter",
   "metadata": {},
   "outputs": [
    {
     "data": {
      "text/plain": [
       "0.15195316"
      ]
     },
     "execution_count": 32,
     "metadata": {},
     "output_type": "execute_result"
    }
   ],
   "source": [
    "# 내적 \n",
    "np.dot(user_vector, movie_vector)"
   ]
  },
  {
   "cell_type": "markdown",
   "id": "sitting-writer",
   "metadata": {},
   "source": [
    "선호했던 영화인 Matrix가 훨씬 높게 나왔다. \n",
    "\n",
    "## 7) 내가 좋아하는 영화와 비슷한 영화를 추천받아 봅시다.\n",
    "\n",
    "### Matrix와 비슷한 영화 찾기"
   ]
  },
  {
   "cell_type": "code",
   "execution_count": 35,
   "id": "deadly-paper",
   "metadata": {},
   "outputs": [
    {
     "data": {
      "text/plain": [
       "[(124, 1.0),\n",
       " (92, 0.76602876),\n",
       " (62, 0.67572033),\n",
       " (141, 0.5692349),\n",
       " (200, 0.5557176),\n",
       " (145, 0.5401492),\n",
       " (107, 0.5385402),\n",
       " (375, 0.5173924),\n",
       " (317, 0.48700166),\n",
       " (175, 0.47558168),\n",
       " (75, 0.44990253),\n",
       " (44, 0.40533444),\n",
       " (479, 0.39636078),\n",
       " (3457, 0.39209622),\n",
       " (117, 0.38591465)]"
      ]
     },
     "execution_count": 35,
     "metadata": {},
     "output_type": "execute_result"
    }
   ],
   "source": [
    "movie_id = title_to_idx['Matrix, The (1999)']\n",
    "similar_movie = als_model.similar_items(movie_id, N=15)\n",
    "similar_movie"
   ]
  },
  {
   "cell_type": "code",
   "execution_count": 36,
   "id": "capable-turkish",
   "metadata": {},
   "outputs": [
    {
     "data": {
      "text/plain": [
       "['Matrix, The (1999)',\n",
       " 'Terminator 2: Judgment Day (1991)',\n",
       " 'Total Recall (1990)',\n",
       " 'Fugitive, The (1993)',\n",
       " 'Terminator, The (1984)',\n",
       " 'Fifth Element, The (1997)',\n",
       " 'Jurassic Park (1993)',\n",
       " 'Face/Off (1997)',\n",
       " 'Twelve Monkeys (1995)',\n",
       " 'Men in Black (1997)',\n",
       " 'Hunt for Red October, The (1990)',\n",
       " 'Star Wars: Episode IV - A New Hope (1977)',\n",
       " 'Contact (1997)',\n",
       " 'Second Jungle Book: Mowgli & Baloo, The (1997)',\n",
       " 'Star Wars: Episode V - The Empire Strikes Back (1980)']"
      ]
     },
     "execution_count": 36,
     "metadata": {},
     "output_type": "execute_result"
    }
   ],
   "source": [
    "idx_to_title = {v:k for k,v in title_to_idx.items()}\n",
    "[idx_to_title[i[0]] for i in similar_movie]"
   ]
  },
  {
   "cell_type": "code",
   "execution_count": null,
   "id": "upset-boutique",
   "metadata": {},
   "outputs": [],
   "source": []
  },
  {
   "cell_type": "markdown",
   "id": "tutorial-qatar",
   "metadata": {},
   "source": [
    "## 8) 내가 가장 좋아할 만한 영화들을 추천받아 봅시다.\n",
    "filter_already_liked_items 는 유저가 이미 평가한 아이템은 제외하는 Argument입니다."
   ]
  },
  {
   "cell_type": "code",
   "execution_count": 38,
   "id": "polar-nicaragua",
   "metadata": {},
   "outputs": [
    {
     "data": {
      "text/plain": [
       "[(92, 0.5772772),\n",
       " (175, 0.4486088),\n",
       " (38, 0.43748623),\n",
       " (50, 0.43075442),\n",
       " (22, 0.36044097),\n",
       " (62, 0.3603616),\n",
       " (40, 0.35440832),\n",
       " (87, 0.34632096),\n",
       " (670, 0.34260386),\n",
       " (157, 0.32908222),\n",
       " (51, 0.31989655),\n",
       " (48, 0.31678632),\n",
       " (201, 0.29305565),\n",
       " (141, 0.2830807),\n",
       " (23, 0.2759973)]"
      ]
     },
     "execution_count": 38,
     "metadata": {},
     "output_type": "execute_result"
    }
   ],
   "source": [
    "user = user_to_idx[6039]\n",
    "# recommend에서는 user*item CSR Matrix를 받습니다.\n",
    "recommended_movie = als_model.recommend(user, csr_data, N=15, filter_already_liked_items=True)\n",
    "recommended_movie"
   ]
  },
  {
   "cell_type": "code",
   "execution_count": 40,
   "id": "graphic-fault",
   "metadata": {},
   "outputs": [
    {
     "data": {
      "text/plain": [
       "['Terminator 2: Judgment Day (1991)',\n",
       " 'Men in Black (1997)',\n",
       " 'Sixth Sense, The (1999)',\n",
       " 'Toy Story 2 (1999)',\n",
       " 'Back to the Future (1985)',\n",
       " 'Total Recall (1990)',\n",
       " 'Toy Story (1995)',\n",
       " 'Braveheart (1995)',\n",
       " 'Galaxy Quest (1999)',\n",
       " 'Shawshank Redemption, The (1994)',\n",
       " 'Fargo (1996)',\n",
       " 'Saving Private Ryan (1998)',\n",
       " 'Who Framed Roger Rabbit? (1988)',\n",
       " 'Fugitive, The (1993)',\n",
       " \"Schindler's List (1993)\"]"
      ]
     },
     "execution_count": 40,
     "metadata": {},
     "output_type": "execute_result"
    }
   ],
   "source": [
    "# idx_to_movie = {v:k for k, v in movie_to_idx.items()}\n",
    "[idx_to_title[i[0]] for i in recommended_movie]"
   ]
  },
  {
   "cell_type": "markdown",
   "id": "upper-pillow",
   "metadata": {},
   "source": [
    "### 기여도 확인"
   ]
  },
  {
   "cell_type": "code",
   "execution_count": 41,
   "id": "missing-certification",
   "metadata": {},
   "outputs": [],
   "source": [
    "Terminator_2 = title_to_idx['Terminator 2: Judgment Day (1991)']\n",
    "explain = als_model.explain(user, csr_data, itemid=Terminator_2)"
   ]
  },
  {
   "cell_type": "code",
   "execution_count": 42,
   "id": "beneficial-consequence",
   "metadata": {},
   "outputs": [
    {
     "data": {
      "text/plain": [
       "[('Matrix, The (1999)', 0.2513350074092975),\n",
       " ('Jurassic Park (1993)', 0.22282198327825603),\n",
       " ('Silence of the Lambs, The (1991)', 0.06417000994382652),\n",
       " (\"Bug's Life, A (1998)\", 0.03286785882784831),\n",
       " ('Ghostbusters (1984)', -0.0028485334033038763)]"
      ]
     },
     "execution_count": 42,
     "metadata": {},
     "output_type": "execute_result"
    }
   ],
   "source": [
    "[(idx_to_title[i[0]], i[1]) for i in explain[1]]"
   ]
  },
  {
   "cell_type": "markdown",
   "id": "brave-andrews",
   "metadata": {},
   "source": [
    "# 루브릭"
   ]
  },
  {
   "cell_type": "markdown",
   "id": "peripheral-heater",
   "metadata": {},
   "source": [
    "평가문항\n",
    "1. CSR matrix가 정상적으로 만들어졌다.  \n",
    "사용자와 아이템 개수를 바탕으로 정확한 사이즈로 만들었다.  \n",
    "-> 6040x3628 sparse matrix 크기로 만들었다.   \n",
    "  \n",
    "2. MF 모델이 정상적으로 훈련되어 그럴듯한 추천이 이루어졌다.  \n",
    "사용자와 아이템 벡터 내적수치가 의미있게 형성되었다.  \n",
    "-> 내가 5점을 준 영화는 0.5 정도가 나왔고, 내가 선택하지 않은 영화 0.15로 멀리 나왔다.   \n",
    "   \n",
    "3. 비슷한 영화 찾기와 유저에게 추천하기의 과정이 정상적으로 진행되었다.  \n",
    "MF모델이 예측한 유저 선호도 및 아이템간 유사도, 기여도가 의미있게 측정되었다.  \n",
    "-> 실제로 영화 'Men in Black'의 다른 편은 재미있게 봤었는데 추천해 떠서 한 번 찾아봐야겠다고 생각했다. \n",
    "아무래도 기여도가 큰 영화 'Matrix'와 비슷한 장르여서인거 같다."
   ]
  },
  {
   "cell_type": "markdown",
   "id": "pending-nicholas",
   "metadata": {},
   "source": [
    "# 고찰"
   ]
  },
  {
   "cell_type": "markdown",
   "id": "insured-shower",
   "metadata": {},
   "source": [
    "우선 original data에 있던 'genre'를 활용하지 못한 점이 아쉬웠다. 나중에는 genre까지 이용해서 추천 시스템을 만들 수 있으면 좋겠다.  \n",
    "해커톤과 설날까지 껴서 촉박한 감도 있었지만, 결과가 생각보다 유의미한 결과여서 뿌듯했다.  \n",
    "\n",
    "***\n",
    "+ als(AlternatingLeastSquares) 모델 복습\n",
    "+ indexing code 스스로 쳐보기"
   ]
  },
  {
   "cell_type": "code",
   "execution_count": null,
   "id": "champion-clark",
   "metadata": {},
   "outputs": [],
   "source": []
  }
 ],
 "metadata": {
  "kernelspec": {
   "display_name": "aiffel",
   "language": "python",
   "name": "aiffel"
  },
  "language_info": {
   "codemirror_mode": {
    "name": "ipython",
    "version": 3
   },
   "file_extension": ".py",
   "mimetype": "text/x-python",
   "name": "python",
   "nbconvert_exporter": "python",
   "pygments_lexer": "ipython3",
   "version": "3.7.9"
  },
  "toc": {
   "base_numbering": 1,
   "nav_menu": {},
   "number_sections": true,
   "sideBar": true,
   "skip_h1_title": false,
   "title_cell": "Table of Contents",
   "title_sidebar": "Contents",
   "toc_cell": false,
   "toc_position": {
    "height": "calc(100% - 180px)",
    "left": "10px",
    "top": "150px",
    "width": "539.547px"
   },
   "toc_section_display": true,
   "toc_window_display": true
  },
  "varInspector": {
   "cols": {
    "lenName": 16,
    "lenType": 16,
    "lenVar": 40
   },
   "kernels_config": {
    "python": {
     "delete_cmd_postfix": "",
     "delete_cmd_prefix": "del ",
     "library": "var_list.py",
     "varRefreshCmd": "print(var_dic_list())"
    },
    "r": {
     "delete_cmd_postfix": ") ",
     "delete_cmd_prefix": "rm(",
     "library": "var_list.r",
     "varRefreshCmd": "cat(var_dic_list()) "
    }
   },
   "types_to_exclude": [
    "module",
    "function",
    "builtin_function_or_method",
    "instance",
    "_Feature"
   ],
   "window_display": false
  }
 },
 "nbformat": 4,
 "nbformat_minor": 5
}
