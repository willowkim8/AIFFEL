{
 "cells": [
  {
   "cell_type": "markdown",
   "metadata": {},
   "source": [
    "## (E4)Sentimental_Analysis_of_Movie_Dataset_from_NAVER_InYu\n",
    "### 1) 데이터 준비와 확인 & 2) 데이터로더 구성 \n",
    "네이버 리뷰를 다운 받아서 다음과 같이 준비한다.\n",
    "1. 중복 리뷰 삭제\n",
    "2. Null 샘플 제거\n",
    "3. 불용어 제거 -> 형태소 분석을 기준으로 토큰화 한다.  \n",
    "    **위에서 저장된 x_train은 빈도가 높은 순으로 정수를 부여받는다.** 그래서 이중에서 가장 빈도 수가 많은 9996개의 단어로 리스트를만들어서 정수로 인코딩해준다. 앞에는 \\<BOS>, \\<PAD>, \\<UNK>, \\<UNUSED>는 관례적으로 딕셔너리 맨 앞에 넣어줍니다. \n",
    "4. 정수로 인코딩    \n",
    "5. load_data"
   ]
  },
  {
   "cell_type": "code",
   "execution_count": 1,
   "metadata": {
    "scrolled": true
   },
   "outputs": [
    {
     "name": "stdout",
     "output_type": "stream",
     "text": [
      "146182\n",
      "49157\n"
     ]
    }
   ],
   "source": [
    "import pandas as pd\n",
    "import urllib.request\n",
    "%matplotlib inline\n",
    "import matplotlib.pyplot as plt\n",
    "import re\n",
    "from konlpy.tag import Okt\n",
    "from tensorflow import keras\n",
    "from tensorflow.keras.preprocessing.text import Tokenizer\n",
    "import numpy as np\n",
    "from tensorflow.keras.preprocessing.sequence import pad_sequences\n",
    "from collections import Counter\n",
    "from tensorflow.python.keras.callbacks import EarlyStopping\n",
    "\n",
    "train_data = pd.read_table('~/aiffel/sentiment_classification/ratings_train.txt')\n",
    "test_data = pd.read_table('~/aiffel/sentiment_classification/ratings_test.txt')\n",
    "\n",
    "from konlpy.tag import Mecab\n",
    "tokenizer = Mecab()\n",
    "stopwords = ['의','가','이','은','들','는','좀','잘','걍','과','도','를','으로','자','에','와','한','하다']\n",
    "\n",
    "def load_data(train_data, test_data, num_words=10000):\n",
    "    train_data.drop_duplicates(subset=['document'], inplace=True) # 중복 리뷰 삭제\n",
    "    train_data = train_data.dropna(how = 'any') # Null 샘플 제거\n",
    "    test_data.drop_duplicates(subset=['document'], inplace=True) \n",
    "    test_data = test_data.dropna(how = 'any') \n",
    "\n",
    "    x_train = []\n",
    "    for sentence in train_data['document']:\n",
    "        temp_x = tokenizer.morphs(sentence) # 토큰화\n",
    "        temp_x = [word for word in temp_x if not word in stopwords] # 불용어 제거\n",
    "        x_train.append(temp_x)\n",
    "\n",
    "    x_test = []\n",
    "    for sentence in test_data['document']:\n",
    "        temp_x = tokenizer.morphs(sentence) # 토큰화\n",
    "        temp_x = [word for word in temp_x if not word in stopwords] # 불용어 제거\n",
    "        x_test.append(temp_x)\n",
    "\n",
    "    # 정수로 인코딩\n",
    "    words = np.concatenate(x_train).tolist()\n",
    "    counter = Counter(words)\n",
    "    counter = counter.most_common(10000-4)    \n",
    "    vocab = ['<PAD>', '<BOS>', '<UNK>', '<UNUSED>'] + [key for key, _ in counter]\n",
    "    word_to_index = {word:index for index, word in enumerate(vocab)} # enumerate 열거하다\n",
    "\n",
    "    def wordlist_to_indexlist(wordlist):\n",
    "        return [word_to_index[word] if word in word_to_index else word_to_index['<UNK>'] for word in wordlist]\n",
    "\n",
    "    x_train = list(map(wordlist_to_indexlist, x_train))\n",
    "    x_test = list(map(wordlist_to_indexlist, x_test))\n",
    "\n",
    "    return x_train, np.array(list(train_data['label'])), x_test, np.array(list(test_data['label'])), word_to_index\n",
    "\n",
    "x_train, y_train, x_test, y_test, word_to_index = load_data(train_data, test_data) # load_data\n",
    "\n",
    "print(len(x_train))\n",
    "print(len(x_test))"
   ]
  },
  {
   "cell_type": "code",
   "execution_count": 2,
   "metadata": {},
   "outputs": [],
   "source": [
    "index_to_word = {index:word for word, index in word_to_index.items()}"
   ]
  },
  {
   "cell_type": "code",
   "execution_count": 3,
   "metadata": {},
   "outputs": [
    {
     "data": {
      "text/html": [
       "<div>\n",
       "<style scoped>\n",
       "    .dataframe tbody tr th:only-of-type {\n",
       "        vertical-align: middle;\n",
       "    }\n",
       "\n",
       "    .dataframe tbody tr th {\n",
       "        vertical-align: top;\n",
       "    }\n",
       "\n",
       "    .dataframe thead th {\n",
       "        text-align: right;\n",
       "    }\n",
       "</style>\n",
       "<table border=\"1\" class=\"dataframe\">\n",
       "  <thead>\n",
       "    <tr style=\"text-align: right;\">\n",
       "      <th></th>\n",
       "      <th>id</th>\n",
       "      <th>document</th>\n",
       "      <th>label</th>\n",
       "    </tr>\n",
       "  </thead>\n",
       "  <tbody>\n",
       "    <tr>\n",
       "      <th>0</th>\n",
       "      <td>9976970</td>\n",
       "      <td>아 더빙.. 진짜 짜증나네요 목소리</td>\n",
       "      <td>0</td>\n",
       "    </tr>\n",
       "    <tr>\n",
       "      <th>1</th>\n",
       "      <td>3819312</td>\n",
       "      <td>흠...포스터보고 초딩영화줄....오버연기조차 가볍지 않구나</td>\n",
       "      <td>1</td>\n",
       "    </tr>\n",
       "    <tr>\n",
       "      <th>2</th>\n",
       "      <td>10265843</td>\n",
       "      <td>너무재밓었다그래서보는것을추천한다</td>\n",
       "      <td>0</td>\n",
       "    </tr>\n",
       "    <tr>\n",
       "      <th>3</th>\n",
       "      <td>9045019</td>\n",
       "      <td>교도소 이야기구먼 ..솔직히 재미는 없다..평점 조정</td>\n",
       "      <td>0</td>\n",
       "    </tr>\n",
       "    <tr>\n",
       "      <th>4</th>\n",
       "      <td>6483659</td>\n",
       "      <td>사이몬페그의 익살스런 연기가 돋보였던 영화!스파이더맨에서 늙어보이기만 했던 커스틴 ...</td>\n",
       "      <td>1</td>\n",
       "    </tr>\n",
       "  </tbody>\n",
       "</table>\n",
       "</div>"
      ],
      "text/plain": [
       "         id                                           document  label\n",
       "0   9976970                                아 더빙.. 진짜 짜증나네요 목소리      0\n",
       "1   3819312                  흠...포스터보고 초딩영화줄....오버연기조차 가볍지 않구나      1\n",
       "2  10265843                                  너무재밓었다그래서보는것을추천한다      0\n",
       "3   9045019                      교도소 이야기구먼 ..솔직히 재미는 없다..평점 조정      0\n",
       "4   6483659  사이몬페그의 익살스런 연기가 돋보였던 영화!스파이더맨에서 늙어보이기만 했던 커스틴 ...      1"
      ]
     },
     "execution_count": 3,
     "metadata": {},
     "output_type": "execute_result"
    }
   ],
   "source": [
    "# 데이터 확인해보기\n",
    "train_data[:5] # label 0은 부정 평가, 1은 긍정 평가"
   ]
  },
  {
   "cell_type": "markdown",
   "metadata": {},
   "source": [
    "### 3) 모델구성을 위한 데이터 분석 및 가공\n",
    "\n",
    "문장 길이를 평준화해서 벡터의 길이는 조정한다.  \n",
    "Embedding 레이어의 인풋이 되는 문장 벡터는 그 길이가 일정해야 하기 때문이다.  \n",
    "긴 문장은 자르고 짧은 단어는 \\<PAD>를 패딩해서 길이를 맞춰준다."
   ]
  },
  {
   "cell_type": "code",
   "execution_count": 4,
   "metadata": {},
   "outputs": [
    {
     "name": "stdout",
     "output_type": "stream",
     "text": [
      "문장길이 평균 :  15.96938143432699\n",
      "문장길이 최대 :  116\n",
      "문장길이 표준편차 :  12.843571939469296\n",
      "pad_sequences maxlen :  47\n",
      "전체 문장의 95.2175448835102%가 maxlen 설정값 이내에 포함됩니다. \n"
     ]
    }
   ],
   "source": [
    "total_data_text = list(x_train) + list(x_test)\n",
    "# 텍스트 데이터 문장길이의 리스트를 생성한 후\n",
    "num_tokens = [len(tokens) for tokens in total_data_text]\n",
    "num_tokens = np.array(num_tokens)\n",
    "# 문장길이의 평균값, 최대값, 표준편차를 계산해 본다. \n",
    "print('문장길이 평균 : ', np.mean(num_tokens))\n",
    "print('문장길이 최대 : ', np.max(num_tokens))\n",
    "print('문장길이 표준편차 : ', np.std(num_tokens))\n",
    "\n",
    "# 예를들어, 최대 길이를 (평균 + 2*표준편차)로 한다면,  \n",
    "max_tokens = np.mean(num_tokens) + round(2.5 * np.std(num_tokens))\n",
    "maxlen = int(max_tokens)\n",
    "print('pad_sequences maxlen : ', maxlen)\n",
    "print('전체 문장의 {}%가 maxlen 설정값 이내에 포함됩니다. '.format(np.sum(num_tokens < max_tokens)*100 / len(num_tokens)))"
   ]
  },
  {
   "cell_type": "markdown",
   "metadata": {},
   "source": [
    "RNN은 입력데이터가 순차적으로 처리되기 때문에 가장 마지막 입력이 최종 state 값에 가장 영향을 많이 미치게 됩니다. 그러므로 마지막 입력이 무의미한 padding으로 채워지는 것은 비효율적입니다. 따라서 'pre'가 훨씬 유리합니다."
   ]
  },
  {
   "cell_type": "code",
   "execution_count": 5,
   "metadata": {},
   "outputs": [],
   "source": [
    "# 위의 maxlen 값에 맞춰서 패딩\n",
    "# post는 data 뒤에 패딩, pre는 data 앞에 패딩\n",
    "# keras.preprocessing.sequence.pad_sequences 을 활용한 패딩 추가\n",
    "x_train = keras.preprocessing.sequence.pad_sequences(x_train,\n",
    "                                                       value=word_to_index[\"<PAD>\"],\n",
    "                                                       padding='pre',\n",
    "                                                       maxlen=maxlen)\n",
    "\n",
    "x_test = keras.preprocessing.sequence.pad_sequences(x_test,\n",
    "                                                      value=word_to_index[\"<PAD>\"],\n",
    "                                                      padding='pre',\n",
    "                                                      maxlen=maxlen)"
   ]
  },
  {
   "cell_type": "markdown",
   "metadata": {},
   "source": [
    "### 4) 모델구성 및 validation set 구성\n",
    "1. LSTM\n",
    "2. CNN\n",
    "3. GlobMP\n",
    "\n",
    "총 3가지로 구성했습니다."
   ]
  },
  {
   "cell_type": "code",
   "execution_count": 6,
   "metadata": {},
   "outputs": [
    {
     "name": "stdout",
     "output_type": "stream",
     "text": [
      "Model: \"sequential\"\n",
      "_________________________________________________________________\n",
      "Layer (type)                 Output Shape              Param #   \n",
      "=================================================================\n",
      "embedding (Embedding)        (None, None, 8)           80000     \n",
      "_________________________________________________________________\n",
      "lstm (LSTM)                  (None, 128)               70144     \n",
      "_________________________________________________________________\n",
      "dense (Dense)                (None, 1)                 129       \n",
      "=================================================================\n",
      "Total params: 150,273\n",
      "Trainable params: 150,273\n",
      "Non-trainable params: 0\n",
      "_________________________________________________________________\n",
      "Model: \"sequential_1\"\n",
      "_________________________________________________________________\n",
      "Layer (type)                 Output Shape              Param #   \n",
      "=================================================================\n",
      "embedding_1 (Embedding)      (None, None, 8)           80000     \n",
      "_________________________________________________________________\n",
      "conv1d (Conv1D)              (None, None, 16)          912       \n",
      "_________________________________________________________________\n",
      "max_pooling1d (MaxPooling1D) (None, None, 16)          0         \n",
      "_________________________________________________________________\n",
      "conv1d_1 (Conv1D)            (None, None, 16)          1808      \n",
      "_________________________________________________________________\n",
      "global_max_pooling1d (Global (None, 16)                0         \n",
      "_________________________________________________________________\n",
      "dense_1 (Dense)              (None, 8)                 136       \n",
      "_________________________________________________________________\n",
      "dense_2 (Dense)              (None, 1)                 9         \n",
      "=================================================================\n",
      "Total params: 82,865\n",
      "Trainable params: 82,865\n",
      "Non-trainable params: 0\n",
      "_________________________________________________________________\n",
      "Model: \"sequential_2\"\n",
      "_________________________________________________________________\n",
      "Layer (type)                 Output Shape              Param #   \n",
      "=================================================================\n",
      "embedding_2 (Embedding)      (None, None, 8)           80000     \n",
      "_________________________________________________________________\n",
      "global_max_pooling1d_1 (Glob (None, 8)                 0         \n",
      "_________________________________________________________________\n",
      "dense_3 (Dense)              (None, 8)                 72        \n",
      "_________________________________________________________________\n",
      "dense_4 (Dense)              (None, 1)                 9         \n",
      "=================================================================\n",
      "Total params: 80,081\n",
      "Trainable params: 80,081\n",
      "Non-trainable params: 0\n",
      "_________________________________________________________________\n"
     ]
    }
   ],
   "source": [
    "from tensorflow.keras.layers import Embedding, Dense, LSTM\n",
    "from tensorflow.keras.models import Sequential\n",
    "from tensorflow.keras.models import load_model\n",
    "from tensorflow.keras.callbacks import EarlyStopping, ModelCheckpoint\n",
    "\n",
    "vocab_size = 10000    # 어휘 사전의 크기입니다(10,000개의 단어)\n",
    "word_vector_dim = 8  # 워드 벡터의 차원수 (변경가능한 하이퍼파라미터)\n",
    "\n",
    "#LSTM\n",
    "model_LSTM = Sequential()\n",
    "model_LSTM.add(Embedding(vocab_size, word_vector_dim))\n",
    "model_LSTM.add(LSTM(128))\n",
    "model_LSTM.add(Dense(1, activation='sigmoid'))\n",
    "\n",
    "\n",
    "#CNN\n",
    "model_CNN = keras.Sequential()\n",
    "model_CNN.add(keras.layers.Embedding(vocab_size, word_vector_dim, input_shape=(None,)))\n",
    "model_CNN.add(keras.layers.Conv1D(16, 7, activation='relu'))\n",
    "model_CNN.add(keras.layers.MaxPooling1D(5))\n",
    "model_CNN.add(keras.layers.Conv1D(16, 7, activation='relu'))\n",
    "model_CNN.add(keras.layers.GlobalMaxPooling1D())\n",
    "model_CNN.add(keras.layers.Dense(8, activation='relu'))\n",
    "model_CNN.add(keras.layers.Dense(1, activation='sigmoid'))  # 최종 출력은 긍정/부정을 나타내는 1dim 입니다.\n",
    "\n",
    "\n",
    "#GlobalMaxPooling1D() 레이어 하나만 사용하는 방법\n",
    "#전체 문장 중에서 단 하나의 가장 중요한 단어만 피처로 추출하여 그것으로 문장의 긍정/부정을 평가하는 방식\n",
    "model_GlobMP = keras.Sequential()\n",
    "model_GlobMP.add(keras.layers.Embedding(vocab_size, word_vector_dim, input_shape=(None,)))\n",
    "model_GlobMP.add(keras.layers.GlobalMaxPooling1D())\n",
    "#model_GlobMP.add(keras.layers.Dropout(0.3))\n",
    "model_GlobMP.add(keras.layers.Dense(8, activation='relu'))\n",
    "#model_GlobMP.add(keras.layers.Dropout(0.3))\n",
    "model_GlobMP.add(keras.layers.Dense(1, activation='sigmoid'))  # 최종 출력은 긍정/부정을 나타내는 1dim 입니다.\n",
    "\n",
    "\n",
    "model_LSTM.summary()\n",
    "model_CNN.summary()\n",
    "model_GlobMP.summary()"
   ]
  },
  {
   "cell_type": "markdown",
   "metadata": {},
   "source": [
    "**영석님이 알려준** callbacks 내용을 추가해서 학습한다.  \n",
    "검증 데이터 손실(val_loss)이 증가하면, 과적합 징후므로 검증 데이터 손실이 4회 증가하면 학습을 조기 종료(Early Stopping)합니다. 또한, ModelCheckpoint를 사용하여 검증 데이터의 정확도(val_acc)가 이전보다 좋아질 경우에만 모델을 저장합니다."
   ]
  },
  {
   "cell_type": "code",
   "execution_count": 8,
   "metadata": {},
   "outputs": [
    {
     "name": "stdout",
     "output_type": "stream",
     "text": [
      "LSTM------------------------------------------------------------------------------------------------------\n",
      "Epoch 1/10\n",
      "1169/1170 [============================>.] - ETA: 0s - loss: 0.4231 - acc: 0.8054\n",
      "Epoch 00001: val_acc improved from -inf to 0.84321, saving model to best_model_LSTM.h5\n",
      "1170/1170 [==============================] - 56s 48ms/step - loss: 0.4231 - acc: 0.8054 - val_loss: 0.3597 - val_acc: 0.8432\n",
      "Epoch 2/10\n",
      "1169/1170 [============================>.] - ETA: 0s - loss: 0.3446 - acc: 0.8526\n",
      "Epoch 00002: val_acc improved from 0.84321 to 0.84944, saving model to best_model_LSTM.h5\n",
      "1170/1170 [==============================] - 54s 46ms/step - loss: 0.3446 - acc: 0.8526 - val_loss: 0.3489 - val_acc: 0.8494\n",
      "Epoch 3/10\n",
      "1170/1170 [==============================] - ETA: 0s - loss: 0.3261 - acc: 0.8605\n",
      "Epoch 00003: val_acc improved from 0.84944 to 0.85395, saving model to best_model_LSTM.h5\n",
      "1170/1170 [==============================] - 54s 46ms/step - loss: 0.3261 - acc: 0.8605 - val_loss: 0.3353 - val_acc: 0.8540\n",
      "Epoch 4/10\n",
      "1169/1170 [============================>.] - ETA: 0s - loss: 0.3091 - acc: 0.8685\n",
      "Epoch 00004: val_acc improved from 0.85395 to 0.86209, saving model to best_model_LSTM.h5\n",
      "1170/1170 [==============================] - 51s 44ms/step - loss: 0.3090 - acc: 0.8685 - val_loss: 0.3183 - val_acc: 0.8621\n",
      "Epoch 5/10\n",
      "1170/1170 [==============================] - ETA: 0s - loss: 0.2959 - acc: 0.8749\n",
      "Epoch 00005: val_acc improved from 0.86209 to 0.86466, saving model to best_model_LSTM.h5\n",
      "1170/1170 [==============================] - 52s 45ms/step - loss: 0.2959 - acc: 0.8749 - val_loss: 0.3174 - val_acc: 0.8647\n",
      "Epoch 6/10\n",
      "1170/1170 [==============================] - ETA: 0s - loss: 0.2862 - acc: 0.8796\n",
      "Epoch 00006: val_acc did not improve from 0.86466\n",
      "1170/1170 [==============================] - 53s 45ms/step - loss: 0.2862 - acc: 0.8796 - val_loss: 0.3116 - val_acc: 0.8644\n",
      "Epoch 7/10\n",
      "1170/1170 [==============================] - ETA: 0s - loss: 0.2793 - acc: 0.8824\n",
      "Epoch 00007: val_acc improved from 0.86466 to 0.86603, saving model to best_model_LSTM.h5\n",
      "1170/1170 [==============================] - 53s 46ms/step - loss: 0.2793 - acc: 0.8824 - val_loss: 0.3111 - val_acc: 0.8660\n",
      "Epoch 8/10\n",
      "1170/1170 [==============================] - ETA: 0s - loss: 0.2738 - acc: 0.8860\n",
      "Epoch 00008: val_acc improved from 0.86603 to 0.86695, saving model to best_model_LSTM.h5\n",
      "1170/1170 [==============================] - 56s 48ms/step - loss: 0.2738 - acc: 0.8860 - val_loss: 0.3099 - val_acc: 0.8669\n",
      "Epoch 9/10\n",
      "1169/1170 [============================>.] - ETA: 0s - loss: 0.2685 - acc: 0.8879\n",
      "Epoch 00009: val_acc did not improve from 0.86695\n",
      "1170/1170 [==============================] - 45s 38ms/step - loss: 0.2685 - acc: 0.8879 - val_loss: 0.3146 - val_acc: 0.8661\n",
      "Epoch 10/10\n",
      "1170/1170 [==============================] - ETA: 0s - loss: 0.2641 - acc: 0.8896\n",
      "Epoch 00010: val_acc did not improve from 0.86695\n",
      "1170/1170 [==============================] - 53s 46ms/step - loss: 0.2641 - acc: 0.8896 - val_loss: 0.3107 - val_acc: 0.8643\n"
     ]
    }
   ],
   "source": [
    "print('LSTM------------------------------------------------------------------------------------------------------')\n",
    "# callbacks에 넣을 것들\n",
    "es = EarlyStopping(monitor='val_loss', mode='min', verbose=1, patience=4)\n",
    "mc = ModelCheckpoint('best_model_LSTM.h5', monitor='val_acc', mode='max', verbose=1, save_best_only=True)\n",
    "\n",
    "model_LSTM.compile(optimizer='rmsprop', loss='binary_crossentropy', metrics=['acc'])\n",
    "\n",
    "history_model_LSTM = model_LSTM.fit(x_train, \n",
    "                                    y_train, \n",
    "                                    epochs=10, \n",
    "                                    callbacks=[es, mc], \n",
    "                                    batch_size=100, \n",
    "                                    validation_split=0.2)"
   ]
  },
  {
   "cell_type": "code",
   "execution_count": 9,
   "metadata": {},
   "outputs": [
    {
     "name": "stdout",
     "output_type": "stream",
     "text": [
      "1537/1537 [==============================] - 13s 8ms/step - loss: 0.3150 - acc: 0.8654\n",
      "0.8653904795646667\n"
     ]
    }
   ],
   "source": [
    "loaded_model_LSTM = load_model('best_model_LSTM.h5')\n",
    "results_LSTM = loaded_model_LSTM.evaluate(x_test, y_test)[1]\n",
    "print(results_LSTM)"
   ]
  },
  {
   "cell_type": "code",
   "execution_count": 10,
   "metadata": {},
   "outputs": [
    {
     "name": "stdout",
     "output_type": "stream",
     "text": [
      "CNN------------------------------------------------------------------------------------------------------\n",
      "Epoch 1/10\n",
      "1167/1170 [============================>.] - ETA: 0s - loss: 0.4541 - acc: 0.7790\n",
      "Epoch 00001: val_acc improved from -inf to 0.82929, saving model to best_model_CNN.h5\n",
      "1170/1170 [==============================] - 4s 4ms/step - loss: 0.4540 - acc: 0.7790 - val_loss: 0.3794 - val_acc: 0.8293\n",
      "Epoch 2/10\n",
      "1156/1170 [============================>.] - ETA: 0s - loss: 0.3517 - acc: 0.8447\n",
      "Epoch 00002: val_acc improved from 0.82929 to 0.84260, saving model to best_model_CNN.h5\n",
      "1170/1170 [==============================] - 5s 4ms/step - loss: 0.3515 - acc: 0.8447 - val_loss: 0.3568 - val_acc: 0.8426\n",
      "Epoch 3/10\n",
      "1170/1170 [==============================] - ETA: 0s - loss: 0.3287 - acc: 0.8574\n",
      "Epoch 00003: val_acc improved from 0.84260 to 0.84701, saving model to best_model_CNN.h5\n",
      "1170/1170 [==============================] - 4s 4ms/step - loss: 0.3287 - acc: 0.8574 - val_loss: 0.3525 - val_acc: 0.8470\n",
      "Epoch 4/10\n",
      "1161/1170 [============================>.] - ETA: 0s - loss: 0.3132 - acc: 0.8650\n",
      "Epoch 00004: val_acc did not improve from 0.84701\n",
      "1170/1170 [==============================] - 4s 3ms/step - loss: 0.3132 - acc: 0.8649 - val_loss: 0.3465 - val_acc: 0.8460\n",
      "Epoch 5/10\n",
      "1153/1170 [============================>.] - ETA: 0s - loss: 0.3000 - acc: 0.8722\n",
      "Epoch 00005: val_acc improved from 0.84701 to 0.85098, saving model to best_model_CNN.h5\n",
      "1170/1170 [==============================] - 3s 3ms/step - loss: 0.3004 - acc: 0.8719 - val_loss: 0.3428 - val_acc: 0.8510\n",
      "Epoch 6/10\n",
      "1153/1170 [============================>.] - ETA: 0s - loss: 0.2893 - acc: 0.8772\n",
      "Epoch 00006: val_acc did not improve from 0.85098\n",
      "1170/1170 [==============================] - 3s 3ms/step - loss: 0.2893 - acc: 0.8772 - val_loss: 0.3457 - val_acc: 0.8498\n",
      "Epoch 7/10\n",
      "1151/1170 [============================>.] - ETA: 0s - loss: 0.2794 - acc: 0.8830\n",
      "Epoch 00007: val_acc did not improve from 0.85098\n",
      "1170/1170 [==============================] - 3s 3ms/step - loss: 0.2798 - acc: 0.8829 - val_loss: 0.3482 - val_acc: 0.8500\n",
      "Epoch 8/10\n",
      "1168/1170 [============================>.] - ETA: 0s - loss: 0.2716 - acc: 0.8866\n",
      "Epoch 00008: val_acc did not improve from 0.85098\n",
      "1170/1170 [==============================] - 3s 3ms/step - loss: 0.2715 - acc: 0.8866 - val_loss: 0.3572 - val_acc: 0.8463\n",
      "Epoch 9/10\n",
      "1157/1170 [============================>.] - ETA: 0s - loss: 0.2639 - acc: 0.8908\n",
      "Epoch 00009: val_acc did not improve from 0.85098\n",
      "1170/1170 [==============================] - 4s 3ms/step - loss: 0.2643 - acc: 0.8906 - val_loss: 0.3523 - val_acc: 0.8498\n",
      "Epoch 00009: early stopping\n"
     ]
    }
   ],
   "source": [
    "print('CNN------------------------------------------------------------------------------------------------------')\n",
    "# callbacks에 넣을 것들\n",
    "es = EarlyStopping(monitor='val_loss', mode='min', verbose=1, patience=4)\n",
    "mc = ModelCheckpoint('best_model_CNN.h5', monitor='val_acc', mode='max', verbose=1, save_best_only=True)\n",
    "model_CNN.compile(optimizer='rmsprop', loss='binary_crossentropy', metrics=['acc'])\n",
    "\n",
    "history_model_CNN = model_CNN.fit(x_train, \n",
    "                                  y_train, \n",
    "                                  epochs=10, \n",
    "                                  callbacks=[es, mc], \n",
    "                                  batch_size=100, \n",
    "                                  validation_split=0.2)"
   ]
  },
  {
   "cell_type": "code",
   "execution_count": 11,
   "metadata": {},
   "outputs": [
    {
     "name": "stdout",
     "output_type": "stream",
     "text": [
      "1537/1537 [==============================] - 1s 806us/step - loss: 0.3475 - acc: 0.8491\n",
      "0.8491160869598389\n"
     ]
    }
   ],
   "source": [
    "loaded_model_CNN = load_model('best_model_CNN.h5')\n",
    "results_CNN = loaded_model_CNN.evaluate(x_test, y_test)[1]\n",
    "print(results_CNN)"
   ]
  },
  {
   "cell_type": "code",
   "execution_count": 14,
   "metadata": {},
   "outputs": [
    {
     "name": "stdout",
     "output_type": "stream",
     "text": [
      "GlobMP---------------------------------------------------------------------------------------------------\n",
      "Epoch 1/30\n",
      "1170/1170 [==============================] - 2s 1ms/step - loss: 0.5161 - acc: 0.7611 - val_loss: 0.4239 - val_acc: 0.8077\n",
      "Epoch 2/30\n",
      "1170/1170 [==============================] - 2s 1ms/step - loss: 0.3990 - acc: 0.8207 - val_loss: 0.3975 - val_acc: 0.8240\n",
      "Epoch 3/30\n",
      "1170/1170 [==============================] - 2s 1ms/step - loss: 0.3783 - acc: 0.8339 - val_loss: 0.3872 - val_acc: 0.8302\n",
      "Epoch 4/30\n",
      "1170/1170 [==============================] - 2s 2ms/step - loss: 0.3676 - acc: 0.8414 - val_loss: 0.3828 - val_acc: 0.8329\n",
      "Epoch 5/30\n",
      "1170/1170 [==============================] - 2s 2ms/step - loss: 0.3610 - acc: 0.8444 - val_loss: 0.3806 - val_acc: 0.8343\n",
      "Epoch 6/30\n",
      "1170/1170 [==============================] - 2s 1ms/step - loss: 0.3564 - acc: 0.8471 - val_loss: 0.3796 - val_acc: 0.8347\n",
      "Epoch 7/30\n",
      "1170/1170 [==============================] - 2s 1ms/step - loss: 0.3528 - acc: 0.8492 - val_loss: 0.3788 - val_acc: 0.8354\n",
      "Epoch 8/30\n",
      "1170/1170 [==============================] - 2s 2ms/step - loss: 0.3497 - acc: 0.8510 - val_loss: 0.3786 - val_acc: 0.8357\n",
      "Epoch 9/30\n",
      "1170/1170 [==============================] - 2s 2ms/step - loss: 0.3472 - acc: 0.8523 - val_loss: 0.3783 - val_acc: 0.8367\n",
      "Epoch 10/30\n",
      "1170/1170 [==============================] - 2s 2ms/step - loss: 0.3445 - acc: 0.8533 - val_loss: 0.3782 - val_acc: 0.8359\n",
      "Epoch 11/30\n",
      "1170/1170 [==============================] - 2s 2ms/step - loss: 0.3421 - acc: 0.8546 - val_loss: 0.3772 - val_acc: 0.8369\n",
      "Epoch 12/30\n",
      "1170/1170 [==============================] - 2s 2ms/step - loss: 0.3397 - acc: 0.8556 - val_loss: 0.3784 - val_acc: 0.8364\n",
      "Epoch 13/30\n",
      "1170/1170 [==============================] - 2s 2ms/step - loss: 0.3377 - acc: 0.8573 - val_loss: 0.3770 - val_acc: 0.8352\n",
      "Epoch 14/30\n",
      "1170/1170 [==============================] - 3s 2ms/step - loss: 0.3359 - acc: 0.8584 - val_loss: 0.3779 - val_acc: 0.8360\n",
      "Epoch 15/30\n",
      "1170/1170 [==============================] - 2s 2ms/step - loss: 0.3346 - acc: 0.8593 - val_loss: 0.3775 - val_acc: 0.8367\n",
      "Epoch 16/30\n",
      "1170/1170 [==============================] - 2s 2ms/step - loss: 0.3333 - acc: 0.8602 - val_loss: 0.3783 - val_acc: 0.8358\n",
      "Epoch 17/30\n",
      "1170/1170 [==============================] - 2s 2ms/step - loss: 0.3324 - acc: 0.8605 - val_loss: 0.3789 - val_acc: 0.8366\n",
      "Epoch 18/30\n",
      "1170/1170 [==============================] - 2s 2ms/step - loss: 0.3315 - acc: 0.8608 - val_loss: 0.3779 - val_acc: 0.8366\n"
     ]
    }
   ],
   "source": [
    "print('GlobMP---------------------------------------------------------------------------------------------------')\n",
    "model_GlobMP.compile(optimizer='rmsprop', loss='binary_crossentropy', metrics=['acc'])\n",
    "\n",
    "callbacks_list = [\n",
    "    # 검증 정확도(val_loss)가 10 epoch보다 더 긴시간동안 향상되지 않으면 훈련을 중지\n",
    "    EarlyStopping(monitor='val_loss', # 기본값은 monitor='val_loss'\n",
    "                  patience=5),\n",
    "    \n",
    "    # 훈련 중 검증 손실(val_loss)이 가장 좋을 때마다 계속해서 저장\n",
    "    # (최종적으로 가장 좋은 모델만 저장됨)\n",
    "    ModelCheckpoint(filepath='best_model_GlobMP.h5',\n",
    "                    monitor='val_loss',\n",
    "                    save_best_only=True)]\n",
    "\n",
    "history_model_GlobMP = model_GlobMP.fit(x_train, \n",
    "                                        y_train, \n",
    "                                        epochs=30, \n",
    "                                        callbacks=callbacks_list, \n",
    "                                        batch_size=100, \n",
    "                                        validation_split=0.2)"
   ]
  },
  {
   "cell_type": "code",
   "execution_count": 15,
   "metadata": {},
   "outputs": [
    {
     "name": "stdout",
     "output_type": "stream",
     "text": [
      "1537/1537 [==============================] - 1s 716us/step - loss: 0.3822 - acc: 0.8341\n",
      "0.834102988243103\n"
     ]
    }
   ],
   "source": [
    "loaded_model_GlobMP = load_model('best_model_GlobMP.h5')\n",
    "results_GlobMP = loaded_model_GlobMP.evaluate(x_test, y_test)[1]\n",
    "print(results_GlobMP)"
   ]
  },
  {
   "cell_type": "code",
   "execution_count": 16,
   "metadata": {},
   "outputs": [
    {
     "name": "stdout",
     "output_type": "stream",
     "text": [
      "LSTM-----------------------------------------\n",
      "0.8653904795646667\n",
      "CNN-----------------------------------------\n",
      "0.8491160869598389\n",
      "GlobMP-----------------------------------------\n",
      "0.834102988243103\n"
     ]
    }
   ],
   "source": [
    "print('LSTM-----------------------------------------')\n",
    "print(results_LSTM)\n",
    "print('CNN-----------------------------------------')\n",
    "print(results_CNN)\n",
    "print('GlobMP-----------------------------------------')\n",
    "print(results_GlobMP)"
   ]
  },
  {
   "cell_type": "markdown",
   "metadata": {},
   "source": [
    "### 6) Loss, Accuracy 그래프 시각화\n",
    "4개의 모델에 대한 history 가져오기  \n",
    ".key()는 epoch을 기준으로 그래프를 그려볼 수 있는 항목"
   ]
  },
  {
   "cell_type": "code",
   "execution_count": 17,
   "metadata": {},
   "outputs": [
    {
     "name": "stdout",
     "output_type": "stream",
     "text": [
      "dict_keys(['loss', 'acc', 'val_loss', 'val_acc'])\n"
     ]
    }
   ],
   "source": [
    "history_dict_LSTM = history_model_LSTM.history\n",
    "history_dict_CNN = history_model_CNN.history\n",
    "history_dict_GlobMP = history_model_GlobMP.history\n",
    "print(history_dict_GlobMP.keys())"
   ]
  },
  {
   "cell_type": "code",
   "execution_count": 18,
   "metadata": {},
   "outputs": [
    {
     "data": {
      "image/png": "[encoded data removed]",
      "text/plain": [
       "<Figure size 432x288 with 1 Axes>"
      ]
     },
     "metadata": {
      "needs_background": "light"
     },
     "output_type": "display_data"
    },
    {
     "data": {
      "image/png": "[encoded data removed]",
      "text/plain": [
       "<Figure size 432x288 with 1 Axes>"
      ]
     },
     "metadata": {
      "needs_background": "light"
     },
     "output_type": "display_data"
    }
   ],
   "source": [
    "import matplotlib.pyplot as plt\n",
    "# LSTM\n",
    "acc = history_dict_LSTM['acc']\n",
    "val_acc = history_dict_LSTM['val_acc']\n",
    "loss = history_dict_LSTM['loss']\n",
    "val_loss = history_dict_LSTM['val_loss']\n",
    "\n",
    "epochs = range(1, len(acc) + 1)\n",
    "\n",
    "# \"bo\"는 \"파란색 점\"입니다\n",
    "plt.plot(epochs, loss, 'bo', label='Training loss')\n",
    "# b는 \"파란 실선\"입니다\n",
    "plt.plot(epochs, val_loss, 'b', label='Validation loss')\n",
    "plt.title('LSTM Training and validation loss')\n",
    "plt.xlabel('Epochs')\n",
    "plt.ylabel('Loss')\n",
    "plt.legend()\n",
    "\n",
    "plt.show()\n",
    "\n",
    "plt.clf()   # 그림을 초기화합니다\n",
    "\n",
    "plt.plot(epochs, acc, 'bo', label='Training acc')\n",
    "plt.plot(epochs, val_acc, 'b', label='Validation acc')\n",
    "plt.title('LSTM Training and validation accuracy')\n",
    "plt.xlabel('Epochs')\n",
    "plt.ylabel('Accuracy')\n",
    "plt.legend()\n",
    "\n",
    "plt.show()"
   ]
  },
  {
   "cell_type": "code",
   "execution_count": 19,
   "metadata": {},
   "outputs": [
    {
     "data": {
      "image/png": "[encoded data removed]",
      "text/plain": [
       "<Figure size 432x288 with 1 Axes>"
      ]
     },
     "metadata": {
      "needs_background": "light"
     },
     "output_type": "display_data"
    },
    {
     "data": {
      "image/png": "[encoded data removed]",
      "text/plain": [
       "<Figure size 432x288 with 1 Axes>"
      ]
     },
     "metadata": {
      "needs_background": "light"
     },
     "output_type": "display_data"
    }
   ],
   "source": [
    "import matplotlib.pyplot as plt\n",
    "# CNN\n",
    "acc = history_dict_CNN['acc']\n",
    "val_acc = history_dict_CNN['val_acc']\n",
    "loss = history_dict_CNN['loss']\n",
    "val_loss = history_dict_CNN['val_loss']\n",
    "\n",
    "epochs = range(1, len(acc) + 1)\n",
    "\n",
    "# \"bo\"는 \"파란색 점\"입니다\n",
    "plt.plot(epochs, loss, 'bo', label='Training loss')\n",
    "# b는 \"파란 실선\"입니다\n",
    "plt.plot(epochs, val_loss, 'b', label='Validation loss')\n",
    "plt.title('CNN Training and validation loss')\n",
    "plt.xlabel('Epochs')\n",
    "plt.ylabel('Loss')\n",
    "plt.legend()\n",
    "\n",
    "plt.show()\n",
    "\n",
    "plt.clf()   # 그림을 초기화합니다\n",
    "\n",
    "plt.plot(epochs, acc, 'bo', label='Training acc')\n",
    "plt.plot(epochs, val_acc, 'b', label='Validation acc')\n",
    "plt.title('CNN Training and validation accuracy')\n",
    "plt.xlabel('Epochs')\n",
    "plt.ylabel('Accuracy')\n",
    "plt.legend()\n",
    "\n",
    "plt.show()"
   ]
  },
  {
   "cell_type": "code",
   "execution_count": 20,
   "metadata": {},
   "outputs": [
    {
     "data": {
      "image/png": "[encoded data removed]",
      "text/plain": [
       "<Figure size 432x288 with 1 Axes>"
      ]
     },
     "metadata": {
      "needs_background": "light"
     },
     "output_type": "display_data"
    },
    {
     "data": {
      "image/png": "[encoded data removed]",
      "text/plain": [
       "<Figure size 432x288 with 1 Axes>"
      ]
     },
     "metadata": {
      "needs_background": "light"
     },
     "output_type": "display_data"
    }
   ],
   "source": [
    "import matplotlib.pyplot as plt\n",
    "# GlobMP\n",
    "acc = history_dict_GlobMP['acc']\n",
    "val_acc = history_dict_GlobMP['val_acc']\n",
    "loss = history_dict_GlobMP['loss']\n",
    "val_loss = history_dict_GlobMP['val_loss']\n",
    "\n",
    "epochs = range(1, len(acc) + 1)\n",
    "\n",
    "# \"bo\"는 \"파란색 점\"입니다\n",
    "plt.plot(epochs, loss, 'bo', label='Training loss')\n",
    "# b는 \"파란 실선\"입니다\n",
    "plt.plot(epochs, val_loss, 'b', label='Validation loss')\n",
    "plt.title('GlobMP Training and validation loss')\n",
    "plt.xlabel('Epochs')\n",
    "plt.ylabel('Loss')\n",
    "plt.legend()\n",
    "\n",
    "plt.show()\n",
    "\n",
    "plt.clf()   # 그림을 초기화합니다\n",
    "\n",
    "plt.plot(epochs, acc, 'bo', label='Training acc')\n",
    "plt.plot(epochs, val_acc, 'b', label='Validation acc')\n",
    "plt.title('GlobMP Training and validation accuracy')\n",
    "plt.xlabel('Epochs')\n",
    "plt.ylabel('Accuracy')\n",
    "plt.legend()\n",
    "\n",
    "plt.show()"
   ]
  },
  {
   "cell_type": "markdown",
   "metadata": {},
   "source": [
    "LSTM에서는 epochs=9에서 loss가 가장 낮고,  \n",
    "CNN에서는 5번째에가 가장 낮고,  \n",
    "globalmaxpooling 레이어에서는 5번째 이후로는 loss가 거의 비슷하지만 13번째가 제일 낮았다."
   ]
  },
  {
   "cell_type": "markdown",
   "metadata": {},
   "source": [
    "### 7) 학습된 Embedding 레이어 분석\n",
    "정확도가 가장 낮았던 **GlobMP**의 embedding_layer에 대입해서  \n",
    "gensim에서 제공하는 패키지를 이용해, 위에 남긴 임베딩 파라미터를 읽어서 word vector로 활용해보자.  \n",
    "이 워드 벡터가 의미벡터 공간상에 유의미하게 학습되었는지 확인하는 방법 중에, 주어진 단어와 벡터가 비슷한 단어와의 유사도로 확인할 수 있는 방법이 있다. 이 방벙으로 GlobMP로 학습이 어느 정도로 되었는지 확인해보자."
   ]
  },
  {
   "cell_type": "code",
   "execution_count": 21,
   "metadata": {},
   "outputs": [
    {
     "name": "stdout",
     "output_type": "stream",
     "text": [
      "(10000, 8)\n"
     ]
    }
   ],
   "source": [
    "# GLobMP\n",
    "embedding_layer = model_GlobMP.layers[0]\n",
    "weights = embedding_layer.get_weights()[0]\n",
    "print(weights.shape)    # shape: (vocab_size, embedding_dim)"
   ]
  },
  {
   "cell_type": "code",
   "execution_count": 22,
   "metadata": {},
   "outputs": [],
   "source": [
    "import os\n",
    "\n",
    "# 학습한 GlobMP Embedding 파라미터를 파일에 써서 저장합니다. \n",
    "word2vec_file_path_GlobMP = os.getenv('HOME')+'/aiffel/sentiment_classification/word2vec_GlobMP.txt'\n",
    "f = open(word2vec_file_path_GlobMP, 'w')\n",
    "f.write('{} {}\\n'.format(vocab_size-4, word_vector_dim))  # 몇개의 벡터를 얼마 사이즈로 기재할지 타이틀을 씁니다.\n",
    "\n",
    "# 단어 개수(에서 특수문자 4개는 제외하고)만큼의 워드 벡터를 파일에 기록합니다. \n",
    "vectors = model_GlobMP.get_weights()[0]\n",
    "for i in range(4,vocab_size):\n",
    "    f.write('{} {}\\n'.format(index_to_word[i], ' '.join(map(str, list(vectors[i, :])))))\n",
    "f.close()"
   ]
  },
  {
   "cell_type": "code",
   "execution_count": 23,
   "metadata": {},
   "outputs": [
    {
     "data": {
      "text/plain": [
       "array([ 0.03212741,  0.28686598,  0.652736  ,  0.32354552,  0.6144566 ,\n",
       "       -0.29528382,  0.2570093 , -0.21434742], dtype=float32)"
      ]
     },
     "execution_count": 23,
     "metadata": {},
     "output_type": "execute_result"
    }
   ],
   "source": [
    "from gensim.models.keyedvectors import Word2VecKeyedVectors\n",
    "\n",
    "word_vectors_GlobMP = Word2VecKeyedVectors.load_word2vec_format(word2vec_file_path_GlobMP, binary=False)\n",
    "vector_GlobMP = word_vectors_GlobMP['팝콘']\n",
    "vector_GlobMP"
   ]
  },
  {
   "cell_type": "code",
   "execution_count": 24,
   "metadata": {},
   "outputs": [
    {
     "data": {
      "text/plain": [
       "[('찬양', 0.9867018461227417),\n",
       " ('추잡', 0.9770975112915039),\n",
       " ('기세', 0.9768940210342407),\n",
       " ('시시', 0.9721066951751709),\n",
       " ('재수없', 0.9618978500366211),\n",
       " ('자위', 0.9601662755012512),\n",
       " ('어중간', 0.9599401950836182),\n",
       " ('ㅉㅉㅉ', 0.9526278972625732),\n",
       " ('약하', 0.9495353698730469),\n",
       " ('낮춰야', 0.945944607257843)]"
      ]
     },
     "execution_count": 24,
     "metadata": {},
     "output_type": "execute_result"
    }
   ],
   "source": [
    "word_vectors_GlobMP.similar_by_word('팝콘')"
   ]
  },
  {
   "cell_type": "markdown",
   "metadata": {},
   "source": [
    "벡터만 보면 유사도가 높아보이지만 실제 단어끼리의 유사도가 많이 떨어지는 것을 확인할 수 있었다.  \n",
    "10000개의 data는 아주 작은 양이기 때문이다.  \n",
    "그래서 자체학습이 아닌 사전학습된 한국어 Word2Vec 임베딩을 활용하여 다른 모델의 성능을 개선해보자."
   ]
  },
  {
   "cell_type": "markdown",
   "metadata": {},
   "source": [
    "### 8) 한국어 Word2Vec 임베딩 활용하여 성능개선\n",
    "사전 학습 되어있는 ko.bin의 embedding_layer를 정확도가 가장 높았던 LSTM과 가장 낮았던 GlobMP 모델에 대입해서  \n",
    "전에 모델에 비해 성능이 발전했는지 확인하기."
   ]
  },
  {
   "cell_type": "code",
   "execution_count": 25,
   "metadata": {},
   "outputs": [
    {
     "name": "stderr",
     "output_type": "stream",
     "text": [
      "/home/aiffel-dj35/anaconda3/envs/aiffel/lib/python3.7/site-packages/ipykernel_launcher.py:7: DeprecationWarning: Call to deprecated `__getitem__` (Method will be removed in 4.0.0, use self.wv.__getitem__() instead).\n",
      "  import sys\n"
     ]
    },
    {
     "data": {
      "text/plain": [
       "200"
      ]
     },
     "execution_count": 25,
     "metadata": {},
     "output_type": "execute_result"
    }
   ],
   "source": [
    "from gensim.models import KeyedVectors\n",
    "import os\n",
    "import gensim\n",
    "\n",
    "ko_model = gensim.models.Word2Vec.load('./sentiment_classification/ko.bin')\n",
    "word2vec = ko_model\n",
    "vector = ko_model['강아지']\n",
    "len(vector)"
   ]
  },
  {
   "cell_type": "code",
   "execution_count": 26,
   "metadata": {},
   "outputs": [
    {
     "name": "stderr",
     "output_type": "stream",
     "text": [
      "/home/aiffel-dj35/anaconda3/envs/aiffel/lib/python3.7/site-packages/ipykernel_launcher.py:8: DeprecationWarning: Call to deprecated `__contains__` (Method will be removed in 4.0.0, use self.wv.__contains__() instead).\n",
      "  \n",
      "/home/aiffel-dj35/anaconda3/envs/aiffel/lib/python3.7/site-packages/ipykernel_launcher.py:9: DeprecationWarning: Call to deprecated `__getitem__` (Method will be removed in 4.0.0, use self.wv.__getitem__() instead).\n",
      "  if __name__ == '__main__':\n"
     ]
    }
   ],
   "source": [
    "vocab_size = 10000    # 어휘 사전의 크기입니다(10,000개의 단어)\n",
    "word_vector_dim = 200  # 워드 벡터의 차원수 (변경가능한 하이퍼파라미터)\n",
    "\n",
    "embedding_matrix = np.random.rand(vocab_size, word_vector_dim)\n",
    "\n",
    "# embedding_matrix에 Word2Vec 워드벡터를 단어 하나씩마다 차례차례 카피한다.\n",
    "for i in range(4,vocab_size):\n",
    "    if index_to_word[i] in word2vec:\n",
    "        embedding_matrix[i] = word2vec[index_to_word[i]]"
   ]
  },
  {
   "cell_type": "code",
   "execution_count": 28,
   "metadata": {},
   "outputs": [
    {
     "name": "stdout",
     "output_type": "stream",
     "text": [
      "Model: \"sequential_3\"\n",
      "_________________________________________________________________\n",
      "Layer (type)                 Output Shape              Param #   \n",
      "=================================================================\n",
      "embedding_3 (Embedding)      (None, 47, 200)           2000000   \n",
      "_________________________________________________________________\n",
      "lstm_1 (LSTM)                (None, 128)               168448    \n",
      "_________________________________________________________________\n",
      "dense_5 (Dense)              (None, 1)                 129       \n",
      "=================================================================\n",
      "Total params: 2,168,577\n",
      "Trainable params: 2,168,577\n",
      "Non-trainable params: 0\n",
      "_________________________________________________________________\n",
      "Model: \"sequential_4\"\n",
      "_________________________________________________________________\n",
      "Layer (type)                 Output Shape              Param #   \n",
      "=================================================================\n",
      "embedding_4 (Embedding)      (None, 47, 200)           2000000   \n",
      "_________________________________________________________________\n",
      "global_max_pooling1d_2 (Glob (None, 200)               0         \n",
      "_________________________________________________________________\n",
      "dense_6 (Dense)              (None, 8)                 1608      \n",
      "_________________________________________________________________\n",
      "dense_7 (Dense)              (None, 1)                 9         \n",
      "=================================================================\n",
      "Total params: 2,001,617\n",
      "Trainable params: 2,001,617\n",
      "Non-trainable params: 0\n",
      "_________________________________________________________________\n"
     ]
    }
   ],
   "source": [
    "from tensorflow.keras.initializers import Constant\n",
    "# model 설계\n",
    "\n",
    "#LSTM\n",
    "model_LSTM2 = Sequential()\n",
    "model_LSTM2.add(keras.layers.Embedding(vocab_size, \n",
    "                                 word_vector_dim, \n",
    "                                 embeddings_initializer=Constant(embedding_matrix),  # 카피한 임베딩을 여기서 활용\n",
    "                                 input_length=maxlen, \n",
    "                                 trainable=True))   # trainable을 True로 주면 Fine-tuning\n",
    "model_LSTM2.add(LSTM(128))\n",
    "model_LSTM2.add(Dense(1, activation='sigmoid'))\n",
    "\n",
    "\n",
    "#GlobalMaxPooling1D() 레이어 하나만 사용하는 방법\n",
    "#전체 문장 중에서 단 하나의 가장 중요한 단어만 피처로 추출하여 그것으로 문장의 긍정/부정을 평가하는 방식\n",
    "model_GlobMP2 = keras.Sequential()\n",
    "model_GlobMP2.add(keras.layers.Embedding(vocab_size, \n",
    "                                 word_vector_dim, \n",
    "                                 embeddings_initializer=Constant(embedding_matrix),  # 카피한 임베딩을 여기서 활용\n",
    "                                 input_length=maxlen, \n",
    "                                 trainable=True))\n",
    "model_GlobMP2.add(keras.layers.GlobalMaxPooling1D())\n",
    "#model_GlobMP2.add(keras.layers.Dropout(0.3))\n",
    "model_GlobMP2.add(keras.layers.Dense(8, activation='relu'))\n",
    "#model_GlobMP2.add(keras.layers.Dropout(0.3))\n",
    "model_GlobMP2.add(keras.layers.Dense(1, activation='sigmoid'))  # 최종 출력은 긍정/부정을 나타내는 1dim 입니다.\n",
    "\n",
    "\n",
    "model_LSTM2.summary()\n",
    "model_GlobMP2.summary()"
   ]
  },
  {
   "cell_type": "code",
   "execution_count": 29,
   "metadata": {},
   "outputs": [
    {
     "name": "stdout",
     "output_type": "stream",
     "text": [
      "LSTM------------------------------------------------------------------------------------------------------\n",
      "Epoch 1/10\n",
      "1170/1170 [==============================] - 100s 86ms/step - loss: 0.4101 - acc: 0.8084 - val_loss: 0.3427 - val_acc: 0.8530\n",
      "Epoch 2/10\n",
      "1170/1170 [==============================] - 102s 87ms/step - loss: 0.3095 - acc: 0.8670 - val_loss: 0.3234 - val_acc: 0.8641\n",
      "Epoch 3/10\n",
      "1170/1170 [==============================] - 99s 85ms/step - loss: 0.2716 - acc: 0.8862 - val_loss: 0.3058 - val_acc: 0.8690\n",
      "Epoch 4/10\n",
      "1170/1170 [==============================] - 96s 82ms/step - loss: 0.2399 - acc: 0.9013 - val_loss: 0.3125 - val_acc: 0.8678\n",
      "Epoch 5/10\n",
      "1170/1170 [==============================] - 96s 82ms/step - loss: 0.2093 - acc: 0.9158 - val_loss: 0.3196 - val_acc: 0.8742\n",
      "Epoch 6/10\n",
      "1170/1170 [==============================] - 94s 80ms/step - loss: 0.1786 - acc: 0.9297 - val_loss: 0.3352 - val_acc: 0.8678\n",
      "Epoch 7/10\n",
      "1170/1170 [==============================] - 90s 77ms/step - loss: 0.1493 - acc: 0.9431 - val_loss: 0.3622 - val_acc: 0.8650\n",
      "Epoch 8/10\n",
      "1170/1170 [==============================] - 75s 64ms/step - loss: 0.1218 - acc: 0.9545 - val_loss: 0.4240 - val_acc: 0.8638\n"
     ]
    }
   ],
   "source": [
    "print('LSTM------------------------------------------------------------------------------------------------------')\n",
    "model_LSTM2.compile(optimizer='rmsprop', loss='binary_crossentropy', metrics=['acc'])\n",
    "\n",
    "callbacks_list = [\n",
    "    # 검증 정확도(val_loss)가 10 epoch보다 더 긴시간동안 향상되지 않으면 훈련을 중지\n",
    "    EarlyStopping(monitor='val_loss', # 기본값은 monitor='val_loss'\n",
    "                  patience=5),\n",
    "    \n",
    "    # 훈련 중 검증 손실(val_loss)이 가장 좋을 때마다 계속해서 저장\n",
    "    # (최종적으로 가장 좋은 모델만 저장됨)\n",
    "    ModelCheckpoint(filepath='my_model_LSTM2.h5',\n",
    "                    monitor='val_loss',\n",
    "                    save_best_only=True)]\n",
    "\n",
    "history_model_LSTM2 = model_LSTM2.fit(x_train, \n",
    "                                        y_train, \n",
    "                                        epochs=10, \n",
    "                                        callbacks=callbacks_list, \n",
    "                                        batch_size=100, \n",
    "                                        validation_split=0.2)"
   ]
  },
  {
   "cell_type": "code",
   "execution_count": 30,
   "metadata": {},
   "outputs": [
    {
     "name": "stdout",
     "output_type": "stream",
     "text": [
      "1537/1537 [==============================] - 14s 9ms/step - loss: 0.3108 - acc: 0.8673\n",
      "0.8673230409622192\n"
     ]
    }
   ],
   "source": [
    "loaded_model_LSTM2 = load_model('my_model_LSTM2.h5')\n",
    "results_LSTM2 = loaded_model_LSTM2.evaluate(x_test, y_test)[1]\n",
    "print(results_LSTM2)"
   ]
  },
  {
   "cell_type": "code",
   "execution_count": 31,
   "metadata": {},
   "outputs": [
    {
     "name": "stdout",
     "output_type": "stream",
     "text": [
      "Before : 0.8653904795646667\n",
      "--------------------------------------------\n",
      "After : 0.8673230409622192\n"
     ]
    }
   ],
   "source": [
    "print('Before :',results_LSTM)\n",
    "print('--------------------------------------------')\n",
    "print('After :',results_LSTM2)"
   ]
  },
  {
   "cell_type": "code",
   "execution_count": 32,
   "metadata": {},
   "outputs": [
    {
     "name": "stdout",
     "output_type": "stream",
     "text": [
      "GlobMP---------------------------------------------------------------------------------------------------\n",
      "Epoch 1/30\n",
      "1170/1170 [==============================] - 15s 13ms/step - loss: 0.5933 - acc: 0.6751 - val_loss: 0.5203 - val_acc: 0.7422\n",
      "Epoch 2/30\n",
      "1170/1170 [==============================] - 14s 12ms/step - loss: 0.4948 - acc: 0.7585 - val_loss: 0.4723 - val_acc: 0.7746\n",
      "Epoch 3/30\n",
      "1170/1170 [==============================] - 15s 13ms/step - loss: 0.4527 - acc: 0.7864 - val_loss: 0.4472 - val_acc: 0.7917\n",
      "Epoch 4/30\n",
      "1170/1170 [==============================] - 13s 11ms/step - loss: 0.4268 - acc: 0.8026 - val_loss: 0.4571 - val_acc: 0.7830\n",
      "Epoch 5/30\n",
      "1170/1170 [==============================] - 14s 12ms/step - loss: 0.4086 - acc: 0.8134 - val_loss: 0.4294 - val_acc: 0.8016\n",
      "Epoch 6/30\n",
      "1170/1170 [==============================] - 14s 12ms/step - loss: 0.3955 - acc: 0.8217 - val_loss: 0.4160 - val_acc: 0.8088\n",
      "Epoch 7/30\n",
      "1170/1170 [==============================] - 15s 13ms/step - loss: 0.3846 - acc: 0.8276 - val_loss: 0.4033 - val_acc: 0.8175\n",
      "Epoch 8/30\n",
      "1170/1170 [==============================] - 13s 11ms/step - loss: 0.3756 - acc: 0.8320 - val_loss: 0.4168 - val_acc: 0.8108\n",
      "Epoch 9/30\n",
      "1170/1170 [==============================] - 14s 12ms/step - loss: 0.3679 - acc: 0.8370 - val_loss: 0.3905 - val_acc: 0.8229\n",
      "Epoch 10/30\n",
      "1170/1170 [==============================] - 13s 11ms/step - loss: 0.3611 - acc: 0.8404 - val_loss: 0.3922 - val_acc: 0.8232\n",
      "Epoch 11/30\n",
      "1170/1170 [==============================] - 16s 14ms/step - loss: 0.3547 - acc: 0.8441 - val_loss: 0.3842 - val_acc: 0.8273\n",
      "Epoch 12/30\n",
      "1170/1170 [==============================] - 16s 14ms/step - loss: 0.3492 - acc: 0.8471 - val_loss: 0.3780 - val_acc: 0.8296\n",
      "Epoch 13/30\n",
      "1170/1170 [==============================] - 14s 12ms/step - loss: 0.3445 - acc: 0.8492 - val_loss: 0.3802 - val_acc: 0.8295\n",
      "Epoch 14/30\n",
      "1170/1170 [==============================] - 15s 13ms/step - loss: 0.3398 - acc: 0.8527 - val_loss: 0.3724 - val_acc: 0.8338\n",
      "Epoch 15/30\n",
      "1170/1170 [==============================] - 15s 12ms/step - loss: 0.3359 - acc: 0.8545 - val_loss: 0.3728 - val_acc: 0.8326\n",
      "Epoch 16/30\n",
      "1170/1170 [==============================] - 14s 12ms/step - loss: 0.3327 - acc: 0.8569 - val_loss: 0.3800 - val_acc: 0.8316\n",
      "Epoch 17/30\n",
      "1170/1170 [==============================] - 14s 12ms/step - loss: 0.3291 - acc: 0.8579 - val_loss: 0.3778 - val_acc: 0.8313\n",
      "Epoch 18/30\n",
      "1170/1170 [==============================] - 14s 12ms/step - loss: 0.3262 - acc: 0.8610 - val_loss: 0.3897 - val_acc: 0.8251\n",
      "Epoch 19/30\n",
      "1170/1170 [==============================] - 15s 13ms/step - loss: 0.3234 - acc: 0.8623 - val_loss: 0.3669 - val_acc: 0.8379\n",
      "Epoch 20/30\n",
      "1170/1170 [==============================] - 15s 13ms/step - loss: 0.3209 - acc: 0.8631 - val_loss: 0.3655 - val_acc: 0.8385\n",
      "Epoch 21/30\n",
      "1170/1170 [==============================] - 14s 12ms/step - loss: 0.3186 - acc: 0.8642 - val_loss: 0.3707 - val_acc: 0.8357\n",
      "Epoch 22/30\n",
      "1170/1170 [==============================] - 16s 13ms/step - loss: 0.3166 - acc: 0.8653 - val_loss: 0.3633 - val_acc: 0.8400\n",
      "Epoch 23/30\n",
      "1170/1170 [==============================] - 14s 12ms/step - loss: 0.3141 - acc: 0.8671 - val_loss: 0.3663 - val_acc: 0.8372\n",
      "Epoch 24/30\n",
      "1170/1170 [==============================] - 15s 13ms/step - loss: 0.3125 - acc: 0.8675 - val_loss: 0.3621 - val_acc: 0.8403\n",
      "Epoch 25/30\n",
      "1170/1170 [==============================] - 14s 12ms/step - loss: 0.3106 - acc: 0.8698 - val_loss: 0.3631 - val_acc: 0.8392\n",
      "Epoch 26/30\n",
      "1170/1170 [==============================] - 20s 17ms/step - loss: 0.3084 - acc: 0.8706 - val_loss: 0.3610 - val_acc: 0.8415\n",
      "Epoch 27/30\n",
      "1170/1170 [==============================] - 20s 17ms/step - loss: 0.3066 - acc: 0.8714 - val_loss: 0.3606 - val_acc: 0.8418\n",
      "Epoch 28/30\n",
      "1170/1170 [==============================] - 13s 11ms/step - loss: 0.3050 - acc: 0.8726 - val_loss: 0.3615 - val_acc: 0.8418\n",
      "Epoch 29/30\n",
      "1170/1170 [==============================] - 13s 11ms/step - loss: 0.3036 - acc: 0.8727 - val_loss: 0.3629 - val_acc: 0.8408\n",
      "Epoch 30/30\n",
      "1170/1170 [==============================] - 14s 12ms/step - loss: 0.3014 - acc: 0.8744 - val_loss: 0.3607 - val_acc: 0.8416\n"
     ]
    }
   ],
   "source": [
    "print('GlobMP---------------------------------------------------------------------------------------------------')\n",
    "model_GlobMP2.compile(optimizer='rmsprop', loss='binary_crossentropy', metrics=['acc'])\n",
    "\n",
    "callbacks_list = [\n",
    "    # 검증 정확도(val_loss)가 10 epoch보다 더 긴시간동안 향상되지 않으면 훈련을 중지\n",
    "    EarlyStopping(monitor='val_loss', # 기본값은 monitor='val_loss'\n",
    "                  patience=5),\n",
    "    \n",
    "    # 훈련 중 검증 손실(val_loss)이 가장 좋을 때마다 계속해서 저장\n",
    "    # (최종적으로 가장 좋은 모델만 저장됨)\n",
    "    ModelCheckpoint(filepath='my_model_GlobMP2.h5',\n",
    "                    monitor='val_loss',\n",
    "                    save_best_only=True)]\n",
    "\n",
    "history_model_GlobMP2 = model_GlobMP2.fit(x_train, \n",
    "                                        y_train, \n",
    "                                        epochs=30, \n",
    "                                        callbacks=callbacks_list, \n",
    "                                        batch_size=100, \n",
    "                                        validation_split=0.2)"
   ]
  },
  {
   "cell_type": "code",
   "execution_count": 33,
   "metadata": {},
   "outputs": [
    {
     "name": "stdout",
     "output_type": "stream",
     "text": [
      "1537/1537 [==============================] - 2s 1ms/step - loss: 0.3661 - acc: 0.8405\n",
      "0.8405313491821289\n"
     ]
    }
   ],
   "source": [
    "loaded_model_GlobMP2 = load_model('my_model_GlobMP2.h5')\n",
    "results_GlobMP2 = loaded_model_GlobMP2.evaluate(x_test, y_test)[1]\n",
    "print(results_GlobMP2)"
   ]
  },
  {
   "cell_type": "code",
   "execution_count": 34,
   "metadata": {},
   "outputs": [
    {
     "name": "stdout",
     "output_type": "stream",
     "text": [
      "Before : 0.834102988243103\n",
      "--------------------------------------------\n",
      "After : 0.8405313491821289\n"
     ]
    }
   ],
   "source": [
    "print('Before :',results_GlobMP)\n",
    "print('--------------------------------------------')\n",
    "print('After :',results_GlobMP2)"
   ]
  },
  {
   "cell_type": "markdown",
   "metadata": {},
   "source": [
    "## 루브릭 평가\n",
    "### 1. 다양한 방법으로 Text Classification 태스크를 성공적으로 구현하였다.\n",
    "1. LSTM\n",
    "2. CNN\n",
    "3. GlobMP  \n",
    "\n",
    "총 3가지의 모델로 평가해보았다. \n",
    "\n",
    "LSTM이 86.5% acc로 가장 높게 나왔고, GlobalMaxPooling 레이어 하나만 쓴 모델이 83.4%로 가장 낮은 acc으로 나왔다.  \n",
    "\n",
    "\n",
    "### 2. gensim을 활용하여 자체학습된 혹은 사전학습된 임베딩 레이어를 분석하였다.\n",
    "gensim의 유사단어 찾기를 활용하여 자체학습한 GlobalMaxPooling 임베딩에서 '팝콘'을 찾아봤지만, 유사하지 않은 단어가 많이 나왔다.  \n",
    "그래서 사전학습된 한국어 Word2Vec을 추가해서 모델을 다시 돌려보자.\n",
    "    \n",
    "\n",
    "### 3. 한국어 Word2Vec을 활용하여 가시적인 성능향상을 달성했다.\n",
    "정확도가 가장 높은 LSTM과 가장 낮은 GlobalMaxPooling에 embeddin 레이어를 추가하였다.  \n",
    "LSTM은 약 0.2%, GlobalMaxPooling은 약 0.7%정도 성능이 향상된 것을 확인할 수 있다. 사전 학습된  Word2Vec을 활요해서 이 정도면, 자체 학습  Word2Vec은 더 조금 올랐을 것이라고 예상할 수 있다.\n",
    "\n",
    "***\n",
    "\n",
    "## 회고\n",
    "정말 많은 오류때문에 고생했던 노드이다. 여러 모델을 돌려서 85% 정확도를 찾아내는 것도 난이도가 높았다. 하지만 Word2Vec은 노드에 설명이 많이 부족하고, 문맥도 이해가 가지 않아서 밤늦게까지 조원들과 함께 토론을 했다. 그래도 조원들 뿐만 아니라 영석 퍼실님까지 끝까지 도와주셔서 이렇게 오류럽고 성능이 잘 오른 결과를 낼 수 있었다. 힘들었지만 재미도 있었다.  \n",
    "  \n",
    "## 더 탐구\n",
    "- vocab size를 더 줄이거나 늘릴때 accuracy는?\n",
    "- 토큰화란?\n",
    "- 토큰화와 불용어 제거의 관계\n",
    "- 노드에서는 pre와 post 패딩이 10% 차이가 난다고 했는데, 실제로 해보았을 때 그렇지 않았다. 그 이유는?\n",
    "- relu는 무엇인가\n",
    "- layer의 이해 부족"
   ]
  },
  {
   "cell_type": "code",
   "execution_count": null,
   "metadata": {},
   "outputs": [],
   "source": []
  }
 ],
 "metadata": {
  "kernelspec": {
   "display_name": "aiffel",
   "language": "python",
   "name": "aiffel"
  },
  "language_info": {
   "codemirror_mode": {
    "name": "ipython",
    "version": 3
   },
   "file_extension": ".py",
   "mimetype": "text/x-python",
   "name": "python",
   "nbconvert_exporter": "python",
   "pygments_lexer": "ipython3",
   "version": "3.7.9"
  }
 },
 "nbformat": 4,
 "nbformat_minor": 4
}
