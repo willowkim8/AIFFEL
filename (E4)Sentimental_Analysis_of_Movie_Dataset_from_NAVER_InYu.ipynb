{
 "cells": [
  {
   "cell_type": "markdown",
   "metadata": {},
   "source": [
    "## (E4)Sentimental_Analysis_of_Movie_Dataset_from_NAVER_InYu\n",
    "### 1) 데이터 준비와 확인 & 2) 데이터로더 구성 \n",
    "네이버 리뷰를 다운 받아서 다음과 같이 준비한다.\n",
    "1. 중복 리뷰 삭제\n",
    "2. Null 샘플 제거\n",
    "3. 불용어 제거 -> 형태소 분석을 기준으로 토큰화 한다.  \n",
    "    **위에서 저장된 x_train은 빈도가 높은 순으로 정수를 부여받는다.** 그래서 이중에서 가장 빈도 수가 많은 9996개의 단어로 리스트를만들어서 정수로 인코딩해준다. 앞에는 \\<BOS>, \\<PAD>, \\<UNK>, \\<UNUSED>는 관례적으로 딕셔너리 맨 앞에 넣어줍니다. \n",
    "4. 정수로 인코딩    \n",
    "5. load_data"
   ]
  },
  {
   "cell_type": "code",
   "execution_count": 1,
   "metadata": {
    "ExecuteTime": {
     "end_time": "2021-04-20T15:14:00.137998Z",
     "start_time": "2021-04-20T15:13:42.539739Z"
    },
    "scrolled": true
   },
   "outputs": [
    {
     "name": "stdout",
     "output_type": "stream",
     "text": [
      "146182\n",
      "49157\n"
     ]
    }
   ],
   "source": [
    "import pandas as pd\n",
    "import urllib.request\n",
    "%matplotlib inline\n",
    "import matplotlib.pyplot as plt\n",
    "import re\n",
    "from konlpy.tag import Okt\n",
    "from tensorflow import keras\n",
    "from tensorflow.keras.preprocessing.text import Tokenizer\n",
    "import numpy as np\n",
    "from tensorflow.keras.preprocessing.sequence import pad_sequences\n",
    "from collections import Counter\n",
    "from tensorflow.python.keras.callbacks import EarlyStopping\n",
    "\n",
    "train_data = pd.read_table('~/aiffel/sentiment_classification/ratings_train.txt')\n",
    "test_data = pd.read_table('~/aiffel/sentiment_classification/ratings_test.txt')\n",
    "\n",
    "from konlpy.tag import Mecab\n",
    "tokenizer = Mecab()\n",
    "stopwords = ['의','가','이','은','들','는','좀','잘','걍','과','도','를','으로','자','에','와','한','하다']\n",
    "\n",
    "def load_data(train_data, test_data, num_words=10000):\n",
    "    train_data.drop_duplicates(subset=['document'], inplace=True) # 중복 리뷰 삭제\n",
    "    train_data = train_data.dropna(how = 'any') # Null 샘플 제거\n",
    "    test_data.drop_duplicates(subset=['document'], inplace=True) \n",
    "    test_data = test_data.dropna(how = 'any') \n",
    "\n",
    "    x_train = []\n",
    "    for sentence in train_data['document']:\n",
    "        temp_x = tokenizer.morphs(sentence) # 토큰화\n",
    "        temp_x = [word for word in temp_x if not word in stopwords] # 불용어 제거\n",
    "        x_train.append(temp_x)\n",
    "\n",
    "    x_test = []\n",
    "    for sentence in test_data['document']:\n",
    "        temp_x = tokenizer.morphs(sentence) # 토큰화\n",
    "        temp_x = [word for word in temp_x if not word in stopwords] # 불용어 제거\n",
    "        x_test.append(temp_x)\n",
    "\n",
    "    # 정수로 인코딩\n",
    "    words = np.concatenate(x_train).tolist()\n",
    "    counter = Counter(words)\n",
    "    counter = counter.most_common(10000-4)    \n",
    "    vocab = ['<PAD>', '<BOS>', '<UNK>', '<UNUSED>'] + [key for key, _ in counter]\n",
    "    word_to_index = {word:index for index, word in enumerate(vocab)} # enumerate 열거하다\n",
    "\n",
    "    def wordlist_to_indexlist(wordlist):\n",
    "        return [word_to_index[word] if word in word_to_index else word_to_index['<UNK>'] for word in wordlist]\n",
    "\n",
    "    x_train = list(map(wordlist_to_indexlist, x_train))\n",
    "    x_test = list(map(wordlist_to_indexlist, x_test))\n",
    "\n",
    "    return x_train, np.array(list(train_data['label'])), x_test, np.array(list(test_data['label'])), word_to_index\n",
    "\n",
    "x_train, y_train, x_test, y_test, word_to_index = load_data(train_data, test_data) # load_data\n",
    "\n",
    "print(len(x_train))\n",
    "print(len(x_test))"
   ]
  },
  {
   "cell_type": "code",
   "execution_count": 2,
   "metadata": {
    "ExecuteTime": {
     "end_time": "2021-04-20T15:14:00.142041Z",
     "start_time": "2021-04-20T15:14:00.139188Z"
    }
   },
   "outputs": [],
   "source": [
    "index_to_word = {index:word for word, index in word_to_index.items()}"
   ]
  },
  {
   "cell_type": "code",
   "execution_count": 28,
   "metadata": {
    "ExecuteTime": {
     "end_time": "2021-04-21T02:17:14.288597Z",
     "start_time": "2021-04-21T02:17:14.285071Z"
    }
   },
   "outputs": [
    {
     "name": "stdout",
     "output_type": "stream",
     "text": [
      "<PAD>\n",
      "<BOS>\n",
      "<UNK>\n",
      "<UNUSED>\n",
      ".\n",
      "영화\n",
      "다\n",
      "고\n",
      "하\n",
      "을\n",
      "보\n",
      "..\n",
      "게\n",
      ",\n",
      "!\n",
      "지\n",
      "있\n",
      "없\n",
      "?\n",
      "좋\n"
     ]
    }
   ],
   "source": [
    "for i in range(20):\n",
    "    print(index_to_word[i])"
   ]
  },
  {
   "cell_type": "code",
   "execution_count": 3,
   "metadata": {
    "ExecuteTime": {
     "end_time": "2021-04-20T15:14:00.151261Z",
     "start_time": "2021-04-20T15:14:00.143439Z"
    }
   },
   "outputs": [
    {
     "data": {
      "text/html": [
       "<div>\n",
       "<style scoped>\n",
       "    .dataframe tbody tr th:only-of-type {\n",
       "        vertical-align: middle;\n",
       "    }\n",
       "\n",
       "    .dataframe tbody tr th {\n",
       "        vertical-align: top;\n",
       "    }\n",
       "\n",
       "    .dataframe thead th {\n",
       "        text-align: right;\n",
       "    }\n",
       "</style>\n",
       "<table border=\"1\" class=\"dataframe\">\n",
       "  <thead>\n",
       "    <tr style=\"text-align: right;\">\n",
       "      <th></th>\n",
       "      <th>id</th>\n",
       "      <th>document</th>\n",
       "      <th>label</th>\n",
       "    </tr>\n",
       "  </thead>\n",
       "  <tbody>\n",
       "    <tr>\n",
       "      <th>0</th>\n",
       "      <td>9976970</td>\n",
       "      <td>아 더빙.. 진짜 짜증나네요 목소리</td>\n",
       "      <td>0</td>\n",
       "    </tr>\n",
       "    <tr>\n",
       "      <th>1</th>\n",
       "      <td>3819312</td>\n",
       "      <td>흠...포스터보고 초딩영화줄....오버연기조차 가볍지 않구나</td>\n",
       "      <td>1</td>\n",
       "    </tr>\n",
       "    <tr>\n",
       "      <th>2</th>\n",
       "      <td>10265843</td>\n",
       "      <td>너무재밓었다그래서보는것을추천한다</td>\n",
       "      <td>0</td>\n",
       "    </tr>\n",
       "    <tr>\n",
       "      <th>3</th>\n",
       "      <td>9045019</td>\n",
       "      <td>교도소 이야기구먼 ..솔직히 재미는 없다..평점 조정</td>\n",
       "      <td>0</td>\n",
       "    </tr>\n",
       "    <tr>\n",
       "      <th>4</th>\n",
       "      <td>6483659</td>\n",
       "      <td>사이몬페그의 익살스런 연기가 돋보였던 영화!스파이더맨에서 늙어보이기만 했던 커스틴 ...</td>\n",
       "      <td>1</td>\n",
       "    </tr>\n",
       "  </tbody>\n",
       "</table>\n",
       "</div>"
      ],
      "text/plain": [
       "         id                                           document  label\n",
       "0   9976970                                아 더빙.. 진짜 짜증나네요 목소리      0\n",
       "1   3819312                  흠...포스터보고 초딩영화줄....오버연기조차 가볍지 않구나      1\n",
       "2  10265843                                  너무재밓었다그래서보는것을추천한다      0\n",
       "3   9045019                      교도소 이야기구먼 ..솔직히 재미는 없다..평점 조정      0\n",
       "4   6483659  사이몬페그의 익살스런 연기가 돋보였던 영화!스파이더맨에서 늙어보이기만 했던 커스틴 ...      1"
      ]
     },
     "execution_count": 3,
     "metadata": {},
     "output_type": "execute_result"
    }
   ],
   "source": [
    "# 데이터 확인해보기\n",
    "train_data[:5] # label 0은 부정 평가, 1은 긍정 평가"
   ]
  },
  {
   "cell_type": "code",
   "execution_count": 29,
   "metadata": {
    "ExecuteTime": {
     "end_time": "2021-04-21T02:45:47.071558Z",
     "start_time": "2021-04-21T02:45:47.067846Z"
    }
   },
   "outputs": [
    {
     "data": {
      "text/plain": [
       "pandas.core.frame.DataFrame"
      ]
     },
     "execution_count": 29,
     "metadata": {},
     "output_type": "execute_result"
    }
   ],
   "source": [
    "type(train_data)"
   ]
  },
  {
   "cell_type": "markdown",
   "metadata": {},
   "source": [
    "### 3) 모델구성을 위한 데이터 분석 및 가공\n",
    "\n",
    "문장 길이를 평준화해서 벡터의 길이는 조정한다.  \n",
    "Embedding 레이어의 인풋이 되는 문장 벡터는 그 길이가 일정해야 하기 때문이다.  \n",
    "긴 문장은 자르고 짧은 단어는 \\<PAD>를 패딩해서 길이를 맞춰준다."
   ]
  },
  {
   "cell_type": "code",
   "execution_count": 34,
   "metadata": {
    "ExecuteTime": {
     "end_time": "2021-04-21T04:25:46.269965Z",
     "start_time": "2021-04-21T04:25:46.209754Z"
    }
   },
   "outputs": [
    {
     "name": "stdout",
     "output_type": "stream",
     "text": [
      "<class 'list'>\n",
      "<class 'numpy.ndarray'>\n",
      "문장길이 평균 :  47.0\n",
      "문장길이 최대 :  47\n",
      "문장길이 표준편차 :  0.0\n",
      "pad_sequences maxlen :  47\n",
      "전체 문장의 0.0%가 maxlen 설정값 이내에 포함됩니다. \n"
     ]
    }
   ],
   "source": [
    "total_data_text = list(x_train) + list(x_test)\n",
    "# 텍스트 데이터 문장길이의 리스트를 생성한 후\n",
    "num_tokens = [len(tokens) for tokens in total_data_text]\n",
    "print(type(num_tokens))\n",
    "num_tokens = np.array(num_tokens)\n",
    "print(type(num_tokens))\n",
    "# 문장길이의 평균값, 최대값, 표준편차를 계산해 본다. \n",
    "print('문장길이 평균 : ', np.mean(num_tokens))\n",
    "print('문장길이 최대 : ', np.max(num_tokens))\n",
    "print('문장길이 표준편차 : ', np.std(num_tokens))\n",
    "\n",
    "# 예를들어, 최대 길이를 (평균 + 2*표준편차)로 한다면,  \n",
    "max_tokens = np.mean(num_tokens) + round(2.5 * np.std(num_tokens))\n",
    "maxlen = int(max_tokens)\n",
    "print('pad_sequences maxlen : ', maxlen)\n",
    "print('전체 문장의 {}%가 maxlen 설정값 이내에 포함됩니다. '.format(np.sum(num_tokens < max_tokens)*100 / len(num_tokens)))"
   ]
  },
  {
   "cell_type": "code",
   "execution_count": 30,
   "metadata": {
    "ExecuteTime": {
     "end_time": "2021-04-21T02:46:52.806383Z",
     "start_time": "2021-04-21T02:46:52.796718Z"
    }
   },
   "outputs": [
    {
     "data": {
      "text/plain": [
       "list"
      ]
     },
     "execution_count": 30,
     "metadata": {},
     "output_type": "execute_result"
    }
   ],
   "source": [
    "type(total_data_text), type(num_tokens)"
   ]
  },
  {
   "cell_type": "code",
   "execution_count": 36,
   "metadata": {
    "ExecuteTime": {
     "end_time": "2021-04-21T08:40:05.682411Z",
     "start_time": "2021-04-21T08:40:05.679689Z"
    }
   },
   "outputs": [
    {
     "data": {
      "text/plain": [
       "numpy.ndarray"
      ]
     },
     "execution_count": 36,
     "metadata": {},
     "output_type": "execute_result"
    }
   ],
   "source": [
    "type(x_train)"
   ]
  },
  {
   "cell_type": "code",
   "execution_count": null,
   "metadata": {},
   "outputs": [],
   "source": []
  },
  {
   "cell_type": "markdown",
   "metadata": {},
   "source": [
    "RNN은 입력데이터가 순차적으로 처리되기 때문에 가장 마지막 입력이 최종 state 값에 가장 영향을 많이 미치게 됩니다. 그러므로 마지막 입력이 무의미한 padding으로 채워지는 것은 비효율적입니다. 따라서 'pre'가 훨씬 유리합니다."
   ]
  },
  {
   "cell_type": "code",
   "execution_count": 37,
   "metadata": {
    "ExecuteTime": {
     "end_time": "2021-04-21T08:41:22.098320Z",
     "start_time": "2021-04-21T08:41:21.723041Z"
    }
   },
   "outputs": [],
   "source": [
    "# 위의 maxlen 값에 맞춰서 패딩\n",
    "# post는 data 뒤에 패딩, pre는 data 앞에 패딩\n",
    "# keras.preprocessing.sequence.pad_sequences 을 활용한 패딩 추가\n",
    "x_train = keras.preprocessing.sequence.pad_sequences(x_train,\n",
    "                                                       value=word_to_index[\"<PAD>\"],\n",
    "                                                       padding='pre',\n",
    "                                                       maxlen=maxlen)\n",
    "\n",
    "x_test = keras.preprocessing.sequence.pad_sequences(x_test,\n",
    "                                                      value=word_to_index[\"<PAD>\"],\n",
    "                                                      padding='pre',\n",
    "                                                      maxlen=maxlen)"
   ]
  },
  {
   "cell_type": "code",
   "execution_count": 38,
   "metadata": {
    "ExecuteTime": {
     "end_time": "2021-04-21T08:42:37.950805Z",
     "start_time": "2021-04-21T08:42:37.948108Z"
    }
   },
   "outputs": [
    {
     "data": {
      "text/plain": [
       "numpy.ndarray"
      ]
     },
     "execution_count": 38,
     "metadata": {},
     "output_type": "execute_result"
    }
   ],
   "source": [
    "type(x_train)"
   ]
  },
  {
   "cell_type": "code",
   "execution_count": 40,
   "metadata": {
    "ExecuteTime": {
     "end_time": "2021-04-21T08:47:09.891382Z",
     "start_time": "2021-04-21T08:47:09.888452Z"
    }
   },
   "outputs": [
    {
     "data": {
      "text/plain": [
       "array([[   0,    0,    0, ...,   20,   33,  748],\n",
       "       [   0,    0,    0, ...,   15,   44,  391],\n",
       "       [   0,    0,    0, ...,   24,  205,    2],\n",
       "       ...,\n",
       "       [   0,    0,    0, ..., 2710,    6,   18],\n",
       "       [   0,    0,    0, ...,   60,  395, 8572],\n",
       "       [   0,    0,    0, ...,   88, 2740,    5]], dtype=int32)"
      ]
     },
     "execution_count": 40,
     "metadata": {},
     "output_type": "execute_result"
    }
   ],
   "source": [
    "x_train"
   ]
  },
  {
   "cell_type": "markdown",
   "metadata": {},
   "source": [
    "### 4) 모델구성 및 validation set 구성\n",
    "1. LSTM\n",
    "2. CNN\n",
    "3. GlobMP\n",
    "\n",
    "총 3가지로 구성했습니다."
   ]
  },
  {
   "cell_type": "code",
   "execution_count": 6,
   "metadata": {
    "ExecuteTime": {
     "end_time": "2021-04-20T15:14:02.144658Z",
     "start_time": "2021-04-20T15:14:00.928889Z"
    }
   },
   "outputs": [
    {
     "name": "stdout",
     "output_type": "stream",
     "text": [
      "Model: \"sequential\"\n",
      "_________________________________________________________________\n",
      "Layer (type)                 Output Shape              Param #   \n",
      "=================================================================\n",
      "embedding (Embedding)        (None, None, 8)           80000     \n",
      "_________________________________________________________________\n",
      "lstm (LSTM)                  (None, 128)               70144     \n",
      "_________________________________________________________________\n",
      "dense (Dense)                (None, 1)                 129       \n",
      "=================================================================\n",
      "Total params: 150,273\n",
      "Trainable params: 150,273\n",
      "Non-trainable params: 0\n",
      "_________________________________________________________________\n",
      "Model: \"sequential_1\"\n",
      "_________________________________________________________________\n",
      "Layer (type)                 Output Shape              Param #   \n",
      "=================================================================\n",
      "embedding_1 (Embedding)      (None, None, 8)           80000     \n",
      "_________________________________________________________________\n",
      "conv1d (Conv1D)              (None, None, 16)          912       \n",
      "_________________________________________________________________\n",
      "max_pooling1d (MaxPooling1D) (None, None, 16)          0         \n",
      "_________________________________________________________________\n",
      "conv1d_1 (Conv1D)            (None, None, 16)          1808      \n",
      "_________________________________________________________________\n",
      "global_max_pooling1d (Global (None, 16)                0         \n",
      "_________________________________________________________________\n",
      "dense_1 (Dense)              (None, 8)                 136       \n",
      "_________________________________________________________________\n",
      "dense_2 (Dense)              (None, 1)                 9         \n",
      "=================================================================\n",
      "Total params: 82,865\n",
      "Trainable params: 82,865\n",
      "Non-trainable params: 0\n",
      "_________________________________________________________________\n",
      "Model: \"sequential_2\"\n",
      "_________________________________________________________________\n",
      "Layer (type)                 Output Shape              Param #   \n",
      "=================================================================\n",
      "embedding_2 (Embedding)      (None, None, 8)           80000     \n",
      "_________________________________________________________________\n",
      "global_max_pooling1d_1 (Glob (None, 8)                 0         \n",
      "_________________________________________________________________\n",
      "dense_3 (Dense)              (None, 8)                 72        \n",
      "_________________________________________________________________\n",
      "dense_4 (Dense)              (None, 1)                 9         \n",
      "=================================================================\n",
      "Total params: 80,081\n",
      "Trainable params: 80,081\n",
      "Non-trainable params: 0\n",
      "_________________________________________________________________\n"
     ]
    }
   ],
   "source": [
    "from tensorflow.keras.layers import Embedding, Dense, LSTM\n",
    "from tensorflow.keras.models import Sequential\n",
    "from tensorflow.keras.models import load_model\n",
    "from tensorflow.keras.callbacks import EarlyStopping, ModelCheckpoint\n",
    "\n",
    "vocab_size = 10000    # 어휘 사전의 크기입니다(10,000개의 단어)\n",
    "word_vector_dim = 8  # 워드 벡터의 차원수 (변경가능한 하이퍼파라미터)\n",
    "\n",
    "#LSTM\n",
    "model_LSTM = Sequential()\n",
    "model_LSTM.add(Embedding(vocab_size, word_vector_dim))\n",
    "model_LSTM.add(LSTM(128))\n",
    "model_LSTM.add(Dense(1, activation='sigmoid'))\n",
    "\n",
    "\n",
    "#CNN\n",
    "model_CNN = keras.Sequential()\n",
    "model_CNN.add(keras.layers.Embedding(vocab_size, word_vector_dim, input_shape=(None,)))\n",
    "model_CNN.add(keras.layers.Conv1D(16, 7, activation='relu'))\n",
    "model_CNN.add(keras.layers.MaxPooling1D(5))\n",
    "model_CNN.add(keras.layers.Conv1D(16, 7, activation='relu'))\n",
    "model_CNN.add(keras.layers.GlobalMaxPooling1D())\n",
    "model_CNN.add(keras.layers.Dense(8, activation='relu'))\n",
    "model_CNN.add(keras.layers.Dense(1, activation='sigmoid'))  # 최종 출력은 긍정/부정을 나타내는 1dim 입니다.\n",
    "\n",
    "\n",
    "#GlobalMaxPooling1D() 레이어 하나만 사용하는 방법\n",
    "#전체 문장 중에서 단 하나의 가장 중요한 단어만 피처로 추출하여 그것으로 문장의 긍정/부정을 평가하는 방식\n",
    "model_GlobMP = keras.Sequential()\n",
    "model_GlobMP.add(keras.layers.Embedding(vocab_size, word_vector_dim, input_shape=(None,)))\n",
    "model_GlobMP.add(keras.layers.GlobalMaxPooling1D())\n",
    "#model_GlobMP.add(keras.layers.Dropout(0.3))\n",
    "model_GlobMP.add(keras.layers.Dense(8, activation='relu'))\n",
    "#model_GlobMP.add(keras.layers.Dropout(0.3))\n",
    "model_GlobMP.add(keras.layers.Dense(1, activation='sigmoid'))  # 최종 출력은 긍정/부정을 나타내는 1dim 입니다.\n",
    "\n",
    "\n",
    "model_LSTM.summary()\n",
    "model_CNN.summary()\n",
    "model_GlobMP.summary()"
   ]
  },
  {
   "cell_type": "markdown",
   "metadata": {},
   "source": [
    "**영석님이 알려준** callbacks 내용을 추가해서 학습한다.  \n",
    "검증 데이터 손실(val_loss)이 증가하면, 과적합 징후므로 검증 데이터 손실이 4회 증가하면 학습을 조기 종료(Early Stopping)합니다. 또한, ModelCheckpoint를 사용하여 검증 데이터의 정확도(val_acc)가 이전보다 좋아질 경우에만 모델을 저장합니다."
   ]
  },
  {
   "cell_type": "code",
   "execution_count": 1,
   "metadata": {
    "ExecuteTime": {
     "end_time": "2021-04-22T06:34:30.576223Z",
     "start_time": "2021-04-22T06:34:30.522183Z"
    }
   },
   "outputs": [
    {
     "name": "stdout",
     "output_type": "stream",
     "text": [
      "LSTM------------------------------------------------------------------------------------------------------\n"
     ]
    },
    {
     "ename": "NameError",
     "evalue": "name 'EarlyStopping' is not defined",
     "output_type": "error",
     "traceback": [
      "\u001b[0;31m---------------------------------------------------------------------------\u001b[0m",
      "\u001b[0;31mNameError\u001b[0m                                 Traceback (most recent call last)",
      "\u001b[0;32m<ipython-input-1-99bb9e75e03e>\u001b[0m in \u001b[0;36m<module>\u001b[0;34m\u001b[0m\n\u001b[1;32m      1\u001b[0m \u001b[0mprint\u001b[0m\u001b[0;34m(\u001b[0m\u001b[0;34m'LSTM------------------------------------------------------------------------------------------------------'\u001b[0m\u001b[0;34m)\u001b[0m\u001b[0;34m\u001b[0m\u001b[0;34m\u001b[0m\u001b[0m\n\u001b[1;32m      2\u001b[0m \u001b[0;31m# callbacks에 넣을 것들\u001b[0m\u001b[0;34m\u001b[0m\u001b[0;34m\u001b[0m\u001b[0;34m\u001b[0m\u001b[0m\n\u001b[0;32m----> 3\u001b[0;31m \u001b[0mes\u001b[0m \u001b[0;34m=\u001b[0m \u001b[0mEarlyStopping\u001b[0m\u001b[0;34m(\u001b[0m\u001b[0mmonitor\u001b[0m\u001b[0;34m=\u001b[0m\u001b[0;34m'val_loss'\u001b[0m\u001b[0;34m,\u001b[0m \u001b[0mmode\u001b[0m\u001b[0;34m=\u001b[0m\u001b[0;34m'min'\u001b[0m\u001b[0;34m,\u001b[0m \u001b[0mverbose\u001b[0m\u001b[0;34m=\u001b[0m\u001b[0;36m1\u001b[0m\u001b[0;34m,\u001b[0m \u001b[0mpatience\u001b[0m\u001b[0;34m=\u001b[0m\u001b[0;36m4\u001b[0m\u001b[0;34m)\u001b[0m\u001b[0;34m\u001b[0m\u001b[0;34m\u001b[0m\u001b[0m\n\u001b[0m\u001b[1;32m      4\u001b[0m \u001b[0mmc\u001b[0m \u001b[0;34m=\u001b[0m \u001b[0mModelCheckpoint\u001b[0m\u001b[0;34m(\u001b[0m\u001b[0;34m'best_model_LSTM.h5'\u001b[0m\u001b[0;34m,\u001b[0m \u001b[0mmonitor\u001b[0m\u001b[0;34m=\u001b[0m\u001b[0;34m'val_acc'\u001b[0m\u001b[0;34m,\u001b[0m \u001b[0mmode\u001b[0m\u001b[0;34m=\u001b[0m\u001b[0;34m'max'\u001b[0m\u001b[0;34m,\u001b[0m \u001b[0mverbose\u001b[0m\u001b[0;34m=\u001b[0m\u001b[0;36m1\u001b[0m\u001b[0;34m,\u001b[0m \u001b[0msave_best_only\u001b[0m\u001b[0;34m=\u001b[0m\u001b[0;32mTrue\u001b[0m\u001b[0;34m)\u001b[0m\u001b[0;34m\u001b[0m\u001b[0;34m\u001b[0m\u001b[0m\n\u001b[1;32m      5\u001b[0m \u001b[0;34m\u001b[0m\u001b[0m\n",
      "\u001b[0;31mNameError\u001b[0m: name 'EarlyStopping' is not defined"
     ]
    }
   ],
   "source": [
    "print('LSTM------------------------------------------------------------------------------------------------------')\n",
    "# callbacks에 넣을 것들\n",
    "es = EarlyStopping(monitor='val_loss', mode='min', verbose=1, patience=4)\n",
    "mc = ModelCheckpoint('best_model_LSTM.h5', monitor='val_acc', mode='max', verbose=1, save_best_only=True)\n",
    "\n",
    "model_LSTM.compile(optimizer='rmsprop', loss='binary_crossentropy', metrics=['acc'])\n",
    "\n",
    "history_model_LSTM = model_LSTM.fit(x_train, \n",
    "                                    y_train, \n",
    "                                    epochs=10, \n",
    "                                    callbacks=[es, mc], \n",
    "                                    batch_size=100, \n",
    "                                    validation_split=0.2)"
   ]
  },
  {
   "cell_type": "code",
   "execution_count": 8,
   "metadata": {
    "ExecuteTime": {
     "end_time": "2021-04-20T15:15:03.757215Z",
     "start_time": "2021-04-20T15:14:54.117620Z"
    }
   },
   "outputs": [
    {
     "name": "stdout",
     "output_type": "stream",
     "text": [
      "49157/49157 [==============================] - 9s 186us/sample - loss: 0.3125 - acc: 0.8653\n",
      "0.8652888\n"
     ]
    }
   ],
   "source": [
    "loaded_model_LSTM = load_model('best_model_LSTM.h5')\n",
    "results_LSTM = loaded_model_LSTM.evaluate(x_test, y_test)[1]\n",
    "print(results_LSTM)"
   ]
  },
  {
   "cell_type": "code",
   "execution_count": 9,
   "metadata": {
    "ExecuteTime": {
     "end_time": "2021-04-20T15:15:31.175350Z",
     "start_time": "2021-04-20T15:15:03.758456Z"
    }
   },
   "outputs": [
    {
     "name": "stdout",
     "output_type": "stream",
     "text": [
      "CNN------------------------------------------------------------------------------------------------------\n",
      "Train on 116945 samples, validate on 29237 samples\n",
      "Epoch 1/10\n",
      "115000/116945 [============================>.] - ETA: 0s - loss: 0.4468 - acc: 0.7876\n",
      "Epoch 00001: val_acc improved from -inf to 0.83627, saving model to best_model_CNN.h5\n",
      "116945/116945 [==============================] - 4s 35us/sample - loss: 0.4454 - acc: 0.7884 - val_loss: 0.3734 - val_acc: 0.8363\n",
      "Epoch 2/10\n",
      "116200/116945 [============================>.] - ETA: 0s - loss: 0.3517 - acc: 0.8459\n",
      "Epoch 00002: val_acc did not improve from 0.83627\n",
      "116945/116945 [==============================] - 3s 28us/sample - loss: 0.3516 - acc: 0.8460 - val_loss: 0.3710 - val_acc: 0.8338\n",
      "Epoch 3/10\n",
      "115300/116945 [============================>.] - ETA: 0s - loss: 0.3297 - acc: 0.8564\n",
      "Epoch 00003: val_acc improved from 0.83627 to 0.84981, saving model to best_model_CNN.h5\n",
      "116945/116945 [==============================] - 3s 28us/sample - loss: 0.3297 - acc: 0.8565 - val_loss: 0.3471 - val_acc: 0.8498\n",
      "Epoch 4/10\n",
      "115600/116945 [============================>.] - ETA: 0s - loss: 0.3134 - acc: 0.8658\n",
      "Epoch 00004: val_acc improved from 0.84981 to 0.85193, saving model to best_model_CNN.h5\n",
      "116945/116945 [==============================] - 3s 28us/sample - loss: 0.3134 - acc: 0.8658 - val_loss: 0.3427 - val_acc: 0.8519\n",
      "Epoch 5/10\n",
      "115100/116945 [============================>.] - ETA: 0s - loss: 0.3004 - acc: 0.8721\n",
      "Epoch 00005: val_acc did not improve from 0.85193\n",
      "116945/116945 [==============================] - 3s 28us/sample - loss: 0.3006 - acc: 0.8720 - val_loss: 0.3434 - val_acc: 0.8517\n",
      "Epoch 6/10\n",
      "115100/116945 [============================>.] - ETA: 0s - loss: 0.2898 - acc: 0.8783\n",
      "Epoch 00006: val_acc did not improve from 0.85193\n",
      "116945/116945 [==============================] - 3s 28us/sample - loss: 0.2900 - acc: 0.8781 - val_loss: 0.3433 - val_acc: 0.8518\n",
      "Epoch 7/10\n",
      "115700/116945 [============================>.] - ETA: 0s - loss: 0.2814 - acc: 0.8824\n",
      "Epoch 00007: val_acc did not improve from 0.85193\n",
      "116945/116945 [==============================] - 3s 28us/sample - loss: 0.2812 - acc: 0.8825 - val_loss: 0.3524 - val_acc: 0.8505\n",
      "Epoch 8/10\n",
      "116500/116945 [============================>.] - ETA: 0s - loss: 0.2726 - acc: 0.8864\n",
      "Epoch 00008: val_acc did not improve from 0.85193\n",
      "116945/116945 [==============================] - 3s 28us/sample - loss: 0.2729 - acc: 0.8864 - val_loss: 0.3548 - val_acc: 0.8470\n",
      "Epoch 00008: early stopping\n"
     ]
    }
   ],
   "source": [
    "print('CNN------------------------------------------------------------------------------------------------------')\n",
    "# callbacks에 넣을 것들\n",
    "es = EarlyStopping(monitor='val_loss', mode='min', verbose=1, patience=4)\n",
    "mc = ModelCheckpoint('best_model_CNN.h5', monitor='val_acc', mode='max', verbose=1, save_best_only=True)\n",
    "model_CNN.compile(optimizer='rmsprop', loss='binary_crossentropy', metrics=['acc'])\n",
    "\n",
    "history_model_CNN = model_CNN.fit(x_train, \n",
    "                                  y_train, \n",
    "                                  epochs=10, \n",
    "                                  callbacks=[es, mc], \n",
    "                                  batch_size=100, \n",
    "                                  validation_split=0.2)"
   ]
  },
  {
   "cell_type": "code",
   "execution_count": 10,
   "metadata": {
    "ExecuteTime": {
     "end_time": "2021-04-20T15:15:33.463699Z",
     "start_time": "2021-04-20T15:15:31.176678Z"
    }
   },
   "outputs": [
    {
     "name": "stdout",
     "output_type": "stream",
     "text": [
      "49157/49157 [==============================] - 2s 37us/sample - loss: 0.3483 - acc: 0.8473\n",
      "0.8472649\n"
     ]
    }
   ],
   "source": [
    "loaded_model_CNN = load_model('best_model_CNN.h5')\n",
    "results_CNN = loaded_model_CNN.evaluate(x_test, y_test)[1]\n",
    "print(results_CNN)"
   ]
  },
  {
   "cell_type": "code",
   "execution_count": 11,
   "metadata": {
    "ExecuteTime": {
     "end_time": "2021-04-20T15:16:37.144508Z",
     "start_time": "2021-04-20T15:15:33.464769Z"
    }
   },
   "outputs": [
    {
     "name": "stdout",
     "output_type": "stream",
     "text": [
      "GlobMP---------------------------------------------------------------------------------------------------\n",
      "Train on 116945 samples, validate on 29237 samples\n",
      "Epoch 1/30\n",
      "116945/116945 [==============================] - 3s 25us/sample - loss: 0.5600 - acc: 0.7421 - val_loss: 0.4638 - val_acc: 0.8100\n",
      "Epoch 2/30\n",
      "116945/116945 [==============================] - 3s 22us/sample - loss: 0.4224 - acc: 0.8241 - val_loss: 0.4079 - val_acc: 0.8231\n",
      "Epoch 3/30\n",
      "116945/116945 [==============================] - 3s 22us/sample - loss: 0.3835 - acc: 0.8369 - val_loss: 0.3911 - val_acc: 0.8300\n",
      "Epoch 4/30\n",
      "116945/116945 [==============================] - 3s 22us/sample - loss: 0.3672 - acc: 0.8429 - val_loss: 0.3850 - val_acc: 0.8324\n",
      "Epoch 5/30\n",
      "116945/116945 [==============================] - 3s 22us/sample - loss: 0.3588 - acc: 0.8468 - val_loss: 0.3803 - val_acc: 0.8339\n",
      "Epoch 6/30\n",
      "116945/116945 [==============================] - 3s 22us/sample - loss: 0.3533 - acc: 0.8492 - val_loss: 0.3784 - val_acc: 0.8332\n",
      "Epoch 7/30\n",
      "116945/116945 [==============================] - 3s 22us/sample - loss: 0.3494 - acc: 0.8517 - val_loss: 0.3770 - val_acc: 0.8344\n",
      "Epoch 8/30\n",
      "116945/116945 [==============================] - 3s 22us/sample - loss: 0.3471 - acc: 0.8529 - val_loss: 0.3760 - val_acc: 0.8358\n",
      "Epoch 9/30\n",
      "116945/116945 [==============================] - 3s 22us/sample - loss: 0.3450 - acc: 0.8535 - val_loss: 0.3754 - val_acc: 0.8357\n",
      "Epoch 10/30\n",
      "116945/116945 [==============================] - 3s 22us/sample - loss: 0.3432 - acc: 0.8546 - val_loss: 0.3747 - val_acc: 0.8374\n",
      "Epoch 11/30\n",
      "116945/116945 [==============================] - 3s 22us/sample - loss: 0.3420 - acc: 0.8548 - val_loss: 0.3746 - val_acc: 0.8376\n",
      "Epoch 12/30\n",
      "116945/116945 [==============================] - 3s 22us/sample - loss: 0.3410 - acc: 0.8559 - val_loss: 0.3742 - val_acc: 0.8381\n",
      "Epoch 13/30\n",
      "116945/116945 [==============================] - 3s 22us/sample - loss: 0.3399 - acc: 0.8564 - val_loss: 0.3741 - val_acc: 0.8388\n",
      "Epoch 14/30\n",
      "116945/116945 [==============================] - 3s 22us/sample - loss: 0.3390 - acc: 0.8569 - val_loss: 0.3743 - val_acc: 0.8377\n",
      "Epoch 15/30\n",
      "116945/116945 [==============================] - 3s 22us/sample - loss: 0.3382 - acc: 0.8572 - val_loss: 0.3738 - val_acc: 0.8390\n",
      "Epoch 16/30\n",
      "116945/116945 [==============================] - 3s 22us/sample - loss: 0.3374 - acc: 0.8576 - val_loss: 0.3736 - val_acc: 0.8380\n",
      "Epoch 17/30\n",
      "116945/116945 [==============================] - 3s 22us/sample - loss: 0.3369 - acc: 0.8579 - val_loss: 0.3732 - val_acc: 0.8385\n",
      "Epoch 18/30\n",
      "116945/116945 [==============================] - 3s 22us/sample - loss: 0.3363 - acc: 0.8584 - val_loss: 0.3734 - val_acc: 0.8385\n",
      "Epoch 19/30\n",
      "116945/116945 [==============================] - 3s 22us/sample - loss: 0.3359 - acc: 0.8585 - val_loss: 0.3735 - val_acc: 0.8387\n",
      "Epoch 20/30\n",
      "116945/116945 [==============================] - 3s 22us/sample - loss: 0.3356 - acc: 0.8589 - val_loss: 0.3731 - val_acc: 0.8386\n",
      "Epoch 21/30\n",
      "116945/116945 [==============================] - 3s 22us/sample - loss: 0.3351 - acc: 0.8588 - val_loss: 0.3745 - val_acc: 0.8402\n",
      "Epoch 22/30\n",
      "116945/116945 [==============================] - 3s 22us/sample - loss: 0.3349 - acc: 0.8591 - val_loss: 0.3740 - val_acc: 0.8400\n",
      "Epoch 23/30\n",
      "116945/116945 [==============================] - 3s 22us/sample - loss: 0.3346 - acc: 0.8594 - val_loss: 0.3740 - val_acc: 0.8392\n",
      "Epoch 24/30\n",
      "116945/116945 [==============================] - 3s 22us/sample - loss: 0.3342 - acc: 0.8596 - val_loss: 0.3739 - val_acc: 0.8375\n",
      "Epoch 25/30\n",
      "116945/116945 [==============================] - 3s 22us/sample - loss: 0.3340 - acc: 0.8600 - val_loss: 0.3732 - val_acc: 0.8393\n"
     ]
    }
   ],
   "source": [
    "print('GlobMP---------------------------------------------------------------------------------------------------')\n",
    "model_GlobMP.compile(optimizer='rmsprop', loss='binary_crossentropy', metrics=['acc'])\n",
    "\n",
    "callbacks_list = [\n",
    "    # 검증 정확도(val_loss)가 10 epoch보다 더 긴시간동안 향상되지 않으면 훈련을 중지\n",
    "    EarlyStopping(monitor='val_loss', # 기본값은 monitor='val_loss'\n",
    "                  patience=5),\n",
    "    \n",
    "    # 훈련 중 검증 손실(val_loss)이 가장 좋을 때마다 계속해서 저장\n",
    "    # (최종적으로 가장 좋은 모델만 저장됨)\n",
    "    ModelCheckpoint(filepath='best_model_GlobMP.h5',\n",
    "                    monitor='val_loss',\n",
    "                    save_best_only=True)]\n",
    "\n",
    "history_model_GlobMP = model_GlobMP.fit(x_train, \n",
    "                                        y_train, \n",
    "                                        epochs=30, \n",
    "                                        callbacks=callbacks_list, \n",
    "                                        batch_size=100, \n",
    "                                        validation_split=0.2)"
   ]
  },
  {
   "cell_type": "code",
   "execution_count": 12,
   "metadata": {
    "ExecuteTime": {
     "end_time": "2021-04-20T15:16:38.986685Z",
     "start_time": "2021-04-20T15:16:37.145513Z"
    }
   },
   "outputs": [
    {
     "name": "stdout",
     "output_type": "stream",
     "text": [
      "49157/49157 [==============================] - 2s 31us/sample - loss: 0.3800 - acc: 0.8346\n",
      "0.83461154\n"
     ]
    }
   ],
   "source": [
    "loaded_model_GlobMP = load_model('best_model_GlobMP.h5')\n",
    "results_GlobMP = loaded_model_GlobMP.evaluate(x_test, y_test)[1]\n",
    "print(results_GlobMP)"
   ]
  },
  {
   "cell_type": "code",
   "execution_count": 13,
   "metadata": {
    "ExecuteTime": {
     "end_time": "2021-04-20T15:16:38.990408Z",
     "start_time": "2021-04-20T15:16:38.987806Z"
    }
   },
   "outputs": [
    {
     "name": "stdout",
     "output_type": "stream",
     "text": [
      "LSTM-----------------------------------------\n",
      "0.8652888\n",
      "CNN-----------------------------------------\n",
      "0.8472649\n",
      "GlobMP-----------------------------------------\n",
      "0.83461154\n"
     ]
    }
   ],
   "source": [
    "print('LSTM-----------------------------------------')\n",
    "print(results_LSTM)\n",
    "print('CNN-----------------------------------------')\n",
    "print(results_CNN)\n",
    "print('GlobMP-----------------------------------------')\n",
    "print(results_GlobMP)"
   ]
  },
  {
   "cell_type": "markdown",
   "metadata": {},
   "source": [
    "### 6) Loss, Accuracy 그래프 시각화\n",
    "4개의 모델에 대한 history 가져오기  \n",
    ".key()는 epoch을 기준으로 그래프를 그려볼 수 있는 항목"
   ]
  },
  {
   "cell_type": "code",
   "execution_count": 14,
   "metadata": {
    "ExecuteTime": {
     "end_time": "2021-04-20T15:16:39.002315Z",
     "start_time": "2021-04-20T15:16:38.991328Z"
    }
   },
   "outputs": [
    {
     "name": "stdout",
     "output_type": "stream",
     "text": [
      "dict_keys(['loss', 'acc', 'val_loss', 'val_acc'])\n"
     ]
    }
   ],
   "source": [
    "history_dict_LSTM = history_model_LSTM.history\n",
    "history_dict_CNN = history_model_CNN.history\n",
    "history_dict_GlobMP = history_model_GlobMP.history\n",
    "print(history_dict_GlobMP.keys())"
   ]
  },
  {
   "cell_type": "code",
   "execution_count": 15,
   "metadata": {
    "ExecuteTime": {
     "end_time": "2021-04-20T15:16:39.254526Z",
     "start_time": "2021-04-20T15:16:39.003310Z"
    }
   },
   "outputs": [
    {
     "data": {
      "image/png": "[encoded data removed]",
      "text/plain": [
       "<Figure size 432x288 with 1 Axes>"
      ]
     },
     "metadata": {
      "needs_background": "light"
     },
     "output_type": "display_data"
    },
    {
     "data": {
      "image/png": "[encoded data removed]",
      "text/plain": [
       "<Figure size 432x288 with 1 Axes>"
      ]
     },
     "metadata": {
      "needs_background": "light"
     },
     "output_type": "display_data"
    }
   ],
   "source": [
    "import matplotlib.pyplot as plt\n",
    "# LSTM\n",
    "acc = history_dict_LSTM['acc']\n",
    "val_acc = history_dict_LSTM['val_acc']\n",
    "loss = history_dict_LSTM['loss']\n",
    "val_loss = history_dict_LSTM['val_loss']\n",
    "\n",
    "epochs = range(1, len(acc) + 1)\n",
    "\n",
    "# \"bo\"는 \"파란색 점\"입니다\n",
    "plt.plot(epochs, loss, 'bo', label='Training loss')\n",
    "# b는 \"파란 실선\"입니다\n",
    "plt.plot(epochs, val_loss, 'b', label='Validation loss')\n",
    "plt.title('LSTM Training and validation loss')\n",
    "plt.xlabel('Epochs')\n",
    "plt.ylabel('Loss')\n",
    "plt.legend()\n",
    "\n",
    "plt.show()\n",
    "\n",
    "plt.clf()   # 그림을 초기화합니다\n",
    "\n",
    "plt.plot(epochs, acc, 'bo', label='Training acc')\n",
    "plt.plot(epochs, val_acc, 'b', label='Validation acc')\n",
    "plt.title('LSTM Training and validation accuracy')\n",
    "plt.xlabel('Epochs')\n",
    "plt.ylabel('Accuracy')\n",
    "plt.legend()\n",
    "\n",
    "plt.show()"
   ]
  },
  {
   "cell_type": "code",
   "execution_count": 16,
   "metadata": {
    "ExecuteTime": {
     "end_time": "2021-04-20T15:16:39.503926Z",
     "start_time": "2021-04-20T15:16:39.255651Z"
    }
   },
   "outputs": [
    {
     "data": {
      "image/png": "[encoded data removed]",
      "text/plain": [
       "<Figure size 432x288 with 1 Axes>"
      ]
     },
     "metadata": {
      "needs_background": "light"
     },
     "output_type": "display_data"
    },
    {
     "data": {
      "image/png": "[encoded data removed]",
      "text/plain": [
       "<Figure size 432x288 with 1 Axes>"
      ]
     },
     "metadata": {
      "needs_background": "light"
     },
     "output_type": "display_data"
    }
   ],
   "source": [
    "import matplotlib.pyplot as plt\n",
    "# CNN\n",
    "acc = history_dict_CNN['acc']\n",
    "val_acc = history_dict_CNN['val_acc']\n",
    "loss = history_dict_CNN['loss']\n",
    "val_loss = history_dict_CNN['val_loss']\n",
    "\n",
    "epochs = range(1, len(acc) + 1)\n",
    "\n",
    "# \"bo\"는 \"파란색 점\"입니다\n",
    "plt.plot(epochs, loss, 'bo', label='Training loss')\n",
    "# b는 \"파란 실선\"입니다\n",
    "plt.plot(epochs, val_loss, 'b', label='Validation loss')\n",
    "plt.title('CNN Training and validation loss')\n",
    "plt.xlabel('Epochs')\n",
    "plt.ylabel('Loss')\n",
    "plt.legend()\n",
    "\n",
    "plt.show()\n",
    "\n",
    "plt.clf()   # 그림을 초기화합니다\n",
    "\n",
    "plt.plot(epochs, acc, 'bo', label='Training acc')\n",
    "plt.plot(epochs, val_acc, 'b', label='Validation acc')\n",
    "plt.title('CNN Training and validation accuracy')\n",
    "plt.xlabel('Epochs')\n",
    "plt.ylabel('Accuracy')\n",
    "plt.legend()\n",
    "\n",
    "plt.show()"
   ]
  },
  {
   "cell_type": "code",
   "execution_count": 17,
   "metadata": {
    "ExecuteTime": {
     "end_time": "2021-04-20T15:16:39.735965Z",
     "start_time": "2021-04-20T15:16:39.505034Z"
    }
   },
   "outputs": [
    {
     "data": {
      "image/png": "[encoded data removed]",
      "text/plain": [
       "<Figure size 432x288 with 1 Axes>"
      ]
     },
     "metadata": {
      "needs_background": "light"
     },
     "output_type": "display_data"
    },
    {
     "data": {
      "image/png": "[encoded data removed]",
      "text/plain": [
       "<Figure size 432x288 with 1 Axes>"
      ]
     },
     "metadata": {
      "needs_background": "light"
     },
     "output_type": "display_data"
    }
   ],
   "source": [
    "import matplotlib.pyplot as plt\n",
    "# GlobMP\n",
    "acc = history_dict_GlobMP['acc']\n",
    "val_acc = history_dict_GlobMP['val_acc']\n",
    "loss = history_dict_GlobMP['loss']\n",
    "val_loss = history_dict_GlobMP['val_loss']\n",
    "\n",
    "epochs = range(1, len(acc) + 1)\n",
    "\n",
    "# \"bo\"는 \"파란색 점\"입니다\n",
    "plt.plot(epochs, loss, 'bo', label='Training loss')\n",
    "# b는 \"파란 실선\"입니다\n",
    "plt.plot(epochs, val_loss, 'b', label='Validation loss')\n",
    "plt.title('GlobMP Training and validation loss')\n",
    "plt.xlabel('Epochs')\n",
    "plt.ylabel('Loss')\n",
    "plt.legend()\n",
    "\n",
    "plt.show()\n",
    "\n",
    "plt.clf()   # 그림을 초기화합니다\n",
    "\n",
    "plt.plot(epochs, acc, 'bo', label='Training acc')\n",
    "plt.plot(epochs, val_acc, 'b', label='Validation acc')\n",
    "plt.title('GlobMP Training and validation accuracy')\n",
    "plt.xlabel('Epochs')\n",
    "plt.ylabel('Accuracy')\n",
    "plt.legend()\n",
    "\n",
    "plt.show()"
   ]
  },
  {
   "cell_type": "markdown",
   "metadata": {},
   "source": [
    "LSTM에서는 epochs=9에서 loss가 가장 낮고,  \n",
    "CNN에서는 5번째에가 가장 낮고,  \n",
    "globalmaxpooling 레이어에서는 5번째 이후로는 loss가 거의 비슷하지만 13번째가 제일 낮았다."
   ]
  },
  {
   "cell_type": "markdown",
   "metadata": {},
   "source": [
    "### 7) 학습된 Embedding 레이어 분석\n",
    "정확도가 가장 낮았던 **GlobMP**의 embedding_layer에 대입해서  \n",
    "gensim에서 제공하는 패키지를 이용해, 위에 남긴 임베딩 파라미터를 읽어서 word vector로 활용해보자.  \n",
    "이 워드 벡터가 의미벡터 공간상에 유의미하게 학습되었는지 확인하는 방법 중에, 주어진 단어와 벡터가 비슷한 단어와의 유사도로 확인할 수 있는 방법이 있다. 이 방벙으로 GlobMP로 학습이 어느 정도로 되었는지 확인해보자."
   ]
  },
  {
   "cell_type": "code",
   "execution_count": 18,
   "metadata": {
    "ExecuteTime": {
     "end_time": "2021-04-20T15:16:39.740436Z",
     "start_time": "2021-04-20T15:16:39.737079Z"
    }
   },
   "outputs": [
    {
     "name": "stdout",
     "output_type": "stream",
     "text": [
      "(10000, 8)\n"
     ]
    }
   ],
   "source": [
    "# GLobMP\n",
    "embedding_layer = model_GlobMP.layers[0]\n",
    "weights = embedding_layer.get_weights()[0]\n",
    "print(weights.shape)    # shape: (vocab_size, embedding_dim)"
   ]
  },
  {
   "cell_type": "code",
   "execution_count": 19,
   "metadata": {
    "ExecuteTime": {
     "end_time": "2021-04-20T15:16:39.818593Z",
     "start_time": "2021-04-20T15:16:39.741816Z"
    }
   },
   "outputs": [],
   "source": [
    "import os\n",
    "\n",
    "# 학습한 GlobMP Embedding 파라미터를 파일에 써서 저장합니다. \n",
    "word2vec_file_path_GlobMP = os.getenv('HOME')+'/aiffel/sentiment_classification/word2vec_GlobMP.txt'\n",
    "f = open(word2vec_file_path_GlobMP, 'w')\n",
    "f.write('{} {}\\n'.format(vocab_size-4, word_vector_dim))  # 몇개의 벡터를 얼마 사이즈로 기재할지 타이틀을 씁니다.\n",
    "\n",
    "# 단어 개수(에서 특수문자 4개는 제외하고)만큼의 워드 벡터를 파일에 기록합니다. \n",
    "vectors = model_GlobMP.get_weights()[0] # 이게 원-핫일 것이다.\n",
    "for i in range(4,vocab_size):\n",
    "    f.write('{} {}\\n'.format(index_to_word[i], ' '.join(map(str, list(vectors[i, :])))))\n",
    "f.close()"
   ]
  },
  {
   "cell_type": "code",
   "execution_count": 20,
   "metadata": {
    "ExecuteTime": {
     "end_time": "2021-04-20T15:16:40.080584Z",
     "start_time": "2021-04-20T15:16:39.819740Z"
    }
   },
   "outputs": [
    {
     "data": {
      "text/plain": [
       "array([ 0.03269733,  0.2265162 , -0.2555912 , -0.368357  ,  0.51224774,\n",
       "        1.2564783 , -0.25130278,  0.4335137 ], dtype=float32)"
      ]
     },
     "execution_count": 20,
     "metadata": {},
     "output_type": "execute_result"
    }
   ],
   "source": [
    "from gensim.models.keyedvectors import Word2VecKeyedVectors\n",
    "\n",
    "word_vectors_GlobMP = Word2VecKeyedVectors.load_word2vec_format(word2vec_file_path_GlobMP, binary=False)\n",
    "vector_GlobMP = word_vectors_GlobMP['팝콘']\n",
    "vector_GlobMP"
   ]
  },
  {
   "cell_type": "code",
   "execution_count": 21,
   "metadata": {
    "ExecuteTime": {
     "end_time": "2021-04-20T15:16:40.086635Z",
     "start_time": "2021-04-20T15:16:40.081638Z"
    }
   },
   "outputs": [
    {
     "data": {
      "text/plain": [
       "[('자질', 0.9704517722129822),\n",
       " ('호구', 0.9694958925247192),\n",
       " ('발악', 0.9647912979125977),\n",
       " ('지루', 0.9623459577560425),\n",
       " ('치중', 0.9568285942077637),\n",
       " ('좀비', 0.952324390411377),\n",
       " ('산', 0.9501489400863647),\n",
       " ('시망', 0.9471719861030579),\n",
       " ('잠들', 0.9437377452850342),\n",
       " ('몰락', 0.9406015872955322)]"
      ]
     },
     "execution_count": 21,
     "metadata": {},
     "output_type": "execute_result"
    }
   ],
   "source": [
    "word_vectors_GlobMP.similar_by_word('팝콘')"
   ]
  },
  {
   "cell_type": "markdown",
   "metadata": {},
   "source": [
    "벡터만 보면 유사도가 높아보이지만 실제 단어끼리의 유사도가 많이 떨어지는 것을 확인할 수 있었다.  \n",
    "10000개의 data는 아주 작은 양이기 때문이다.  \n",
    "그래서 자체학습이 아닌 사전학습된 한국어 Word2Vec 임베딩을 활용하여 다른 모델의 성능을 개선해보자."
   ]
  },
  {
   "cell_type": "markdown",
   "metadata": {},
   "source": [
    "### 8) 한국어 Word2Vec 임베딩 활용하여 성능개선\n",
    "사전 학습 되어있는 ko.bin의 embedding_layer를 정확도가 가장 높았던 LSTM과 가장 낮았던 GlobMP 모델에 대입해서  \n",
    "전에 모델에 비해 성능이 발전했는지 확인하기."
   ]
  },
  {
   "cell_type": "code",
   "execution_count": 22,
   "metadata": {
    "ExecuteTime": {
     "end_time": "2021-04-20T15:16:40.347361Z",
     "start_time": "2021-04-20T15:16:40.087783Z"
    }
   },
   "outputs": [
    {
     "ename": "FileNotFoundError",
     "evalue": "[Errno 2] No such file or directory: './sentiment_classification/ko.bin'",
     "output_type": "error",
     "traceback": [
      "\u001b[0;31m---------------------------------------------------------------------------\u001b[0m",
      "\u001b[0;31mFileNotFoundError\u001b[0m                         Traceback (most recent call last)",
      "\u001b[0;32m<ipython-input-22-bbe6ee978c0c>\u001b[0m in \u001b[0;36m<module>\u001b[0;34m\u001b[0m\n\u001b[1;32m      3\u001b[0m \u001b[0;32mimport\u001b[0m \u001b[0mgensim\u001b[0m\u001b[0;34m\u001b[0m\u001b[0;34m\u001b[0m\u001b[0m\n\u001b[1;32m      4\u001b[0m \u001b[0;34m\u001b[0m\u001b[0m\n\u001b[0;32m----> 5\u001b[0;31m \u001b[0mko_model\u001b[0m \u001b[0;34m=\u001b[0m \u001b[0mgensim\u001b[0m\u001b[0;34m.\u001b[0m\u001b[0mmodels\u001b[0m\u001b[0;34m.\u001b[0m\u001b[0mWord2Vec\u001b[0m\u001b[0;34m.\u001b[0m\u001b[0mload\u001b[0m\u001b[0;34m(\u001b[0m\u001b[0;34m'./sentiment_classification/ko.bin'\u001b[0m\u001b[0;34m)\u001b[0m\u001b[0;34m\u001b[0m\u001b[0;34m\u001b[0m\u001b[0m\n\u001b[0m\u001b[1;32m      6\u001b[0m \u001b[0mword2vec\u001b[0m \u001b[0;34m=\u001b[0m \u001b[0mko_model\u001b[0m\u001b[0;34m\u001b[0m\u001b[0;34m\u001b[0m\u001b[0m\n\u001b[1;32m      7\u001b[0m \u001b[0mvector\u001b[0m \u001b[0;34m=\u001b[0m \u001b[0mko_model\u001b[0m\u001b[0;34m[\u001b[0m\u001b[0;34m'강아지'\u001b[0m\u001b[0;34m]\u001b[0m\u001b[0;34m\u001b[0m\u001b[0;34m\u001b[0m\u001b[0m\n",
      "\u001b[0;32m~/anaconda3/envs/aiffel/lib/python3.7/site-packages/gensim/models/word2vec.py\u001b[0m in \u001b[0;36mload\u001b[0;34m(cls, *args, **kwargs)\u001b[0m\n\u001b[1;32m   1139\u001b[0m         \"\"\"\n\u001b[1;32m   1140\u001b[0m         \u001b[0;32mtry\u001b[0m\u001b[0;34m:\u001b[0m\u001b[0;34m\u001b[0m\u001b[0;34m\u001b[0m\u001b[0m\n\u001b[0;32m-> 1141\u001b[0;31m             \u001b[0mmodel\u001b[0m \u001b[0;34m=\u001b[0m \u001b[0msuper\u001b[0m\u001b[0;34m(\u001b[0m\u001b[0mWord2Vec\u001b[0m\u001b[0;34m,\u001b[0m \u001b[0mcls\u001b[0m\u001b[0;34m)\u001b[0m\u001b[0;34m.\u001b[0m\u001b[0mload\u001b[0m\u001b[0;34m(\u001b[0m\u001b[0;34m*\u001b[0m\u001b[0margs\u001b[0m\u001b[0;34m,\u001b[0m \u001b[0;34m**\u001b[0m\u001b[0mkwargs\u001b[0m\u001b[0;34m)\u001b[0m\u001b[0;34m\u001b[0m\u001b[0;34m\u001b[0m\u001b[0m\n\u001b[0m\u001b[1;32m   1142\u001b[0m \u001b[0;34m\u001b[0m\u001b[0m\n\u001b[1;32m   1143\u001b[0m             \u001b[0;31m# for backward compatibility for `max_final_vocab` feature\u001b[0m\u001b[0;34m\u001b[0m\u001b[0;34m\u001b[0m\u001b[0;34m\u001b[0m\u001b[0m\n",
      "\u001b[0;32m~/anaconda3/envs/aiffel/lib/python3.7/site-packages/gensim/models/base_any2vec.py\u001b[0m in \u001b[0;36mload\u001b[0;34m(cls, *args, **kwargs)\u001b[0m\n\u001b[1;32m   1228\u001b[0m \u001b[0;34m\u001b[0m\u001b[0m\n\u001b[1;32m   1229\u001b[0m         \"\"\"\n\u001b[0;32m-> 1230\u001b[0;31m         \u001b[0mmodel\u001b[0m \u001b[0;34m=\u001b[0m \u001b[0msuper\u001b[0m\u001b[0;34m(\u001b[0m\u001b[0mBaseWordEmbeddingsModel\u001b[0m\u001b[0;34m,\u001b[0m \u001b[0mcls\u001b[0m\u001b[0;34m)\u001b[0m\u001b[0;34m.\u001b[0m\u001b[0mload\u001b[0m\u001b[0;34m(\u001b[0m\u001b[0;34m*\u001b[0m\u001b[0margs\u001b[0m\u001b[0;34m,\u001b[0m \u001b[0;34m**\u001b[0m\u001b[0mkwargs\u001b[0m\u001b[0;34m)\u001b[0m\u001b[0;34m\u001b[0m\u001b[0;34m\u001b[0m\u001b[0m\n\u001b[0m\u001b[1;32m   1231\u001b[0m         \u001b[0;32mif\u001b[0m \u001b[0;32mnot\u001b[0m \u001b[0mhasattr\u001b[0m\u001b[0;34m(\u001b[0m\u001b[0mmodel\u001b[0m\u001b[0;34m,\u001b[0m \u001b[0;34m'ns_exponent'\u001b[0m\u001b[0;34m)\u001b[0m\u001b[0;34m:\u001b[0m\u001b[0;34m\u001b[0m\u001b[0;34m\u001b[0m\u001b[0m\n\u001b[1;32m   1232\u001b[0m             \u001b[0mmodel\u001b[0m\u001b[0;34m.\u001b[0m\u001b[0mns_exponent\u001b[0m \u001b[0;34m=\u001b[0m \u001b[0;36m0.75\u001b[0m\u001b[0;34m\u001b[0m\u001b[0;34m\u001b[0m\u001b[0m\n",
      "\u001b[0;32m~/anaconda3/envs/aiffel/lib/python3.7/site-packages/gensim/models/base_any2vec.py\u001b[0m in \u001b[0;36mload\u001b[0;34m(cls, fname_or_handle, **kwargs)\u001b[0m\n\u001b[1;32m    600\u001b[0m \u001b[0;34m\u001b[0m\u001b[0m\n\u001b[1;32m    601\u001b[0m         \"\"\"\n\u001b[0;32m--> 602\u001b[0;31m         \u001b[0;32mreturn\u001b[0m \u001b[0msuper\u001b[0m\u001b[0;34m(\u001b[0m\u001b[0mBaseAny2VecModel\u001b[0m\u001b[0;34m,\u001b[0m \u001b[0mcls\u001b[0m\u001b[0;34m)\u001b[0m\u001b[0;34m.\u001b[0m\u001b[0mload\u001b[0m\u001b[0;34m(\u001b[0m\u001b[0mfname_or_handle\u001b[0m\u001b[0;34m,\u001b[0m \u001b[0;34m**\u001b[0m\u001b[0mkwargs\u001b[0m\u001b[0;34m)\u001b[0m\u001b[0;34m\u001b[0m\u001b[0;34m\u001b[0m\u001b[0m\n\u001b[0m\u001b[1;32m    603\u001b[0m \u001b[0;34m\u001b[0m\u001b[0m\n\u001b[1;32m    604\u001b[0m     \u001b[0;32mdef\u001b[0m \u001b[0msave\u001b[0m\u001b[0;34m(\u001b[0m\u001b[0mself\u001b[0m\u001b[0;34m,\u001b[0m \u001b[0mfname_or_handle\u001b[0m\u001b[0;34m,\u001b[0m \u001b[0;34m**\u001b[0m\u001b[0mkwargs\u001b[0m\u001b[0;34m)\u001b[0m\u001b[0;34m:\u001b[0m\u001b[0;34m\u001b[0m\u001b[0;34m\u001b[0m\u001b[0m\n",
      "\u001b[0;32m~/anaconda3/envs/aiffel/lib/python3.7/site-packages/gensim/utils.py\u001b[0m in \u001b[0;36mload\u001b[0;34m(cls, fname, mmap)\u001b[0m\n\u001b[1;32m    433\u001b[0m         \u001b[0mcompress\u001b[0m\u001b[0;34m,\u001b[0m \u001b[0msubname\u001b[0m \u001b[0;34m=\u001b[0m \u001b[0mSaveLoad\u001b[0m\u001b[0;34m.\u001b[0m\u001b[0m_adapt_by_suffix\u001b[0m\u001b[0;34m(\u001b[0m\u001b[0mfname\u001b[0m\u001b[0;34m)\u001b[0m\u001b[0;34m\u001b[0m\u001b[0;34m\u001b[0m\u001b[0m\n\u001b[1;32m    434\u001b[0m \u001b[0;34m\u001b[0m\u001b[0m\n\u001b[0;32m--> 435\u001b[0;31m         \u001b[0mobj\u001b[0m \u001b[0;34m=\u001b[0m \u001b[0munpickle\u001b[0m\u001b[0;34m(\u001b[0m\u001b[0mfname\u001b[0m\u001b[0;34m)\u001b[0m\u001b[0;34m\u001b[0m\u001b[0;34m\u001b[0m\u001b[0m\n\u001b[0m\u001b[1;32m    436\u001b[0m         \u001b[0mobj\u001b[0m\u001b[0;34m.\u001b[0m\u001b[0m_load_specials\u001b[0m\u001b[0;34m(\u001b[0m\u001b[0mfname\u001b[0m\u001b[0;34m,\u001b[0m \u001b[0mmmap\u001b[0m\u001b[0;34m,\u001b[0m \u001b[0mcompress\u001b[0m\u001b[0;34m,\u001b[0m \u001b[0msubname\u001b[0m\u001b[0;34m)\u001b[0m\u001b[0;34m\u001b[0m\u001b[0;34m\u001b[0m\u001b[0m\n\u001b[1;32m    437\u001b[0m         \u001b[0mlogger\u001b[0m\u001b[0;34m.\u001b[0m\u001b[0minfo\u001b[0m\u001b[0;34m(\u001b[0m\u001b[0;34m\"loaded %s\"\u001b[0m\u001b[0;34m,\u001b[0m \u001b[0mfname\u001b[0m\u001b[0;34m)\u001b[0m\u001b[0;34m\u001b[0m\u001b[0;34m\u001b[0m\u001b[0m\n",
      "\u001b[0;32m~/anaconda3/envs/aiffel/lib/python3.7/site-packages/gensim/utils.py\u001b[0m in \u001b[0;36munpickle\u001b[0;34m(fname)\u001b[0m\n\u001b[1;32m   1393\u001b[0m \u001b[0;34m\u001b[0m\u001b[0m\n\u001b[1;32m   1394\u001b[0m     \"\"\"\n\u001b[0;32m-> 1395\u001b[0;31m     \u001b[0;32mwith\u001b[0m \u001b[0mopen\u001b[0m\u001b[0;34m(\u001b[0m\u001b[0mfname\u001b[0m\u001b[0;34m,\u001b[0m \u001b[0;34m'rb'\u001b[0m\u001b[0;34m)\u001b[0m \u001b[0;32mas\u001b[0m \u001b[0mf\u001b[0m\u001b[0;34m:\u001b[0m\u001b[0;34m\u001b[0m\u001b[0;34m\u001b[0m\u001b[0m\n\u001b[0m\u001b[1;32m   1396\u001b[0m         \u001b[0;31m# Because of loading from S3 load can't be used (missing readline in smart_open)\u001b[0m\u001b[0;34m\u001b[0m\u001b[0;34m\u001b[0m\u001b[0;34m\u001b[0m\u001b[0m\n\u001b[1;32m   1397\u001b[0m         \u001b[0;32mif\u001b[0m \u001b[0msys\u001b[0m\u001b[0;34m.\u001b[0m\u001b[0mversion_info\u001b[0m \u001b[0;34m>\u001b[0m \u001b[0;34m(\u001b[0m\u001b[0;36m3\u001b[0m\u001b[0;34m,\u001b[0m \u001b[0;36m0\u001b[0m\u001b[0;34m)\u001b[0m\u001b[0;34m:\u001b[0m\u001b[0;34m\u001b[0m\u001b[0;34m\u001b[0m\u001b[0m\n",
      "\u001b[0;32m~/anaconda3/envs/aiffel/lib/python3.7/site-packages/smart_open/smart_open_lib.py\u001b[0m in \u001b[0;36mopen\u001b[0;34m(uri, mode, buffering, encoding, errors, newline, closefd, opener, ignore_ext, transport_params)\u001b[0m\n\u001b[1;32m    179\u001b[0m         \u001b[0mencoding\u001b[0m\u001b[0;34m=\u001b[0m\u001b[0mencoding\u001b[0m\u001b[0;34m,\u001b[0m\u001b[0;34m\u001b[0m\u001b[0;34m\u001b[0m\u001b[0m\n\u001b[1;32m    180\u001b[0m         \u001b[0merrors\u001b[0m\u001b[0;34m=\u001b[0m\u001b[0merrors\u001b[0m\u001b[0;34m,\u001b[0m\u001b[0;34m\u001b[0m\u001b[0;34m\u001b[0m\u001b[0m\n\u001b[0;32m--> 181\u001b[0;31m         \u001b[0mnewline\u001b[0m\u001b[0;34m=\u001b[0m\u001b[0mnewline\u001b[0m\u001b[0;34m,\u001b[0m\u001b[0;34m\u001b[0m\u001b[0;34m\u001b[0m\u001b[0m\n\u001b[0m\u001b[1;32m    182\u001b[0m     )\n\u001b[1;32m    183\u001b[0m     \u001b[0;32mif\u001b[0m \u001b[0mfobj\u001b[0m \u001b[0;32mis\u001b[0m \u001b[0;32mnot\u001b[0m \u001b[0;32mNone\u001b[0m\u001b[0;34m:\u001b[0m\u001b[0;34m\u001b[0m\u001b[0;34m\u001b[0m\u001b[0m\n",
      "\u001b[0;32m~/anaconda3/envs/aiffel/lib/python3.7/site-packages/smart_open/smart_open_lib.py\u001b[0m in \u001b[0;36m_shortcut_open\u001b[0;34m(uri, mode, ignore_ext, buffering, encoding, errors, newline)\u001b[0m\n\u001b[1;32m    344\u001b[0m         \u001b[0mopen_kwargs\u001b[0m\u001b[0;34m[\u001b[0m\u001b[0;34m'errors'\u001b[0m\u001b[0;34m]\u001b[0m \u001b[0;34m=\u001b[0m \u001b[0merrors\u001b[0m\u001b[0;34m\u001b[0m\u001b[0;34m\u001b[0m\u001b[0m\n\u001b[1;32m    345\u001b[0m \u001b[0;34m\u001b[0m\u001b[0m\n\u001b[0;32m--> 346\u001b[0;31m     \u001b[0;32mreturn\u001b[0m \u001b[0m_builtin_open\u001b[0m\u001b[0;34m(\u001b[0m\u001b[0mlocal_path\u001b[0m\u001b[0;34m,\u001b[0m \u001b[0mmode\u001b[0m\u001b[0;34m,\u001b[0m \u001b[0mbuffering\u001b[0m\u001b[0;34m=\u001b[0m\u001b[0mbuffering\u001b[0m\u001b[0;34m,\u001b[0m \u001b[0;34m**\u001b[0m\u001b[0mopen_kwargs\u001b[0m\u001b[0;34m)\u001b[0m\u001b[0;34m\u001b[0m\u001b[0;34m\u001b[0m\u001b[0m\n\u001b[0m\u001b[1;32m    347\u001b[0m \u001b[0;34m\u001b[0m\u001b[0m\n\u001b[1;32m    348\u001b[0m \u001b[0;34m\u001b[0m\u001b[0m\n",
      "\u001b[0;31mFileNotFoundError\u001b[0m: [Errno 2] No such file or directory: './sentiment_classification/ko.bin'"
     ]
    }
   ],
   "source": [
    "from gensim.models import KeyedVectors\n",
    "import os\n",
    "import gensim\n",
    "\n",
    "ko_model = gensim.models.Word2Vec.load('./sentiment_classification/ko.bin')\n",
    "word2vec = ko_model\n",
    "vector = ko_model['강아지']\n",
    "len(vector)"
   ]
  },
  {
   "cell_type": "code",
   "execution_count": null,
   "metadata": {
    "ExecuteTime": {
     "end_time": "2021-04-20T15:16:40.351489Z",
     "start_time": "2021-04-20T15:13:42.580Z"
    }
   },
   "outputs": [],
   "source": [
    "vocab_size = 10000    # 어휘 사전의 크기입니다(10,000개의 단어)\n",
    "word_vector_dim = 200  # 워드 벡터의 차원수 (변경가능한 하이퍼파라미터)\n",
    "\n",
    "embedding_matrix = np.random.rand(vocab_size, word_vector_dim)\n",
    "\n",
    "# embedding_matrix에 Word2Vec 워드벡터를 단어 하나씩마다 차례차례 카피한다.\n",
    "for i in range(4,vocab_size):\n",
    "    if index_to_word[i] in word2vec:\n",
    "        embedding_matrix[i] = word2vec[index_to_word[i]]"
   ]
  },
  {
   "cell_type": "code",
   "execution_count": null,
   "metadata": {
    "ExecuteTime": {
     "end_time": "2021-04-20T15:16:40.352113Z",
     "start_time": "2021-04-20T15:13:42.581Z"
    }
   },
   "outputs": [],
   "source": [
    "from tensorflow.keras.initializers import Constant\n",
    "# model 설계\n",
    "\n",
    "#LSTM\n",
    "model_LSTM2 = Sequential()\n",
    "model_LSTM2.add(keras.layers.Embedding(vocab_size, \n",
    "                                 word_vector_dim, \n",
    "                                 embeddings_initializer=Constant(embedding_matrix),  # 카피한 임베딩을 여기서 활용\n",
    "                                 input_length=maxlen, \n",
    "                                 trainable=True))   # trainable을 True로 주면 Fine-tuning\n",
    "model_LSTM2.add(LSTM(128))\n",
    "model_LSTM2.add(Dense(1, activation='sigmoid'))\n",
    "\n",
    "\n",
    "#GlobalMaxPooling1D() 레이어 하나만 사용하는 방법\n",
    "#전체 문장 중에서 단 하나의 가장 중요한 단어만 피처로 추출하여 그것으로 문장의 긍정/부정을 평가하는 방식\n",
    "model_GlobMP2 = keras.Sequential()\n",
    "model_GlobMP2.add(keras.layers.Embedding(vocab_size, \n",
    "                                 word_vector_dim, \n",
    "                                 embeddings_initializer=Constant(embedding_matrix),  # 카피한 임베딩을 여기서 활용\n",
    "                                 input_length=maxlen, \n",
    "                                 trainable=True))\n",
    "model_GlobMP2.add(keras.layers.GlobalMaxPooling1D())\n",
    "#model_GlobMP2.add(keras.layers.Dropout(0.3))\n",
    "model_GlobMP2.add(keras.layers.Dense(8, activation='relu'))\n",
    "#model_GlobMP2.add(keras.layers.Dropout(0.3))\n",
    "model_GlobMP2.add(keras.layers.Dense(1, activation='sigmoid'))  # 최종 출력은 긍정/부정을 나타내는 1dim 입니다.\n",
    "\n",
    "\n",
    "model_LSTM2.summary()\n",
    "model_GlobMP2.summary()"
   ]
  },
  {
   "cell_type": "code",
   "execution_count": null,
   "metadata": {
    "ExecuteTime": {
     "end_time": "2021-04-20T15:16:40.352865Z",
     "start_time": "2021-04-20T15:13:42.582Z"
    }
   },
   "outputs": [],
   "source": [
    "print('LSTM------------------------------------------------------------------------------------------------------')\n",
    "model_LSTM2.compile(optimizer='rmsprop', loss='binary_crossentropy', metrics=['acc'])\n",
    "\n",
    "callbacks_list = [\n",
    "    # 검증 정확도(val_loss)가 10 epoch보다 더 긴시간동안 향상되지 않으면 훈련을 중지\n",
    "    EarlyStopping(monitor='val_loss', # 기본값은 monitor='val_loss'\n",
    "                  patience=5),\n",
    "    \n",
    "    # 훈련 중 검증 손실(val_loss)이 가장 좋을 때마다 계속해서 저장\n",
    "    # (최종적으로 가장 좋은 모델만 저장됨)\n",
    "    ModelCheckpoint(filepath='my_model_LSTM2.h5',\n",
    "                    monitor='val_loss',\n",
    "                    save_best_only=True)]\n",
    "\n",
    "history_model_LSTM2 = model_LSTM2.fit(x_train, \n",
    "                                        y_train, \n",
    "                                        epochs=10, \n",
    "                                        callbacks=callbacks_list, \n",
    "                                        batch_size=100, \n",
    "                                        validation_split=0.2)"
   ]
  },
  {
   "cell_type": "code",
   "execution_count": null,
   "metadata": {
    "ExecuteTime": {
     "end_time": "2021-04-20T15:16:40.353435Z",
     "start_time": "2021-04-20T15:13:42.584Z"
    }
   },
   "outputs": [],
   "source": [
    "loaded_model_LSTM2 = load_model('my_model_LSTM2.h5')\n",
    "results_LSTM2 = loaded_model_LSTM2.evaluate(x_test, y_test)[1]\n",
    "print(results_LSTM2)"
   ]
  },
  {
   "cell_type": "code",
   "execution_count": null,
   "metadata": {
    "ExecuteTime": {
     "end_time": "2021-04-20T15:16:40.354080Z",
     "start_time": "2021-04-20T15:13:42.585Z"
    }
   },
   "outputs": [],
   "source": [
    "print('Before :',results_LSTM)\n",
    "print('--------------------------------------------')\n",
    "print('After :',results_LSTM2)"
   ]
  },
  {
   "cell_type": "code",
   "execution_count": null,
   "metadata": {
    "ExecuteTime": {
     "end_time": "2021-04-20T15:16:40.354683Z",
     "start_time": "2021-04-20T15:13:42.587Z"
    }
   },
   "outputs": [],
   "source": [
    "print('GlobMP---------------------------------------------------------------------------------------------------')\n",
    "model_GlobMP2.compile(optimizer='rmsprop', loss='binary_crossentropy', metrics=['acc'])\n",
    "\n",
    "callbacks_list = [\n",
    "    # 검증 정확도(val_loss)가 10 epoch보다 더 긴시간동안 향상되지 않으면 훈련을 중지\n",
    "    EarlyStopping(monitor='val_loss', # 기본값은 monitor='val_loss'\n",
    "                  patience=5),\n",
    "    \n",
    "    # 훈련 중 검증 손실(val_loss)이 가장 좋을 때마다 계속해서 저장\n",
    "    # (최종적으로 가장 좋은 모델만 저장됨)\n",
    "    ModelCheckpoint(filepath='my_model_GlobMP2.h5',\n",
    "                    monitor='val_loss',\n",
    "                    save_best_only=True)]\n",
    "\n",
    "history_model_GlobMP2 = model_GlobMP2.fit(x_train, \n",
    "                                        y_train, \n",
    "                                        epochs=30, \n",
    "                                        callbacks=callbacks_list, \n",
    "                                        batch_size=100, \n",
    "                                        validation_split=0.2)"
   ]
  },
  {
   "cell_type": "code",
   "execution_count": null,
   "metadata": {
    "ExecuteTime": {
     "end_time": "2021-04-20T15:16:40.355312Z",
     "start_time": "2021-04-20T15:13:42.588Z"
    }
   },
   "outputs": [],
   "source": [
    "loaded_model_GlobMP2 = load_model('my_model_GlobMP2.h5')\n",
    "results_GlobMP2 = loaded_model_GlobMP2.evaluate(x_test, y_test)[1]\n",
    "print(results_GlobMP2)"
   ]
  },
  {
   "cell_type": "code",
   "execution_count": null,
   "metadata": {
    "ExecuteTime": {
     "end_time": "2021-04-20T15:16:40.355882Z",
     "start_time": "2021-04-20T15:13:42.590Z"
    }
   },
   "outputs": [],
   "source": [
    "print('Before :',results_GlobMP)\n",
    "print('--------------------------------------------')\n",
    "print('After :',results_GlobMP2)"
   ]
  },
  {
   "cell_type": "markdown",
   "metadata": {},
   "source": [
    "## 루브릭 평가\n",
    "### 1. 다양한 방법으로 Text Classification 태스크를 성공적으로 구현하였다.\n",
    "1. LSTM\n",
    "2. CNN\n",
    "3. GlobMP  \n",
    "\n",
    "총 3가지의 모델로 평가해보았다. \n",
    "\n",
    "LSTM이 86.5% acc로 가장 높게 나왔고, GlobalMaxPooling 레이어 하나만 쓴 모델이 83.4%로 가장 낮은 acc으로 나왔다.  \n",
    "\n",
    "\n",
    "### 2. gensim을 활용하여 자체학습된 혹은 사전학습된 임베딩 레이어를 분석하였다.\n",
    "gensim의 유사단어 찾기를 활용하여 자체학습한 GlobalMaxPooling 임베딩에서 '팝콘'을 찾아봤지만, 유사하지 않은 단어가 많이 나왔다.  \n",
    "그래서 사전학습된 한국어 Word2Vec을 추가해서 모델을 다시 돌려보자.\n",
    "    \n",
    "\n",
    "### 3. 한국어 Word2Vec을 활용하여 가시적인 성능향상을 달성했다.\n",
    "정확도가 가장 높은 LSTM과 가장 낮은 GlobalMaxPooling에 embeddin 레이어를 추가하였다.  \n",
    "LSTM은 약 0.2%, GlobalMaxPooling은 약 0.7%정도 성능이 향상된 것을 확인할 수 있다. 사전 학습된  Word2Vec을 활요해서 이 정도면, 자체 학습  Word2Vec은 더 조금 올랐을 것이라고 예상할 수 있다.\n",
    "\n",
    "***\n",
    "\n",
    "## 회고\n",
    "정말 많은 오류때문에 고생했던 노드이다. 여러 모델을 돌려서 85% 정확도를 찾아내는 것도 난이도가 높았다. 하지만 Word2Vec은 노드에 설명이 많이 부족하고, 문맥도 이해가 가지 않아서 밤늦게까지 조원들과 함께 토론을 했다. 그래도 조원들 뿐만 아니라 영석 퍼실님까지 끝까지 도와주셔서 이렇게 오류럽고 성능이 잘 오른 결과를 낼 수 있었다. 힘들었지만 재미도 있었다.  \n",
    "  \n",
    "## 더 탐구\n",
    "- vocab size를 더 줄이거나 늘릴때 accuracy는?\n",
    "- 토큰화란?\n",
    "- 토큰화와 불용어 제거의 관계\n",
    "- 노드에서는 pre와 post 패딩이 10% 차이가 난다고 했는데, 실제로 해보았을 때 그렇지 않았다. 그 이유는?\n",
    "- relu는 무엇인가\n",
    "- layer의 이해 부족"
   ]
  },
  {
   "cell_type": "code",
   "execution_count": null,
   "metadata": {},
   "outputs": [],
   "source": []
  }
 ],
 "metadata": {
  "hide_input": false,
  "kernelspec": {
   "display_name": "aiffel",
   "language": "python",
   "name": "aiffel"
  },
  "language_info": {
   "codemirror_mode": {
    "name": "ipython",
    "version": 3
   },
   "file_extension": ".py",
   "mimetype": "text/x-python",
   "name": "python",
   "nbconvert_exporter": "python",
   "pygments_lexer": "ipython3",
   "version": "3.7.9"
  },
  "toc": {
   "base_numbering": 1,
   "nav_menu": {},
   "number_sections": true,
   "sideBar": true,
   "skip_h1_title": false,
   "title_cell": "Table of Contents",
   "title_sidebar": "Contents",
   "toc_cell": false,
   "toc_position": {
    "height": "calc(100% - 180px)",
    "left": "10px",
    "top": "150px",
    "width": "347.309px"
   },
   "toc_section_display": true,
   "toc_window_display": true
  },
  "varInspector": {
   "cols": {
    "lenName": 16,
    "lenType": 16,
    "lenVar": 40
   },
   "kernels_config": {
    "python": {
     "delete_cmd_postfix": "",
     "delete_cmd_prefix": "del ",
     "library": "var_list.py",
     "varRefreshCmd": "print(var_dic_list())"
    },
    "r": {
     "delete_cmd_postfix": ") ",
     "delete_cmd_prefix": "rm(",
     "library": "var_list.r",
     "varRefreshCmd": "cat(var_dic_list()) "
    }
   },
   "types_to_exclude": [
    "module",
    "function",
    "builtin_function_or_method",
    "instance",
    "_Feature"
   ],
   "window_display": false
  }
 },
 "nbformat": 4,
 "nbformat_minor": 4
}
