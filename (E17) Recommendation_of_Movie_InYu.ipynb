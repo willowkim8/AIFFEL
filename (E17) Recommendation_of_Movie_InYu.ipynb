{
 "cells": [
  {
   "cell_type": "markdown",
   "id": "opposite-praise",
   "metadata": {},
   "source": [
    "# 이론 정리"
   ]
  },
  {
   "cell_type": "markdown",
   "id": "figured-tamil",
   "metadata": {},
   "source": [
    "## 세션이란"
   ]
  },
  {
   "cell_type": "markdown",
   "id": "applicable-secret",
   "metadata": {},
   "source": [
    "HTTP는 Connectionless와 Stateless  \n",
    "Connectionless(비 연결지향)  \n",
    "-> 클라이언트에서 서버에 요청을 보내면 서버는 클라이언트에 응답을 하고 접속을 끊는 특성  \n"
   ]
  },
  {
   "cell_type": "markdown",
   "id": "prerequisite-castle",
   "metadata": {},
   "source": []
  },
  {
   "cell_type": "markdown",
   "id": "atomic-excellence",
   "metadata": {},
   "source": [
    "# Step 0. 데이터 준비"
   ]
  },
  {
   "cell_type": "markdown",
   "id": "weekly-college",
   "metadata": {},
   "source": [
    "Movielens 1M Dataset을 기반으로, Session based Recommendation 시스템을 제작해보자  \n",
    "```\n",
    "1) wget으로 데이터 다운로드\n",
    "$ wget http://files.grouplens.org/datasets/movielens/ml-1m.zip\n",
    "\n",
    "2) 다운받은 데이터를 작업디렉토리로 이동\n",
    "$ mv ml-1m.zip ~/aiffel/yoochoose-data\n",
    "\n",
    "3) 압축 해제\n",
    "$ cd ~/aiffel/yoochoose-data && unzip ml-1m.zip\n",
    "```"
   ]
  },
  {
   "cell_type": "code",
   "execution_count": 1,
   "id": "regional-participant",
   "metadata": {},
   "outputs": [],
   "source": [
    "import datetime as dt\n",
    "from pathlib import Path\n",
    "import os\n",
    "import numpy as np\n",
    "import pandas as pd\n",
    "import warnings\n",
    "import matplotlib.pyplot as plt\n",
    "warnings.filterwarnings('ignore')\n",
    "\n",
    "import numpy as np\n",
    "import tensorflow as tf\n",
    "from tensorflow.keras.layers import Input, Dense, Dropout, GRU\n",
    "from tensorflow.keras.losses import categorical_crossentropy\n",
    "from tensorflow.keras.models import Model\n",
    "from tensorflow.keras.optimizers import Adam\n",
    "from tensorflow.keras.utils import to_categorical\n",
    "from tqdm import tqdm"
   ]
  },
  {
   "cell_type": "code",
   "execution_count": 44,
   "id": "understanding-natural",
   "metadata": {},
   "outputs": [
    {
     "data": {
      "text/html": [
       "<div>\n",
       "<style scoped>\n",
       "    .dataframe tbody tr th:only-of-type {\n",
       "        vertical-align: middle;\n",
       "    }\n",
       "\n",
       "    .dataframe tbody tr th {\n",
       "        vertical-align: top;\n",
       "    }\n",
       "\n",
       "    .dataframe thead th {\n",
       "        text-align: right;\n",
       "    }\n",
       "</style>\n",
       "<table border=\"1\" class=\"dataframe\">\n",
       "  <thead>\n",
       "    <tr style=\"text-align: right;\">\n",
       "      <th></th>\n",
       "      <th>UserId</th>\n",
       "      <th>ItemId</th>\n",
       "      <th>Rating</th>\n",
       "      <th>Time</th>\n",
       "    </tr>\n",
       "  </thead>\n",
       "  <tbody>\n",
       "    <tr>\n",
       "      <th>31</th>\n",
       "      <td>1</td>\n",
       "      <td>3186</td>\n",
       "      <td>4</td>\n",
       "      <td>978300019</td>\n",
       "    </tr>\n",
       "    <tr>\n",
       "      <th>22</th>\n",
       "      <td>1</td>\n",
       "      <td>1270</td>\n",
       "      <td>5</td>\n",
       "      <td>978300055</td>\n",
       "    </tr>\n",
       "    <tr>\n",
       "      <th>27</th>\n",
       "      <td>1</td>\n",
       "      <td>1721</td>\n",
       "      <td>4</td>\n",
       "      <td>978300055</td>\n",
       "    </tr>\n",
       "    <tr>\n",
       "      <th>37</th>\n",
       "      <td>1</td>\n",
       "      <td>1022</td>\n",
       "      <td>5</td>\n",
       "      <td>978300055</td>\n",
       "    </tr>\n",
       "    <tr>\n",
       "      <th>24</th>\n",
       "      <td>1</td>\n",
       "      <td>2340</td>\n",
       "      <td>3</td>\n",
       "      <td>978300103</td>\n",
       "    </tr>\n",
       "    <tr>\n",
       "      <th>...</th>\n",
       "      <td>...</td>\n",
       "      <td>...</td>\n",
       "      <td>...</td>\n",
       "      <td>...</td>\n",
       "    </tr>\n",
       "    <tr>\n",
       "      <th>1000019</th>\n",
       "      <td>6040</td>\n",
       "      <td>2917</td>\n",
       "      <td>4</td>\n",
       "      <td>997454429</td>\n",
       "    </tr>\n",
       "    <tr>\n",
       "      <th>999988</th>\n",
       "      <td>6040</td>\n",
       "      <td>1921</td>\n",
       "      <td>4</td>\n",
       "      <td>997454464</td>\n",
       "    </tr>\n",
       "    <tr>\n",
       "      <th>1000172</th>\n",
       "      <td>6040</td>\n",
       "      <td>1784</td>\n",
       "      <td>3</td>\n",
       "      <td>997454464</td>\n",
       "    </tr>\n",
       "    <tr>\n",
       "      <th>1000167</th>\n",
       "      <td>6040</td>\n",
       "      <td>161</td>\n",
       "      <td>3</td>\n",
       "      <td>997454486</td>\n",
       "    </tr>\n",
       "    <tr>\n",
       "      <th>1000042</th>\n",
       "      <td>6040</td>\n",
       "      <td>1221</td>\n",
       "      <td>4</td>\n",
       "      <td>998315055</td>\n",
       "    </tr>\n",
       "  </tbody>\n",
       "</table>\n",
       "<p>1000209 rows × 4 columns</p>\n",
       "</div>"
      ],
      "text/plain": [
       "         UserId  ItemId  Rating       Time\n",
       "31            1    3186       4  978300019\n",
       "22            1    1270       5  978300055\n",
       "27            1    1721       4  978300055\n",
       "37            1    1022       5  978300055\n",
       "24            1    2340       3  978300103\n",
       "...         ...     ...     ...        ...\n",
       "1000019    6040    2917       4  997454429\n",
       "999988     6040    1921       4  997454464\n",
       "1000172    6040    1784       3  997454464\n",
       "1000167    6040     161       3  997454486\n",
       "1000042    6040    1221       4  998315055\n",
       "\n",
       "[1000209 rows x 4 columns]"
      ]
     },
     "execution_count": 44,
     "metadata": {},
     "output_type": "execute_result"
    }
   ],
   "source": [
    "data_path = Path(os.getenv('HOME')+'/aiffel/yoochoose-data/ml-1m') \n",
    "train_path = data_path / 'ratings.dat'\n",
    "\n",
    "def load_data(data_path: Path, nrows=None):\n",
    "    data = pd.read_csv(data_path, sep='::', \n",
    "                       header=None, \n",
    "                       usecols=[0, 1, 2, 3], \n",
    "                       dtype={0: np.int32, \n",
    "                              1: np.int32, \n",
    "                              2: np.int32}, \n",
    "                       nrows=nrows)\n",
    "    data.columns = ['UserId', 'ItemId', 'Rating', 'Time']\n",
    "    return data\n",
    "\n",
    "data = load_data(train_path, None)\n",
    "data.sort_values(['UserId', 'Time'], inplace=True)  # data를 id와 시간 순서로 정렬해줍니다.\n",
    "data"
   ]
  },
  {
   "cell_type": "markdown",
   "id": "moral-prime",
   "metadata": {},
   "source": [
    "+ 여기서 이전 실습내역과 가장 크게 다른 부분은 바로 SessionID 대신 UserID 항목이 들어갔다는 점입니다.  \n",
    "  이 데이터셋은 명확한 1회 세션의 SessionID를 포함하지 않고 있습니다. 그래서 이번에는 UserID가 SessionID 역할을 해야 합니다.\n",
    "  \n",
    "\n",
    "+ Rating 정보가 포함되어 있습니다. 이전 실습내역에서는 이런 항목이 포함되어 있지 않았으므로, 무시하고 제외할 수 있습니다.  \n",
    "  하지만, 직전에 봤던 영화가 맘에 들었는지 여부가 비슷한 영화를 더 고르게 하는 것과 상관이 있을 수도 있습니다.  \n",
    "  아울러, Rating이 낮은 데이터를 어떻게 처리할지도 고민해야 합니다.\n",
    "  \n",
    "\n",
    "+ Time 항목에는 UTC time 가 포함되어, 1970년 1월 1일부터 경과된 초단위 시간이 기재되어 있습니다.  \n",
    "  위와 같은 정보를 바탕으로 오늘의 실습과정과 유사한 프로젝트 과정을 진행해 보겠습니다.\n",
    "  \n",
    "  "
   ]
  },
  {
   "cell_type": "code",
   "execution_count": 3,
   "id": "endangered-testing",
   "metadata": {},
   "outputs": [
    {
     "data": {
      "text/plain": [
       "pandas.core.frame.DataFrame"
      ]
     },
     "execution_count": 3,
     "metadata": {},
     "output_type": "execute_result"
    }
   ],
   "source": [
    "type(data)"
   ]
  },
  {
   "cell_type": "code",
   "execution_count": 4,
   "id": "binding-investment",
   "metadata": {},
   "outputs": [
    {
     "data": {
      "text/plain": [
       "(6040, 3706)"
      ]
     },
     "execution_count": 4,
     "metadata": {},
     "output_type": "execute_result"
    }
   ],
   "source": [
    "data['UserId'].nunique(), data['ItemId'].nunique()"
   ]
  },
  {
   "cell_type": "markdown",
   "id": "center-notice",
   "metadata": {},
   "source": []
  },
  {
   "cell_type": "markdown",
   "id": "mathematical-fields",
   "metadata": {},
   "source": []
  },
  {
   "cell_type": "markdown",
   "id": "confidential-attempt",
   "metadata": {},
   "source": []
  },
  {
   "cell_type": "markdown",
   "id": "collect-country",
   "metadata": {},
   "source": [
    "# Step 1. 데이터의 전처리 & 톺아보기"
   ]
  },
  {
   "cell_type": "markdown",
   "id": "dated-spirituality",
   "metadata": {},
   "source": [
    "위와 같이 간단히 구성해 본 데이터셋을 꼼꼼이 살펴보면서  \n",
    "항목별 기본분석, session length, session time, cleaning 등의 작업을 진행합니다.  \n",
    "특히, 이 데이터셋에서는 Session이 아닌 UserID 단위로 데이터가 생성되어 있으므로, 이를 Session 단위로 어떻게 해석할지에 주의합니다."
   ]
  },
  {
   "cell_type": "code",
   "execution_count": 5,
   "id": "naked-arctic",
   "metadata": {
    "scrolled": true
   },
   "outputs": [
    {
     "data": {
      "text/plain": [
       "UserId\n",
       "1        53\n",
       "2       129\n",
       "3        51\n",
       "4        21\n",
       "5       198\n",
       "       ... \n",
       "6036    888\n",
       "6037    202\n",
       "6038     20\n",
       "6039    123\n",
       "6040    341\n",
       "Length: 6040, dtype: int64"
      ]
     },
     "execution_count": 5,
     "metadata": {},
     "output_type": "execute_result"
    }
   ],
   "source": [
    "session_length = data.groupby('UserId').size()\n",
    "session_length"
   ]
  },
  {
   "cell_type": "code",
   "execution_count": 6,
   "id": "centered-blake",
   "metadata": {},
   "outputs": [
    {
     "data": {
      "text/plain": [
       "2314"
      ]
     },
     "execution_count": 6,
     "metadata": {},
     "output_type": "execute_result"
    }
   ],
   "source": [
    "session_length.max()"
   ]
  },
  {
   "cell_type": "code",
   "execution_count": 7,
   "id": "middle-survival",
   "metadata": {},
   "outputs": [
    {
     "data": {
      "text/plain": [
       "pandas.core.series.Series"
      ]
     },
     "execution_count": 7,
     "metadata": {},
     "output_type": "execute_result"
    }
   ],
   "source": [
    "type(session_length)"
   ]
  },
  {
   "cell_type": "markdown",
   "id": "parliamentary-exclusive",
   "metadata": {},
   "source": [
    "여기서 session_length란 각각의 UserId가 rating한 영화 개수이다."
   ]
  },
  {
   "cell_type": "code",
   "execution_count": 8,
   "id": "occupational-skirt",
   "metadata": {},
   "outputs": [
    {
     "data": {
      "text/plain": [
       "(96.0, 165.5975165562914)"
      ]
     },
     "execution_count": 8,
     "metadata": {},
     "output_type": "execute_result"
    }
   ],
   "source": [
    "session_length.median(), session_length.mean()"
   ]
  },
  {
   "cell_type": "code",
   "execution_count": 9,
   "id": "impaired-federal",
   "metadata": {},
   "outputs": [
    {
     "data": {
      "text/plain": [
       "(20, 2314)"
      ]
     },
     "execution_count": 9,
     "metadata": {},
     "output_type": "execute_result"
    }
   ],
   "source": [
    "session_length.min(), session_length.max()"
   ]
  },
  {
   "cell_type": "code",
   "execution_count": 10,
   "id": "shared-garbage",
   "metadata": {},
   "outputs": [
    {
     "data": {
      "text/plain": [
       "1343.181000000005"
      ]
     },
     "execution_count": 10,
     "metadata": {},
     "output_type": "execute_result"
    }
   ],
   "source": [
    "session_length.quantile(0.999)"
   ]
  },
  {
   "cell_type": "markdown",
   "id": "postal-marathon",
   "metadata": {},
   "source": [
    "평점 준 영화 개수에서  \n",
    "중간값 : 96  \n",
    "평균 : 165.60  \n",
    "최소 : 20  \n",
    "최대 : 2314  \n",
    "구간 99.9% : 1343.18  \n",
    "이다.  \n",
    "\n",
    "각 유저가 시청한 영화는 96~166 정도인데  \n",
    "99.9% 세션은 길이가 1343개 입니다.  \n",
    "길이가 1000이상인 세션을 살펴보자"
   ]
  },
  {
   "cell_type": "markdown",
   "id": "manual-linux",
   "metadata": {},
   "source": [
    "## 가장 많은 평점을 남긴 UserId"
   ]
  },
  {
   "cell_type": "markdown",
   "id": "northern-printing",
   "metadata": {},
   "source": [
    "+ 가장 많은 평점을 남긴 UserId를 long_session에 저장"
   ]
  },
  {
   "cell_type": "code",
   "execution_count": 24,
   "id": "intended-initial",
   "metadata": {},
   "outputs": [
    {
     "data": {
      "text/html": [
       "<div>\n",
       "<style scoped>\n",
       "    .dataframe tbody tr th:only-of-type {\n",
       "        vertical-align: middle;\n",
       "    }\n",
       "\n",
       "    .dataframe tbody tr th {\n",
       "        vertical-align: top;\n",
       "    }\n",
       "\n",
       "    .dataframe thead th {\n",
       "        text-align: right;\n",
       "    }\n",
       "</style>\n",
       "<table border=\"1\" class=\"dataframe\">\n",
       "  <thead>\n",
       "    <tr style=\"text-align: right;\">\n",
       "      <th></th>\n",
       "      <th>UserId</th>\n",
       "      <th>ItemId</th>\n",
       "      <th>Rating</th>\n",
       "      <th>Time</th>\n",
       "    </tr>\n",
       "  </thead>\n",
       "  <tbody>\n",
       "    <tr>\n",
       "      <th>696969</th>\n",
       "      <td>4169</td>\n",
       "      <td>1268</td>\n",
       "      <td>5</td>\n",
       "      <td>2000-08-04 05:09:52</td>\n",
       "    </tr>\n",
       "    <tr>\n",
       "      <th>697168</th>\n",
       "      <td>4169</td>\n",
       "      <td>2617</td>\n",
       "      <td>4</td>\n",
       "      <td>2000-08-04 05:09:52</td>\n",
       "    </tr>\n",
       "    <tr>\n",
       "      <th>697185</th>\n",
       "      <td>4169</td>\n",
       "      <td>2628</td>\n",
       "      <td>4</td>\n",
       "      <td>2000-08-04 05:09:52</td>\n",
       "    </tr>\n",
       "    <tr>\n",
       "      <th>697219</th>\n",
       "      <td>4169</td>\n",
       "      <td>2653</td>\n",
       "      <td>4</td>\n",
       "      <td>2000-08-04 05:09:52</td>\n",
       "    </tr>\n",
       "    <tr>\n",
       "      <th>697275</th>\n",
       "      <td>4169</td>\n",
       "      <td>423</td>\n",
       "      <td>3</td>\n",
       "      <td>2000-08-04 05:09:52</td>\n",
       "    </tr>\n",
       "    <tr>\n",
       "      <th>...</th>\n",
       "      <td>...</td>\n",
       "      <td>...</td>\n",
       "      <td>...</td>\n",
       "      <td>...</td>\n",
       "    </tr>\n",
       "    <tr>\n",
       "      <th>697882</th>\n",
       "      <td>4169</td>\n",
       "      <td>3754</td>\n",
       "      <td>2</td>\n",
       "      <td>2002-06-16 05:52:27</td>\n",
       "    </tr>\n",
       "    <tr>\n",
       "      <th>695702</th>\n",
       "      <td>4169</td>\n",
       "      <td>1413</td>\n",
       "      <td>3</td>\n",
       "      <td>2002-06-16 06:03:51</td>\n",
       "    </tr>\n",
       "    <tr>\n",
       "      <th>697358</th>\n",
       "      <td>4169</td>\n",
       "      <td>494</td>\n",
       "      <td>4</td>\n",
       "      <td>2002-06-16 06:16:00</td>\n",
       "    </tr>\n",
       "    <tr>\n",
       "      <th>695945</th>\n",
       "      <td>4169</td>\n",
       "      <td>1804</td>\n",
       "      <td>2</td>\n",
       "      <td>2002-06-16 06:16:23</td>\n",
       "    </tr>\n",
       "    <tr>\n",
       "      <th>696446</th>\n",
       "      <td>4169</td>\n",
       "      <td>1548</td>\n",
       "      <td>3</td>\n",
       "      <td>2002-06-16 06:25:37</td>\n",
       "    </tr>\n",
       "  </tbody>\n",
       "</table>\n",
       "<p>2314 rows × 4 columns</p>\n",
       "</div>"
      ],
      "text/plain": [
       "        UserId  ItemId  Rating                Time\n",
       "696969    4169    1268       5 2000-08-04 05:09:52\n",
       "697168    4169    2617       4 2000-08-04 05:09:52\n",
       "697185    4169    2628       4 2000-08-04 05:09:52\n",
       "697219    4169    2653       4 2000-08-04 05:09:52\n",
       "697275    4169     423       3 2000-08-04 05:09:52\n",
       "...        ...     ...     ...                 ...\n",
       "697882    4169    3754       2 2002-06-16 05:52:27\n",
       "695702    4169    1413       3 2002-06-16 06:03:51\n",
       "697358    4169     494       4 2002-06-16 06:16:00\n",
       "695945    4169    1804       2 2002-06-16 06:16:23\n",
       "696446    4169    1548       3 2002-06-16 06:25:37\n",
       "\n",
       "[2314 rows x 4 columns]"
      ]
     },
     "execution_count": 24,
     "metadata": {},
     "output_type": "execute_result"
    }
   ],
   "source": [
    "# max였던 2314개의 영화를 내린 사람\n",
    "long_session = session_length[session_length==2314].index[0]\n",
    "df_tmp = data[data['UserId']==long_session]\n",
    "df_tmp"
   ]
  },
  {
   "cell_type": "markdown",
   "id": "latest-mediterranean",
   "metadata": {},
   "source": [
    "## 세션 길이에 대한 시각화"
   ]
  },
  {
   "cell_type": "markdown",
   "id": "sized-bidding",
   "metadata": {},
   "source": [
    "같은 시간동안 rating을 남긴 영화들이 존재한다.  \n",
    "이렇게 긴 세션을 제거할 수도 포함할 수도 있다.  \n",
    "세션길이 기준 하위 99.9%까지의 분포 누적합을 시각화해보자.  "
   ]
  },
  {
   "cell_type": "code",
   "execution_count": 12,
   "id": "cross-produce",
   "metadata": {},
   "outputs": [
    {
     "data": {
      "text/plain": [
       "20      0.014238\n",
       "21      0.029305\n",
       "22      0.042053\n",
       "23      0.055464\n",
       "24      0.068874\n",
       "          ...   \n",
       "1271    0.998179\n",
       "1277    0.998344\n",
       "1286    0.998510\n",
       "1302    0.998675\n",
       "1323    0.998841\n",
       "Length: 736, dtype: float64"
      ]
     },
     "execution_count": 12,
     "metadata": {},
     "output_type": "execute_result"
    }
   ],
   "source": [
    "length_count = session_length.groupby(session_length).size()\n",
    "length_percent_cumsum = length_count.cumsum() / length_count.sum()\n",
    "length_percent_cumsum_999 = length_percent_cumsum[length_percent_cumsum < 0.999]\n",
    "\n",
    "length_percent_cumsum_999"
   ]
  },
  {
   "cell_type": "markdown",
   "id": "controlling-horizontal",
   "metadata": {},
   "source": [
    "cumsum() : 각 원소들의 누적 합을 표시함. 각 row와 column의 구분은 없어지고, 순서대로 sum을 함.  \n",
    "참조 = https://m.blog.naver.com/PostView.nhn?blogId=allenpython&logNo=220401132533&proxyReferer=https:%2F%2Fwww.google.com%2F  "
   ]
  },
  {
   "cell_type": "code",
   "execution_count": 13,
   "id": "extended-garbage",
   "metadata": {},
   "outputs": [
    {
     "data": {
      "image/png": "[encoded data removed]",
      "text/plain": [
       "<Figure size 720x720 with 1 Axes>"
      ]
     },
     "metadata": {
      "needs_background": "light"
     },
     "output_type": "display_data"
    }
   ],
   "source": [
    "import matplotlib.pyplot as plt\n",
    "\n",
    "plt.figure(figsize=(10, 10))\n",
    "plt.bar(x=length_percent_cumsum_999.index,\n",
    "        height=length_percent_cumsum_999, color='green')\n",
    "plt.xticks(length_percent_cumsum_999.index)\n",
    "plt.yticks(np.arange(0, 1.01, 0.05))\n",
    "plt.title('Cumsum Percentage Until 0.999', size=20)\n",
    "plt.show()"
   ]
  },
  {
   "cell_type": "markdown",
   "id": "identified-toddler",
   "metadata": {},
   "source": [
    "**Q.추천 시스템은 유저-상품 관계 매트릭스를 유저 행렬과 상품 행렬의 곱으로 표현하는 Matrix Factorization 모델을 널리 사용합니다.  \n",
    "그렇다면 이 데이터도 유저와 클릭한 상품정보 관계에 대해 Matrix Factorization을 사용하면 어떨까요?**  \n",
    ">User * Item Matrix의 빈칸이 너무 많아서(data sparsity)   \n",
    "모델이 제대로 학습되지 않을 가능성이 있다.     \n",
    "이 세션정보는 유저를 ID 기반으로 정리할 수 없기 때문에    \n",
    "세션 하나를 유저 하나로 본다면 기존의 유저-상품정보 Matrix보다 훨씬 sparse한 형태가 된다."
   ]
  },
  {
   "cell_type": "markdown",
   "id": "major-package",
   "metadata": {},
   "source": [
    "## Session Time"
   ]
  },
  {
   "cell_type": "markdown",
   "id": "standard-group",
   "metadata": {},
   "source": [
    "영화 장르의 소비 패턴은 금방금방 변합니다.  \n",
    "데이터가 발생한 시간에 대해 알아봅시다.  \n",
    "**Q2. 추천 시스템에서 다루는 시간 관련 데이터는 다양한 측면이 있습니다. 데이터 생성 날짜 말고 또 어떤 요소가 있을까요?**  \n",
    ">접속하는 시간대(오전, 오후, 새벽), 접속해 있는 시간, 접속하는 요일, 계절, 마지막 접속 시간, 장바구니에 넣고 지난 시간 등등  \n",
    "\n",
    "그렇다면 우리가 다루려는 데이터의 시간 관련 정보를 확인해 봅시다."
   ]
  },
  {
   "cell_type": "code",
   "execution_count": 14,
   "id": "developing-documentation",
   "metadata": {},
   "outputs": [
    {
     "name": "stdout",
     "output_type": "stream",
     "text": [
      "956703932\n",
      "1046454590\n"
     ]
    }
   ],
   "source": [
    "oldest, latest = data['Time'].min(), data['Time'].max()\n",
    "print(oldest) \n",
    "print(latest)"
   ]
  },
  {
   "cell_type": "code",
   "execution_count": 15,
   "id": "vertical-captain",
   "metadata": {},
   "outputs": [
    {
     "data": {
      "text/plain": [
       "30.33688267376966"
      ]
     },
     "execution_count": 15,
     "metadata": {},
     "output_type": "execute_result"
    }
   ],
   "source": [
    "956703932/60/60/24/365"
   ]
  },
  {
   "cell_type": "code",
   "execution_count": 16,
   "id": "announced-cuisine",
   "metadata": {},
   "outputs": [
    {
     "data": {
      "text/plain": [
       "3.5999999999999996"
      ]
     },
     "execution_count": 16,
     "metadata": {},
     "output_type": "execute_result"
    }
   ],
   "source": [
    "0.3*12"
   ]
  },
  {
   "cell_type": "markdown",
   "id": "devoted-efficiency",
   "metadata": {},
   "source": [
    "계산을 통해 알아낸 가장 첫번째 시간은 2000년대 3월 중순의이라고 나온다"
   ]
  },
  {
   "cell_type": "code",
   "execution_count": 17,
   "id": "wicked-polymer",
   "metadata": {},
   "outputs": [
    {
     "data": {
      "text/plain": [
       "33.18285736935565"
      ]
     },
     "execution_count": 17,
     "metadata": {},
     "output_type": "execute_result"
    }
   ],
   "source": [
    "1046454590/60/60/24/365"
   ]
  },
  {
   "cell_type": "code",
   "execution_count": 18,
   "id": "advisory-latin",
   "metadata": {},
   "outputs": [
    {
     "data": {
      "text/plain": [
       "10.35068112633175"
      ]
     },
     "execution_count": 18,
     "metadata": {},
     "output_type": "execute_result"
    }
   ],
   "source": [
    "(1036353590/60/60/24/365-32)*12"
   ]
  },
  {
   "cell_type": "markdown",
   "id": "obvious-cuisine",
   "metadata": {},
   "source": [
    "마지막 날은 2003년 10월 초이다.\n",
    "2년치가 넘는 데이터이다.  \n",
    "노드에서는 한달치만 사용해도 500백만개였지만 모든 데이터의 갯수가 100만개 정도니까 모두 사용하기로 한다."
   ]
  },
  {
   "cell_type": "code",
   "execution_count": 31,
   "id": "prostate-mitchell",
   "metadata": {},
   "outputs": [
    {
     "name": "stdout",
     "output_type": "stream",
     "text": [
      "2000-04-26 08:05:32\n",
      "2003-03-01 02:49:50\n"
     ]
    }
   ],
   "source": [
    "oldest, latest = data['Time'].min(), data['Time'].max()\n",
    "print(oldest) \n",
    "print(latest)"
   ]
  },
  {
   "cell_type": "code",
   "execution_count": 32,
   "id": "rapid-apparel",
   "metadata": {},
   "outputs": [
    {
     "data": {
      "text/plain": [
       "pandas._libs.tslibs.timestamps.Timestamp"
      ]
     },
     "execution_count": 32,
     "metadata": {},
     "output_type": "execute_result"
    }
   ],
   "source": [
    "type(latest)"
   ]
  },
  {
   "cell_type": "markdown",
   "id": "earlier-picking",
   "metadata": {},
   "source": [
    "latest는 Timestamp 객체이기 때문에 int 객체와의 사칙연산을 지원하지 않습니다.날짜끼리의 차이를 구하고 싶을 때는 datetime 라이브러리의 timedelta 객체를 사용합니다."
   ]
  },
  {
   "cell_type": "code",
   "execution_count": 33,
   "id": "initial-designer",
   "metadata": {},
   "outputs": [
    {
     "name": "stdout",
     "output_type": "stream",
     "text": [
      "30 days, 0:00:00\n"
     ]
    }
   ],
   "source": [
    "print(dt.timedelta(30))"
   ]
  },
  {
   "cell_type": "code",
   "execution_count": 34,
   "id": "accompanied-upset",
   "metadata": {},
   "outputs": [],
   "source": [
    "month_ago = latest - dt.timedelta(30)  "
   ]
  },
  {
   "cell_type": "code",
   "execution_count": 35,
   "id": "adapted-animation",
   "metadata": {},
   "outputs": [
    {
     "name": "stdout",
     "output_type": "stream",
     "text": [
      "<class 'pandas._libs.tslibs.timestamps.Timestamp'>\n"
     ]
    },
    {
     "data": {
      "text/plain": [
       "Timestamp('2003-01-30 02:49:50')"
      ]
     },
     "execution_count": 35,
     "metadata": {},
     "output_type": "execute_result"
    }
   ],
   "source": [
    "print(type(month_ago))\n",
    "month_ago"
   ]
  },
  {
   "cell_type": "code",
   "execution_count": 19,
   "id": "rotary-culture",
   "metadata": {},
   "outputs": [
    {
     "data": {
      "text/plain": [
       "numpy.int64"
      ]
     },
     "execution_count": 19,
     "metadata": {},
     "output_type": "execute_result"
    }
   ],
   "source": [
    "type(latest)"
   ]
  },
  {
   "cell_type": "markdown",
   "id": "twenty-extent",
   "metadata": {},
   "source": [
    "노드와는 다르게 Timestamp가 아니고 numpy이다.  \n",
    "UTC-TIME이기 때문이다. 이것을 노드처럼 timestamp의 형태로 바꿔보자."
   ]
  },
  {
   "cell_type": "markdown",
   "id": "judicial-baseball",
   "metadata": {},
   "source": [
    "## UTC-TIME -> timestamp"
   ]
  },
  {
   "cell_type": "code",
   "execution_count": 45,
   "id": "warming-elements",
   "metadata": {},
   "outputs": [
    {
     "data": {
      "text/html": [
       "<div>\n",
       "<style scoped>\n",
       "    .dataframe tbody tr th:only-of-type {\n",
       "        vertical-align: middle;\n",
       "    }\n",
       "\n",
       "    .dataframe tbody tr th {\n",
       "        vertical-align: top;\n",
       "    }\n",
       "\n",
       "    .dataframe thead th {\n",
       "        text-align: right;\n",
       "    }\n",
       "</style>\n",
       "<table border=\"1\" class=\"dataframe\">\n",
       "  <thead>\n",
       "    <tr style=\"text-align: right;\">\n",
       "      <th></th>\n",
       "      <th>UserId</th>\n",
       "      <th>ItemId</th>\n",
       "      <th>Rating</th>\n",
       "      <th>Time</th>\n",
       "    </tr>\n",
       "  </thead>\n",
       "  <tbody>\n",
       "    <tr>\n",
       "      <th>31</th>\n",
       "      <td>1</td>\n",
       "      <td>3186</td>\n",
       "      <td>4</td>\n",
       "      <td>2001-01-01 07:00:19</td>\n",
       "    </tr>\n",
       "    <tr>\n",
       "      <th>22</th>\n",
       "      <td>1</td>\n",
       "      <td>1270</td>\n",
       "      <td>5</td>\n",
       "      <td>2001-01-01 07:00:55</td>\n",
       "    </tr>\n",
       "    <tr>\n",
       "      <th>27</th>\n",
       "      <td>1</td>\n",
       "      <td>1721</td>\n",
       "      <td>4</td>\n",
       "      <td>2001-01-01 07:00:55</td>\n",
       "    </tr>\n",
       "    <tr>\n",
       "      <th>37</th>\n",
       "      <td>1</td>\n",
       "      <td>1022</td>\n",
       "      <td>5</td>\n",
       "      <td>2001-01-01 07:00:55</td>\n",
       "    </tr>\n",
       "    <tr>\n",
       "      <th>24</th>\n",
       "      <td>1</td>\n",
       "      <td>2340</td>\n",
       "      <td>3</td>\n",
       "      <td>2001-01-01 07:01:43</td>\n",
       "    </tr>\n",
       "    <tr>\n",
       "      <th>...</th>\n",
       "      <td>...</td>\n",
       "      <td>...</td>\n",
       "      <td>...</td>\n",
       "      <td>...</td>\n",
       "    </tr>\n",
       "    <tr>\n",
       "      <th>1000019</th>\n",
       "      <td>6040</td>\n",
       "      <td>2917</td>\n",
       "      <td>4</td>\n",
       "      <td>2001-08-10 23:40:29</td>\n",
       "    </tr>\n",
       "    <tr>\n",
       "      <th>999988</th>\n",
       "      <td>6040</td>\n",
       "      <td>1921</td>\n",
       "      <td>4</td>\n",
       "      <td>2001-08-10 23:41:04</td>\n",
       "    </tr>\n",
       "    <tr>\n",
       "      <th>1000172</th>\n",
       "      <td>6040</td>\n",
       "      <td>1784</td>\n",
       "      <td>3</td>\n",
       "      <td>2001-08-10 23:41:04</td>\n",
       "    </tr>\n",
       "    <tr>\n",
       "      <th>1000167</th>\n",
       "      <td>6040</td>\n",
       "      <td>161</td>\n",
       "      <td>3</td>\n",
       "      <td>2001-08-10 23:41:26</td>\n",
       "    </tr>\n",
       "    <tr>\n",
       "      <th>1000042</th>\n",
       "      <td>6040</td>\n",
       "      <td>1221</td>\n",
       "      <td>4</td>\n",
       "      <td>2001-08-20 22:44:15</td>\n",
       "    </tr>\n",
       "  </tbody>\n",
       "</table>\n",
       "<p>1000209 rows × 4 columns</p>\n",
       "</div>"
      ],
      "text/plain": [
       "         UserId  ItemId  Rating                Time\n",
       "31            1    3186       4 2001-01-01 07:00:19\n",
       "22            1    1270       5 2001-01-01 07:00:55\n",
       "27            1    1721       4 2001-01-01 07:00:55\n",
       "37            1    1022       5 2001-01-01 07:00:55\n",
       "24            1    2340       3 2001-01-01 07:01:43\n",
       "...         ...     ...     ...                 ...\n",
       "1000019    6040    2917       4 2001-08-10 23:40:29\n",
       "999988     6040    1921       4 2001-08-10 23:41:04\n",
       "1000172    6040    1784       3 2001-08-10 23:41:04\n",
       "1000167    6040     161       3 2001-08-10 23:41:26\n",
       "1000042    6040    1221       4 2001-08-20 22:44:15\n",
       "\n",
       "[1000209 rows x 4 columns]"
      ]
     },
     "execution_count": 45,
     "metadata": {},
     "output_type": "execute_result"
    }
   ],
   "source": [
    "# 시간 변환\n",
    "import datetime, time\n",
    "times = data[\"Time\"] \n",
    "tmp_list = [] \n",
    "for time in times: \n",
    "    tmp_date = dt.datetime.fromtimestamp(time)\n",
    "    tmp_list.append(tmp_date)\n",
    "data[\"Time\"] = tmp_list \n",
    "data"
   ]
  },
  {
   "cell_type": "code",
   "execution_count": 21,
   "id": "centered-harrison",
   "metadata": {},
   "outputs": [
    {
     "data": {
      "text/plain": [
       "6040"
      ]
     },
     "execution_count": 21,
     "metadata": {},
     "output_type": "execute_result"
    }
   ],
   "source": [
    "data['UserId'].nunique()"
   ]
  },
  {
   "cell_type": "code",
   "execution_count": 22,
   "id": "boring-techno",
   "metadata": {},
   "outputs": [
    {
     "data": {
      "text/plain": [
       "3706"
      ]
     },
     "execution_count": 22,
     "metadata": {},
     "output_type": "execute_result"
    }
   ],
   "source": [
    "data['ItemId'].nunique()"
   ]
  },
  {
   "cell_type": "markdown",
   "id": "important-hotel",
   "metadata": {},
   "source": [
    "유저(UserId)는 6040명  \n",
    "영화(ItemId)는 3706개이다  "
   ]
  },
  {
   "cell_type": "markdown",
   "id": "fatal-bradley",
   "metadata": {},
   "source": [
    "## 영화별 리뷰 횟수"
   ]
  },
  {
   "cell_type": "code",
   "execution_count": 26,
   "id": "stuffed-mineral",
   "metadata": {},
   "outputs": [
    {
     "data": {
      "text/plain": [
       "ItemId\n",
       "1       2077\n",
       "2        701\n",
       "3        478\n",
       "4        170\n",
       "5        296\n",
       "        ... \n",
       "3948     862\n",
       "3949     304\n",
       "3950      54\n",
       "3951      40\n",
       "3952     388\n",
       "Length: 3706, dtype: int64"
      ]
     },
     "execution_count": 26,
     "metadata": {},
     "output_type": "execute_result"
    }
   ],
   "source": [
    "item_length = data.groupby('ItemId').size()\n",
    "item_length"
   ]
  },
  {
   "cell_type": "code",
   "execution_count": 27,
   "id": "moral-happening",
   "metadata": {},
   "outputs": [
    {
     "data": {
      "text/plain": [
       "(123.5, 269.88909875876953, 1, 3428)"
      ]
     },
     "execution_count": 27,
     "metadata": {},
     "output_type": "execute_result"
    }
   ],
   "source": [
    "item_length.median(), item_length.mean(), item_length.min(), item_length.max()"
   ]
  },
  {
   "cell_type": "code",
   "execution_count": 28,
   "id": "special-payday",
   "metadata": {},
   "outputs": [
    {
     "data": {
      "text/plain": [
       "2734.2450000001113"
      ]
     },
     "execution_count": 28,
     "metadata": {},
     "output_type": "execute_result"
    }
   ],
   "source": [
    "item_length.quantile(0.999)"
   ]
  },
  {
   "cell_type": "markdown",
   "id": "standard-leather",
   "metadata": {},
   "source": [
    "평점 받은 영화 중에서 리뷰 횟수는    \n",
    "중간값 : 123.5  (???)\n",
    "평균 : 269.89 \n",
    "최소 : 1 \n",
    "최대 : 3428 \n",
    "구간 99.9% : 2734.25 \n",
    "이다.  "
   ]
  },
  {
   "cell_type": "markdown",
   "id": "developmental-rescue",
   "metadata": {},
   "source": [
    "## 1번씩만 리뷰된 영화"
   ]
  },
  {
   "cell_type": "code",
   "execution_count": 61,
   "id": "protective-franklin",
   "metadata": {
    "code_folding": [],
    "scrolled": true
   },
   "outputs": [
    {
     "name": "stdout",
     "output_type": "stream",
     "text": [
      "114\n"
     ]
    }
   ],
   "source": [
    "rare_movie = []\n",
    "for ItemId in item_length:\n",
    "    if ItemId==1:\n",
    "        rare_movie.append(ItemId)\n",
    "        \n",
    "print(len(rare_movie))"
   ]
  },
  {
   "cell_type": "markdown",
   "id": "joint-rally",
   "metadata": {},
   "source": [
    "114개의 영화는 한번씩만 rating이 된 영화이다.  \n",
    "이 영화들의 데이터를 살릴지 없앨지 고민해보자"
   ]
  },
  {
   "cell_type": "markdown",
   "id": "suspended-program",
   "metadata": {},
   "source": [
    "## 가장 많은 리뷰를 받은 영화"
   ]
  },
  {
   "cell_type": "code",
   "execution_count": 30,
   "id": "desperate-boost",
   "metadata": {},
   "outputs": [
    {
     "data": {
      "text/html": [
       "<div>\n",
       "<style scoped>\n",
       "    .dataframe tbody tr th:only-of-type {\n",
       "        vertical-align: middle;\n",
       "    }\n",
       "\n",
       "    .dataframe tbody tr th {\n",
       "        vertical-align: top;\n",
       "    }\n",
       "\n",
       "    .dataframe thead th {\n",
       "        text-align: right;\n",
       "    }\n",
       "</style>\n",
       "<table border=\"1\" class=\"dataframe\">\n",
       "  <thead>\n",
       "    <tr style=\"text-align: right;\">\n",
       "      <th></th>\n",
       "      <th>UserId</th>\n",
       "      <th>ItemId</th>\n",
       "      <th>Rating</th>\n",
       "      <th>Time</th>\n",
       "    </tr>\n",
       "  </thead>\n",
       "  <tbody>\n",
       "    <tr>\n",
       "      <th>105</th>\n",
       "      <td>2</td>\n",
       "      <td>2858</td>\n",
       "      <td>4</td>\n",
       "      <td>2001-01-01 06:33:54</td>\n",
       "    </tr>\n",
       "    <tr>\n",
       "      <th>202</th>\n",
       "      <td>3</td>\n",
       "      <td>2858</td>\n",
       "      <td>4</td>\n",
       "      <td>2001-01-01 06:10:39</td>\n",
       "    </tr>\n",
       "    <tr>\n",
       "      <th>299</th>\n",
       "      <td>5</td>\n",
       "      <td>2858</td>\n",
       "      <td>4</td>\n",
       "      <td>2000-12-31 14:43:10</td>\n",
       "    </tr>\n",
       "    <tr>\n",
       "      <th>471</th>\n",
       "      <td>6</td>\n",
       "      <td>2858</td>\n",
       "      <td>1</td>\n",
       "      <td>2000-12-31 13:26:49</td>\n",
       "    </tr>\n",
       "    <tr>\n",
       "      <th>585</th>\n",
       "      <td>8</td>\n",
       "      <td>2858</td>\n",
       "      <td>5</td>\n",
       "      <td>2000-12-31 11:30:17</td>\n",
       "    </tr>\n",
       "    <tr>\n",
       "      <th>...</th>\n",
       "      <td>...</td>\n",
       "      <td>...</td>\n",
       "      <td>...</td>\n",
       "      <td>...</td>\n",
       "    </tr>\n",
       "    <tr>\n",
       "      <th>996998</th>\n",
       "      <td>6019</td>\n",
       "      <td>2858</td>\n",
       "      <td>5</td>\n",
       "      <td>2000-04-26 23:49:12</td>\n",
       "    </tr>\n",
       "    <tr>\n",
       "      <th>997895</th>\n",
       "      <td>6027</td>\n",
       "      <td>2858</td>\n",
       "      <td>3</td>\n",
       "      <td>2000-04-26 14:25:36</td>\n",
       "    </tr>\n",
       "    <tr>\n",
       "      <th>998845</th>\n",
       "      <td>6036</td>\n",
       "      <td>2858</td>\n",
       "      <td>5</td>\n",
       "      <td>2000-04-26 09:37:33</td>\n",
       "    </tr>\n",
       "    <tr>\n",
       "      <th>999571</th>\n",
       "      <td>6037</td>\n",
       "      <td>2858</td>\n",
       "      <td>4</td>\n",
       "      <td>2000-04-26 09:33:35</td>\n",
       "    </tr>\n",
       "    <tr>\n",
       "      <th>999938</th>\n",
       "      <td>6040</td>\n",
       "      <td>2858</td>\n",
       "      <td>4</td>\n",
       "      <td>2000-04-26 08:14:35</td>\n",
       "    </tr>\n",
       "  </tbody>\n",
       "</table>\n",
       "<p>3428 rows × 4 columns</p>\n",
       "</div>"
      ],
      "text/plain": [
       "        UserId  ItemId  Rating                Time\n",
       "105          2    2858       4 2001-01-01 06:33:54\n",
       "202          3    2858       4 2001-01-01 06:10:39\n",
       "299          5    2858       4 2000-12-31 14:43:10\n",
       "471          6    2858       1 2000-12-31 13:26:49\n",
       "585          8    2858       5 2000-12-31 11:30:17\n",
       "...        ...     ...     ...                 ...\n",
       "996998    6019    2858       5 2000-04-26 23:49:12\n",
       "997895    6027    2858       3 2000-04-26 14:25:36\n",
       "998845    6036    2858       5 2000-04-26 09:37:33\n",
       "999571    6037    2858       4 2000-04-26 09:33:35\n",
       "999938    6040    2858       4 2000-04-26 08:14:35\n",
       "\n",
       "[3428 rows x 4 columns]"
      ]
     },
     "execution_count": 30,
     "metadata": {},
     "output_type": "execute_result"
    }
   ],
   "source": [
    "# max였던 3428개의 리뷰가 있는 영화\n",
    "lots_review = item_length[item_length==3428].index[0]\n",
    "df_tmp_2 = data[data['ItemId']==lots_review]\n",
    "df_tmp_2"
   ]
  },
  {
   "cell_type": "code",
   "execution_count": 39,
   "id": "joint-token",
   "metadata": {},
   "outputs": [
    {
     "data": {
      "text/plain": [
       "Rating\n",
       "1      83\n",
       "2     134\n",
       "3     358\n",
       "4     890\n",
       "5    1963\n",
       "dtype: int64"
      ]
     },
     "execution_count": 39,
     "metadata": {},
     "output_type": "execute_result"
    }
   ],
   "source": [
    "rating = df_tmp_2.groupby('Rating').size()\n",
    "rating"
   ]
  },
  {
   "cell_type": "markdown",
   "id": "liable-group",
   "metadata": {},
   "source": [
    "간단하게 살펴보아도 대체적으로 높은 평점을 받았지만  \n",
    "4, 5점이 대부분이지만 1,2,3도 적지 않다는 것을 알 수 있다.  "
   ]
  },
  {
   "cell_type": "markdown",
   "id": "abroad-flesh",
   "metadata": {},
   "source": [
    "## Train/ Valid/ Test split"
   ]
  },
  {
   "cell_type": "markdown",
   "id": "foster-meter",
   "metadata": {},
   "source": [
    "이 프로젝트에서는 UserId에서 아래처럼 무작위로 뽑아서 split하는 것이 더 데이터를 훈련시킬때 관계가 "
   ]
  },
  {
   "attachments": {
    "image.png": {
     "image/png": "[encoded data removed]"
    }
   },
   "cell_type": "markdown",
   "id": "welsh-david",
   "metadata": {},
   "source": [
    "![image.png](attachment:image.png)"
   ]
  },
  {
   "cell_type": "markdown",
   "id": "proper-partnership",
   "metadata": {},
   "source": [
    "## Data Cleansing"
   ]
  },
  {
   "cell_type": "markdown",
   "id": "solar-palestinian",
   "metadata": {},
   "source": [
    "위에서 1인 세션도 꽤 있습니다.   \n",
    "우리의 목적은 유저가 최소 1개 이상 클릭했을 때 다음 클릭을 예측하는 것이므로 길이가 1인 세션은 제거해줍니다.  \n",
    "너무 적게 클릭된 아이템은 이상한 아이템일 가능성이 있습니다. 이 역시 제거해줍니다.  "
   ]
  },
  {
   "cell_type": "code",
   "execution_count": 60,
   "id": "latest-donor",
   "metadata": {},
   "outputs": [],
   "source": [
    "# short_session을 제거한 다음 unpopular item을 제거하면 다시 길이가 1인 session이 생길 수 있습니다.\n",
    "# 이를 위해 반복문을 통해 지속적으로 제거 합니다.\n",
    "def cleanse_recursive(data: pd.DataFrame, shortest, least_click) -> pd.DataFrame:\n",
    "    while True:\n",
    "        before_len = len(data)\n",
    "        data = cleanse_short_session(data, shortest)\n",
    "        data = cleanse_unpopular_item(data, least_click)\n",
    "        after_len = len(data)\n",
    "        if before_len == after_len:\n",
    "            break\n",
    "    return data\n",
    "\n",
    "## 유저 아이디 중 평점횟수가 적은 유저 제거(즉 전문가가 아닌 유저 제거)\n",
    "def cleanse_short_session(data: pd.DataFrame, shortest):\n",
    "    session_len = data.groupby('UserId').size()\n",
    "    session_use = session_len[session_len >= shortest].index\n",
    "    data = data[data['UserId'].isin(session_use)]\n",
    "    return data\n",
    "\n",
    "## 영화중 평점의 횟수가 적은 영화 제거(즉 비주류의 영화 제거)\n",
    "def cleanse_unpopular_item(data: pd.DataFrame, least_click):\n",
    "    item_popular = data.groupby('ItemId').size()\n",
    "    item_use = item_popular[item_popular >= least_click].index\n",
    "    data = data[data['ItemId'].isin(item_use)]\n",
    "    return data"
   ]
  },
  {
   "cell_type": "code",
   "execution_count": 58,
   "id": "bacterial-agriculture",
   "metadata": {},
   "outputs": [],
   "source": [
    "# ## 리뷰가 3점 이하인 리뷰는 제거\n",
    "# def cleanse_short_rating_session(data: pd.DataFrame, shortest):\n",
    "#     if data['Rating']>=int(shortest):\n",
    "#         rating = data\n",
    "#     high_rating = rating.index\n",
    "#     data = data[data['Rating'].isin(high_rating)]\n",
    "#     return data"
   ]
  },
  {
   "cell_type": "code",
   "execution_count": 61,
   "id": "detected-gothic",
   "metadata": {},
   "outputs": [],
   "source": [
    "# data_rating = cleanse_short_rating_session(data, 4)\n",
    "# data_rating"
   ]
  },
  {
   "cell_type": "markdown",
   "id": "behind-feature",
   "metadata": {},
   "source": [
    "**평점 준 영화 개수의**  \n",
    "중간값 : 96  \n",
    "평균 : 165.60  \n",
    "최소 : 20  \n",
    "최대 : 2314  \n",
    "구간 99.9% : 1343.18  \n",
    "이다.\n",
    "  \n",
    "**평점 받은 영화 중에서 리뷰 횟수의**     \n",
    "중간값 : 123.5  \n",
    "평균 : 269.89 \n",
    "최소 : 1 \n",
    "최대 : 3428 \n",
    "구간 99.9% : 2734.25  \n",
    "이다."
   ]
  },
  {
   "cell_type": "markdown",
   "id": "certain-scheduling",
   "metadata": {},
   "source": [
    "유저 중에서 평점을 90개 이상 남긴 사람과 리뷰 수가 200개 이상인 영화의 교집합만 추려낸다"
   ]
  },
  {
   "cell_type": "code",
   "execution_count": 62,
   "id": "faced-indianapolis",
   "metadata": {},
   "outputs": [
    {
     "data": {
      "text/html": [
       "<div>\n",
       "<style scoped>\n",
       "    .dataframe tbody tr th:only-of-type {\n",
       "        vertical-align: middle;\n",
       "    }\n",
       "\n",
       "    .dataframe tbody tr th {\n",
       "        vertical-align: top;\n",
       "    }\n",
       "\n",
       "    .dataframe thead th {\n",
       "        text-align: right;\n",
       "    }\n",
       "</style>\n",
       "<table border=\"1\" class=\"dataframe\">\n",
       "  <thead>\n",
       "    <tr style=\"text-align: right;\">\n",
       "      <th></th>\n",
       "      <th>UserId</th>\n",
       "      <th>ItemId</th>\n",
       "      <th>Rating</th>\n",
       "      <th>Time</th>\n",
       "    </tr>\n",
       "  </thead>\n",
       "  <tbody>\n",
       "    <tr>\n",
       "      <th>130</th>\n",
       "      <td>2</td>\n",
       "      <td>1198</td>\n",
       "      <td>4</td>\n",
       "      <td>2001-01-01 06:28:44</td>\n",
       "    </tr>\n",
       "    <tr>\n",
       "      <th>64</th>\n",
       "      <td>2</td>\n",
       "      <td>1210</td>\n",
       "      <td>4</td>\n",
       "      <td>2001-01-01 06:29:11</td>\n",
       "    </tr>\n",
       "    <tr>\n",
       "      <th>71</th>\n",
       "      <td>2</td>\n",
       "      <td>1217</td>\n",
       "      <td>3</td>\n",
       "      <td>2001-01-01 06:29:11</td>\n",
       "    </tr>\n",
       "    <tr>\n",
       "      <th>134</th>\n",
       "      <td>2</td>\n",
       "      <td>2717</td>\n",
       "      <td>3</td>\n",
       "      <td>2001-01-01 06:29:56</td>\n",
       "    </tr>\n",
       "    <tr>\n",
       "      <th>88</th>\n",
       "      <td>2</td>\n",
       "      <td>1293</td>\n",
       "      <td>5</td>\n",
       "      <td>2001-01-01 06:31:01</td>\n",
       "    </tr>\n",
       "    <tr>\n",
       "      <th>...</th>\n",
       "      <td>...</td>\n",
       "      <td>...</td>\n",
       "      <td>...</td>\n",
       "      <td>...</td>\n",
       "    </tr>\n",
       "    <tr>\n",
       "      <th>1000019</th>\n",
       "      <td>6040</td>\n",
       "      <td>2917</td>\n",
       "      <td>4</td>\n",
       "      <td>2001-08-10 23:40:29</td>\n",
       "    </tr>\n",
       "    <tr>\n",
       "      <th>999988</th>\n",
       "      <td>6040</td>\n",
       "      <td>1921</td>\n",
       "      <td>4</td>\n",
       "      <td>2001-08-10 23:41:04</td>\n",
       "    </tr>\n",
       "    <tr>\n",
       "      <th>1000172</th>\n",
       "      <td>6040</td>\n",
       "      <td>1784</td>\n",
       "      <td>3</td>\n",
       "      <td>2001-08-10 23:41:04</td>\n",
       "    </tr>\n",
       "    <tr>\n",
       "      <th>1000167</th>\n",
       "      <td>6040</td>\n",
       "      <td>161</td>\n",
       "      <td>3</td>\n",
       "      <td>2001-08-10 23:41:26</td>\n",
       "    </tr>\n",
       "    <tr>\n",
       "      <th>1000042</th>\n",
       "      <td>6040</td>\n",
       "      <td>1221</td>\n",
       "      <td>4</td>\n",
       "      <td>2001-08-20 22:44:15</td>\n",
       "    </tr>\n",
       "  </tbody>\n",
       "</table>\n",
       "<p>687540 rows × 4 columns</p>\n",
       "</div>"
      ],
      "text/plain": [
       "         UserId  ItemId  Rating                Time\n",
       "130           2    1198       4 2001-01-01 06:28:44\n",
       "64            2    1210       4 2001-01-01 06:29:11\n",
       "71            2    1217       3 2001-01-01 06:29:11\n",
       "134           2    2717       3 2001-01-01 06:29:56\n",
       "88            2    1293       5 2001-01-01 06:31:01\n",
       "...         ...     ...     ...                 ...\n",
       "1000019    6040    2917       4 2001-08-10 23:40:29\n",
       "999988     6040    1921       4 2001-08-10 23:41:04\n",
       "1000172    6040    1784       3 2001-08-10 23:41:04\n",
       "1000167    6040     161       3 2001-08-10 23:41:26\n",
       "1000042    6040    1221       4 2001-08-20 22:44:15\n",
       "\n",
       "[687540 rows x 4 columns]"
      ]
     },
     "execution_count": 62,
     "metadata": {},
     "output_type": "execute_result"
    }
   ],
   "source": [
    "data = cleanse_recursive(data, shortest=90, least_click=200)\n",
    "data"
   ]
  },
  {
   "cell_type": "markdown",
   "id": "executed-module",
   "metadata": {},
   "source": [
    "# Step 2. 미니 배치의 구성"
   ]
  },
  {
   "cell_type": "markdown",
   "id": "super-frequency",
   "metadata": {},
   "source": [
    "실습코드 내역을 참고하여 데이터셋과 미니 배치를 구성해 봅시다.  \n",
    "Session-Parallel Mini-Batch의 개념에 따라, 학습 속도의 저하가 최소화될 수 있도록 구성합니다.  \n",
    "단, 위 Step 1에서 Session 단위를 어떻게 정의했느냐에 따라서 Session-Parallel Mini-Batch이 굳이 필요하지 않을 수도 있습니다."
   ]
  },
  {
   "cell_type": "markdown",
   "id": "alive-stroke",
   "metadata": {},
   "source": [
    "## 데이터 분리하기"
   ]
  },
  {
   "cell_type": "code",
   "execution_count": 63,
   "id": "ahead-housing",
   "metadata": {},
   "outputs": [
    {
     "data": {
      "text/plain": [
       "UserId\n",
       "2      2001-01-01 07:02:54\n",
       "5      2000-12-31 16:09:45\n",
       "8      2000-12-31 16:19:03\n",
       "9      2000-12-31 10:37:58\n",
       "10     2001-01-28 08:37:13\n",
       "               ...        \n",
       "6035   2000-04-26 10:47:20\n",
       "6036   2000-04-26 22:19:56\n",
       "6037   2000-04-27 11:17:20\n",
       "6039   2000-04-26 23:07:09\n",
       "6040   2001-08-20 22:44:15\n",
       "Name: Time, Length: 2867, dtype: datetime64[ns]"
      ]
     },
     "execution_count": 63,
     "metadata": {},
     "output_type": "execute_result"
    }
   ],
   "source": [
    "session_last_time = data.groupby('UserId')['Time'].max()\n",
    "\n",
    "session_last_time"
   ]
  },
  {
   "cell_type": "code",
   "execution_count": 64,
   "id": "tired-graduate",
   "metadata": {},
   "outputs": [
    {
     "data": {
      "text/plain": [
       "Timestamp('2003-03-01 02:49:50')"
      ]
     },
     "execution_count": 64,
     "metadata": {},
     "output_type": "execute_result"
    }
   ],
   "source": [
    "final_time = data['Time'].max()\n",
    "final_time"
   ]
  },
  {
   "cell_type": "markdown",
   "id": "brazilian-palestine",
   "metadata": {},
   "source": [
    "## 데이터 분리함수 split_by_date"
   ]
  },
  {
   "cell_type": "code",
   "execution_count": 65,
   "id": "known-clear",
   "metadata": {},
   "outputs": [],
   "source": [
    "def split_by_date(data: pd.DataFrame, n_days: int):\n",
    "     #마지막날 = session_last_time\n",
    "    final_time = data['Time'].max()\n",
    "    # 세션아이디기준 time이 마지막인날\n",
    "    session_last_time = data.groupby('UserId')['Time'].max()\n",
    "    \n",
    "    session_in_train = session_last_time[session_last_time < final_time - dt.timedelta(n_days)].index\n",
    "    session_in_test = session_last_time[session_last_time >= final_time - dt.timedelta(n_days)].index\n",
    "\n",
    "    before_date = data[data['UserId'].isin(session_in_train)]\n",
    "    after_date = data[data['UserId'].isin(session_in_test)]\n",
    "    after_date = after_date[after_date['ItemId'].isin(before_date['ItemId'])]\n",
    "    return before_date, after_date"
   ]
  },
  {
   "cell_type": "code",
   "execution_count": 66,
   "id": "quarterly-martin",
   "metadata": {},
   "outputs": [],
   "source": [
    "tr, test = split_by_date(data, n_days=100)\n",
    "tr, val = split_by_date(tr, n_days=100)"
   ]
  },
  {
   "cell_type": "code",
   "execution_count": 67,
   "id": "sharp-small",
   "metadata": {},
   "outputs": [],
   "source": [
    "# data에 대한 정보를 살펴봅니다.\n",
    "def stats_info(data: pd.DataFrame, status: str):\n",
    "    print(f'* {status} Set Stats Info\\n'\n",
    "          f'\\t Events: {len(data)}\\n'\n",
    "          f'\\t Sessions: {data[\"UserId\"].nunique()}\\n'\n",
    "          f'\\t Items: {data[\"UserId\"].nunique()}\\n'\n",
    "          f'\\t First Time : {data[\"Time\"].min()}\\n'\n",
    "          f'\\t Last Time : {data[\"Time\"].max()}\\n')"
   ]
  },
  {
   "cell_type": "code",
   "execution_count": 68,
   "id": "eligible-commander",
   "metadata": {},
   "outputs": [
    {
     "name": "stdout",
     "output_type": "stream",
     "text": [
      "* train Set Stats Info\n",
      "\t Events: 578485\n",
      "\t Sessions: 2564\n",
      "\t Items: 2564\n",
      "\t First Time : 2000-04-26 08:05:32\n",
      "\t Last Time : 2002-08-06 14:21:37\n",
      "\n",
      "* valid Set Stats Info\n",
      "\t Events: 28525\n",
      "\t Sessions: 85\n",
      "\t Items: 85\n",
      "\t First Time : 2000-04-28 01:38:08\n",
      "\t Last Time : 2002-11-18 05:59:23\n",
      "\n",
      "* test Set Stats Info\n",
      "\t Events: 80530\n",
      "\t Sessions: 218\n",
      "\t Items: 218\n",
      "\t First Time : 2000-05-01 20:15:13\n",
      "\t Last Time : 2003-03-01 02:49:50\n",
      "\n"
     ]
    }
   ],
   "source": [
    "stats_info(tr, 'train')\n",
    "stats_info(val, 'valid')\n",
    "stats_info(test, 'test')"
   ]
  },
  {
   "cell_type": "code",
   "execution_count": 69,
   "id": "angry-british",
   "metadata": {},
   "outputs": [],
   "source": [
    "# train set에 없는 아이템이 val, test기간에 생길 수 있으므로 train data를 기준으로 인덱싱합니다.\n",
    "id2idx = {item_id : index for index, item_id in enumerate(tr['ItemId'].unique())}\n",
    "\n",
    "def indexing(df, id2idx):\n",
    "    df['item_idx'] = df['ItemId'].map(lambda x: id2idx.get(x, -1))  # id2idx에 없는 아이템은 모르는 값(-1) 처리 해줍니다.\n",
    "    return df\n",
    "\n",
    "tr = indexing(tr, id2idx)\n",
    "val = indexing(val, id2idx)\n",
    "test = indexing(test, id2idx)"
   ]
  },
  {
   "cell_type": "markdown",
   "id": "parallel-shade",
   "metadata": {},
   "source": [
    "이제 데이터를 저장하고 data pipeline을 구축하는 단계로 넘어가자"
   ]
  },
  {
   "cell_type": "code",
   "execution_count": 70,
   "id": "comprehensive-elephant",
   "metadata": {},
   "outputs": [],
   "source": [
    "save_path = data_path / 'processed'\n",
    "save_path.mkdir(parents=True, exist_ok=True)\n",
    "\n",
    "tr.to_pickle(save_path / 'train.pkl')\n",
    "val.to_pickle(save_path / 'valid.pkl')\n",
    "test.to_pickle(save_path / 'test.pkl')"
   ]
  },
  {
   "cell_type": "markdown",
   "id": "brilliant-cement",
   "metadata": {},
   "source": [
    "# Step 3. 모델 구성"
   ]
  },
  {
   "cell_type": "markdown",
   "id": "hybrid-luxembourg",
   "metadata": {},
   "source": [
    "노드를 참조해서 모델을 구성해보자"
   ]
  },
  {
   "cell_type": "markdown",
   "id": "spoken-thread",
   "metadata": {},
   "source": [
    "## 1) SessionDataset "
   ]
  },
  {
   "cell_type": "markdown",
   "id": "bulgarian-singapore",
   "metadata": {},
   "source": [
    "데이터가 주어지면 세션이 시작되는 인덱스를 담는 값과 세션을 새로 인덱싱한 값을 갖는 클래스를 만듭니다."
   ]
  },
  {
   "cell_type": "code",
   "execution_count": 75,
   "id": "ruled-sphere",
   "metadata": {},
   "outputs": [],
   "source": [
    "class SessionDataset:\n",
    "    \"\"\"Credit to yhs-968/pyGRU4REC.\"\"\"\n",
    "\n",
    "    def __init__(self, data):\n",
    "        self.df = data\n",
    "        self.click_offsets = self.get_click_offsets()\n",
    "        self.session_idx = np.arange(self.df['UserId'].nunique())  # indexing to UserId\n",
    "\n",
    "    def get_click_offsets(self):\n",
    "        \"\"\"\n",
    "        Return the indexes of the first click of each session IDs,\n",
    "        \"\"\"\n",
    "        offsets = np.zeros(self.df['UserId'].nunique() + 1, dtype=np.int32)\n",
    "        offsets[1:] = self.df.groupby('UserId').size().cumsum()\n",
    "        return offsets"
   ]
  },
  {
   "cell_type": "markdown",
   "id": "genetic-bennett",
   "metadata": {},
   "source": [
    "train데이터로 SessionDataset 객체를 만듬  \n",
    "click_offsets 변수 -> 각 세션이 시작된 인덱스  \n",
    "session_idx 변수 -> 각 세션을 인덱싱한 np.array 입니다.  "
   ]
  },
  {
   "cell_type": "code",
   "execution_count": 76,
   "id": "exceptional-soundtrack",
   "metadata": {},
   "outputs": [
    {
     "data": {
      "text/html": [
       "<div>\n",
       "<style scoped>\n",
       "    .dataframe tbody tr th:only-of-type {\n",
       "        vertical-align: middle;\n",
       "    }\n",
       "\n",
       "    .dataframe tbody tr th {\n",
       "        vertical-align: top;\n",
       "    }\n",
       "\n",
       "    .dataframe thead th {\n",
       "        text-align: right;\n",
       "    }\n",
       "</style>\n",
       "<table border=\"1\" class=\"dataframe\">\n",
       "  <thead>\n",
       "    <tr style=\"text-align: right;\">\n",
       "      <th></th>\n",
       "      <th>UserId</th>\n",
       "      <th>ItemId</th>\n",
       "      <th>Rating</th>\n",
       "      <th>Time</th>\n",
       "      <th>item_idx</th>\n",
       "    </tr>\n",
       "  </thead>\n",
       "  <tbody>\n",
       "    <tr>\n",
       "      <th>130</th>\n",
       "      <td>2</td>\n",
       "      <td>1198</td>\n",
       "      <td>4</td>\n",
       "      <td>2001-01-01 06:28:44</td>\n",
       "      <td>0</td>\n",
       "    </tr>\n",
       "    <tr>\n",
       "      <th>64</th>\n",
       "      <td>2</td>\n",
       "      <td>1210</td>\n",
       "      <td>4</td>\n",
       "      <td>2001-01-01 06:29:11</td>\n",
       "      <td>1</td>\n",
       "    </tr>\n",
       "    <tr>\n",
       "      <th>71</th>\n",
       "      <td>2</td>\n",
       "      <td>1217</td>\n",
       "      <td>3</td>\n",
       "      <td>2001-01-01 06:29:11</td>\n",
       "      <td>2</td>\n",
       "    </tr>\n",
       "    <tr>\n",
       "      <th>134</th>\n",
       "      <td>2</td>\n",
       "      <td>2717</td>\n",
       "      <td>3</td>\n",
       "      <td>2001-01-01 06:29:56</td>\n",
       "      <td>3</td>\n",
       "    </tr>\n",
       "    <tr>\n",
       "      <th>88</th>\n",
       "      <td>2</td>\n",
       "      <td>1293</td>\n",
       "      <td>5</td>\n",
       "      <td>2001-01-01 06:31:01</td>\n",
       "      <td>4</td>\n",
       "    </tr>\n",
       "    <tr>\n",
       "      <th>106</th>\n",
       "      <td>2</td>\n",
       "      <td>1225</td>\n",
       "      <td>5</td>\n",
       "      <td>2001-01-01 06:33:11</td>\n",
       "      <td>5</td>\n",
       "    </tr>\n",
       "    <tr>\n",
       "      <th>120</th>\n",
       "      <td>2</td>\n",
       "      <td>1193</td>\n",
       "      <td>5</td>\n",
       "      <td>2001-01-01 06:33:33</td>\n",
       "      <td>6</td>\n",
       "    </tr>\n",
       "    <tr>\n",
       "      <th>172</th>\n",
       "      <td>2</td>\n",
       "      <td>318</td>\n",
       "      <td>5</td>\n",
       "      <td>2001-01-01 06:33:33</td>\n",
       "      <td>7</td>\n",
       "    </tr>\n",
       "    <tr>\n",
       "      <th>105</th>\n",
       "      <td>2</td>\n",
       "      <td>2858</td>\n",
       "      <td>4</td>\n",
       "      <td>2001-01-01 06:33:54</td>\n",
       "      <td>8</td>\n",
       "    </tr>\n",
       "    <tr>\n",
       "      <th>67</th>\n",
       "      <td>2</td>\n",
       "      <td>1213</td>\n",
       "      <td>2</td>\n",
       "      <td>2001-01-01 06:34:18</td>\n",
       "      <td>9</td>\n",
       "    </tr>\n",
       "  </tbody>\n",
       "</table>\n",
       "</div>"
      ],
      "text/plain": [
       "     UserId  ItemId  Rating                Time  item_idx\n",
       "130       2    1198       4 2001-01-01 06:28:44         0\n",
       "64        2    1210       4 2001-01-01 06:29:11         1\n",
       "71        2    1217       3 2001-01-01 06:29:11         2\n",
       "134       2    2717       3 2001-01-01 06:29:56         3\n",
       "88        2    1293       5 2001-01-01 06:31:01         4\n",
       "106       2    1225       5 2001-01-01 06:33:11         5\n",
       "120       2    1193       5 2001-01-01 06:33:33         6\n",
       "172       2     318       5 2001-01-01 06:33:33         7\n",
       "105       2    2858       4 2001-01-01 06:33:54         8\n",
       "67        2    1213       2 2001-01-01 06:34:18         9"
      ]
     },
     "execution_count": 76,
     "metadata": {},
     "output_type": "execute_result"
    }
   ],
   "source": [
    "tr_dataset = SessionDataset(tr)\n",
    "tr_dataset.df.head(10)"
   ]
  },
  {
   "cell_type": "code",
   "execution_count": 77,
   "id": "resistant-necklace",
   "metadata": {},
   "outputs": [
    {
     "data": {
      "text/plain": [
       "array([     0,    120,    261, ..., 578102, 578206, 578485], dtype=int32)"
      ]
     },
     "execution_count": 77,
     "metadata": {},
     "output_type": "execute_result"
    }
   ],
   "source": [
    "tr_dataset.click_offsets"
   ]
  },
  {
   "cell_type": "code",
   "execution_count": 78,
   "id": "distant-november",
   "metadata": {},
   "outputs": [
    {
     "data": {
      "text/plain": [
       "array([   0,    1,    2, ..., 2561, 2562, 2563])"
      ]
     },
     "execution_count": 78,
     "metadata": {},
     "output_type": "execute_result"
    }
   ],
   "source": [
    "tr_dataset.session_idx"
   ]
  },
  {
   "cell_type": "markdown",
   "id": "robust-importance",
   "metadata": {},
   "source": [
    "## 2) SessionDataLoader"
   ]
  },
  {
   "cell_type": "markdown",
   "id": "classical-output",
   "metadata": {},
   "source": [
    "iterator, generator -> [이 자료](https://dojang.io/mod/page/view.php?id=2405) 먼저 보기  \n",
    "\n",
    "SessionDataset 객체를 받아서 Session-Parallel mini-batch를 만드는 클래스를 만듭니다.  \n",
    "\\_\\_iter__ 메소드는 모델 인풋, 라벨, 세션이 끝나는 곳의 위치를 yield합니다.  \n",
    "mask는 후에 RNN Cell State를 초기화 하는데 사용할 것입니다  "
   ]
  },
  {
   "cell_type": "code",
   "execution_count": 79,
   "id": "computational-reducing",
   "metadata": {},
   "outputs": [],
   "source": [
    "class SessionDataLoader:\n",
    "    \"\"\"Credit to yhs-968/pyGRU4REC.\"\"\"\n",
    "\n",
    "    def __init__(self, dataset: SessionDataset, batch_size=20):\n",
    "        self.dataset = dataset\n",
    "        self.batch_size = batch_size\n",
    "\n",
    "    def __iter__(self):\n",
    "        \"\"\" Returns the iterator for producing session-parallel training mini-batches.\n",
    "        Yields:\n",
    "            input (B,):  Item indices that will be encoded as one-hot vectors later.\n",
    "            target (B,): a Variable that stores the target item indices\n",
    "            masks: Numpy array indicating the positions of the sessions to be terminated\n",
    "        \"\"\"\n",
    "\n",
    "        start, end, mask, last_session, finished = self.initialize()  # initialize 메소드에서 확인해주세요.\n",
    "        \"\"\"\n",
    "        start : Index Where Session Start\n",
    "        end : Index Where Session End\n",
    "        mask : indicator for the sessions to be terminated\n",
    "        \"\"\"\n",
    "\n",
    "        while not finished:\n",
    "            min_len = (end - start).min() - 1  # Shortest Length Among Sessions\n",
    "            for i in range(min_len):\n",
    "                # Build inputs & targets\n",
    "                inp = self.dataset.df['item_idx'].values[start + i]\n",
    "                target = self.dataset.df['item_idx'].values[start + i + 1]\n",
    "                yield inp, target, mask\n",
    "\n",
    "            start, end, mask, last_session, finished = self.update_status(start, end, min_len, last_session, finished)\n",
    "\n",
    "    def initialize(self):\n",
    "        first_iters = np.arange(self.batch_size)    # 첫 배치에 사용할 세션 Index를 가져옵니다.\n",
    "        last_session = self.batch_size - 1    # 마지막으로 다루고 있는 세션 Index를 저장해둡니다.\n",
    "        start = self.dataset.click_offsets[self.dataset.session_idx[first_iters]]       # data 상에서 session이 시작된 위치를 가져옵니다.\n",
    "        end = self.dataset.click_offsets[self.dataset.session_idx[first_iters] + 1]  # session이 끝난 위치 바로 다음 위치를 가져옵니다.\n",
    "        mask = np.array([])   # session의 모든 아이템을 다 돌은 경우 mask에 추가해줄 것입니다.\n",
    "        finished = False         # data를 전부 돌았는지 기록하기 위한 변수입니다.\n",
    "        return start, end, mask, last_session, finished\n",
    "\n",
    "    def update_status(self, start: np.ndarray, end: np.ndarray, min_len: int, last_session: int, finished: bool):  \n",
    "        # 다음 배치 데이터를 생성하기 위해 상태를 update합니다.\n",
    "        \n",
    "        start += min_len   # __iter__에서 min_len 만큼 for문을 돌았으므로 start를 min_len 만큼 더해줍니다.\n",
    "        mask = np.arange(self.batch_size)[(end - start) == 1]  \n",
    "        # end는 다음 세션이 시작되는 위치인데 start와 한 칸 차이난다는 것은 session이 끝났다는 뜻입니다. mask에 기록해줍니다.\n",
    "\n",
    "        for i, idx in enumerate(mask, start=1):  # mask에 추가된 세션 개수만큼 새로운 세션을 돌것입니다.\n",
    "            new_session = last_session + i  \n",
    "            if new_session > self.dataset.session_idx[-1]:  # 만약 새로운 세션이 마지막 세션 index보다 크다면 모든 학습데이터를 돈 것입니다.\n",
    "                finished = True\n",
    "                break\n",
    "            # update the next starting/ending point\n",
    "            start[idx] = self.dataset.click_offsets[self.dataset.session_idx[new_session]]     # 종료된 세션 대신 새로운 세션의 시작점을 기록합니다.\n",
    "            end[idx] = self.dataset.click_offsets[self.dataset.session_idx[new_session] + 1]\n",
    "\n",
    "        last_session += len(mask)  # 마지막 세션의 위치를 기록해둡니다.\n",
    "        return start, end, mask, last_session, finished"
   ]
  },
  {
   "cell_type": "code",
   "execution_count": 80,
   "id": "legislative-sequence",
   "metadata": {},
   "outputs": [
    {
     "data": {
      "text/html": [
       "<div>\n",
       "<style scoped>\n",
       "    .dataframe tbody tr th:only-of-type {\n",
       "        vertical-align: middle;\n",
       "    }\n",
       "\n",
       "    .dataframe tbody tr th {\n",
       "        vertical-align: top;\n",
       "    }\n",
       "\n",
       "    .dataframe thead th {\n",
       "        text-align: right;\n",
       "    }\n",
       "</style>\n",
       "<table border=\"1\" class=\"dataframe\">\n",
       "  <thead>\n",
       "    <tr style=\"text-align: right;\">\n",
       "      <th></th>\n",
       "      <th>UserId</th>\n",
       "      <th>ItemId</th>\n",
       "      <th>Rating</th>\n",
       "      <th>Time</th>\n",
       "      <th>item_idx</th>\n",
       "    </tr>\n",
       "  </thead>\n",
       "  <tbody>\n",
       "    <tr>\n",
       "      <th>130</th>\n",
       "      <td>2</td>\n",
       "      <td>1198</td>\n",
       "      <td>4</td>\n",
       "      <td>2001-01-01 06:28:44</td>\n",
       "      <td>0</td>\n",
       "    </tr>\n",
       "    <tr>\n",
       "      <th>64</th>\n",
       "      <td>2</td>\n",
       "      <td>1210</td>\n",
       "      <td>4</td>\n",
       "      <td>2001-01-01 06:29:11</td>\n",
       "      <td>1</td>\n",
       "    </tr>\n",
       "    <tr>\n",
       "      <th>71</th>\n",
       "      <td>2</td>\n",
       "      <td>1217</td>\n",
       "      <td>3</td>\n",
       "      <td>2001-01-01 06:29:11</td>\n",
       "      <td>2</td>\n",
       "    </tr>\n",
       "    <tr>\n",
       "      <th>134</th>\n",
       "      <td>2</td>\n",
       "      <td>2717</td>\n",
       "      <td>3</td>\n",
       "      <td>2001-01-01 06:29:56</td>\n",
       "      <td>3</td>\n",
       "    </tr>\n",
       "    <tr>\n",
       "      <th>88</th>\n",
       "      <td>2</td>\n",
       "      <td>1293</td>\n",
       "      <td>5</td>\n",
       "      <td>2001-01-01 06:31:01</td>\n",
       "      <td>4</td>\n",
       "    </tr>\n",
       "    <tr>\n",
       "      <th>106</th>\n",
       "      <td>2</td>\n",
       "      <td>1225</td>\n",
       "      <td>5</td>\n",
       "      <td>2001-01-01 06:33:11</td>\n",
       "      <td>5</td>\n",
       "    </tr>\n",
       "    <tr>\n",
       "      <th>120</th>\n",
       "      <td>2</td>\n",
       "      <td>1193</td>\n",
       "      <td>5</td>\n",
       "      <td>2001-01-01 06:33:33</td>\n",
       "      <td>6</td>\n",
       "    </tr>\n",
       "    <tr>\n",
       "      <th>172</th>\n",
       "      <td>2</td>\n",
       "      <td>318</td>\n",
       "      <td>5</td>\n",
       "      <td>2001-01-01 06:33:33</td>\n",
       "      <td>7</td>\n",
       "    </tr>\n",
       "    <tr>\n",
       "      <th>105</th>\n",
       "      <td>2</td>\n",
       "      <td>2858</td>\n",
       "      <td>4</td>\n",
       "      <td>2001-01-01 06:33:54</td>\n",
       "      <td>8</td>\n",
       "    </tr>\n",
       "    <tr>\n",
       "      <th>67</th>\n",
       "      <td>2</td>\n",
       "      <td>1213</td>\n",
       "      <td>2</td>\n",
       "      <td>2001-01-01 06:34:18</td>\n",
       "      <td>9</td>\n",
       "    </tr>\n",
       "    <tr>\n",
       "      <th>102</th>\n",
       "      <td>2</td>\n",
       "      <td>1945</td>\n",
       "      <td>5</td>\n",
       "      <td>2001-01-01 06:34:18</td>\n",
       "      <td>10</td>\n",
       "    </tr>\n",
       "    <tr>\n",
       "      <th>173</th>\n",
       "      <td>2</td>\n",
       "      <td>1207</td>\n",
       "      <td>4</td>\n",
       "      <td>2001-01-01 06:34:38</td>\n",
       "      <td>11</td>\n",
       "    </tr>\n",
       "    <tr>\n",
       "      <th>131</th>\n",
       "      <td>2</td>\n",
       "      <td>593</td>\n",
       "      <td>5</td>\n",
       "      <td>2001-01-01 06:35:17</td>\n",
       "      <td>12</td>\n",
       "    </tr>\n",
       "    <tr>\n",
       "      <th>163</th>\n",
       "      <td>2</td>\n",
       "      <td>3095</td>\n",
       "      <td>4</td>\n",
       "      <td>2001-01-01 06:35:17</td>\n",
       "      <td>13</td>\n",
       "    </tr>\n",
       "    <tr>\n",
       "      <th>63</th>\n",
       "      <td>2</td>\n",
       "      <td>3468</td>\n",
       "      <td>5</td>\n",
       "      <td>2001-01-01 06:35:42</td>\n",
       "      <td>14</td>\n",
       "    </tr>\n",
       "  </tbody>\n",
       "</table>\n",
       "</div>"
      ],
      "text/plain": [
       "     UserId  ItemId  Rating                Time  item_idx\n",
       "130       2    1198       4 2001-01-01 06:28:44         0\n",
       "64        2    1210       4 2001-01-01 06:29:11         1\n",
       "71        2    1217       3 2001-01-01 06:29:11         2\n",
       "134       2    2717       3 2001-01-01 06:29:56         3\n",
       "88        2    1293       5 2001-01-01 06:31:01         4\n",
       "106       2    1225       5 2001-01-01 06:33:11         5\n",
       "120       2    1193       5 2001-01-01 06:33:33         6\n",
       "172       2     318       5 2001-01-01 06:33:33         7\n",
       "105       2    2858       4 2001-01-01 06:33:54         8\n",
       "67        2    1213       2 2001-01-01 06:34:18         9\n",
       "102       2    1945       5 2001-01-01 06:34:18        10\n",
       "173       2    1207       4 2001-01-01 06:34:38        11\n",
       "131       2     593       5 2001-01-01 06:35:17        12\n",
       "163       2    3095       4 2001-01-01 06:35:17        13\n",
       "63        2    3468       5 2001-01-01 06:35:42        14"
      ]
     },
     "execution_count": 80,
     "metadata": {},
     "output_type": "execute_result"
    }
   ],
   "source": [
    "tr_data_loader = SessionDataLoader(tr_dataset, batch_size=4)\n",
    "tr_dataset.df.head(15)"
   ]
  },
  {
   "cell_type": "code",
   "execution_count": 81,
   "id": "communist-madagascar",
   "metadata": {},
   "outputs": [
    {
     "data": {
      "text/plain": [
       "<generator object SessionDataLoader.__iter__ at 0x7fb33e5a6f50>"
      ]
     },
     "execution_count": 81,
     "metadata": {},
     "output_type": "execute_result"
    }
   ],
   "source": [
    "iter_ex = iter(tr_data_loader)\n",
    "iter_ex"
   ]
  },
  {
   "cell_type": "markdown",
   "id": "valuable-respect",
   "metadata": {},
   "source": [
    "아래 셀을 반복 실행하면 next가 계속 다음 데이터를 만듭니다.  \n",
    "input, output, mask의 감 잡기"
   ]
  },
  {
   "cell_type": "code",
   "execution_count": 82,
   "id": "numeric-hypothetical",
   "metadata": {},
   "outputs": [
    {
     "name": "stdout",
     "output_type": "stream",
     "text": [
      "Model Input Item Idx are : [  0   3   1 308]\n",
      "Label Item Idx are :       [  1 120 241 309]\n",
      "Previous Masked Input Idx are []\n"
     ]
    }
   ],
   "source": [
    "inputs, labels, mask =  next(iter_ex)\n",
    "print(f'Model Input Item Idx are : {inputs}')\n",
    "print(f'Label Item Idx are : {\"\":5} {labels}')\n",
    "print(f'Previous Masked Input Idx are {mask}')"
   ]
  },
  {
   "cell_type": "markdown",
   "id": "auburn-creature",
   "metadata": {},
   "source": [
    "# Step 4. 모델 학습"
   ]
  },
  {
   "cell_type": "markdown",
   "id": "australian-extreme",
   "metadata": {},
   "source": [
    "## Evaluation Metric"
   ]
  },
  {
   "cell_type": "code",
   "execution_count": 95,
   "id": "fitted-spokesman",
   "metadata": {},
   "outputs": [],
   "source": [
    "def mrr_k(pred, truth: int, k: int):\n",
    "    indexing = np.where(pred[:k] == truth)[0]\n",
    "    if len(indexing) > 0:\n",
    "        return 1 / (indexing[0] + 1)\n",
    "    else:\n",
    "        return 0\n",
    "\n",
    "\n",
    "def recall_k(pred, truth: int, k: int) -> int:\n",
    "    answer = truth in pred[:k]\n",
    "    return int(answer)"
   ]
  },
  {
   "cell_type": "markdown",
   "id": "exact-nature",
   "metadata": {},
   "source": [
    "## Model Architecture"
   ]
  },
  {
   "cell_type": "markdown",
   "id": "political-yacht",
   "metadata": {},
   "source": [
    "모델 구조가 간단한 편이므로 Functional하게 모델을 만들겠습니다.  \n",
    "학습 진행률을 모니터링하기 위해 사용하는 tqdm 라이브러리가 설치되어 있지 않다면 다음과 같이 설치해 주세요.  \n",
    "```\n",
    "$ pip install tqdm\n",
    "```"
   ]
  },
  {
   "cell_type": "code",
   "execution_count": 83,
   "id": "registered-wonder",
   "metadata": {},
   "outputs": [],
   "source": [
    "import numpy as np\n",
    "import tensorflow as tf\n",
    "from tensorflow.keras.layers import Input, Dense, Dropout, GRU\n",
    "from tensorflow.keras.losses import categorical_crossentropy\n",
    "from tensorflow.keras.models import Model\n",
    "from tensorflow.keras.optimizers import Adam\n",
    "from tensorflow.keras.utils import to_categorical\n",
    "from tqdm import tqdm"
   ]
  },
  {
   "cell_type": "code",
   "execution_count": 84,
   "id": "trying-sense",
   "metadata": {},
   "outputs": [],
   "source": [
    "def create_model(args):\n",
    "    inputs = Input(batch_shape=(args.batch_size, 1, args.num_items))\n",
    "    gru, _ = GRU(args.hsz, stateful=True, return_state=True, name='GRU')(inputs)\n",
    "    dropout = Dropout(args.drop_rate)(gru)\n",
    "    predictions = Dense(args.num_items, activation='softmax')(dropout)\n",
    "    model = Model(inputs=inputs, outputs=[predictions])\n",
    "    model.compile(loss=categorical_crossentropy, optimizer=Adam(args.lr), metrics=['accuracy'])\n",
    "    model.summary()\n",
    "    return model"
   ]
  },
  {
   "cell_type": "markdown",
   "id": "spanish-compact",
   "metadata": {},
   "source": [
    "모델에 사용할 hyper-parameter를 class형식으로 관리"
   ]
  },
  {
   "cell_type": "code",
   "execution_count": 86,
   "id": "compact-assignment",
   "metadata": {},
   "outputs": [],
   "source": [
    "class Args:\n",
    "    def __init__(self, tr, val, test, batch_size, hsz, drop_rate, lr, epochs, k):\n",
    "        self.tr = tr\n",
    "        self.val = val\n",
    "        self.test = test\n",
    "        self.num_items = tr['ItemId'].nunique()\n",
    "        self.num_sessions = tr['UserId'].nunique()\n",
    "        self.batch_size = batch_size\n",
    "        self.hsz = hsz\n",
    "        self.drop_rate = drop_rate\n",
    "        self.lr = lr\n",
    "        self.epochs = epochs\n",
    "        self.k = k"
   ]
  },
  {
   "cell_type": "markdown",
   "id": "global-triangle",
   "metadata": {},
   "source": [
    "## 다양한 하이퍼파라미터"
   ]
  },
  {
   "cell_type": "code",
   "execution_count": 102,
   "id": "turned-utilization",
   "metadata": {},
   "outputs": [],
   "source": [
    "# batch_size 다르게\n",
    "args01 = Args(tr, val, test, batch_size=128, hsz=50, drop_rate=0.1, lr=0.001, epochs=5, k=20)\n",
    "args02 = Args(tr, val, test, batch_size=64, hsz=50, drop_rate=0.1, lr=0.001, epochs=5, k=20)\n",
    "# epoch을 다르게\n",
    "args03 = Args(tr, val, test, batch_size=64, hsz=50, drop_rate=0.1, lr=0.001, epochs=10, k=20)"
   ]
  },
  {
   "cell_type": "code",
   "execution_count": 103,
   "id": "proud-importance",
   "metadata": {},
   "outputs": [
    {
     "name": "stdout",
     "output_type": "stream",
     "text": [
      "Model: \"model_3\"\n",
      "_________________________________________________________________\n",
      "Layer (type)                 Output Shape              Param #   \n",
      "=================================================================\n",
      "input_4 (InputLayer)         [(128, 1, 1294)]          0         \n",
      "_________________________________________________________________\n",
      "GRU (GRU)                    [(128, 50), (128, 50)]    201900    \n",
      "_________________________________________________________________\n",
      "dropout_3 (Dropout)          (128, 50)                 0         \n",
      "_________________________________________________________________\n",
      "dense_3 (Dense)              (128, 1294)               65994     \n",
      "=================================================================\n",
      "Total params: 267,894\n",
      "Trainable params: 267,894\n",
      "Non-trainable params: 0\n",
      "_________________________________________________________________\n",
      "Model: \"model_4\"\n",
      "_________________________________________________________________\n",
      "Layer (type)                 Output Shape              Param #   \n",
      "=================================================================\n",
      "input_5 (InputLayer)         [(64, 1, 1294)]           0         \n",
      "_________________________________________________________________\n",
      "GRU (GRU)                    [(64, 50), (64, 50)]      201900    \n",
      "_________________________________________________________________\n",
      "dropout_4 (Dropout)          (64, 50)                  0         \n",
      "_________________________________________________________________\n",
      "dense_4 (Dense)              (64, 1294)                65994     \n",
      "=================================================================\n",
      "Total params: 267,894\n",
      "Trainable params: 267,894\n",
      "Non-trainable params: 0\n",
      "_________________________________________________________________\n",
      "Model: \"model_5\"\n",
      "_________________________________________________________________\n",
      "Layer (type)                 Output Shape              Param #   \n",
      "=================================================================\n",
      "input_6 (InputLayer)         [(64, 1, 1294)]           0         \n",
      "_________________________________________________________________\n",
      "GRU (GRU)                    [(64, 50), (64, 50)]      201900    \n",
      "_________________________________________________________________\n",
      "dropout_5 (Dropout)          (64, 50)                  0         \n",
      "_________________________________________________________________\n",
      "dense_5 (Dense)              (64, 1294)                65994     \n",
      "=================================================================\n",
      "Total params: 267,894\n",
      "Trainable params: 267,894\n",
      "Non-trainable params: 0\n",
      "_________________________________________________________________\n"
     ]
    }
   ],
   "source": [
    "model01 = create_model(args01)\n",
    "model02 = create_model(args02)\n",
    "model03 = create_model(args03)"
   ]
  },
  {
   "cell_type": "markdown",
   "id": "worthy-shoot",
   "metadata": {},
   "source": [
    "# Step 5. 모델 테스트"
   ]
  },
  {
   "cell_type": "markdown",
   "id": "optimum-oxide",
   "metadata": {},
   "source": [
    "미리 구성한 테스트셋을 바탕으로 Recall, MRR 을 확인  \n"
   ]
  },
  {
   "cell_type": "code",
   "execution_count": 96,
   "id": "certified-adaptation",
   "metadata": {},
   "outputs": [],
   "source": [
    "# train 셋으로 학습하면서 valid 셋으로 검증합니다.\n",
    "def train_model(model, args):\n",
    "    train_dataset = SessionDataset(args.tr)\n",
    "    train_loader = SessionDataLoader(train_dataset, batch_size=args.batch_size)\n",
    "\n",
    "    for epoch in range(1, args.epochs + 1):\n",
    "        total_step = len(args.tr) - args.tr['UserId'].nunique()\n",
    "        tr_loader = tqdm(train_loader, total=total_step // args.batch_size, desc='Train', mininterval=1)\n",
    "        for feat, target, mask in tr_loader:\n",
    "            reset_hidden_states(model, mask)  # 종료된 session은 hidden_state를 초기화합니다. 아래 메서드에서 확인해주세요.\n",
    "\n",
    "            input_ohe = to_categorical(feat, num_classes=args.num_items)\n",
    "            input_ohe = np.expand_dims(input_ohe, axis=1)\n",
    "            target_ohe = to_categorical(target, num_classes=args.num_items)\n",
    "\n",
    "            result = model.train_on_batch(input_ohe, target_ohe)\n",
    "            tr_loader.set_postfix(train_loss=result[0], accuracy = result[1])\n",
    "\n",
    "        val_recall, val_mrr = get_metrics(args.val, model, args, args.k)  # valid set에 대해 검증합니다.\n",
    "\n",
    "        print(f\"\\t - Recall@{args.k} epoch {epoch}: {val_recall:3f}\")\n",
    "        print(f\"\\t - MRR@{args.k}    epoch {epoch}: {val_mrr:3f}\\n\")\n",
    "\n",
    "\n",
    "def reset_hidden_states(model, mask):\n",
    "    gru_layer = model.get_layer(name='GRU')  # model에서 gru layer를 가져옵니다.\n",
    "    hidden_states = gru_layer.states[0].numpy()  # gru_layer의 parameter를 가져옵니다.\n",
    "    for elt in mask:  # mask된 인덱스 즉, 종료된 세션의 인덱스를 돌면서\n",
    "        hidden_states[elt, :] = 0  # parameter를 초기화 합니다.\n",
    "    gru_layer.reset_states(states=hidden_states)\n",
    "\n",
    "\n",
    "def get_metrics(data, model, args, k: int):  # valid셋과 test셋을 평가하는 코드입니다. \n",
    "                                             # train과 거의 같지만 mrr, recall을 구하는 라인이 있습니다.\n",
    "    dataset = SessionDataset(data)\n",
    "    loader = SessionDataLoader(dataset, batch_size=args.batch_size)\n",
    "    recall_list, mrr_list = [], []\n",
    "\n",
    "    total_step = len(data) - data['UserId'].nunique()\n",
    "    for inputs, label, mask in tqdm(loader, total=total_step // args.batch_size, desc='Evaluation', mininterval=1):\n",
    "        reset_hidden_states(model, mask)\n",
    "        input_ohe = to_categorical(inputs, num_classes=args.num_items)\n",
    "        input_ohe = np.expand_dims(input_ohe, axis=1)\n",
    "\n",
    "        pred = model.predict(input_ohe, batch_size=args.batch_size)\n",
    "        pred_arg = tf.argsort(pred, direction='DESCENDING')  # softmax 값이 큰 순서대로 sorting 합니다.\n",
    "\n",
    "        length = len(inputs)\n",
    "        recall_list.extend([recall_k(pred_arg[i], label[i], k) for i in range(length)])\n",
    "        mrr_list.extend([mrr_k(pred_arg[i], label[i], k) for i in range(length)])\n",
    "\n",
    "    recall, mrr = np.mean(recall_list), np.mean(mrr_list)\n",
    "    return recall, mrr"
   ]
  },
  {
   "cell_type": "markdown",
   "id": "funded-tackle",
   "metadata": {},
   "source": [
    "**test_model 함수**"
   ]
  },
  {
   "cell_type": "code",
   "execution_count": 97,
   "id": "seeing-chocolate",
   "metadata": {},
   "outputs": [],
   "source": [
    "def test_model(model, args, test):\n",
    "    test_recall, test_mrr = get_metrics(test, model, args, 20)\n",
    "    print(f\"\\t - Recall@{args.k}: {test_recall:3f}\")\n",
    "    print(f\"\\t - MRR@{args.k}: {test_mrr:3f}\\n\")"
   ]
  },
  {
   "cell_type": "markdown",
   "id": "corporate-bacon",
   "metadata": {},
   "source": [
    "## model01"
   ]
  },
  {
   "cell_type": "code",
   "execution_count": 93,
   "id": "according-passenger",
   "metadata": {},
   "outputs": [
    {
     "name": "stderr",
     "output_type": "stream",
     "text": [
      "Train:  97%|█████████▋| 4349/4499 [00:37<00:01, 115.80it/s, accuracy=0.0312, train_loss=6.02] \n",
      "Evaluation:   0%|          | 0/222 [00:00<?, ?it/s]\n"
     ]
    },
    {
     "ename": "IndexError",
     "evalue": "index 85 is out of bounds for axis 0 with size 85",
     "output_type": "error",
     "traceback": [
      "\u001b[0;31m---------------------------------------------------------------------------\u001b[0m",
      "\u001b[0;31mIndexError\u001b[0m                                Traceback (most recent call last)",
      "\u001b[0;32m<ipython-input-93-cb7eb8882849>\u001b[0m in \u001b[0;36m<module>\u001b[0;34m\u001b[0m\n\u001b[0;32m----> 1\u001b[0;31m \u001b[0mtrain_model\u001b[0m\u001b[0;34m(\u001b[0m\u001b[0mmodel01\u001b[0m\u001b[0;34m,\u001b[0m \u001b[0margs01\u001b[0m\u001b[0;34m)\u001b[0m\u001b[0;34m\u001b[0m\u001b[0;34m\u001b[0m\u001b[0m\n\u001b[0m",
      "\u001b[0;32m<ipython-input-91-075f10ff3904>\u001b[0m in \u001b[0;36mtrain_model\u001b[0;34m(model, args)\u001b[0m\n\u001b[1;32m     17\u001b[0m             \u001b[0mtr_loader\u001b[0m\u001b[0;34m.\u001b[0m\u001b[0mset_postfix\u001b[0m\u001b[0;34m(\u001b[0m\u001b[0mtrain_loss\u001b[0m\u001b[0;34m=\u001b[0m\u001b[0mresult\u001b[0m\u001b[0;34m[\u001b[0m\u001b[0;36m0\u001b[0m\u001b[0;34m]\u001b[0m\u001b[0;34m,\u001b[0m \u001b[0maccuracy\u001b[0m \u001b[0;34m=\u001b[0m \u001b[0mresult\u001b[0m\u001b[0;34m[\u001b[0m\u001b[0;36m1\u001b[0m\u001b[0;34m]\u001b[0m\u001b[0;34m)\u001b[0m\u001b[0;34m\u001b[0m\u001b[0;34m\u001b[0m\u001b[0m\n\u001b[1;32m     18\u001b[0m \u001b[0;34m\u001b[0m\u001b[0m\n\u001b[0;32m---> 19\u001b[0;31m         \u001b[0mval_recall\u001b[0m\u001b[0;34m,\u001b[0m \u001b[0mval_mrr\u001b[0m \u001b[0;34m=\u001b[0m \u001b[0mget_metrics\u001b[0m\u001b[0;34m(\u001b[0m\u001b[0margs\u001b[0m\u001b[0;34m.\u001b[0m\u001b[0mval\u001b[0m\u001b[0;34m,\u001b[0m \u001b[0mmodel\u001b[0m\u001b[0;34m,\u001b[0m \u001b[0margs\u001b[0m\u001b[0;34m,\u001b[0m \u001b[0margs\u001b[0m\u001b[0;34m.\u001b[0m\u001b[0mk\u001b[0m\u001b[0;34m)\u001b[0m  \u001b[0;31m# valid set에 대해 검증합니다.\u001b[0m\u001b[0;34m\u001b[0m\u001b[0;34m\u001b[0m\u001b[0m\n\u001b[0m\u001b[1;32m     20\u001b[0m \u001b[0;34m\u001b[0m\u001b[0m\n\u001b[1;32m     21\u001b[0m         \u001b[0mprint\u001b[0m\u001b[0;34m(\u001b[0m\u001b[0;34mf\"\\t - Recall@{args.k} epoch {epoch}: {val_recall:3f}\"\u001b[0m\u001b[0;34m)\u001b[0m\u001b[0;34m\u001b[0m\u001b[0;34m\u001b[0m\u001b[0m\n",
      "\u001b[0;32m<ipython-input-91-075f10ff3904>\u001b[0m in \u001b[0;36mget_metrics\u001b[0;34m(data, model, args, k)\u001b[0m\n\u001b[1;32m     38\u001b[0m \u001b[0;34m\u001b[0m\u001b[0m\n\u001b[1;32m     39\u001b[0m     \u001b[0mtotal_step\u001b[0m \u001b[0;34m=\u001b[0m \u001b[0mlen\u001b[0m\u001b[0;34m(\u001b[0m\u001b[0mdata\u001b[0m\u001b[0;34m)\u001b[0m \u001b[0;34m-\u001b[0m \u001b[0mdata\u001b[0m\u001b[0;34m[\u001b[0m\u001b[0;34m'UserId'\u001b[0m\u001b[0;34m]\u001b[0m\u001b[0;34m.\u001b[0m\u001b[0mnunique\u001b[0m\u001b[0;34m(\u001b[0m\u001b[0;34m)\u001b[0m\u001b[0;34m\u001b[0m\u001b[0;34m\u001b[0m\u001b[0m\n\u001b[0;32m---> 40\u001b[0;31m     \u001b[0;32mfor\u001b[0m \u001b[0minputs\u001b[0m\u001b[0;34m,\u001b[0m \u001b[0mlabel\u001b[0m\u001b[0;34m,\u001b[0m \u001b[0mmask\u001b[0m \u001b[0;32min\u001b[0m \u001b[0mtqdm\u001b[0m\u001b[0;34m(\u001b[0m\u001b[0mloader\u001b[0m\u001b[0;34m,\u001b[0m \u001b[0mtotal\u001b[0m\u001b[0;34m=\u001b[0m\u001b[0mtotal_step\u001b[0m \u001b[0;34m//\u001b[0m \u001b[0margs\u001b[0m\u001b[0;34m.\u001b[0m\u001b[0mbatch_size\u001b[0m\u001b[0;34m,\u001b[0m \u001b[0mdesc\u001b[0m\u001b[0;34m=\u001b[0m\u001b[0;34m'Evaluation'\u001b[0m\u001b[0;34m,\u001b[0m \u001b[0mmininterval\u001b[0m\u001b[0;34m=\u001b[0m\u001b[0;36m1\u001b[0m\u001b[0;34m)\u001b[0m\u001b[0;34m:\u001b[0m\u001b[0;34m\u001b[0m\u001b[0;34m\u001b[0m\u001b[0m\n\u001b[0m\u001b[1;32m     41\u001b[0m         \u001b[0mreset_hidden_states\u001b[0m\u001b[0;34m(\u001b[0m\u001b[0mmodel\u001b[0m\u001b[0;34m,\u001b[0m \u001b[0mmask\u001b[0m\u001b[0;34m)\u001b[0m\u001b[0;34m\u001b[0m\u001b[0;34m\u001b[0m\u001b[0m\n\u001b[1;32m     42\u001b[0m         \u001b[0minput_ohe\u001b[0m \u001b[0;34m=\u001b[0m \u001b[0mto_categorical\u001b[0m\u001b[0;34m(\u001b[0m\u001b[0minputs\u001b[0m\u001b[0;34m,\u001b[0m \u001b[0mnum_classes\u001b[0m\u001b[0;34m=\u001b[0m\u001b[0margs\u001b[0m\u001b[0;34m.\u001b[0m\u001b[0mnum_items\u001b[0m\u001b[0;34m)\u001b[0m\u001b[0;34m\u001b[0m\u001b[0;34m\u001b[0m\u001b[0m\n",
      "\u001b[0;32m~/anaconda3/envs/aiffel/lib/python3.7/site-packages/tqdm/std.py\u001b[0m in \u001b[0;36m__iter__\u001b[0;34m(self)\u001b[0m\n\u001b[1;32m   1165\u001b[0m \u001b[0;34m\u001b[0m\u001b[0m\n\u001b[1;32m   1166\u001b[0m         \u001b[0;32mtry\u001b[0m\u001b[0;34m:\u001b[0m\u001b[0;34m\u001b[0m\u001b[0;34m\u001b[0m\u001b[0m\n\u001b[0;32m-> 1167\u001b[0;31m             \u001b[0;32mfor\u001b[0m \u001b[0mobj\u001b[0m \u001b[0;32min\u001b[0m \u001b[0miterable\u001b[0m\u001b[0;34m:\u001b[0m\u001b[0;34m\u001b[0m\u001b[0;34m\u001b[0m\u001b[0m\n\u001b[0m\u001b[1;32m   1168\u001b[0m                 \u001b[0;32myield\u001b[0m \u001b[0mobj\u001b[0m\u001b[0;34m\u001b[0m\u001b[0;34m\u001b[0m\u001b[0m\n\u001b[1;32m   1169\u001b[0m                 \u001b[0;31m# Update and possibly print the progressbar.\u001b[0m\u001b[0;34m\u001b[0m\u001b[0;34m\u001b[0m\u001b[0;34m\u001b[0m\u001b[0m\n",
      "\u001b[0;32m<ipython-input-79-116ff76e654d>\u001b[0m in \u001b[0;36m__iter__\u001b[0;34m(self)\u001b[0m\n\u001b[1;32m     14\u001b[0m         \"\"\"\n\u001b[1;32m     15\u001b[0m \u001b[0;34m\u001b[0m\u001b[0m\n\u001b[0;32m---> 16\u001b[0;31m         \u001b[0mstart\u001b[0m\u001b[0;34m,\u001b[0m \u001b[0mend\u001b[0m\u001b[0;34m,\u001b[0m \u001b[0mmask\u001b[0m\u001b[0;34m,\u001b[0m \u001b[0mlast_session\u001b[0m\u001b[0;34m,\u001b[0m \u001b[0mfinished\u001b[0m \u001b[0;34m=\u001b[0m \u001b[0mself\u001b[0m\u001b[0;34m.\u001b[0m\u001b[0minitialize\u001b[0m\u001b[0;34m(\u001b[0m\u001b[0;34m)\u001b[0m  \u001b[0;31m# initialize 메소드에서 확인해주세요.\u001b[0m\u001b[0;34m\u001b[0m\u001b[0;34m\u001b[0m\u001b[0m\n\u001b[0m\u001b[1;32m     17\u001b[0m         \"\"\"\n\u001b[1;32m     18\u001b[0m         \u001b[0mstart\u001b[0m \u001b[0;34m:\u001b[0m \u001b[0mIndex\u001b[0m \u001b[0mWhere\u001b[0m \u001b[0mSession\u001b[0m \u001b[0mStart\u001b[0m\u001b[0;34m\u001b[0m\u001b[0;34m\u001b[0m\u001b[0m\n",
      "\u001b[0;32m<ipython-input-79-116ff76e654d>\u001b[0m in \u001b[0;36minitialize\u001b[0;34m(self)\u001b[0m\n\u001b[1;32m     34\u001b[0m         \u001b[0mfirst_iters\u001b[0m \u001b[0;34m=\u001b[0m \u001b[0mnp\u001b[0m\u001b[0;34m.\u001b[0m\u001b[0marange\u001b[0m\u001b[0;34m(\u001b[0m\u001b[0mself\u001b[0m\u001b[0;34m.\u001b[0m\u001b[0mbatch_size\u001b[0m\u001b[0;34m)\u001b[0m    \u001b[0;31m# 첫 배치에 사용할 세션 Index를 가져옵니다.\u001b[0m\u001b[0;34m\u001b[0m\u001b[0;34m\u001b[0m\u001b[0m\n\u001b[1;32m     35\u001b[0m         \u001b[0mlast_session\u001b[0m \u001b[0;34m=\u001b[0m \u001b[0mself\u001b[0m\u001b[0;34m.\u001b[0m\u001b[0mbatch_size\u001b[0m \u001b[0;34m-\u001b[0m \u001b[0;36m1\u001b[0m    \u001b[0;31m# 마지막으로 다루고 있는 세션 Index를 저장해둡니다.\u001b[0m\u001b[0;34m\u001b[0m\u001b[0;34m\u001b[0m\u001b[0m\n\u001b[0;32m---> 36\u001b[0;31m         \u001b[0mstart\u001b[0m \u001b[0;34m=\u001b[0m \u001b[0mself\u001b[0m\u001b[0;34m.\u001b[0m\u001b[0mdataset\u001b[0m\u001b[0;34m.\u001b[0m\u001b[0mclick_offsets\u001b[0m\u001b[0;34m[\u001b[0m\u001b[0mself\u001b[0m\u001b[0;34m.\u001b[0m\u001b[0mdataset\u001b[0m\u001b[0;34m.\u001b[0m\u001b[0msession_idx\u001b[0m\u001b[0;34m[\u001b[0m\u001b[0mfirst_iters\u001b[0m\u001b[0;34m]\u001b[0m\u001b[0;34m]\u001b[0m       \u001b[0;31m# data 상에서 session이 시작된 위치를 가져옵니다.\u001b[0m\u001b[0;34m\u001b[0m\u001b[0;34m\u001b[0m\u001b[0m\n\u001b[0m\u001b[1;32m     37\u001b[0m         \u001b[0mend\u001b[0m \u001b[0;34m=\u001b[0m \u001b[0mself\u001b[0m\u001b[0;34m.\u001b[0m\u001b[0mdataset\u001b[0m\u001b[0;34m.\u001b[0m\u001b[0mclick_offsets\u001b[0m\u001b[0;34m[\u001b[0m\u001b[0mself\u001b[0m\u001b[0;34m.\u001b[0m\u001b[0mdataset\u001b[0m\u001b[0;34m.\u001b[0m\u001b[0msession_idx\u001b[0m\u001b[0;34m[\u001b[0m\u001b[0mfirst_iters\u001b[0m\u001b[0;34m]\u001b[0m \u001b[0;34m+\u001b[0m \u001b[0;36m1\u001b[0m\u001b[0;34m]\u001b[0m  \u001b[0;31m# session이 끝난 위치 바로 다음 위치를 가져옵니다.\u001b[0m\u001b[0;34m\u001b[0m\u001b[0;34m\u001b[0m\u001b[0m\n\u001b[1;32m     38\u001b[0m         \u001b[0mmask\u001b[0m \u001b[0;34m=\u001b[0m \u001b[0mnp\u001b[0m\u001b[0;34m.\u001b[0m\u001b[0marray\u001b[0m\u001b[0;34m(\u001b[0m\u001b[0;34m[\u001b[0m\u001b[0;34m]\u001b[0m\u001b[0;34m)\u001b[0m   \u001b[0;31m# session의 모든 아이템을 다 돌은 경우 mask에 추가해줄 것입니다.\u001b[0m\u001b[0;34m\u001b[0m\u001b[0;34m\u001b[0m\u001b[0m\n",
      "\u001b[0;31mIndexError\u001b[0m: index 85 is out of bounds for axis 0 with size 85"
     ]
    }
   ],
   "source": [
    "train_model(model01, args01)"
   ]
  },
  {
   "cell_type": "markdown",
   "id": "virgin-mirror",
   "metadata": {},
   "source": [
    "batch_size가 커서인지 에러가 뜬다."
   ]
  },
  {
   "cell_type": "markdown",
   "id": "exotic-slave",
   "metadata": {},
   "source": [
    "## model02"
   ]
  },
  {
   "cell_type": "code",
   "execution_count": 98,
   "id": "passing-paste",
   "metadata": {},
   "outputs": [
    {
     "name": "stderr",
     "output_type": "stream",
     "text": [
      "Train:  98%|█████████▊| 8848/8998 [01:08<00:01, 128.41it/s, accuracy=0.0312, train_loss=5.23]\n",
      "Evaluation:  51%|█████     | 225/444 [00:52<00:51,  4.29it/s]\n",
      "Train:   0%|          | 0/8998 [00:00<?, ?it/s, accuracy=0.0469, train_loss=5.14]"
     ]
    },
    {
     "name": "stdout",
     "output_type": "stream",
     "text": [
      "\t - Recall@20 epoch 1: 0.337431\n",
      "\t - MRR@20    epoch 1: 0.095869\n",
      "\n"
     ]
    },
    {
     "name": "stderr",
     "output_type": "stream",
     "text": [
      "Train:  98%|█████████▊| 8848/8998 [01:15<00:01, 117.03it/s, accuracy=0.0469, train_loss=5.13]\n",
      "Evaluation:  51%|█████     | 225/444 [00:52<00:51,  4.26it/s]\n",
      "Train:   0%|          | 0/8998 [00:00<?, ?it/s, accuracy=0.141, train_loss=4.72] "
     ]
    },
    {
     "name": "stdout",
     "output_type": "stream",
     "text": [
      "\t - Recall@20 epoch 2: 0.351111\n",
      "\t - MRR@20    epoch 2: 0.102880\n",
      "\n"
     ]
    },
    {
     "name": "stderr",
     "output_type": "stream",
     "text": [
      "Train:  98%|█████████▊| 8848/8998 [01:14<00:01, 119.18it/s, accuracy=0.0625, train_loss=5]   \n",
      "Evaluation:  51%|█████     | 225/444 [00:52<00:51,  4.25it/s]\n",
      "Train:   0%|          | 0/8998 [00:00<?, ?it/s, accuracy=0.109, train_loss=4.69] "
     ]
    },
    {
     "name": "stdout",
     "output_type": "stream",
     "text": [
      "\t - Recall@20 epoch 3: 0.358889\n",
      "\t - MRR@20    epoch 3: 0.107527\n",
      "\n"
     ]
    },
    {
     "name": "stderr",
     "output_type": "stream",
     "text": [
      "Train:  98%|█████████▊| 8848/8998 [01:05<00:01, 135.40it/s, accuracy=0.0938, train_loss=4.95]\n",
      "Evaluation:  51%|█████     | 225/444 [00:50<00:49,  4.45it/s]\n",
      "Train:   0%|          | 0/8998 [00:00<?, ?it/s, accuracy=0.0625, train_loss=4.66]"
     ]
    },
    {
     "name": "stdout",
     "output_type": "stream",
     "text": [
      "\t - Recall@20 epoch 4: 0.362917\n",
      "\t - MRR@20    epoch 4: 0.109525\n",
      "\n"
     ]
    },
    {
     "name": "stderr",
     "output_type": "stream",
     "text": [
      "Train:  98%|█████████▊| 8848/8998 [01:16<00:01, 115.69it/s, accuracy=0.0625, train_loss=4.99]\n",
      "Evaluation:  51%|█████     | 225/444 [00:52<00:51,  4.27it/s]"
     ]
    },
    {
     "name": "stdout",
     "output_type": "stream",
     "text": [
      "\t - Recall@20 epoch 5: 0.363125\n",
      "\t - MRR@20    epoch 5: 0.110999\n",
      "\n"
     ]
    },
    {
     "name": "stderr",
     "output_type": "stream",
     "text": [
      "\n"
     ]
    }
   ],
   "source": [
    "train_model(model02, args02)"
   ]
  },
  {
   "cell_type": "code",
   "execution_count": 99,
   "id": "moral-caution",
   "metadata": {},
   "outputs": [
    {
     "name": "stderr",
     "output_type": "stream",
     "text": [
      "Evaluation:  83%|████████▎ | 1043/1254 [04:02<00:49,  4.30it/s]"
     ]
    },
    {
     "name": "stdout",
     "output_type": "stream",
     "text": [
      "\t - Recall@20: 0.314822\n",
      "\t - MRR@20: 0.092881\n",
      "\n"
     ]
    },
    {
     "name": "stderr",
     "output_type": "stream",
     "text": [
      "\n"
     ]
    }
   ],
   "source": [
    "test_model(model02, args02, test)"
   ]
  },
  {
   "cell_type": "markdown",
   "id": "visible-palestinian",
   "metadata": {},
   "source": [
    "## model03"
   ]
  },
  {
   "cell_type": "code",
   "execution_count": 100,
   "id": "widespread-version",
   "metadata": {},
   "outputs": [
    {
     "name": "stderr",
     "output_type": "stream",
     "text": [
      "Train:  98%|█████████▊| 8848/8998 [01:13<00:01, 120.66it/s, accuracy=0.0312, train_loss=5.42]\n",
      "Evaluation:  51%|█████     | 225/444 [00:54<00:53,  4.11it/s]\n",
      "Train:   0%|          | 0/8998 [00:00<?, ?it/s, accuracy=0.0938, train_loss=5.01]"
     ]
    },
    {
     "name": "stdout",
     "output_type": "stream",
     "text": [
      "\t - Recall@20 epoch 1: 0.285000\n",
      "\t - MRR@20    epoch 1: 0.074632\n",
      "\n"
     ]
    },
    {
     "name": "stderr",
     "output_type": "stream",
     "text": [
      "Train:  98%|█████████▊| 8848/8998 [01:10<00:01, 125.77it/s, accuracy=0.0938, train_loss=5.1] \n",
      "Evaluation:  51%|█████     | 225/444 [00:52<00:50,  4.32it/s]\n",
      "Train:   0%|          | 0/8998 [00:00<?, ?it/s, accuracy=0.0938, train_loss=4.68]"
     ]
    },
    {
     "name": "stdout",
     "output_type": "stream",
     "text": [
      "\t - Recall@20 epoch 2: 0.335208\n",
      "\t - MRR@20    epoch 2: 0.093602\n",
      "\n"
     ]
    },
    {
     "name": "stderr",
     "output_type": "stream",
     "text": [
      "Train:  98%|█████████▊| 8848/8998 [01:08<00:01, 130.09it/s, accuracy=0.0469, train_loss=5.01]\n",
      "Evaluation:  51%|█████     | 225/444 [00:51<00:50,  4.37it/s]\n",
      "Train:   0%|          | 0/8998 [00:00<?, ?it/s, accuracy=0.0625, train_loss=4.7] "
     ]
    },
    {
     "name": "stdout",
     "output_type": "stream",
     "text": [
      "\t - Recall@20 epoch 3: 0.347431\n",
      "\t - MRR@20    epoch 3: 0.100628\n",
      "\n"
     ]
    },
    {
     "name": "stderr",
     "output_type": "stream",
     "text": [
      "Train:  98%|█████████▊| 8848/8998 [01:08<00:01, 128.29it/s, accuracy=0.0625, train_loss=5.1] \n",
      "Evaluation:  51%|█████     | 225/444 [00:51<00:49,  4.38it/s]\n",
      "Train:   0%|          | 0/8998 [00:00<?, ?it/s, accuracy=0.0625, train_loss=5.03]"
     ]
    },
    {
     "name": "stdout",
     "output_type": "stream",
     "text": [
      "\t - Recall@20 epoch 4: 0.358194\n",
      "\t - MRR@20    epoch 4: 0.104201\n",
      "\n"
     ]
    },
    {
     "name": "stderr",
     "output_type": "stream",
     "text": [
      "Train:  98%|█████████▊| 8848/8998 [01:08<00:01, 129.88it/s, accuracy=0.0469, train_loss=4.91]\n",
      "Evaluation:  51%|█████     | 225/444 [00:50<00:49,  4.41it/s]\n",
      "Train:   0%|          | 0/8998 [00:00<?, ?it/s, accuracy=0.0781, train_loss=4.55]"
     ]
    },
    {
     "name": "stdout",
     "output_type": "stream",
     "text": [
      "\t - Recall@20 epoch 5: 0.359861\n",
      "\t - MRR@20    epoch 5: 0.106467\n",
      "\n"
     ]
    },
    {
     "name": "stderr",
     "output_type": "stream",
     "text": [
      "Train:  98%|█████████▊| 8848/8998 [01:09<00:01, 127.21it/s, accuracy=0.0781, train_loss=4.98]\n",
      "Evaluation:  51%|█████     | 225/444 [00:51<00:49,  4.39it/s]\n",
      "Train:   0%|          | 0/8998 [00:00<?, ?it/s, accuracy=0.0625, train_loss=4.54]"
     ]
    },
    {
     "name": "stdout",
     "output_type": "stream",
     "text": [
      "\t - Recall@20 epoch 6: 0.362083\n",
      "\t - MRR@20    epoch 6: 0.107948\n",
      "\n"
     ]
    },
    {
     "name": "stderr",
     "output_type": "stream",
     "text": [
      "Train:  98%|█████████▊| 8848/8998 [01:07<00:01, 130.56it/s, accuracy=0.0625, train_loss=4.93]\n",
      "Evaluation:  51%|█████     | 225/444 [00:50<00:49,  4.43it/s]\n",
      "Train:   0%|          | 0/8998 [00:00<?, ?it/s, accuracy=0.0156, train_loss=5.08]"
     ]
    },
    {
     "name": "stdout",
     "output_type": "stream",
     "text": [
      "\t - Recall@20 epoch 7: 0.365556\n",
      "\t - MRR@20    epoch 7: 0.108452\n",
      "\n"
     ]
    },
    {
     "name": "stderr",
     "output_type": "stream",
     "text": [
      "Train:  98%|█████████▊| 8848/8998 [01:07<00:01, 130.48it/s, accuracy=0.0938, train_loss=4.93]\n",
      "Evaluation:  51%|█████     | 225/444 [00:50<00:49,  4.45it/s]\n",
      "Train:   0%|          | 0/8998 [00:00<?, ?it/s, accuracy=0.0781, train_loss=4.75]"
     ]
    },
    {
     "name": "stdout",
     "output_type": "stream",
     "text": [
      "\t - Recall@20 epoch 8: 0.366944\n",
      "\t - MRR@20    epoch 8: 0.108983\n",
      "\n"
     ]
    },
    {
     "name": "stderr",
     "output_type": "stream",
     "text": [
      "Train:  98%|█████████▊| 8848/8998 [01:08<00:01, 128.83it/s, accuracy=0.0469, train_loss=4.88]\n",
      "Evaluation:  51%|█████     | 225/444 [00:50<00:49,  4.45it/s]\n",
      "Train:   0%|          | 0/8998 [00:00<?, ?it/s, accuracy=0.141, train_loss=4.39] "
     ]
    },
    {
     "name": "stdout",
     "output_type": "stream",
     "text": [
      "\t - Recall@20 epoch 9: 0.367708\n",
      "\t - MRR@20    epoch 9: 0.110184\n",
      "\n"
     ]
    },
    {
     "name": "stderr",
     "output_type": "stream",
     "text": [
      "Train:  98%|█████████▊| 8848/8998 [01:07<00:01, 130.98it/s, accuracy=0.0312, train_loss=4.8] \n",
      "Evaluation:  51%|█████     | 225/444 [00:52<00:50,  4.32it/s]"
     ]
    },
    {
     "name": "stdout",
     "output_type": "stream",
     "text": [
      "\t - Recall@20 epoch 10: 0.367569\n",
      "\t - MRR@20    epoch 10: 0.111027\n",
      "\n"
     ]
    },
    {
     "name": "stderr",
     "output_type": "stream",
     "text": [
      "\n"
     ]
    }
   ],
   "source": [
    "train_model(model03, args03)"
   ]
  },
  {
   "cell_type": "code",
   "execution_count": 101,
   "id": "basic-kingdom",
   "metadata": {},
   "outputs": [
    {
     "name": "stderr",
     "output_type": "stream",
     "text": [
      "Evaluation:  83%|████████▎ | 1043/1254 [04:03<00:49,  4.29it/s]"
     ]
    },
    {
     "name": "stdout",
     "output_type": "stream",
     "text": [
      "\t - Recall@20: 0.316814\n",
      "\t - MRR@20: 0.094783\n",
      "\n"
     ]
    },
    {
     "name": "stderr",
     "output_type": "stream",
     "text": [
      "\n"
     ]
    }
   ],
   "source": [
    "test_model(model03, args03, test)"
   ]
  },
  {
   "cell_type": "markdown",
   "id": "iraqi-accreditation",
   "metadata": {},
   "source": [
    "## 결과"
   ]
  },
  {
   "cell_type": "markdown",
   "id": "imperial-silly",
   "metadata": {},
   "source": [
    "   model01  -> model02 -> model03  \n",
    "recall:터짐 -> 31.5%   -> 31.7%  \n",
    "MRR :  터짐 -> 0.093   -> 0.095    \n",
    "결과 자체는 많이 아쉽지만, 에폭을 증가시켰더니 미비하지만 결과가 better 해졌다. "
   ]
  },
  {
   "cell_type": "markdown",
   "id": "protecting-second",
   "metadata": {},
   "source": [
    "# 루브릭"
   ]
  },
  {
   "cell_type": "markdown",
   "id": "conventional-reserve",
   "metadata": {},
   "source": [
    "평가문항\t상세기준\n",
    "1. Movielens 데이터셋을 session based recommendation 관점으로 전처리하는 과정이 체계적으로 진행되었다.  \n",
    "   데이터셋의 면밀한 분석을 토대로 세션단위 정의 과정(길이분석, 시간분석)을 합리적으로 수행한 과정이 기술되었다.  \n",
    "   -> ok\n",
    "   \n",
    "   \n",
    "2. RNN 기반의 예측 모델이 정상적으로 구성되어 안정적으로 훈련이 진행되었다.  \n",
    "   적절한 epoch만큼의 학습이 진행되는 과정에서 train loss가 안정적으로 감소하고, validation 단계에서의 Recall, MRR이 개선되는 것이 확인된다.  \n",
    "   -> (미비하지만) ok\n",
    "   \n",
    "   \n",
    "3. 세션정의, 모델구조, 하이퍼파라미터 등을 변경해서 실험하여 Recall, MRR 등의 변화추이를 관찰하였다.  \n",
    "   3가지 이상의 변화를 시도하고 그 실험결과를 체계적으로 분석하였다.  \n",
    "   ->no"
   ]
  },
  {
   "cell_type": "markdown",
   "id": "sporting-kuwait",
   "metadata": {},
   "source": [
    "# 고찰"
   ]
  },
  {
   "cell_type": "markdown",
   "id": "organizational-privilege",
   "metadata": {},
   "source": [
    "이 노드를 처음 봤을 때는 컨디션의 문제였는지, 정신 상태의 문제였는지 이해가 잘 되지않아서 미루게 되었다.  \n",
    "그러다 스터디원들과 함께 보면서 이해하다보니 실험하고 싶은 것들이 생겼는데, 코드 능력 부족으로 실행하지 못해서 아쉬웠다.  \n",
    "하고 싶었던 실험 1.  \n",
    "무비 리뷰에서는 시간이라는 파라미터가 큰 영향을 미치지 않다고 판단해서 시간과 관계없이 트레인과 테스트 데이터를 분류하고 싶었다.  \n",
    "하고 싶었던 실험 2.  \n",
    "데이터 클렌징에서 평점이 3이하인 리뷰는 강한 추천의 의미가 없다고 생각해서 지우고 학습시키고 싶었다.  \n",
    "nlp로 마음이 기우는데, 준비하고 있는 데이콘 일정이 끝나면 다시 한번 도전하고 싶은 노드였다."
   ]
  },
  {
   "cell_type": "markdown",
   "id": "ordinary-heaven",
   "metadata": {},
   "source": []
  }
 ],
 "metadata": {
  "kernelspec": {
   "display_name": "aiffel",
   "language": "python",
   "name": "aiffel"
  },
  "language_info": {
   "codemirror_mode": {
    "name": "ipython",
    "version": 3
   },
   "file_extension": ".py",
   "mimetype": "text/x-python",
   "name": "python",
   "nbconvert_exporter": "python",
   "pygments_lexer": "ipython3",
   "version": "3.7.9"
  },
  "toc": {
   "base_numbering": 1,
   "nav_menu": {},
   "number_sections": true,
   "sideBar": true,
   "skip_h1_title": false,
   "title_cell": "Table of Contents",
   "title_sidebar": "Contents",
   "toc_cell": false,
   "toc_position": {
    "height": "calc(100% - 180px)",
    "left": "10px",
    "top": "150px",
    "width": "364.766px"
   },
   "toc_section_display": true,
   "toc_window_display": true
  },
  "varInspector": {
   "cols": {
    "lenName": 16,
    "lenType": 16,
    "lenVar": 40
   },
   "kernels_config": {
    "python": {
     "delete_cmd_postfix": "",
     "delete_cmd_prefix": "del ",
     "library": "var_list.py",
     "varRefreshCmd": "print(var_dic_list())"
    },
    "r": {
     "delete_cmd_postfix": ") ",
     "delete_cmd_prefix": "rm(",
     "library": "var_list.r",
     "varRefreshCmd": "cat(var_dic_list()) "
    }
   },
   "types_to_exclude": [
    "module",
    "function",
    "builtin_function_or_method",
    "instance",
    "_Feature"
   ],
   "window_display": false
  }
 },
 "nbformat": 4,
 "nbformat_minor": 5
}
