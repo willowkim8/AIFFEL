{
 "cells": [
  {
   "cell_type": "markdown",
   "id": "administrative-luxury",
   "metadata": {},
   "source": [
    "# 12-2. 없던 데이터를 만들어낸다, 생성 모델링"
   ]
  },
  {
   "cell_type": "markdown",
   "id": "neither-occasions",
   "metadata": {},
   "source": [
    "기본적인 딥러닝 모겔과 다른 생성 모델링  \n",
    "말 그래도 데이터를 생성하는 것이 목표  \n",
    "ex) DeepComposer"
   ]
  },
  {
   "cell_type": "markdown",
   "id": "general-insulin",
   "metadata": {},
   "source": [
    "# 12-3. 여러 가지 생성 모델링 기법과 친해지기 (1) Pix2Pix"
   ]
  },
  {
   "cell_type": "markdown",
   "id": "united-shell",
   "metadata": {},
   "source": [
    "image 관련 응용 생성 모델 기법을 살짝 둘러보자  \n",
    "\n",
    "## 그림을 사진으로 변환해 보자: Pix2Pix"
   ]
  },
  {
   "cell_type": "markdown",
   "id": "physical-season",
   "metadata": {},
   "source": [
    "간단한 이미지 -> 실제 사진처럼 바꿔줄 때 사용하는 모델  \n",
    "이미지(Input Image) 와 실제 이미지(Ground Truth) 가 쌍을 이루는 데이터셋으로 학습  \n",
    "![](https://aiffelstaticprd.blob.core.windows.net/media/images/pix2pix.max-800x600.png)"
   ]
  },
  {
   "cell_type": "markdown",
   "id": "standing-lying",
   "metadata": {},
   "source": [
    "**Pix2Pix의 응용 사례?**  \n",
    "\n",
    ">스케치로 그려진 그림을 실사화하기  \n",
    "흑백 사진을 컬러로 변환하기  \n",
    "위성사진을 지도 이미지로 변환하기  \n",
    "낮에 찍힌 사진을 밤 배경의 사진으로 변환하기  \n"
   ]
  },
  {
   "cell_type": "markdown",
   "id": "lesser-discrimination",
   "metadata": {},
   "source": [
    "# 12-4. 여러 가지 생성 모델링 기법과 친해지기 (2) CycleGAN"
   ]
  },
  {
   "cell_type": "markdown",
   "id": "appreciated-dispute",
   "metadata": {},
   "source": [
    "Pix2Pix이후 발전된 모델은 CycleGAN   \n",
    "Pix2Pix와 비슷해 보이지만 한 방향으로만 변환이 가능한 것과\n",
    "양방향으로 이미지 변환이 가능  \n",
    "이미지 <-> 그림, 쌍방으로 가능  \n",
    "그림과 사진의 쌍으로 이루어진 데이터셋이 필요했던 Pix2Pix와 달리, CycleGAN은 쌍이 필요 없슴  \n",
    "쌍을 이루지 않더라도 그냥 얼룩말이 있는 사진과말이 있는 사진 각각의 데이터 셋만 있다면 CycleGAN을 학습시킬 수 있다  \n",
    "![](https://aiffelstaticprd.blob.core.windows.net/media/images/CycleGAN.max-800x600.png)"
   ]
  },
  {
   "cell_type": "markdown",
   "id": "hairy-munich",
   "metadata": {},
   "source": [
    "# 12-5. 여러 가지 생성 모델링 기법과 친해지기 (3) Neural Style Transfer"
   ]
  },
  {
   "cell_type": "markdown",
   "id": "crude-exemption",
   "metadata": {},
   "source": [
    "## 사진에 내가 원하는 스타일을 입혀보자: Neural Style Transfer"
   ]
  },
  {
   "cell_type": "markdown",
   "id": "virgin-quebec",
   "metadata": {},
   "source": [
    "스타일을 변환시킨다  \n",
    "Neural이 붙었으니 딥러닝 기술을 이용했다는 것  \n",
    "base image + style image를 하면 결과를 낸다  \n",
    "즉, Base Image에서는 Content(내용)만, 그리고 Style Image에서는 Style(스타일)만 추출해서 합친 결과물  \n"
   ]
  },
  {
   "cell_type": "markdown",
   "id": "standard-michigan",
   "metadata": {},
   "source": [
    "# 12-6. 패션을 디자인하려면? 먼저 패션을 배워야지! (1)"
   ]
  },
  {
   "cell_type": "markdown",
   "id": "matched-calgary",
   "metadata": {},
   "source": [
    "## Fashion MNIST"
   ]
  },
  {
   "cell_type": "markdown",
   "id": "tamil-wealth",
   "metadata": {},
   "source": [
    "오늘 우리가 사용할 데이터셋은 Fashion MNIST  \n",
    "이미지 크기 = 28x28 grayscale image  \n",
    "데이터셋은 총 몇 장 = training set 60,000장 + test set 10,000장  \n",
    "label? = 10개의 카테고리로 이루어져 있고 0~9의 숫자로 표시되어있다.  \n",
    "  \n",
    "**Fashion MNIST가 만들어진 이유 세 가지는 무엇인가요?**  \n",
    "MNIST가 너무  쉽고  \n",
    "많이 쓰였고   \n",
    "현대 CV 과제를 표현할 수 없다  "
   ]
  },
  {
   "cell_type": "markdown",
   "id": "sound-identifier",
   "metadata": {},
   "source": [
    "# 2-7. 패션을 디자인하려면? 먼저 패션을 배워야지! (2) 코드로 살펴보기"
   ]
  },
  {
   "cell_type": "markdown",
   "id": "clean-elder",
   "metadata": {},
   "source": [
    "## 전처리 "
   ]
  },
  {
   "cell_type": "markdown",
   "id": "logical-concern",
   "metadata": {},
   "source": [
    "```\n",
    "! pip install imageio\n",
    "! pip install Pillow\n",
    "! mkdir -p ~/aiffel/dcgan_newimage/fashion/generated_samples\n",
    "! mkdir -p ~/aiffel/dcgan_newimage/fashion/training_checkpoints\n",
    "! mkdir -p ~/aiffel/dcgan_newimage/fashion/training_history\n",
    "```"
   ]
  },
  {
   "cell_type": "code",
   "execution_count": 1,
   "id": "bored-accent",
   "metadata": {},
   "outputs": [
    {
     "name": "stdout",
     "output_type": "stream",
     "text": [
      "tensorflow 2.2.0\n"
     ]
    }
   ],
   "source": [
    "import os\n",
    "import glob\n",
    "import time\n",
    "\n",
    "import PIL\n",
    "import imageio\n",
    "import numpy as np\n",
    "import tensorflow as tf\n",
    "from tensorflow.keras import layers\n",
    "from IPython import display\n",
    "import matplotlib.pyplot as plt\n",
    "%matplotlib inline\n",
    "\n",
    "print(\"tensorflow\", tf.__version__)"
   ]
  },
  {
   "cell_type": "markdown",
   "id": "passive-fundamentals",
   "metadata": {},
   "source": [
    "데이터셋이 이미 tf.keras에 들어가 있기 때문에 꺼내기만 하면 된다  \n",
    "  \n",
    "근데 이번에는 분류문제가 아니기 때문에 라벨이 필요가 없다  \n",
    "언더바로 라벨 데이터를 무시하겠음"
   ]
  },
  {
   "cell_type": "code",
   "execution_count": 2,
   "id": "silent-cliff",
   "metadata": {},
   "outputs": [],
   "source": [
    "fashion_mnist = tf.keras.datasets.fashion_mnist\n",
    "\n",
    "(train_x, _), (test_x, _) = fashion_mnist.load_data()"
   ]
  },
  {
   "cell_type": "code",
   "execution_count": 3,
   "id": "burning-button",
   "metadata": {},
   "outputs": [
    {
     "name": "stdout",
     "output_type": "stream",
     "text": [
      "max pixel: 255\n",
      "min pixel: 0\n"
     ]
    }
   ],
   "source": [
    "print(\"max pixel:\", train_x.max())\n",
    "print(\"min pixel:\", train_x.min())"
   ]
  },
  {
   "cell_type": "code",
   "execution_count": 4,
   "id": "enhanced-ottawa",
   "metadata": {},
   "outputs": [
    {
     "name": "stdout",
     "output_type": "stream",
     "text": [
      "max pixel: 1.0\n",
      "min pixel: -1.0\n"
     ]
    }
   ],
   "source": [
    "train_x = (train_x - 127.5) / 127.5 # 이미지를 [-1, 1]로 정규화합니다.\n",
    "\n",
    "print(\"max pixel:\", train_x.max())\n",
    "print(\"min pixel:\", train_x.min())"
   ]
  },
  {
   "cell_type": "code",
   "execution_count": 5,
   "id": "crude-governor",
   "metadata": {},
   "outputs": [
    {
     "data": {
      "text/plain": [
       "(60000, 28, 28)"
      ]
     },
     "execution_count": 5,
     "metadata": {},
     "output_type": "execute_result"
    }
   ],
   "source": [
    "train_x.shape"
   ]
  },
  {
   "cell_type": "code",
   "execution_count": 6,
   "id": "ethical-thesis",
   "metadata": {},
   "outputs": [
    {
     "data": {
      "text/plain": [
       "(10000, 28, 28)"
      ]
     },
     "execution_count": 6,
     "metadata": {},
     "output_type": "execute_result"
    }
   ],
   "source": [
    "test_x.shape"
   ]
  },
  {
   "cell_type": "markdown",
   "id": "subtle-yacht",
   "metadata": {},
   "source": [
    "자 여기서 추가할 것이 있는데,  \n",
    "앞서 CNN(합성곱) 계층을 다룰 때 배웠듯, 딥러닝에서 이미지를 다루려면 채널 수에 대한 차원이 필요  \n",
    "Fashion MNIST 데이터는 흑백 이미지이므로, 채널 값은 1  \n",
    "데이터셋의 shape 마지막에 1을 추가해줘야 함  "
   ]
  },
  {
   "cell_type": "code",
   "execution_count": 7,
   "id": "crazy-routine",
   "metadata": {},
   "outputs": [
    {
     "data": {
      "text/plain": [
       "(60000, 28, 28, 1)"
      ]
     },
     "execution_count": 7,
     "metadata": {},
     "output_type": "execute_result"
    }
   ],
   "source": [
    "train_x = train_x.reshape(train_x.shape[0], 28, 28, 1).astype('float32')\n",
    "train_x.shape"
   ]
  },
  {
   "cell_type": "code",
   "execution_count": 8,
   "id": "czech-liabilities",
   "metadata": {},
   "outputs": [
    {
     "data": {
      "image/png": "[encoded data removed]",
      "text/plain": [
       "<Figure size 432x288 with 2 Axes>"
      ]
     },
     "metadata": {
      "needs_background": "light"
     },
     "output_type": "display_data"
    }
   ],
   "source": [
    "# 데이터 확인하기  \n",
    "plt.imshow(train_x[0].reshape(28, 28), cmap='gray')\n",
    "plt.colorbar()\n",
    "plt.show()"
   ]
  },
  {
   "cell_type": "markdown",
   "id": "informed-summer",
   "metadata": {},
   "source": [
    "plt.colorbar() 를 이용해 오른쪽에 각 픽셀의 값과 그에 따른 색도 확인  \n",
    "픽셀에는 우리가 정규화 해준 대로 -1 ~ 1 사이의 값을 가지고, -1이 가장 어두운 검은색, 1이 가장 밝은 흰색을 띤다고 표시됨  \n",
    "열개정도 확인해보기 \n"
   ]
  },
  {
   "cell_type": "code",
   "execution_count": 9,
   "id": "known-riverside",
   "metadata": {},
   "outputs": [
    {
     "data": {
      "image/png": "[encoded data removed]",
      "text/plain": [
       "<Figure size 720x360 with 10 Axes>"
      ]
     },
     "metadata": {
      "needs_background": "light"
     },
     "output_type": "display_data"
    }
   ],
   "source": [
    "plt.figure(figsize=(10, 5))\n",
    "\n",
    "for i in range(10):\n",
    "    plt.subplot(2, 5, i+1)\n",
    "    plt.imshow(train_x[i].reshape(28, 28), cmap='gray')\n",
    "    plt.title(f'index: {i}')\n",
    "    plt.axis('off')\n",
    "plt.show()"
   ]
  },
  {
   "cell_type": "markdown",
   "id": "thorough-indication",
   "metadata": {},
   "source": [
    "plt.figure(figsize=(10, 5))는 이미지의 전체 프레임의 크기를 결정  \n",
    "여러 개의 이미지를 한 번에 띄우고 싶을 때에는 plt.subplot(row, col, index)  \n",
    "plt.title(f'index: {i}') 함수를 이용해서 이미지에 제목으로 라벨값 **f 추가 공부 필요**  \n",
    "plt.axis('off') 함수로 불필요한 축을 지움  \n",
    "  \n",
    "**for 문을 활용해서 이미지 25개를 5x5 의 배열로 띄워보세요. 단, 모든 이미지는 train_images에서 랜덤으로 추출해 보세요. (힌트 : numpy에서 랜덤으로 정수를 추출해주는 함수를 찾아보세요!)**"
   ]
  },
  {
   "cell_type": "code",
   "execution_count": 10,
   "id": "disturbed-placement",
   "metadata": {},
   "outputs": [
    {
     "data": {
      "image/png": "[encoded data removed]",
      "text/plain": [
       "<Figure size 720x864 with 25 Axes>"
      ]
     },
     "metadata": {
      "needs_background": "light"
     },
     "output_type": "display_data"
    }
   ],
   "source": [
    "plt.figure(figsize=(10, 12))\n",
    "\n",
    "for i in range(25):\n",
    "    # [[my CODE]]\n",
    "    rand = np.random.randint(60000)\n",
    "    plt.subplot(5, 5, i+1)\n",
    "    plt.imshow(train_x[rand].reshape(28, 28), cmap='gray')\n",
    "    plt.title(f'index: {rand}')\n",
    "    plt.axis('off')\n",
    "\n",
    "plt.show()"
   ]
  },
  {
   "cell_type": "markdown",
   "id": "statewide-jumping",
   "metadata": {},
   "source": [
    "## dataset 이용"
   ]
  },
  {
   "cell_type": "markdown",
   "id": "derived-laugh",
   "metadata": {},
   "source": [
    "정리된 데이터를 곧 모델에 넣어서 학습시켜야 하니, 편하게 사용할 수 있도록 텐서플로우의 Dataset을 이용해 준비해 놓도록 하겠습니다. 이를 이용하면 우리가 매번 모델에게 직접 섞어서 넣어주지 않아도 됩니다. 어떻게 사용하는지는 곧 보도록 하죠."
   ]
  },
  {
   "cell_type": "code",
   "execution_count": 11,
   "id": "narrative-lancaster",
   "metadata": {},
   "outputs": [],
   "source": [
    "BUFFER_SIZE = 60000\n",
    "BATCH_SIZE = 256"
   ]
  },
  {
   "cell_type": "markdown",
   "id": "romantic-pearl",
   "metadata": {},
   "source": [
    "BUFFER_SIZE은 전체 데이터를 섞기 위해 60,000으로 설정  \n",
    "BATCH_SIZE는 모델이 한 번에 학습할 데이터의 양  \n",
    "적절한 사이즈로 잘라서 학습을 진행 = 미니배치 학습  \n",
    "  \n",
    "아래 나올  \n",
    "shuffle() 함수는 데이터셋을 잘 섞어서 모델에 넣어줄 것  "
   ]
  },
  {
   "cell_type": "code",
   "execution_count": 12,
   "id": "weighted-berkeley",
   "metadata": {},
   "outputs": [],
   "source": [
    "train_dataset = tf.data.Dataset.from_tensor_slices(train_x).shuffle(BUFFER_SIZE).batch(BATCH_SIZE)"
   ]
  },
  {
   "cell_type": "markdown",
   "id": "loved-bread",
   "metadata": {},
   "source": [
    "tf.data.Dataset 모듈의 from_tensor_slices() 함수를 사용하면 리스트, 넘파이, 또는 텐서플로우의 텐서 자료형에서 데이터셋을 만들 수 있다  \n",
    "train_x라는 넘파이 배열(numpy ndarray)형 자료를 섞고, 이를 배치 사이즈에 따라 나누도록 합니다.  \n",
    "데이터가 잘 섞이게 하기 위해서는 버퍼 사이즈를 총 데이터 사이즈와 같거나 크게 설정하는 것이 좋습니다."
   ]
  },
  {
   "cell_type": "markdown",
   "id": "thick-planner",
   "metadata": {},
   "source": [
    "# 12-8. 그림을 만들어내는 화가 생성자, 그리고 평가하는 비평가 판별자 (1) GAN 이해하기"
   ]
  },
  {
   "cell_type": "markdown",
   "id": "confirmed-november",
   "metadata": {},
   "source": [
    "## GAN"
   ]
  },
  {
   "cell_type": "markdown",
   "id": "global-scheme",
   "metadata": {},
   "source": [
    "GAN에는 두 가지 네트워크가 있음  \n",
    "생성자 & 판별자  \n",
    "이 두 네트워크 성장요인은 서로 경쟁하듯 이루어진 모델의 구조 때문이고,  \n",
    "덕분에 적대적인(Adversarial)이 들어가게 된다.\n",
    "![](https://aiffelstaticprd.blob.core.windows.net/media/images/GAN.max-800x600.png)"
   ]
  },
  {
   "cell_type": "markdown",
   "id": "agricultural-intellectual",
   "metadata": {},
   "source": [
    "**GAN 중 특히 합성곱 층(Convolutional Layer)으로 이루어진 딥러닝 모델을 DCGAN (Deep Convolutional GAN) 이라고 합니다. 본 글에서 설명한 DCGAN은 무엇을 입력받아 무엇을 출력하나요?**  \n",
    ">균등 분포 에서 추출한 100 개의 난수를 입력   \n",
    "64x64x3 이미지 출력  \n",
    "  \n",
    "**글에서는 GAN을 포함해 총 세 가지의 생성 모델링 기법을 소개하였습니다. 나머지 두 가지는 무엇인가요?**  \n",
    "> **VAE** (Variational Autoencoder)를 사용 하면 데이터의 로그 가능성에 대한 하한 을 최대화하는 확률 적 그래픽 모델 프레임 워크에서이 문제를 공식화 할 수 있습니다.    \n",
    " **PixelRNN** 과 같은 자기 회귀 모델은 대신 이전 픽셀 (왼쪽 및 상단)이 제공된 모든 개별 픽셀의 조건부 분포를 모델링하는 네트워크를 훈련 시킵니다.\n"
   ]
  },
  {
   "cell_type": "markdown",
   "id": "aggressive-championship",
   "metadata": {},
   "source": [
    "# 12-9. 그림을 만들어내는 화가 생성자, 그리고 평가하는 비평가 판별자 (2) 생성자 구현하기"
   ]
  },
  {
   "cell_type": "markdown",
   "id": "vertical-relevance",
   "metadata": {},
   "source": [
    "## DCGAN(Deep Convolutional GAN)"
   ]
  },
  {
   "cell_type": "markdown",
   "id": "developing-robert",
   "metadata": {},
   "source": [
    "GAN에서 더 발전 시킨 모델로 훨씬 그럴듯한 고화질 이미지 생성을 이루어낸다  \n",
    "  \n",
    "모델 구현은 Keras Sequential API를 활용해서 한다  "
   ]
  },
  {
   "cell_type": "code",
   "execution_count": 13,
   "id": "specified-identifier",
   "metadata": {},
   "outputs": [],
   "source": [
    "def make_generator_model():\n",
    "\n",
    "    # Start\n",
    "    model = tf.keras.Sequential()\n",
    "\n",
    "    # First: Dense layer\n",
    "    model.add(layers.Dense(7*7*256, use_bias=False, input_shape=(100,)))\n",
    "    model.add(layers.BatchNormalization())\n",
    "    model.add(layers.LeakyReLU())\n",
    "\n",
    "    # Second: Reshape layer\n",
    "    model.add(layers.Reshape((7, 7, 256)))\n",
    "\n",
    "    # Third: Conv2DTranspose layer\n",
    "    model.add(layers.Conv2DTranspose(128, kernel_size=(5, 5), strides=(1, 1), padding='same', use_bias=False))\n",
    "    model.add(layers.BatchNormalization())\n",
    "    model.add(layers.LeakyReLU())\n",
    "\n",
    "    # Fourth: Conv2DTranspose layer\n",
    "    model.add(layers.Conv2DTranspose(64, kernel_size=(5, 5), strides=(2, 2), padding='same', use_bias=False))\n",
    "    model.add(layers.BatchNormalization())\n",
    "    model.add(layers.LeakyReLU())\n",
    "\n",
    "    # Fifth: Conv2DTranspose layer\n",
    "    model.add(layers.Conv2DTranspose(1, kernel_size=(5, 5), strides=(2, 2), padding='same', use_bias=False, \\\n",
    "                                     activation='tanh'))\n",
    "\n",
    "    return model"
   ]
  },
  {
   "cell_type": "markdown",
   "id": "skilled-rates",
   "metadata": {},
   "source": [
    "make_generator_model이라는 함수를 만들어서 언제든 생성자를 생성할 수 있도록  \n",
    "  \n",
    "**함수 내부**  \n",
    "* tf.keras.Sequential()로 모델을 시작한 후 레이어를 차곡차곡 쌓아줌    \n",
    "* Conv2DTranspose 층은 일반적인 Conv2D와 반대로 이미지 사이즈를 넓혀주는 층  \n",
    "* 세 번의 Conv2DTranspose 층을 이용해 (7, 7, 256) → (14, 14, 64) → (28, 28, 1) 순으로 이미지를 키워나간다  \n",
    "* 여기서 최종 사이즈인 (28, 28, 1)은 우리가 준비했던 데이터셋과 형상이 동일  \n",
    "* BatchNormalization 레이어는 신경망의 가중치가 폭발하지 않도록 가중치 값을 정규화  \n",
    "* 중간층들의 활성화 함수는 모두 LeakyReLU를 사용  \n",
    "* 마지막 층에는 활성화 함수로 tanh를 사용하는데, 이는 우리가 -1 ~ 1 이내의 값으로 픽셀값을 정규화시켰던 데이터셋과 동일하게 하기 위함"
   ]
  },
  {
   "cell_type": "markdown",
   "id": "opposed-knight",
   "metadata": {},
   "source": [
    "**생성자의 입력 벡터는 어떤 형태입니까?**\n",
    ">모델은 입력값으로 (batch_size, 100) 형상의 노이즈 벡터를 받습니다.  \n",
    "  \n",
    "\n",
    "\n",
    "**처음 입력된 벡터는 어떤 레이어를 지나며, 첫 레이어를 지난 후의 shape는 어떤 형태입니까?**  \n",
    ">(batch_size, 100) 벡터 -> 7 x 7 x 256 = 12544개의 노드를 가진 첫 번째 Dense 레이어 -> (batch_size, 12544) 형상의 벡터  \n",
    "  \n",
    "  \n",
    "\n",
    "**첫 번째 레이어를 지난 후 벡터는 어떤 층을 지나게 됩니까? 이 레이어는 왜 필요합니까?**  \n",
    ">Reshape layer  \n",
    "차원 벡터를 (7, 7, 256) 형상의 3차원 벡터로 변환하기 위해서  \n",
    "  \n"
   ]
  },
  {
   "cell_type": "markdown",
   "id": "exclusive-guidance",
   "metadata": {},
   "source": [
    "generator라는 변수로 생성하고, 모델 세부 내용인 summary를 출력"
   ]
  },
  {
   "cell_type": "code",
   "execution_count": 14,
   "id": "golden-satisfaction",
   "metadata": {},
   "outputs": [
    {
     "name": "stdout",
     "output_type": "stream",
     "text": [
      "Model: \"sequential\"\n",
      "_________________________________________________________________\n",
      "Layer (type)                 Output Shape              Param #   \n",
      "=================================================================\n",
      "dense (Dense)                (None, 12544)             1254400   \n",
      "_________________________________________________________________\n",
      "batch_normalization (BatchNo (None, 12544)             50176     \n",
      "_________________________________________________________________\n",
      "leaky_re_lu (LeakyReLU)      (None, 12544)             0         \n",
      "_________________________________________________________________\n",
      "reshape (Reshape)            (None, 7, 7, 256)         0         \n",
      "_________________________________________________________________\n",
      "conv2d_transpose (Conv2DTran (None, 7, 7, 128)         819200    \n",
      "_________________________________________________________________\n",
      "batch_normalization_1 (Batch (None, 7, 7, 128)         512       \n",
      "_________________________________________________________________\n",
      "leaky_re_lu_1 (LeakyReLU)    (None, 7, 7, 128)         0         \n",
      "_________________________________________________________________\n",
      "conv2d_transpose_1 (Conv2DTr (None, 14, 14, 64)        204800    \n",
      "_________________________________________________________________\n",
      "batch_normalization_2 (Batch (None, 14, 14, 64)        256       \n",
      "_________________________________________________________________\n",
      "leaky_re_lu_2 (LeakyReLU)    (None, 14, 14, 64)        0         \n",
      "_________________________________________________________________\n",
      "conv2d_transpose_2 (Conv2DTr (None, 28, 28, 1)         1600      \n",
      "=================================================================\n",
      "Total params: 2,330,944\n",
      "Trainable params: 2,305,472\n",
      "Non-trainable params: 25,472\n",
      "_________________________________________________________________\n"
     ]
    }
   ],
   "source": [
    "generator = make_generator_model()\n",
    "\n",
    "generator.summary()"
   ]
  },
  {
   "cell_type": "markdown",
   "id": "aging-terrain",
   "metadata": {},
   "source": [
    "자 그럼, shape=(1, 100)의 형상을 가지는 랜덤 노이즈 벡터를 생성해서 결과물을 한번 만들어 보도록 하자  \n",
    "그런데 아직 모델이 학습되지 않았으니, 아마 결과물도 큰 의미가 있지는 않을 것입니다.  \n",
    "tf.random.normal을 이용하면 가우시안 분포에서 뽑아낸 랜덤 벡터로 이루어진 노이즈 벡터를 만들 수 있습니다.  "
   ]
  },
  {
   "cell_type": "code",
   "execution_count": 15,
   "id": "senior-sacrifice",
   "metadata": {},
   "outputs": [
    {
     "data": {
      "text/plain": [
       "<tf.Tensor: shape=(1, 100), dtype=float32, numpy=\n",
       "array([[-1.3450478 ,  0.37213138, -0.69001913, -0.50160855,  0.42884701,\n",
       "        -0.20874096,  0.59280777, -1.1610926 ,  0.20868519,  1.6941682 ,\n",
       "         0.01588425, -0.71565783, -0.86772925,  0.31107372, -0.40588453,\n",
       "        -0.50936943, -1.0665622 ,  0.26854426,  0.9143027 , -1.0305831 ,\n",
       "        -1.9380825 , -1.7306722 ,  0.1757376 ,  0.4446266 ,  0.4835339 ,\n",
       "        -0.22284374, -1.3623956 , -0.35976052,  0.33685538,  1.2213093 ,\n",
       "        -0.664024  ,  0.74545914,  0.6131269 , -1.4186113 ,  0.73163915,\n",
       "         0.32794926,  0.02207472,  0.6758093 ,  0.27760145, -0.5601729 ,\n",
       "         2.8499942 , -0.37053484, -0.23273166, -0.784075  ,  0.12146686,\n",
       "        -1.3147465 ,  0.46434078,  0.53491366,  0.12584798,  0.04311616,\n",
       "         0.09142485,  1.0884669 ,  0.8943562 , -2.884203  ,  0.11215702,\n",
       "        -0.6918397 ,  1.1512269 ,  2.2391002 , -0.8669941 , -2.095368  ,\n",
       "        -1.0214189 , -0.61339676,  1.5991907 , -1.2825524 ,  0.0922675 ,\n",
       "        -0.42188296,  1.6460136 ,  0.5731412 ,  0.6340755 ,  1.1470166 ,\n",
       "        -1.7025001 ,  0.72029763, -0.5718272 , -0.3232568 ,  1.814232  ,\n",
       "        -0.7265558 ,  0.37442786,  0.42179716,  1.6359477 , -0.33338302,\n",
       "        -1.1664944 , -0.3847858 , -0.34886786,  1.071568  , -1.2362876 ,\n",
       "        -0.49322802,  0.05635262, -0.3060968 ,  0.9799966 ,  1.0958197 ,\n",
       "         0.01567651,  0.68724436,  1.8621055 ,  1.3344364 , -0.92961836,\n",
       "         0.10806432,  1.9496737 ,  0.89413464,  0.01057746,  0.5983713 ]],\n",
       "      dtype=float32)>"
      ]
     },
     "execution_count": 15,
     "metadata": {},
     "output_type": "execute_result"
    }
   ],
   "source": [
    "noise = tf.random.normal([1, 100])\n",
    "noise"
   ]
  },
  {
   "cell_type": "markdown",
   "id": "alternative-chart",
   "metadata": {},
   "source": [
    "지금은 학습하는 중이 아니니 training=False를 설정해 주어야 함  \n",
    "Batch Normalization 레이어는 훈련 시기와 추론(infernce) 시기의 행동이 다르기 때문에 training=False을 주어야 올바른 결과를 얻을 수 있습니다.  "
   ]
  },
  {
   "cell_type": "code",
   "execution_count": 16,
   "id": "reasonable-installation",
   "metadata": {},
   "outputs": [
    {
     "data": {
      "text/plain": [
       "TensorShape([1, 28, 28, 1])"
      ]
     },
     "execution_count": 16,
     "metadata": {},
     "output_type": "execute_result"
    }
   ],
   "source": [
    "generated_image = generator(noise, training=False)\n",
    "generated_image.shape"
   ]
  },
  {
   "cell_type": "markdown",
   "id": "posted-teach",
   "metadata": {},
   "source": [
    "첫 번째 1은 1개(batch_size=1)라는 뜻을, 그 뒤로는 (28, 28, 1) 사이즈 이미지가 생성되었다는 뜻  \n",
    "이를 시각화 해보자  \n",
    "matplotlib 라이브러리는 2차원 이미지만 보여줄 수 있으므로 0번째와 3번째 축의 인덱스를 0으로 설정해서 (28, 28) shape의 이미지를 꺼낼 수 있도록 하자  "
   ]
  },
  {
   "cell_type": "code",
   "execution_count": 17,
   "id": "supported-spine",
   "metadata": {},
   "outputs": [
    {
     "data": {
      "image/png": "[encoded data removed]",
      "text/plain": [
       "<Figure size 432x288 with 2 Axes>"
      ]
     },
     "metadata": {
      "needs_background": "light"
     },
     "output_type": "display_data"
    }
   ],
   "source": [
    "plt.imshow(generated_image[0, :, :, 0], cmap='gray')\n",
    "plt.colorbar()\n",
    "plt.show()"
   ]
  },
  {
   "cell_type": "markdown",
   "id": "split-russia",
   "metadata": {},
   "source": [
    "역시 -1과 1 사이의 값에서 적당히 잘 생성된 것을 확인할 수 있음  \n",
    "트레이닝 전이어서 아무런 의미가 없는 노이즈 같은 노이즈 같은 이미지 생성  \n"
   ]
  },
  {
   "cell_type": "markdown",
   "id": "compound-recruitment",
   "metadata": {},
   "source": [
    "# 12-10. 그림을 만들어내는 화가 생성자, 그리고 평가하는 비평가 판별자 (3) 판별자 구현하기"
   ]
  },
  {
   "cell_type": "markdown",
   "id": "statutory-emphasis",
   "metadata": {},
   "source": [
    "판별자는 '진짜라고 판단하는 정도'값을 출력해야 합니다.  \n",
    "입력은 (28, 28, 1) 크기의 이미지가, 출력은 단 하나의 숫자(진짜라고 판단하는 정도)  \n"
   ]
  },
  {
   "cell_type": "code",
   "execution_count": 18,
   "id": "frank-possibility",
   "metadata": {},
   "outputs": [],
   "source": [
    "def make_discriminator_model():\n",
    "\n",
    "    # Start\n",
    "    model = tf.keras.Sequential()\n",
    "\n",
    "    # First: Conv2D Layer\n",
    "    model.add(layers.Conv2D(64, (5, 5), strides=(2, 2), padding='same', input_shape=[28, 28, 1]))\n",
    "    model.add(layers.LeakyReLU())\n",
    "    model.add(layers.Dropout(0.3))\n",
    "\n",
    "    # Second: Conv2D Layer\n",
    "    model.add(layers.Conv2D(128, (5, 5), strides=(2, 2), padding='same'))\n",
    "    model.add(layers.LeakyReLU())\n",
    "    model.add(layers.Dropout(0.3))\n",
    "\n",
    "    # Third: Flatten Layer\n",
    "    model.add(layers.Flatten())\n",
    "\n",
    "    # Fourth: Dense Layer\n",
    "    model.add(layers.Dense(1))\n",
    "\n",
    "    return model"
   ]
  },
  {
   "cell_type": "markdown",
   "id": "stuck-hampshire",
   "metadata": {},
   "source": [
    "판별자도 함수로 구현함  \n",
    "\n",
    "**함수 내부**  \n",
    "* 판별자는 Conv2D 층으로 이미지의 크기를 점점 줄여나갑니다  \n",
    "  첫 번째 Conv2D 층에서 입력된 \\[28, 28, 1\\] 사이즈의 이미지는 다음 층을 거치며 (28, 28, 1) → (14, 14, 64) → (7, 7, 128)까지  \n",
    "* Flatten 층을 사용해 3차원 이미지를 1차원으로 쭉 펴서 7x7x128=6272, 즉 (1, 6272) 형상의 벡터로 변환  \n",
    "* 마지막 Dense Layer를 거쳐 단 하나의 값을 출력"
   ]
  },
  {
   "cell_type": "code",
   "execution_count": 19,
   "id": "pressed-shift",
   "metadata": {},
   "outputs": [
    {
     "name": "stdout",
     "output_type": "stream",
     "text": [
      "Model: \"sequential_1\"\n",
      "_________________________________________________________________\n",
      "Layer (type)                 Output Shape              Param #   \n",
      "=================================================================\n",
      "conv2d (Conv2D)              (None, 14, 14, 64)        1664      \n",
      "_________________________________________________________________\n",
      "leaky_re_lu_3 (LeakyReLU)    (None, 14, 14, 64)        0         \n",
      "_________________________________________________________________\n",
      "dropout (Dropout)            (None, 14, 14, 64)        0         \n",
      "_________________________________________________________________\n",
      "conv2d_1 (Conv2D)            (None, 7, 7, 128)         204928    \n",
      "_________________________________________________________________\n",
      "leaky_re_lu_4 (LeakyReLU)    (None, 7, 7, 128)         0         \n",
      "_________________________________________________________________\n",
      "dropout_1 (Dropout)          (None, 7, 7, 128)         0         \n",
      "_________________________________________________________________\n",
      "flatten (Flatten)            (None, 6272)              0         \n",
      "_________________________________________________________________\n",
      "dense_1 (Dense)              (None, 1)                 6273      \n",
      "=================================================================\n",
      "Total params: 212,865\n",
      "Trainable params: 212,865\n",
      "Non-trainable params: 0\n",
      "_________________________________________________________________\n"
     ]
    }
   ],
   "source": [
    "discriminator = make_discriminator_model()\n",
    "\n",
    "discriminator.summary()"
   ]
  },
  {
   "cell_type": "code",
   "execution_count": 20,
   "id": "global-recognition",
   "metadata": {},
   "outputs": [
    {
     "data": {
      "text/plain": [
       "<tf.Tensor: shape=(1, 1), dtype=float32, numpy=array([[0.00065556]], dtype=float32)>"
      ]
     },
     "execution_count": 20,
     "metadata": {},
     "output_type": "execute_result"
    }
   ],
   "source": [
    "decision = discriminator(generated_image, training=False)\n",
    "decision"
   ]
  },
  {
   "cell_type": "markdown",
   "id": "intimate-assistant",
   "metadata": {},
   "source": [
    "텐서플로우의 텐서 형태로 출력 됨"
   ]
  },
  {
   "cell_type": "markdown",
   "id": "theoretical-humanitarian",
   "metadata": {},
   "source": [
    "# 12-11. 생성 모델이 똑똑해지기 위한 기나긴 여정 (1) 손실함수와 최적화 함수"
   ]
  },
  {
   "cell_type": "markdown",
   "id": "smaller-combination",
   "metadata": {},
   "source": [
    "자 이제 학습 시켜볼까  \n",
    "딥러닝 모델이 학습하기 위해서 꼭 필요한 두 가지는, 바로 손실함수(loss function)와 최적화 함수(optimizer)죠.  \n",
    "\n",
    "## 손실함수(loss function)"
   ]
  },
  {
   "cell_type": "markdown",
   "id": "activated-variety",
   "metadata": {},
   "source": [
    "GAN은 손실함수로 교차 엔트로피(Cross Entropy)를 사용  \n",
    "교차 엔트로피는 앞서 분류 모델을 설계할 때 많이 사용했던 손실함수  \n",
    "-> 점점 가까워지기 원하는 두 값이 얼마나 큰 차이가 나는지를 정량적으로 계산할 때 많이 쓰인다  \n",
    "특히 판별자는 한 개의 이미지가 가짜인지 진짜인지 나타내는 2개 클래스 간 분류 문제를 풀어야 하므로, 이진 교차 엔트로피(binary cross entropy)를 사용할 것  \n",
    "  \n",
    "**다시 한번 정리**  \n",
    "생성자는 자기가 생성한 Fake Image를 판별자가 진짜라고 판단하도록 속이고 싶어 합니다. 판별자는 생성자가 생성한 가짜 이미지를 가짜로, 진짜 이미지를 진짜로 잘 판별하는 것이 목표  \n",
    "***\n",
    "그렇다면 Real Image에 대한 라벨을 1, Fake Image에 대한 라벨을 0으로 두었을 때, 각각의 손실함수를 이용해 정량적으로 달성해야 하는 목표하는 결과는 다음과 같겠죠.  \n",
    "\n",
    ">생성자 : 판별자가 Fake Image에 대해 판별한 값, 즉 D(fake_image) 값이 1에 가까워지는 것  \n",
    "판별자 : Real Image 판별값, 즉 D(real_image)는 1에, Fake Image 판별값, 즉 D(fake_image)는 0에 가까워지는 것  \n",
    "=> 결국 생성자든 구분자든, 결국 손실함수에 들어가는 값은 모두 판별자의 판별값\n",
    "\n",
    "***\n",
    "교차 엔트로피 함수는 tf.keras.losses 라이브러리 안에 있음   \n",
    "다만,  판별자 모델의 맨 마지막 Layer에는 값을 정규화시키는 sigmoid나 tanh 함수와 같은 활성화 함수가 없었습니다. 즉, 구분자가 출력하는 값은 범위가 정해지지 않아 모든 실숫값을 가질 수 있다  \n",
    "  \n",
    "그런데 tf.keras.losses의 BinaryCrossEntropy 클래스는 기본적으로 본인에게 들어오는 인풋값이 0-1 사이에 분포하는 확률값이라고 가정합니다 .  \n",
    "(Using from_logits=True may be more numerically stable.=안정적이다)     \n",
    "따라서 from_logits를 True로 설정해 주어야 BinaryCrossEntropy에 입력된 값을 함수 내부에서 sigmoid 함수를 사용해 0~1 사이의 값으로 정규화한 후 알맞게 계산할 수 있습니다."
   ]
  },
  {
   "cell_type": "code",
   "execution_count": 21,
   "id": "comprehensive-entertainment",
   "metadata": {},
   "outputs": [],
   "source": [
    "cross_entropy = tf.keras.losses.BinaryCrossentropy(from_logits=True)"
   ]
  },
  {
   "cell_type": "markdown",
   "id": "champion-remainder",
   "metadata": {},
   "source": [
    "cross_entropy를 활용해 계산할 loss들은 fake_output와 real_output, 두 가지를 활용합니다.  \n",
    ">fake_output : 생성자가 생성한 Fake Image를 구분자에 입력시켜서 판별된 값, 즉 D(fake_image)  \n",
    "real_output : 기존에 있던 Real Image를 구분자에 입력시켜서 판별된 값, 즉 D(real_image)  \n",
    "\n",
    "그럼 이제, fake_output과 real_output을 각각 1 또는 0에 비교를 해야 하는데, 어떻게 비교할 수 있을까요?  \n",
    "=> tf.ones_like()와 tf.zeros_like() 함수를 활용하면 된다  \n",
    "-> 이 함수들은 특정 벡터와 동일한 크기이면서 값은 1 또는 0으로 가득 채워진 벡터를 만들고 싶을 때 사용  \n",
    "실험을 해보자"
   ]
  },
  {
   "cell_type": "code",
   "execution_count": 22,
   "id": "alternate-western",
   "metadata": {},
   "outputs": [
    {
     "data": {
      "text/plain": [
       "<tf.Tensor: shape=(2, 3), dtype=int32, numpy=\n",
       "array([[1, 1, 1],\n",
       "       [1, 1, 1]], dtype=int32)>"
      ]
     },
     "execution_count": 22,
     "metadata": {},
     "output_type": "execute_result"
    }
   ],
   "source": [
    "vector = [[1, 2, 3],\n",
    "          [4, 5, 6]]\n",
    "\n",
    "tf.ones_like(vector) # 다 똑같은데 내용물은 1인"
   ]
  },
  {
   "cell_type": "code",
   "execution_count": 23,
   "id": "super-strike",
   "metadata": {},
   "outputs": [
    {
     "data": {
      "text/plain": [
       "<tf.Tensor: shape=(2, 3), dtype=int32, numpy=\n",
       "array([[0, 0, 0],\n",
       "       [0, 0, 0]], dtype=int32)>"
      ]
     },
     "execution_count": 23,
     "metadata": {},
     "output_type": "execute_result"
    }
   ],
   "source": [
    "vector = [[1, 2, 3],\n",
    "          [4, 5, 6]]\n",
    "\n",
    "tf.zeros_like(vector) # 다 똑같은데 내용물은 0인"
   ]
  },
  {
   "cell_type": "markdown",
   "id": "surface-consequence",
   "metadata": {},
   "source": [
    "### generator_loss"
   ]
  },
  {
   "cell_type": "markdown",
   "id": "transsexual-enhancement",
   "metadata": {},
   "source": [
    "generator_loss는 fake_output가 1(real)에 가까워지기를 바라므로, 다음과 같이 tf.ones_like와의 교차 엔트로피값을 계산하면 됩니다.  \n",
    "cross_entropy(tf.ones_like(fake_output), fake_output) 값은 fake_output이 (Real Image를 의미하는) 1에 가까울수록 작은 값  \n",
    "=> fake ouuput에서는 cross_entropy가 작은 값을 가져야 성능이 좋음"
   ]
  },
  {
   "cell_type": "code",
   "execution_count": 24,
   "id": "joined-township",
   "metadata": {},
   "outputs": [],
   "source": [
    "def generator_loss(fake_output):\n",
    "    return cross_entropy(tf.ones_like(fake_output), fake_output)"
   ]
  },
  {
   "cell_type": "markdown",
   "id": "three-scanning",
   "metadata": {},
   "source": [
    "### discriminator_loss"
   ]
  },
  {
   "cell_type": "markdown",
   "id": "conditional-quality",
   "metadata": {},
   "source": [
    "discriminator_loss는 real_output 값은 1에 가까워지기를, fake_output 값은 0에 가까워지기를 바람  \n",
    "real_output은 1로 채워진 벡터와, fake_output은 0으로 채워진 벡터와 비교  \n",
    "-> 최종 discriminator_loss 값은 이 둘을 더한 값"
   ]
  },
  {
   "cell_type": "code",
   "execution_count": 25,
   "id": "surprised-bahrain",
   "metadata": {},
   "outputs": [],
   "source": [
    "def discriminator_loss(real_output, fake_output):\n",
    "    real_loss = cross_entropy(tf.ones_like(real_output), real_output)\n",
    "    fake_loss = cross_entropy(tf.zeros_like(fake_output), fake_output)\n",
    "    total_loss = real_loss + fake_loss\n",
    "    return total_loss"
   ]
  },
  {
   "cell_type": "markdown",
   "id": "returning-checkout",
   "metadata": {},
   "source": [
    "### discriminator accuracy"
   ]
  },
  {
   "cell_type": "markdown",
   "id": "interesting-evaluation",
   "metadata": {},
   "source": [
    "real output, fake output을 얼마나 정확히 판별하는지 두 accuracy를 따로 계산해서 비교해 보는 것이 매우 유용  \n",
    "real accuracy와 fake accuracy는 초반에는 1.0에 가깝게 나오다가, 서서히 낮아져서 둘 다 0.5에 가까워지는 것이 이상적입니다.   \n",
    "fake accuracy가 1.0에 더 가깝다면 아직은 생성자가 판별자를 충분히 잘 속이지 못하고 있다는 뜻입니다."
   ]
  },
  {
   "cell_type": "code",
   "execution_count": 26,
   "id": "greenhouse-organizer",
   "metadata": {},
   "outputs": [],
   "source": [
    "def discriminator_accuracy(real_output, fake_output):\n",
    "    real_accuracy = tf.reduce_mean(tf.cast(tf.math.greater_equal(real_output, tf.constant([0.5])), tf.float32))\n",
    "    fake_accuracy = tf.reduce_mean(tf.cast(tf.math.less(fake_output, tf.constant([0.5])), tf.float32))\n",
    "    return real_accuracy, fake_accuracy"
   ]
  },
  {
   "cell_type": "markdown",
   "id": "needed-public",
   "metadata": {},
   "source": [
    "예를 들어 위의 코드를 설명  \n",
    "ex.) real_output = tf.Tensor(\\[0.2, 0.4, 0.7, 0.9]) 라면,\n",
    "\n",
    "(1) tf.math.greater_equal(real_output, tf.constant([0.5]) : real_output의 각 원소가 0.5 이상인지 True, False로 판별\n",
    "> tf.Tensor([False, False, True, True])\n",
    "\n",
    "(2) tf.cast( (1), tf.float32) : (1)의 결과가 True이면 1.0, False이면 0.0으로 변환\n",
    "> tf.Tensor([0.0, 0.0, 1.0, 1.0])\n",
    "\n",
    "(3) tf.reduce_mean( (2)) : (2)의 결과를 평균내어 이번 배치의 정확도(accuracy)를 계산\n",
    "> 0.5\n"
   ]
  },
  {
   "cell_type": "markdown",
   "id": "stupid-program",
   "metadata": {},
   "source": [
    "## 최적화 함수(optimizer)"
   ]
  },
  {
   "cell_type": "markdown",
   "id": "settled-option",
   "metadata": {},
   "source": [
    "Adam 최적화 기법을 활용  \n",
    "Adam 함수 또한 tf.keras.optimizers 안에 있음  \n",
    "하이퍼 파라미터인 \"learning rate\"는 0.0001로 설정할 텐데, 학습 품질을 올려보고 싶다면 여러 가지로 값을 바꾸어 가며 학습을 진행해 보는 것을 추천  \n",
    "생성자와 구분자는 따로따로 학습을 진행하는 개별 네트워크이기 때문에 optimizer도 따로"
   ]
  },
  {
   "cell_type": "code",
   "execution_count": 27,
   "id": "encouraging-service",
   "metadata": {},
   "outputs": [],
   "source": [
    "generator_optimizer = tf.keras.optimizers.Adam(1e-4)\n",
    "discriminator_optimizer = tf.keras.optimizers.Adam(1e-4)"
   ]
  },
  {
   "cell_type": "markdown",
   "id": "tracked-singapore",
   "metadata": {},
   "source": [
    "### 샘플 확인"
   ]
  },
  {
   "cell_type": "markdown",
   "id": "satisfied-marketing",
   "metadata": {},
   "source": [
    "매번 학습이 어떻게 진행되어가고 있는지를 확인하기 위해 생성자가 생성한 샘플을 확인할 것이다  \n",
    "샘플은 한 번에 16장을 생성하도록 하겠습니다.  \n",
    "생성할 샘플은 매번 같은 노이즈로 생성해야 그에 대한 진전 과정을 확인할 수 있으므로, 고정된 seed 노이즈를 만들어두어야 합니다.  \n",
    "즉, 100차원의 노이즈를 총 16개, (16, 100) 형상의 벡터를 만들어 두도록 하겠습니다.  "
   ]
  },
  {
   "cell_type": "code",
   "execution_count": 28,
   "id": "reported-kazakhstan",
   "metadata": {},
   "outputs": [
    {
     "data": {
      "text/plain": [
       "TensorShape([16, 100])"
      ]
     },
     "execution_count": 28,
     "metadata": {},
     "output_type": "execute_result"
    }
   ],
   "source": [
    "noise_dim = 100\n",
    "num_examples_to_generate = 16\n",
    "\n",
    "seed = tf.random.normal([num_examples_to_generate, noise_dim])\n",
    "seed.shape"
   ]
  },
  {
   "cell_type": "markdown",
   "id": "suffering-baptist",
   "metadata": {},
   "source": [
    "# 12-12. 생성 모델이 똑똑해지기 위한 기나긴 여정 (2) 훈련과정 설계"
   ]
  },
  {
   "cell_type": "markdown",
   "id": "greenhouse-substance",
   "metadata": {},
   "source": [
    "## train_step 함수"
   ]
  },
  {
   "cell_type": "markdown",
   "id": "combined-algebra",
   "metadata": {},
   "source": [
    "하나의 미니배치 당 진행할 train_step 함수 만들기  \n",
    "학습시킬 훈련 함수 위에 @tf.function 이라는 데코레이터를 붙여서  \n",
    "여러 과정을 내부적으로 처리해서 더욱 편리하게 학습시킬 수 있게 해줍니다.  "
   ]
  },
  {
   "cell_type": "code",
   "execution_count": 29,
   "id": "incoming-feedback",
   "metadata": {},
   "outputs": [
    {
     "name": "stdout",
     "output_type": "stream",
     "text": [
      "<class 'numpy.ndarray'>\n",
      "<class 'numpy.ndarray'>\n"
     ]
    },
    {
     "data": {
      "text/plain": [
       "array([7, 7])"
      ]
     },
     "execution_count": 29,
     "metadata": {},
     "output_type": "execute_result"
    }
   ],
   "source": [
    "# tf.function 이해하기  \n",
    "import numpy as np\n",
    "import tensorflow as tf\n",
    "\n",
    "def f(x, y):\n",
    "  print(type(x))\n",
    "  print(type(y))\n",
    "  return x ** 2 + y\n",
    "\n",
    "x = np.array([2, 3])\n",
    "y = np.array([3, -2])\n",
    "f(x, y)"
   ]
  },
  {
   "cell_type": "code",
   "execution_count": 30,
   "id": "arranged-porcelain",
   "metadata": {},
   "outputs": [
    {
     "name": "stdout",
     "output_type": "stream",
     "text": [
      "<class 'tensorflow.python.framework.ops.Tensor'>\n",
      "<class 'tensorflow.python.framework.ops.Tensor'>\n"
     ]
    },
    {
     "data": {
      "text/plain": [
       "<tf.Tensor: shape=(2,), dtype=int64, numpy=array([7, 7])>"
      ]
     },
     "execution_count": 30,
     "metadata": {},
     "output_type": "execute_result"
    }
   ],
   "source": [
    "# tf.function 이해하기  \n",
    "import numpy as np\n",
    "import tensorflow as tf\n",
    "\n",
    "@tf.function    # 위와 동일한 함수이지만 @tf.function 데코레이터가 적용되었습니다.\n",
    "def f(x, y):\n",
    "  print(type(x))\n",
    "  print(type(y))\n",
    "  return x ** 2 + y\n",
    "\n",
    "x = np.array([2, 3])\n",
    "y = np.array([3, -2])\n",
    "f(x, y)"
   ]
  },
  {
   "cell_type": "markdown",
   "id": "express-demographic",
   "metadata": {},
   "source": [
    "f(x,y)의 결과 타입이 다르다  \n",
    "@tf.function 데코레이터가 사용된 함수에 입력된 입력은 Tensorflow의 graph 노드가 될 수 있는 타입으로 자동변환"
   ]
  },
  {
   "cell_type": "code",
   "execution_count": 31,
   "id": "opponent-beginning",
   "metadata": {},
   "outputs": [],
   "source": [
    "@tf.function\n",
    "def train_step(images):  #(1) 입력데이터\n",
    "    noise = tf.random.normal([BATCH_SIZE, noise_dim])  #(2) 생성자 입력 노이즈\n",
    "\n",
    "    with tf.GradientTape() as gen_tape, tf.GradientTape() as disc_tape:  #(3) tf.GradientTape() 오픈\n",
    "        generated_images = generator(noise, training=True)  #(4) generated_images 생성\n",
    "\n",
    "        #(5) discriminator 판별\n",
    "        real_output = discriminator(images, training=True)\n",
    "        fake_output = discriminator(generated_images, training=True)\n",
    "\n",
    "        #(6) loss 계산\n",
    "        gen_loss = generator_loss(fake_output)\n",
    "        disc_loss = discriminator_loss(real_output, fake_output)\n",
    "\n",
    "        #(7) accuracy 계산\n",
    "        real_accuracy, fake_accuracy = discriminator_accuracy(real_output, fake_output) \n",
    "    \n",
    "    #(8) gradient 계산\n",
    "    gradients_of_generator = gen_tape.gradient(gen_loss, generator.trainable_variables)\n",
    "    gradients_of_discriminator = disc_tape.gradient(disc_loss, discriminator.trainable_variables)\n",
    "\n",
    "    #(9) 모델 학습\n",
    "    generator_optimizer.apply_gradients(zip(gradients_of_generator, generator.trainable_variables))\n",
    "    discriminator_optimizer.apply_gradients(zip(gradients_of_discriminator, discriminator.trainable_variables))\n",
    "\n",
    "    return gen_loss, disc_loss, real_accuracy, fake_accuracy  #(10) 리턴값"
   ]
  },
  {
   "cell_type": "markdown",
   "id": "frequent-founder",
   "metadata": {},
   "source": [
    "train_step 함수를 하나하나 뜯어보면 다음과 같습니다.\n",
    "\n",
    ">(1) 입력데이터: Real Image 역할을 할 images 한 세트를 입력으로 받음  \n",
    "(2) 생성자 입력 노이즈 : generator가 FAKE IMAGE를 생성하기 위한 noise를 images 한 세트와 같은 크기인 BATCH_SIZE 만큼 생성함  \n",
    "(3) tf.GradientTape()는 가중치 갱신을 위한 Gradient를 자동 미분으로 계산하기 위해 with 구문 열기  \n",
    "(4) generated_images 생성 : generator가 noise를 입력받은 후 generated_images 생성    \n",
    "(5) discriminator 판별 : discriminator가 Real Image인 images와 Fake Image인 generated_images를 각각 입력받은 후 real_output, fake_output 출력    \n",
    "(6) loss 계산 : fake_output, real_output으로 generator와 discriminator 각각의 loss 계산  \n",
    "(7) accuracy 계산 : fake_output, real_output으로 discriminator가 판별을 잘 했는지 판단하는 정확도 (내가 붙임 ㅜ)  \n",
    "(8) gradient 계산 : gen_tape와 disc_tape를 활용해 gradient를 자동으로 계산  \n",
    "(9) 모델 학습 : 계산된 gradient를 optimizer에 입력해 가중치 갱신   \n",
    "(10) 리턴값 : 이번 스텝에 계산된 loss와 accuracy를 리턴  "
   ]
  },
  {
   "cell_type": "markdown",
   "id": "orange-apparatus",
   "metadata": {},
   "source": [
    "## 샘플 확인 함수\n",
    "이렇게 한 단계씩 학습할 train_step과 함께 일정 간격으로 학습 현황을 볼 수 있는 샘플을 생성하는 함수를 만들기  \n",
    "고정된 seed에 대한 결과물이 얼마나 나아지고 있는지를 확인할 수 있다  "
   ]
  },
  {
   "cell_type": "code",
   "execution_count": 32,
   "id": "under-companion",
   "metadata": {},
   "outputs": [],
   "source": [
    "def generate_and_save_images(model, epoch, it, sample_seeds):\n",
    "\n",
    "    predictions = model(sample_seeds, training=False)\n",
    "\n",
    "    fig = plt.figure(figsize=(4, 4))\n",
    "    for i in range(predictions.shape[0]):\n",
    "        plt.subplot(4, 4, i+1)\n",
    "        plt.imshow(predictions[i, :, :, 0], cmap='gray')\n",
    "        plt.axis('off')\n",
    "\n",
    "    plt.savefig('{}/aiffel/dcgan_newimage/fashion/generated_samples/sample_epoch_{:04d}_iter_{:03d}.png'\n",
    "                    .format(os.getenv('HOME'), epoch, it))\n",
    "\n",
    "    plt.show()"
   ]
  },
  {
   "cell_type": "markdown",
   "id": "mighty-exchange",
   "metadata": {},
   "source": [
    "model이 16개의 seed가 들어있는 sample_seeds를 입력받아서 만들어낸 prediction을 matplotlib으로 시각화해주는 과정  \n",
    "-> subplot을 이용해서 총 16개의 sample을 시각화하는 과정입니다. 16개이므로 4행 4열로 나누어 subplot(4, 4, i+1)로 시각화하는 것  \n",
    "  \n",
    "plt에 저장되어 보여지는 이미지를 plt.savefig로 간단히 파일화 해서 저장  \n",
    "  \n",
    "generated_samples라는 폴더 아래에 저장하는 것이므로 try 구문을 이용해 폴더가 없는 상황에 에러가 발생하는 것을 방지합니다. 만약 폴더가 없어서 에러가 난다면, except 구문으로 들어가 os.mkdir('./generated_samples')로 폴더를 만든 후 파일을 저장할 수 있다  \n",
    "  \n",
    "GAN의 학습 과정은 지도학습 모델보다 까다로운데, 이것은 두 모델이 서로의 학습 과정에 영향을 주고받기 때문  \n",
    "train_step() 함수가 리턴하는 gen_loss, disc_loss, real_accuracy, fake_accuracy 이상 4가지 값을 history라는 dict 구조에 리스트로 저장하고 있다가 매 epoch마다 시각화하는 함수를 만들어 봅시다.  \n",
    "예를 들어 생성자의 loss의 history는 history\\['gen_loss']로 접근할 수 있는 list로 관리할 예정  "
   ]
  },
  {
   "cell_type": "code",
   "execution_count": 33,
   "id": "alpha-habitat",
   "metadata": {},
   "outputs": [],
   "source": [
    "from matplotlib.pylab import rcParams\n",
    "rcParams['figure.figsize'] = 15, 6    # matlab 차트의 기본 크기를 15,6으로 지정해 줍니다.\n",
    "\n",
    "def draw_train_history(history, epoch):\n",
    "    # summarize history for loss  \n",
    "    plt.subplot(211)  \n",
    "    plt.plot(history['gen_loss'])  \n",
    "    plt.plot(history['disc_loss'])  \n",
    "    plt.title('model loss')  \n",
    "    plt.ylabel('loss')  \n",
    "    plt.xlabel('batch iters')  \n",
    "    plt.legend(['gen_loss', 'disc_loss'], loc='upper left')  \n",
    "\n",
    "    # summarize history for accuracy  \n",
    "    plt.subplot(212)  \n",
    "    plt.plot(history['fake_accuracy'])  \n",
    "    plt.plot(history['real_accuracy'])  \n",
    "    plt.title('discriminator accuracy')  \n",
    "    plt.ylabel('accuracy')  \n",
    "    plt.xlabel('batch iters')  \n",
    "    plt.legend(['fake_accuracy', 'real_accuracy'], loc='upper left')  \n",
    "    \n",
    "    # training_history 디렉토리에 epoch별로 그래프를 이미지 파일로 저장합니다.\n",
    "    plt.savefig('{}/aiffel/dcgan_newimage/fashion/training_history/train_history_{:04d}.png'\n",
    "                    .format(os.getenv('HOME'), epoch))\n",
    "    plt.show()"
   ]
  },
  {
   "cell_type": "markdown",
   "id": "proprietary-petroleum",
   "metadata": {},
   "source": [
    "## checkpoint"
   ]
  },
  {
   "cell_type": "markdown",
   "id": "invalid-finnish",
   "metadata": {},
   "source": [
    "tf.train.Checkpoint를 활용하면 매번 모델을 직접 저장해주지 않아도, 코드 한 줄로 빠르고 편하게 버전 관리를 할 수 있습니다.  \n",
    "네트워크가 끊긴다거나, 예상치 못한 문제로 인해 오랜 시간동안 학습한 모델을 잃지 않게 해줌  \n",
    "checkpoint에는 optimizer와 생성자, 구분자를 모두 넣어 저장  \n",
    "정확히는 생성자와 구분자가 학습한 모델 가중치를 저장하는 것이죠. 게임의 체크포인트처럼 우리의 학습 환경과 학습한 내용을 저장  \n"
   ]
  },
  {
   "cell_type": "code",
   "execution_count": 34,
   "id": "colored-dealer",
   "metadata": {},
   "outputs": [],
   "source": [
    "checkpoint_dir = os.getenv('HOME')+'/aiffel/dcgan_newimage/fashion/training_checkpoints'\n",
    "\n",
    "checkpoint_prefix = os.path.join(checkpoint_dir, \"ckpt\")\n",
    "checkpoint = tf.train.Checkpoint(generator_optimizer=generator_optimizer,\n",
    "                                 discriminator_optimizer=discriminator_optimizer,\n",
    "                                 generator=generator,\n",
    "                                 discriminator=discriminator)"
   ]
  },
  {
   "cell_type": "markdown",
   "id": "surprising-cedar",
   "metadata": {},
   "source": [
    "# 12-13. 생성 모델이 똑똑해지기 위한 기나긴 여정 (3) 학습 시키기"
   ]
  },
  {
   "cell_type": "markdown",
   "id": "bacterial-edmonton",
   "metadata": {},
   "source": [
    "한 단계를 학습하는 train_step,  \n",
    "샘플 이미지를 생성하고 저장하기 위한 generate_and_save_images(),  \n",
    "학습 과정을 시각화하는 draw_train_history(),  \n",
    "그리고 모델까지 저장하기 위한 checkpoint  \n",
    "이 모두를 한 곳에 합치기  "
   ]
  },
  {
   "cell_type": "code",
   "execution_count": 35,
   "id": "widespread-blanket",
   "metadata": {},
   "outputs": [],
   "source": [
    "def train(dataset, epochs, save_every):\n",
    "    start = time.time()\n",
    "    history = {'gen_loss':[], 'disc_loss':[], 'real_accuracy':[], 'fake_accuracy':[]}\n",
    "\n",
    "    for epoch in range(epochs):\n",
    "        epoch_start = time.time()\n",
    "        for it, image_batch in enumerate(dataset):\n",
    "            gen_loss, disc_loss, real_accuracy, fake_accuracy = train_step(image_batch)\n",
    "            history['gen_loss'].append(gen_loss)\n",
    "            history['disc_loss'].append(disc_loss)\n",
    "            history['real_accuracy'].append(real_accuracy)\n",
    "            history['fake_accuracy'].append(fake_accuracy)\n",
    "\n",
    "            if it % 50 == 0:\n",
    "                display.clear_output(wait=True)\n",
    "                generate_and_save_images(generator, epoch+1, it+1, seed)\n",
    "                print('Epoch {} | iter {}'.format(epoch+1, it+1))\n",
    "                print('Time for epoch {} : {} sec'.format(epoch+1, int(time.time()-epoch_start)))\n",
    "\n",
    "        if (epoch + 1) % save_every == 0:\n",
    "            checkpoint.save(file_prefix=checkpoint_prefix)\n",
    "\n",
    "        display.clear_output(wait=True)\n",
    "        generate_and_save_images(generator, epochs, it, seed)\n",
    "        print('Time for training : {} sec'.format(int(time.time()-start)))\n",
    "\n",
    "        draw_train_history(history, epoch)"
   ]
  },
  {
   "cell_type": "markdown",
   "id": "metric-child",
   "metadata": {},
   "source": [
    "모델을 저장하는 간격을 담당하는 save_every  \n",
    "전체 학습 에포크를 결정하는 EPOCHS  \n"
   ]
  },
  {
   "cell_type": "code",
   "execution_count": 36,
   "id": "sunset-executive",
   "metadata": {},
   "outputs": [
    {
     "data": {
      "text/plain": [
       "[PhysicalDevice(name='/physical_device:GPU:0', device_type='GPU')]"
      ]
     },
     "execution_count": 36,
     "metadata": {},
     "output_type": "execute_result"
    }
   ],
   "source": [
    "save_every = 5\n",
    "EPOCHS = 3\n",
    "\n",
    "# 사용가능한 GPU 디바이스 확인\n",
    "tf.config.list_physical_devices(\"GPU\")"
   ]
  },
  {
   "cell_type": "code",
   "execution_count": 37,
   "id": "focused-bhutan",
   "metadata": {},
   "outputs": [
    {
     "ename": "KeyboardInterrupt",
     "evalue": "",
     "output_type": "error",
     "traceback": [
      "\u001b[0;31m---------------------------------------------------------------------------\u001b[0m",
      "\u001b[0;31mKeyboardInterrupt\u001b[0m                         Traceback (most recent call last)",
      "\u001b[0;32m<timed eval>\u001b[0m in \u001b[0;36m<module>\u001b[0;34m\u001b[0m\n",
      "\u001b[0;32m<ipython-input-35-a9cf163354f9>\u001b[0m in \u001b[0;36mtrain\u001b[0;34m(dataset, epochs, save_every)\u001b[0m\n\u001b[1;32m      6\u001b[0m         \u001b[0mepoch_start\u001b[0m \u001b[0;34m=\u001b[0m \u001b[0mtime\u001b[0m\u001b[0;34m.\u001b[0m\u001b[0mtime\u001b[0m\u001b[0;34m(\u001b[0m\u001b[0;34m)\u001b[0m\u001b[0;34m\u001b[0m\u001b[0;34m\u001b[0m\u001b[0m\n\u001b[1;32m      7\u001b[0m         \u001b[0;32mfor\u001b[0m \u001b[0mit\u001b[0m\u001b[0;34m,\u001b[0m \u001b[0mimage_batch\u001b[0m \u001b[0;32min\u001b[0m \u001b[0menumerate\u001b[0m\u001b[0;34m(\u001b[0m\u001b[0mdataset\u001b[0m\u001b[0;34m)\u001b[0m\u001b[0;34m:\u001b[0m\u001b[0;34m\u001b[0m\u001b[0;34m\u001b[0m\u001b[0m\n\u001b[0;32m----> 8\u001b[0;31m             \u001b[0mgen_loss\u001b[0m\u001b[0;34m,\u001b[0m \u001b[0mdisc_loss\u001b[0m\u001b[0;34m,\u001b[0m \u001b[0mreal_accuracy\u001b[0m\u001b[0;34m,\u001b[0m \u001b[0mfake_accuracy\u001b[0m \u001b[0;34m=\u001b[0m \u001b[0mtrain_step\u001b[0m\u001b[0;34m(\u001b[0m\u001b[0mimage_batch\u001b[0m\u001b[0;34m)\u001b[0m\u001b[0;34m\u001b[0m\u001b[0;34m\u001b[0m\u001b[0m\n\u001b[0m\u001b[1;32m      9\u001b[0m             \u001b[0mhistory\u001b[0m\u001b[0;34m[\u001b[0m\u001b[0;34m'gen_loss'\u001b[0m\u001b[0;34m]\u001b[0m\u001b[0;34m.\u001b[0m\u001b[0mappend\u001b[0m\u001b[0;34m(\u001b[0m\u001b[0mgen_loss\u001b[0m\u001b[0;34m)\u001b[0m\u001b[0;34m\u001b[0m\u001b[0;34m\u001b[0m\u001b[0m\n\u001b[1;32m     10\u001b[0m             \u001b[0mhistory\u001b[0m\u001b[0;34m[\u001b[0m\u001b[0;34m'disc_loss'\u001b[0m\u001b[0;34m]\u001b[0m\u001b[0;34m.\u001b[0m\u001b[0mappend\u001b[0m\u001b[0;34m(\u001b[0m\u001b[0mdisc_loss\u001b[0m\u001b[0;34m)\u001b[0m\u001b[0;34m\u001b[0m\u001b[0;34m\u001b[0m\u001b[0m\n",
      "\u001b[0;32m~/anaconda3/envs/aiffel/lib/python3.7/site-packages/tensorflow/python/eager/def_function.py\u001b[0m in \u001b[0;36m__call__\u001b[0;34m(self, *args, **kwds)\u001b[0m\n\u001b[1;32m    578\u001b[0m         \u001b[0mxla_context\u001b[0m\u001b[0;34m.\u001b[0m\u001b[0mExit\u001b[0m\u001b[0;34m(\u001b[0m\u001b[0;34m)\u001b[0m\u001b[0;34m\u001b[0m\u001b[0;34m\u001b[0m\u001b[0m\n\u001b[1;32m    579\u001b[0m     \u001b[0;32melse\u001b[0m\u001b[0;34m:\u001b[0m\u001b[0;34m\u001b[0m\u001b[0;34m\u001b[0m\u001b[0m\n\u001b[0;32m--> 580\u001b[0;31m       \u001b[0mresult\u001b[0m \u001b[0;34m=\u001b[0m \u001b[0mself\u001b[0m\u001b[0;34m.\u001b[0m\u001b[0m_call\u001b[0m\u001b[0;34m(\u001b[0m\u001b[0;34m*\u001b[0m\u001b[0margs\u001b[0m\u001b[0;34m,\u001b[0m \u001b[0;34m**\u001b[0m\u001b[0mkwds\u001b[0m\u001b[0;34m)\u001b[0m\u001b[0;34m\u001b[0m\u001b[0;34m\u001b[0m\u001b[0m\n\u001b[0m\u001b[1;32m    581\u001b[0m \u001b[0;34m\u001b[0m\u001b[0m\n\u001b[1;32m    582\u001b[0m     \u001b[0;32mif\u001b[0m \u001b[0mtracing_count\u001b[0m \u001b[0;34m==\u001b[0m \u001b[0mself\u001b[0m\u001b[0;34m.\u001b[0m\u001b[0m_get_tracing_count\u001b[0m\u001b[0;34m(\u001b[0m\u001b[0;34m)\u001b[0m\u001b[0;34m:\u001b[0m\u001b[0;34m\u001b[0m\u001b[0;34m\u001b[0m\u001b[0m\n",
      "\u001b[0;32m~/anaconda3/envs/aiffel/lib/python3.7/site-packages/tensorflow/python/eager/def_function.py\u001b[0m in \u001b[0;36m_call\u001b[0;34m(self, *args, **kwds)\u001b[0m\n\u001b[1;32m    642\u001b[0m         \u001b[0;31m# Lifting succeeded, so variables are initialized and we can run the\u001b[0m\u001b[0;34m\u001b[0m\u001b[0;34m\u001b[0m\u001b[0;34m\u001b[0m\u001b[0m\n\u001b[1;32m    643\u001b[0m         \u001b[0;31m# stateless function.\u001b[0m\u001b[0;34m\u001b[0m\u001b[0;34m\u001b[0m\u001b[0;34m\u001b[0m\u001b[0m\n\u001b[0;32m--> 644\u001b[0;31m         \u001b[0;32mreturn\u001b[0m \u001b[0mself\u001b[0m\u001b[0;34m.\u001b[0m\u001b[0m_stateless_fn\u001b[0m\u001b[0;34m(\u001b[0m\u001b[0;34m*\u001b[0m\u001b[0margs\u001b[0m\u001b[0;34m,\u001b[0m \u001b[0;34m**\u001b[0m\u001b[0mkwds\u001b[0m\u001b[0;34m)\u001b[0m\u001b[0;34m\u001b[0m\u001b[0;34m\u001b[0m\u001b[0m\n\u001b[0m\u001b[1;32m    645\u001b[0m     \u001b[0;32melse\u001b[0m\u001b[0;34m:\u001b[0m\u001b[0;34m\u001b[0m\u001b[0;34m\u001b[0m\u001b[0m\n\u001b[1;32m    646\u001b[0m       \u001b[0mcanon_args\u001b[0m\u001b[0;34m,\u001b[0m \u001b[0mcanon_kwds\u001b[0m \u001b[0;34m=\u001b[0m\u001b[0;31m \u001b[0m\u001b[0;31m\\\u001b[0m\u001b[0;34m\u001b[0m\u001b[0;34m\u001b[0m\u001b[0m\n",
      "\u001b[0;32m~/anaconda3/envs/aiffel/lib/python3.7/site-packages/tensorflow/python/eager/function.py\u001b[0m in \u001b[0;36m__call__\u001b[0;34m(self, *args, **kwargs)\u001b[0m\n\u001b[1;32m   2418\u001b[0m     \u001b[0;32mwith\u001b[0m \u001b[0mself\u001b[0m\u001b[0;34m.\u001b[0m\u001b[0m_lock\u001b[0m\u001b[0;34m:\u001b[0m\u001b[0;34m\u001b[0m\u001b[0;34m\u001b[0m\u001b[0m\n\u001b[1;32m   2419\u001b[0m       \u001b[0mgraph_function\u001b[0m\u001b[0;34m,\u001b[0m \u001b[0margs\u001b[0m\u001b[0;34m,\u001b[0m \u001b[0mkwargs\u001b[0m \u001b[0;34m=\u001b[0m \u001b[0mself\u001b[0m\u001b[0;34m.\u001b[0m\u001b[0m_maybe_define_function\u001b[0m\u001b[0;34m(\u001b[0m\u001b[0margs\u001b[0m\u001b[0;34m,\u001b[0m \u001b[0mkwargs\u001b[0m\u001b[0;34m)\u001b[0m\u001b[0;34m\u001b[0m\u001b[0;34m\u001b[0m\u001b[0m\n\u001b[0;32m-> 2420\u001b[0;31m     \u001b[0;32mreturn\u001b[0m \u001b[0mgraph_function\u001b[0m\u001b[0;34m.\u001b[0m\u001b[0m_filtered_call\u001b[0m\u001b[0;34m(\u001b[0m\u001b[0margs\u001b[0m\u001b[0;34m,\u001b[0m \u001b[0mkwargs\u001b[0m\u001b[0;34m)\u001b[0m  \u001b[0;31m# pylint: disable=protected-access\u001b[0m\u001b[0;34m\u001b[0m\u001b[0;34m\u001b[0m\u001b[0m\n\u001b[0m\u001b[1;32m   2421\u001b[0m \u001b[0;34m\u001b[0m\u001b[0m\n\u001b[1;32m   2422\u001b[0m   \u001b[0;34m@\u001b[0m\u001b[0mproperty\u001b[0m\u001b[0;34m\u001b[0m\u001b[0;34m\u001b[0m\u001b[0m\n",
      "\u001b[0;32m~/anaconda3/envs/aiffel/lib/python3.7/site-packages/tensorflow/python/eager/function.py\u001b[0m in \u001b[0;36m_filtered_call\u001b[0;34m(self, args, kwargs)\u001b[0m\n\u001b[1;32m   1663\u001b[0m          if isinstance(t, (ops.Tensor,\n\u001b[1;32m   1664\u001b[0m                            resource_variable_ops.BaseResourceVariable))),\n\u001b[0;32m-> 1665\u001b[0;31m         self.captured_inputs)\n\u001b[0m\u001b[1;32m   1666\u001b[0m \u001b[0;34m\u001b[0m\u001b[0m\n\u001b[1;32m   1667\u001b[0m   \u001b[0;32mdef\u001b[0m \u001b[0m_call_flat\u001b[0m\u001b[0;34m(\u001b[0m\u001b[0mself\u001b[0m\u001b[0;34m,\u001b[0m \u001b[0margs\u001b[0m\u001b[0;34m,\u001b[0m \u001b[0mcaptured_inputs\u001b[0m\u001b[0;34m,\u001b[0m \u001b[0mcancellation_manager\u001b[0m\u001b[0;34m=\u001b[0m\u001b[0;32mNone\u001b[0m\u001b[0;34m)\u001b[0m\u001b[0;34m:\u001b[0m\u001b[0;34m\u001b[0m\u001b[0;34m\u001b[0m\u001b[0m\n",
      "\u001b[0;32m~/anaconda3/envs/aiffel/lib/python3.7/site-packages/tensorflow/python/eager/function.py\u001b[0m in \u001b[0;36m_call_flat\u001b[0;34m(self, args, captured_inputs, cancellation_manager)\u001b[0m\n\u001b[1;32m   1744\u001b[0m       \u001b[0;31m# No tape is watching; skip to running the function.\u001b[0m\u001b[0;34m\u001b[0m\u001b[0;34m\u001b[0m\u001b[0;34m\u001b[0m\u001b[0m\n\u001b[1;32m   1745\u001b[0m       return self._build_call_outputs(self._inference_function.call(\n\u001b[0;32m-> 1746\u001b[0;31m           ctx, args, cancellation_manager=cancellation_manager))\n\u001b[0m\u001b[1;32m   1747\u001b[0m     forward_backward = self._select_forward_and_backward_functions(\n\u001b[1;32m   1748\u001b[0m         \u001b[0margs\u001b[0m\u001b[0;34m,\u001b[0m\u001b[0;34m\u001b[0m\u001b[0;34m\u001b[0m\u001b[0m\n",
      "\u001b[0;32m~/anaconda3/envs/aiffel/lib/python3.7/site-packages/tensorflow/python/eager/function.py\u001b[0m in \u001b[0;36mcall\u001b[0;34m(self, ctx, args, cancellation_manager)\u001b[0m\n\u001b[1;32m    596\u001b[0m               \u001b[0minputs\u001b[0m\u001b[0;34m=\u001b[0m\u001b[0margs\u001b[0m\u001b[0;34m,\u001b[0m\u001b[0;34m\u001b[0m\u001b[0;34m\u001b[0m\u001b[0m\n\u001b[1;32m    597\u001b[0m               \u001b[0mattrs\u001b[0m\u001b[0;34m=\u001b[0m\u001b[0mattrs\u001b[0m\u001b[0;34m,\u001b[0m\u001b[0;34m\u001b[0m\u001b[0;34m\u001b[0m\u001b[0m\n\u001b[0;32m--> 598\u001b[0;31m               ctx=ctx)\n\u001b[0m\u001b[1;32m    599\u001b[0m         \u001b[0;32melse\u001b[0m\u001b[0;34m:\u001b[0m\u001b[0;34m\u001b[0m\u001b[0;34m\u001b[0m\u001b[0m\n\u001b[1;32m    600\u001b[0m           outputs = execute.execute_with_cancellation(\n",
      "\u001b[0;32m~/anaconda3/envs/aiffel/lib/python3.7/site-packages/tensorflow/python/eager/execute.py\u001b[0m in \u001b[0;36mquick_execute\u001b[0;34m(op_name, num_outputs, inputs, attrs, ctx, name)\u001b[0m\n\u001b[1;32m     58\u001b[0m     \u001b[0mctx\u001b[0m\u001b[0;34m.\u001b[0m\u001b[0mensure_initialized\u001b[0m\u001b[0;34m(\u001b[0m\u001b[0;34m)\u001b[0m\u001b[0;34m\u001b[0m\u001b[0;34m\u001b[0m\u001b[0m\n\u001b[1;32m     59\u001b[0m     tensors = pywrap_tfe.TFE_Py_Execute(ctx._handle, device_name, op_name,\n\u001b[0;32m---> 60\u001b[0;31m                                         inputs, attrs, num_outputs)\n\u001b[0m\u001b[1;32m     61\u001b[0m   \u001b[0;32mexcept\u001b[0m \u001b[0mcore\u001b[0m\u001b[0;34m.\u001b[0m\u001b[0m_NotOkStatusException\u001b[0m \u001b[0;32mas\u001b[0m \u001b[0me\u001b[0m\u001b[0;34m:\u001b[0m\u001b[0;34m\u001b[0m\u001b[0;34m\u001b[0m\u001b[0m\n\u001b[1;32m     62\u001b[0m     \u001b[0;32mif\u001b[0m \u001b[0mname\u001b[0m \u001b[0;32mis\u001b[0m \u001b[0;32mnot\u001b[0m \u001b[0;32mNone\u001b[0m\u001b[0;34m:\u001b[0m\u001b[0;34m\u001b[0m\u001b[0;34m\u001b[0m\u001b[0m\n",
      "\u001b[0;31mKeyboardInterrupt\u001b[0m: "
     ]
    }
   ],
   "source": [
    "%%time\n",
    "train(train_dataset, EPOCHS, save_every)\n",
    "\n",
    "# 학습과정의 loss, accuracy 그래프 이미지 파일이 ~/aiffel/dcgan_newimage/fashion/training_history 경로에 생성되고 있으니\n",
    "# 진행 과정을 수시로 확인해 보시길 권합니다."
   ]
  },
  {
   "cell_type": "markdown",
   "id": "hourly-taste",
   "metadata": {},
   "source": [
    "acc가 0.5와 가까워지는 과정으로 보인다  \n",
    "어쩌면 단순히 학습수행 시간만 늘리는 것보다, 모델구조나 학습 방법을 바꾸어 봐야 할 수도 있습니다. 그래프를 유심히 보면서 학습 결과가 더이상 개선되고 있지 않은지 여부를 지속적으로 살펴봅시다."
   ]
  },
  {
   "cell_type": "markdown",
   "id": "surface-twist",
   "metadata": {},
   "source": [
    "## 학습과정 시각화하기"
   ]
  },
  {
   "cell_type": "markdown",
   "id": "numerical-egypt",
   "metadata": {},
   "source": [
    "샘플 이미지를 합쳐서 움짤로 만들어보자  \n",
    "GIF 파일은 우리가 오래전에 import 해놓았던 imageio 라이브러리를 활용해 만들 수 있다  \n",
    "imageio.get_writer를 활용해서 파일을 열고, 거기에 append_data로 이미지를 하나씩 붙여나가는 방식  \n"
   ]
  },
  {
   "cell_type": "code",
   "execution_count": 38,
   "id": "thorough-philip",
   "metadata": {},
   "outputs": [
    {
     "name": "stdout",
     "output_type": "stream",
     "text": [
      "-rw-r--r-- 1 aiffel-dj35 aiffel-dj35 366315  3월  2 08:59 /home/aiffel-dj35/aiffel/dcgan_newimage/fashion/fashion_mnist_dcgan.gif\r\n"
     ]
    }
   ],
   "source": [
    "anim_file = os.getenv('HOME')+'/aiffel/dcgan_newimage/fashion/fashion_mnist_dcgan.gif'\n",
    "\n",
    "with imageio.get_writer(anim_file, mode='I') as writer:\n",
    "    filenames = glob.glob('{}/aiffel/dcgan_newimage/fashion/generated_samples/sample*.png'.format(os.getenv('HOME')))\n",
    "    filenames = sorted(filenames)\n",
    "    last = -1\n",
    "    for i, filename in enumerate(filenames):\n",
    "        frame = 2*(i**0.5)\n",
    "        if round(frame) > round(last):\n",
    "            last = frame\n",
    "        else:\n",
    "            continue\n",
    "        image = imageio.imread(filename)\n",
    "        writer.append_data(image)\n",
    "    image = imageio.imread(filename)\n",
    "    writer.append_data(image)\n",
    "\n",
    "!ls -l ~/aiffel/dcgan_newimage/fashion/fashion_mnist_dcgan.gif"
   ]
  },
  {
   "cell_type": "markdown",
   "id": "tight-fields",
   "metadata": {},
   "source": [
    "# 12-14.프로젝트 : CIFAR-10 이미지 생성하기"
   ]
  },
  {
   "cell_type": "markdown",
   "id": "unusual-poker",
   "metadata": {},
   "source": [
    "Fashion MNIST -> CIFAR-10 으로 데이터를 변경하면서 달라지는 것   \n",
    ">이미지 데이터의 shape가 (28, 28, 1)에서 (32, 32, 3)으로 변경됩니다. 생성자, 판별자 모델의 입출력 shape 및 모델 구조에 영향이 있습니다.  \n",
    "이미지가 단색의 grayscale에서 RGB 3채널의 컬러이미지로 변경됩니다. 시각화 과정에서 고려할 점이 있습니다.  \n",
    "입력데이터 전체 차원이 3~4배 증가하면서, 학습이 진행되는 양상이 다소 달라집니다.  \n"
   ]
  },
  {
   "cell_type": "markdown",
   "id": "forbidden-cursor",
   "metadata": {},
   "source": [
    "## STEP 0. 작업환경 구성하기"
   ]
  },
  {
   "cell_type": "code",
   "execution_count": 39,
   "id": "lightweight-kelly",
   "metadata": {},
   "outputs": [],
   "source": [
    "! mkdir -p ~/aiffel/dcgan_newimage/cifar10/generated_samples\n",
    "! mkdir -p ~/aiffel/dcgan_newimage/cifar10/training_checkpoints\n",
    "! mkdir -p ~/aiffel/dcgan_newimage/cifar10/training_history"
   ]
  },
  {
   "cell_type": "markdown",
   "id": "vulnerable-cross",
   "metadata": {},
   "source": [
    "## STEP 1. 데이터셋 구성하기"
   ]
  },
  {
   "cell_type": "code",
   "execution_count": 40,
   "id": "sonic-responsibility",
   "metadata": {},
   "outputs": [
    {
     "data": {
      "text/plain": [
       "(50000, 32, 32, 3)"
      ]
     },
     "execution_count": 40,
     "metadata": {},
     "output_type": "execute_result"
    }
   ],
   "source": [
    "cifar10 = tf.keras.datasets.cifar10\n",
    "\n",
    "(train_x, _), (test_x, _) = cifar10.load_data()\n",
    "\n",
    "train_x.shape"
   ]
  },
  {
   "cell_type": "markdown",
   "id": "fallen-guarantee",
   "metadata": {},
   "source": [
    "CIFAR-10 데이터셋도 tf.keras 안에 있는 datasets에 포함되어 있어서 다운을 받고  \n",
    ">학습에 사용할 train_x의 이미지를 \\[-1, 1\\]로 정규화합니다.  \n",
    "로드한 학습 데이터를 시각화를 통해 확인해 봅시다.  \n",
    "tf.data.Dataset 모듈의 fromtensorslices() 함수를 사용하여 미니배치 데이터셋을 구성해 봅시다.  "
   ]
  },
  {
   "cell_type": "markdown",
   "id": "shaped-contributor",
   "metadata": {},
   "source": [
    "## STEP 2. 생성자 모델 구현하기"
   ]
  },
  {
   "cell_type": "markdown",
   "id": "legal-prompt",
   "metadata": {},
   "source": [
    ">(32, 32, 3)의 shape를 가진 이미지를 생성하는 생성자 모델 구현 함수를 작성해 봅시다.   \n",
    "noise = tf.random.normal(\\[1, 100\\])로 생성된 랜덤 노이즈를 입력으로 하여 방금 구현한 생성자로 랜덤 이미지를 생성해 봅시다.  \n",
    "생성된 랜덤 이미지가 생성자 출력 규격에 잘 맞는지 확인해 봅시다.  "
   ]
  },
  {
   "cell_type": "markdown",
   "id": "fiscal-nancy",
   "metadata": {},
   "source": [
    "## STEP 3. 판별자 모델 구현하기"
   ]
  },
  {
   "cell_type": "markdown",
   "id": "familiar-biology",
   "metadata": {},
   "source": [
    ">(32, 32, 3)의 이미지를 입력으로 받아 1dim을 판별결과를 출력하는 판별자 모델 구현 함수를 작성해 봅시다.  \n",
    "위 STEP 2에서 생성한 랜덤 이미지를 판별자 모델이 판별한 결과값을 확인해 봅시다."
   ]
  },
  {
   "cell_type": "markdown",
   "id": "conditional-lucas",
   "metadata": {},
   "source": [
    "## STEP 4. 손실함수와 최적화 함수 구현하기"
   ]
  },
  {
   "cell_type": "markdown",
   "id": "fantastic-climb",
   "metadata": {},
   "source": [
    ">생성자와 판별자의 손실함수(loss)를 구현해 봅시다.  \n",
    "판별자의 출력값을 가지고 실제/생성(real/fake) 이미지 판별 정확도(accuracy)를 계산하는 함수를 구현해 봅시다.  \n",
    "생성자와 판별자를 최적화하는 optimizer를 정의합니다.  "
   ]
  },
  {
   "cell_type": "markdown",
   "id": "numeric-position",
   "metadata": {},
   "source": [
    "## STEP 5. 훈련과정 상세 기능 구현하기"
   ]
  },
  {
   "cell_type": "markdown",
   "id": "japanese-marks",
   "metadata": {},
   "source": [
    ">1개 미니배치의 훈련 과정을 처리하는 train_step() 함수를 구현해 봅시다.  \n",
    "16개의 고정된 seed를 입력으로 하여 훈련 과정 동안 생성한 이미지를 시각화하는 generate_and_save_images() 함수를 구현해 봅시다.  \n",
    "훈련 epoch마다 생성자/판별자의 loss 및 판별자의 실제/생성(real/fake) 이미지 판별 accuracy 히스토리(history)를 그래프로 시각화하는 draw_train_history() 함수를 구현해 봅시다.  \n",
    "training_checkpoints 디렉토리에 몇 epoch마다 모델을 저장하는 checkpoint 모듈을 설정해 봅시다.  "
   ]
  },
  {
   "cell_type": "markdown",
   "id": "intimate-nickname",
   "metadata": {},
   "source": [
    "## STEP 6. 학습 과정 진행하기"
   ]
  },
  {
   "cell_type": "markdown",
   "id": "comparative-recipe",
   "metadata": {},
   "source": [
    ">위 STEP 5에서 구현한 기능들을 활용하여 최소 50 epoch만큼의 모델 학습을 진행해 봅시다.  \n",
    "학습 과정에서 생성된 샘플 이미지로 만든 gif 파일을 통해 학습 진행 과정을 시각적으로 표현해 봅시다.  \n",
    "학습 과정을 담은 샘플 이미지, gif 파일, 학습 진행 그래프 이미지를 함께 제출합니다.  \n",
    "\n",
    "여기서 epoch을 추가 진행할때 위에서 checkpoint 모듈을 이용해 모델을 저장해놨는데  \n",
    "학습해 둔 모델을 로드하면 모델 재학습이 필요 없이 이런 작업을 진행할 수 있다  \n",
    "아래는 checkpoint 모듈을 활용하여 모델을 로드하는 예시"
   ]
  },
  {
   "cell_type": "code",
   "execution_count": 41,
   "id": "ethical-disposal",
   "metadata": {},
   "outputs": [
    {
     "ename": "SyntaxError",
     "evalue": "invalid syntax (<ipython-input-41-7dd83c3a370d>, line 13)",
     "output_type": "error",
     "traceback": [
      "\u001b[0;36m  File \u001b[0;32m\"<ipython-input-41-7dd83c3a370d>\"\u001b[0;36m, line \u001b[0;32m13\u001b[0m\n\u001b[0;31m    np_generated = generated_image.numpy()a\u001b[0m\n\u001b[0m                                          ^\u001b[0m\n\u001b[0;31mSyntaxError\u001b[0m\u001b[0;31m:\u001b[0m invalid syntax\n"
     ]
    }
   ],
   "source": [
    "checkpoint_dir = os.getenv('HOME')+'/aiffel/dcgan_newimage/cifar10/training_checkpoints'\n",
    "\n",
    "latest = tf.train.latest_checkpoint(checkpoint_dir)\n",
    "checkpoint.restore(latest)\n",
    "\n",
    "generator = checkpoint.generator\n",
    "discriminator = checkpoint.discriminator\n",
    "\n",
    "# 로드한 모델이 정상적으로 이미지를 생성하는지 확인해 봅니다. \n",
    "noise = tf.random.normal([1, 100])\n",
    "generated_image = generator(noise, training=False)\n",
    "\n",
    "np_generated = generated_image.numpy()\n",
    "np_generated = (np_generated * 127.5) + 127.5   # reverse of normalization\n",
    "np_generated = np_generated.astype(int)\n",
    "plt.imshow(np_generated[0])\n",
    "plt.show()  # 정상적으로 모델이 로드되었다면 랜덤 이미지가 아니라 CIFAR-10 이미지가 그려질 것입니다."
   ]
  },
  {
   "cell_type": "code",
   "execution_count": null,
   "id": "indonesian-texas",
   "metadata": {},
   "outputs": [],
   "source": [
    "%%time\n",
    "train(train_dataset, EPOCHS, save_every)"
   ]
  },
  {
   "cell_type": "markdown",
   "id": "colonial-insert",
   "metadata": {},
   "source": [
    "## STEP 7. (optional) GAN 훈련 과정 개선하기"
   ]
  },
  {
   "cell_type": "markdown",
   "id": "chinese-jamaica",
   "metadata": {},
   "source": [
    ">STEP 6을 진행하면서 생성된 샘플 이미지, 학습 과정 그래프 등을 통해 이전 훈련 과정의 문제점을 분석해 봅시다.  \n",
    "모델구조 또는 학습 과정을 개선한 내역과 그 결과(샘플 이미지, 학습 과정 그래프 포함)를 함께 제출합니다."
   ]
  },
  {
   "cell_type": "markdown",
   "id": "bizarre-continuity",
   "metadata": {},
   "source": [
    "## 루브릭"
   ]
  },
  {
   "cell_type": "markdown",
   "id": "robust-madrid",
   "metadata": {},
   "source": [
    "평가문항\t상세기준\n",
    "1. GAN의 두 모델 구조를 통해 이미지를 성공적으로 생성하였다.  \n",
    "오브젝트 종류를 육안으로 구별할 수 있을 만한 이미지를 생성하였다.  \n",
    "  \n",
    "\n",
    "2. 생성 이미지 시각화 및 학습 그래프를 통해 GAN 학습이 바르게 진행되었음을 입증하였다.  \n",
    "gif를 통해 생성이미지 품질이 서서히 향상되는 것과, fake accuracy가 추세적으로 0.5를 향해 하향하고 있음을 확인하였다.  \n",
    "  \n",
    "  \n",
    "3. 추가적인 GAN 모델구조 혹은 학습과정 개선 아이디어를 제안하고 이를 적용하였다.  \n",
    "제출 아이디어를 제출 프로젝트에 반영하고, 그 결과가 아이디어 적용 이전보다 향상되었음을 시각적으로 입증하였다.  \n",
    "  \n"
   ]
  },
  {
   "cell_type": "markdown",
   "id": "rotary-contribution",
   "metadata": {},
   "source": []
  },
  {
   "cell_type": "markdown",
   "id": "analyzed-greene",
   "metadata": {},
   "source": []
  },
  {
   "cell_type": "markdown",
   "id": "martial-outside",
   "metadata": {},
   "source": []
  },
  {
   "cell_type": "markdown",
   "id": "announced-packaging",
   "metadata": {},
   "source": []
  },
  {
   "cell_type": "markdown",
   "id": "corresponding-seven",
   "metadata": {},
   "source": [
    "# 보충 필요"
   ]
  },
  {
   "cell_type": "markdown",
   "id": "dependent-senator",
   "metadata": {},
   "source": [
    "6.2에서 dataset을 이용한다는 말이 잘 이해가 안감  \n",
    "변수에 값을 삽입하는 것도 아직은 잘 이해 안 감"
   ]
  },
  {
   "cell_type": "markdown",
   "id": "chronic-shift",
   "metadata": {},
   "source": [
    "8.1에서 shape=(1, 100)을 넣는데, 왜 batch_size가 1일까?"
   ]
  },
  {
   "cell_type": "markdown",
   "id": "skilled-tongue",
   "metadata": {},
   "source": [
    "8.1  \n",
    "**Batch Normalization 레이어는 훈련 시기와 추론(infernce) 시기의 행동이 다르기 때문에** training=False을 주어야 올바른 결과를 얻을 수 있습니다.  \n",
    "트레이닝을 안해서 false를 하면 이해되는데  \n",
    "훈련 시기와 추론 시기가 달라서라니까 이해가 안감  \n"
   ]
  },
  {
   "cell_type": "markdown",
   "id": "voluntary-bread",
   "metadata": {},
   "source": [
    "11.1 데코레이터  \n",
    "https://bluese05.tistory.com/30  \n"
   ]
  },
  {
   "cell_type": "markdown",
   "id": "cognitive-window",
   "metadata": {},
   "source": []
  },
  {
   "cell_type": "markdown",
   "id": "entertaining-homework",
   "metadata": {},
   "source": []
  }
 ],
 "metadata": {
  "kernelspec": {
   "display_name": "aiffel",
   "language": "python",
   "name": "aiffel"
  },
  "language_info": {
   "codemirror_mode": {
    "name": "ipython",
    "version": 3
   },
   "file_extension": ".py",
   "mimetype": "text/x-python",
   "name": "python",
   "nbconvert_exporter": "python",
   "pygments_lexer": "ipython3",
   "version": "3.7.9"
  },
  "toc": {
   "base_numbering": 1,
   "nav_menu": {},
   "number_sections": true,
   "sideBar": true,
   "skip_h1_title": false,
   "title_cell": "Table of Contents",
   "title_sidebar": "Contents",
   "toc_cell": false,
   "toc_position": {
    "height": "calc(100% - 180px)",
    "left": "10px",
    "top": "150px",
    "width": "433.062px"
   },
   "toc_section_display": true,
   "toc_window_display": true
  },
  "varInspector": {
   "cols": {
    "lenName": 16,
    "lenType": 16,
    "lenVar": 40
   },
   "kernels_config": {
    "python": {
     "delete_cmd_postfix": "",
     "delete_cmd_prefix": "del ",
     "library": "var_list.py",
     "varRefreshCmd": "print(var_dic_list())"
    },
    "r": {
     "delete_cmd_postfix": ") ",
     "delete_cmd_prefix": "rm(",
     "library": "var_list.r",
     "varRefreshCmd": "cat(var_dic_list()) "
    }
   },
   "types_to_exclude": [
    "module",
    "function",
    "builtin_function_or_method",
    "instance",
    "_Feature"
   ],
   "window_display": false
  }
 },
 "nbformat": 4,
 "nbformat_minor": 5
}
