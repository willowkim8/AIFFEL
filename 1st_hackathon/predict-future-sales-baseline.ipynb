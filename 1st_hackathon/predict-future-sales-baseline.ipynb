{
 "cells": [
  {
   "cell_type": "code",
   "execution_count": null,
   "metadata": {},
   "outputs": [],
   "source": []
  },
  {
   "cell_type": "markdown",
   "metadata": {},
   "source": [
    "Goal : 다음 달의 모든 제품 및 매장의 총 판매량을 예측하도록 요청합니다. 이 경쟁을 해결함으로써 데이터 과학 기술을 적용하고 향상시킬 수 있습니다."
   ]
  },
  {
   "cell_type": "markdown",
   "metadata": {},
   "source": [
    "Data fields  \n",
    "ID - 테스트 세트 내에서 (Shop, Item) 튜플을 나타내는 Id  \n",
    "shop_id - 상점의 고유 식별자  \n",
    "item_id - 상품의 고유 식별자  \n",
    "item_category_id - 항목 카테고리의 고유 식별자  \n",
    "item_cnt_day - 판매 된 제품 수입니다. 이 측정 값의 월별 금액을 예측하고 있습니다.  \n",
    "item_price - 상품의 현재 가격  \n",
    "date - dd / mm / yyyy 형식의 날짜  \n",
    "date_block_num - 편의를 위해 사용되는 연속 된 월 번호. 2013 년 1 월은 0, 2013 년 2 월은 1, ..., 2015 년 10 월은 33입니다.  \n",
    "item_name - 항목 이름  \n",
    "shop_name - 상점 이름  \n",
    "item_category_name - 항목 카테고리 이름  \n",
    "이 데이터 세트는 상업적 사용을 포함하여 모든 목적으로 사용할 수 있습니다.  "
   ]
  },
  {
   "cell_type": "code",
   "execution_count": null,
   "metadata": {},
   "outputs": [],
   "source": []
  },
  {
   "cell_type": "code",
   "execution_count": null,
   "metadata": {},
   "outputs": [],
   "source": []
  },
  {
   "cell_type": "code",
   "execution_count": null,
   "metadata": {},
   "outputs": [],
   "source": []
  },
  {
   "cell_type": "code",
   "execution_count": null,
   "metadata": {},
   "outputs": [],
   "source": []
  },
  {
   "cell_type": "code",
   "execution_count": null,
   "metadata": {},
   "outputs": [],
   "source": []
  },
  {
   "cell_type": "code",
   "execution_count": null,
   "metadata": {},
   "outputs": [],
   "source": []
  },
  {
   "cell_type": "code",
   "execution_count": null,
   "metadata": {},
   "outputs": [],
   "source": []
  },
  {
   "cell_type": "code",
   "execution_count": null,
   "metadata": {},
   "outputs": [],
   "source": []
  },
  {
   "cell_type": "code",
   "execution_count": null,
   "metadata": {},
   "outputs": [],
   "source": []
  },
  {
   "cell_type": "code",
   "execution_count": null,
   "metadata": {},
   "outputs": [],
   "source": []
  },
  {
   "cell_type": "code",
   "execution_count": null,
   "metadata": {},
   "outputs": [],
   "source": []
  },
  {
   "cell_type": "code",
   "execution_count": null,
   "metadata": {},
   "outputs": [],
   "source": []
  },
  {
   "cell_type": "code",
   "execution_count": null,
   "metadata": {},
   "outputs": [],
   "source": []
  },
  {
   "cell_type": "code",
   "execution_count": null,
   "metadata": {},
   "outputs": [],
   "source": []
  },
  {
   "cell_type": "markdown",
   "metadata": {},
   "source": [
    "# Baseline"
   ]
  },
  {
   "cell_type": "code",
   "execution_count": null,
   "metadata": {
    "_cell_guid": "b1076dfc-b9ad-4769-8c92-a6c4dae69d19",
    "_uuid": "8f2839f25d086af736a60e9eeb907d3b93b6e0e5"
   },
   "outputs": [],
   "source": [
    "import pandas as pd\n",
    "\n",
    "def prepare_train_data():\n",
    "    train = pd.read_csv('../input/competitive-data-science-predict-future-sales/sales_train.csv')\n",
    "\n",
    "\n",
    "    # Summing sales for each month and clipping into [0, 20]\n",
    "    train = train.groupby(['shop_id', 'item_id','date_block_num'])['item_cnt_day'].sum()\n",
    "    train = train.reset_index()\n",
    "    train['item_cnt_day'] = train['item_cnt_day'].map(lambda x: max(0, min(20, x)))\n",
    "    \n",
    "   \n",
    "    # add month and year\n",
    "    train['month'] = train['date_block_num'].map(lambda x: (x % 12) + 1)\n",
    "    train['year'] = train['date_block_num'].map(lambda x: 2013 + x // 12)\n",
    "\n",
    "    \n",
    "    # Dropping sales in Dec.\n",
    "    train = train[(train['month'] != 1)]\n",
    "    \n",
    "    return train\n",
    "\n",
    "\n",
    "def prepare_test_data():\n",
    "    test = pd.read_csv('../input/competitive-data-science-predict-future-sales/test.csv')\n",
    "\n",
    "    test['date_block_num'] = 34 \n",
    "    test['month'] = 11\n",
    "    test['year'] = 2015\n",
    "    \n",
    "    return test\n",
    "\n",
    "\n",
    "train = prepare_train_data()\n",
    "test = prepare_test_data()"
   ]
  },
  {
   "cell_type": "code",
   "execution_count": null,
   "metadata": {},
   "outputs": [],
   "source": [
    "def add_features(train, test):\n",
    "    # Making flag is it is the first(release) month for (shop_id, item_id)\n",
    "    first_month = train.groupby(['shop_id', 'item_id'])['date_block_num'].min()\n",
    "\n",
    "    train['new_item'] = train.apply(lambda x: x['date_block_num'] == first_month[(x['shop_id'], x['item_id'])], axis='columns')\n",
    "    test['new_item'] = test.apply(lambda x: not ((x['shop_id'], x['item_id']) in first_month.index), axis='columns')\n",
    "    \n",
    "    \n",
    "\n",
    "    # Add prev month sales for (shop_id, item_id)\n",
    "    shop_item_db = train.groupby(['shop_id', 'item_id', 'date_block_num'])['item_cnt_day'].mean()\n",
    "\n",
    "    def make_prev_month_sales(x):\n",
    "        if (x['shop_id'], x['item_id'], x['date_block_num'] - 1) in shop_item_db.index:\n",
    "            return shop_item_db[(x['shop_id'], x['item_id'], x['date_block_num'] - 1)]\n",
    "        else:\n",
    "            return 0\n",
    "\n",
    "    train['prev_month_sales'] = train.apply(make_prev_month_sales, axis='columns')\n",
    "    test['prev_month_sales'] = test.apply(make_prev_month_sales, axis='columns')\n",
    "    \n",
    "    \n",
    "    # Add item category id\n",
    "    items = pd.read_csv('../input/competitive-data-science-predict-future-sales/items.csv')\n",
    "    train['cat_id'] = train['item_id'].map(lambda x: items.loc[x, 'item_category_id'])\n",
    "    test['cat_id'] = test['item_id'].map(lambda x: items.loc[x, 'item_category_id'])\n",
    "\n",
    "\n",
    "    # Shop categories by location\n",
    "    def make_shop_loc(x):\n",
    "        # Yakutsk\n",
    "        if x in [0, 1, 57, 58]: \n",
    "            return 'Yakutsk 4'\n",
    "        # Moscow area\n",
    "        elif x in [3, 20, 21, 22, 23, 24, 25, 26, 27, 28, 29, 30, 31, 32, 33, 54]:\n",
    "            return 'Moscow 16'\n",
    "        # Voronej\n",
    "        elif x in [6, 7, 8]:\n",
    "            return 'Voronej 3'\n",
    "        # Online\n",
    "        elif x in [9, 12, 55]:\n",
    "            return 'Online 3'\n",
    "        # Jukovski\n",
    "        elif x in [10, 11]:\n",
    "            return 'Jukovski 2'\n",
    "        # Kazan\n",
    "        elif x in [13, 14]:\n",
    "            return 'Kazan 2'\n",
    "        # Krasnoyarsk\n",
    "        elif x in [17, 18]:\n",
    "            return 'Krasnoyarsk 2'\n",
    "        # NNovgorod\n",
    "        elif x in [35, 36]:\n",
    "            return 'NNovgorod 2'\n",
    "        # Novosib\n",
    "        elif x in [36, 37]:\n",
    "            return 'Novosib 2'\n",
    "        # Rostov\n",
    "        elif x in [39, 40, 41]:\n",
    "            return 'Rostov 2'\n",
    "        # Spb\n",
    "        elif x in [42, 43]:\n",
    "            return 'Spb 2'\n",
    "        # Samara\n",
    "        elif x in [44, 45]:\n",
    "            return 'Samara 2'\n",
    "        # Tumen\n",
    "        elif x in [49, 50, 51]:\n",
    "            return 'Tumen 2'\n",
    "        # Ufa\n",
    "        elif x in [52, 53]:\n",
    "            return 'Ufa 2'\n",
    "        else:\n",
    "            return 'no_group'\n",
    "\n",
    "    train['shop_loc'] = train['shop_id'].map(make_shop_loc)\n",
    "    test['shop_loc'] = test['shop_id'].map(make_shop_loc)\n",
    "    \n",
    "    \n",
    "    # Adding flag if shop could not be meaningfully grouped\n",
    "    train['no_loc_group'] = (train['shop_loc'] == 'no_group')\n",
    "    test['no_loc_group'] = (test['shop_loc'] == 'no_group')\n",
    "    \n",
    "    \n",
    "    # adding seasons\n",
    "    def make_season(x):\n",
    "        if x in [6, 7, 8]:\n",
    "            return 'summer'\n",
    "        elif x in [9, 10, 11]:\n",
    "            return 'autumn'\n",
    "        elif x in [3, 4, 5]:\n",
    "            return 'spring'\n",
    "        else:\n",
    "            return 'winter'\n",
    "\n",
    "    train['season'] = train['month'].map(make_season)\n",
    "    test['season'] = test['month'].map(make_season)\n",
    "    \n",
    "    \n",
    "    # seasonal sales for (shop_id, item_id)\n",
    "    seasonal_sales = train.groupby(['shop_id', 'item_id', 'season'])['item_cnt_day'].sum()\n",
    "\n",
    "    def make_seasonal_sales(x):\n",
    "        if (x['shop_id'], x['item_id'], x['season']) in seasonal_sales.index:\n",
    "            return seasonal_sales[(x['shop_id'], x['item_id'], x['season'])] / 9\n",
    "        else:\n",
    "            return 0\n",
    "\n",
    "    train['seasonal_sales_shop_id'] = train.apply(make_seasonal_sales, axis='columns')\n",
    "    test['seasonal_sales_shop_id'] = test.apply(make_seasonal_sales, axis='columns')\n",
    "    \n",
    "    \n",
    "    # add prev month sales for (shop_loc, item_id)\n",
    "    loc_item_db = train.groupby(['shop_loc', 'item_id', 'date_block_num'])['item_cnt_day'].mean()\n",
    "\n",
    "    def make_prev_month_sales_loc(x):\n",
    "        if x['shop_loc'] == 'no_group':\n",
    "            return x['prev_month_sales']\n",
    "        elif (x['shop_loc'], x['item_id'], x['date_block_num'] - 1) in loc_item_db.index:\n",
    "            num = x['shop_loc'].split()\n",
    "            num = int(num[1])\n",
    "            return loc_item_db[(x['shop_loc'], x['item_id'], x['date_block_num'] - 1)] / num\n",
    "        else:\n",
    "            return 0\n",
    "\n",
    "    train['prev_month_sales_loc'] = train.apply(make_prev_month_sales_loc, axis='columns')\n",
    "    test['prev_month_sales_loc'] = test.apply(make_prev_month_sales_loc, axis='columns')\n",
    "    \n",
    "    \n",
    "    # add seasonaladd_features() sales for (shop_loc, item_id)\n",
    "    loc_item_seasonal = train.groupby(['shop_loc', 'item_id', 'season'])['item_cnt_day'].sum()\n",
    "\n",
    "    def make_loc_item_seasonal(x):\n",
    "        if x['shop_loc'] == 'no_group':\n",
    "            return x['seasonal_sales_shop_id']\n",
    "        if (x['shop_loc'], x['item_id'], x['season']) in loc_item_seasonal.index:\n",
    "            num = x['shop_loc'].split()\n",
    "            num = int(num[1])\n",
    "            return loc_item_seasonal[(x['shop_loc'], x['item_id'], x['season'])] / num\n",
    "        else:\n",
    "            return 0\n",
    "\n",
    "    train['loc_item_seasonal'] = train.apply(make_prev_month_sales, axis='columns')\n",
    "    test['loc_item_seasonal'] = test.apply(make_prev_month_sales, axis='columns')\n",
    "    \n",
    "    # add pair (shop_id, item_id)\n",
    "    train['shop_id_item_id'] = train['shop_id'].astype(str) + '->' + train['item_id'].astype(str)\n",
    "    test['shop_id_item_id'] = test['shop_id'].astype(str) + '->' + test['item_id'].astype(str)"
   ]
  },
  {
   "cell_type": "code",
   "execution_count": null,
   "metadata": {
    "_cell_guid": "79c7e3d0-c299-4dcb-8224-4455121ee9b0",
    "_uuid": "d629ff2d2480ee46fbb7e2d37f6b5fab8052498a"
   },
   "outputs": [],
   "source": [
    "%%time\n",
    "add_features(train, test)"
   ]
  },
  {
   "cell_type": "code",
   "execution_count": null,
   "metadata": {},
   "outputs": [],
   "source": [
    "train.head()"
   ]
  },
  {
   "cell_type": "code",
   "execution_count": null,
   "metadata": {},
   "outputs": [],
   "source": [
    "features = ['shop_id',\n",
    "            'item_id',\n",
    "            'shop_id_item_id',\n",
    "            'new_item',\n",
    "            'month',\n",
    "            'year',\n",
    "            'prev_month_sales',\n",
    "            'cat_id',\n",
    "            'shop_loc',\n",
    "            'no_loc_group',\n",
    "            'season', \n",
    "            'seasonal_sales_shop_id',\n",
    "            'prev_month_sales_loc',\n",
    "            'loc_item_seasonal',\n",
    "           ]\n",
    "\n",
    "cats = ['shop_id',\n",
    "        'item_id',\n",
    "        'shop_id_item_id',\n",
    "        'new_item',\n",
    "        'month',\n",
    "        'year',\n",
    "        'cat_id',\n",
    "        'shop_loc',\n",
    "        'no_loc_group', \n",
    "        'season', \n",
    "        ]\n",
    "\n",
    "X = train[features]\n",
    "y = train['item_cnt_day']"
   ]
  },
  {
   "cell_type": "code",
   "execution_count": null,
   "metadata": {},
   "outputs": [],
   "source": [
    "model_ctb = CatBoostRegressor(iterations=3000, loss_function='RMSE',\n",
    "                              learning_rate=0.06,\n",
    "                              depth=8,\n",
    "                              l2_leaf_reg=11,\n",
    "                              random_seed=17,\n",
    "                              silent=True,\n",
    "                              )\n",
    "\n",
    "model_ctb.fit(X, y,\n",
    "              cat_features=cats,\n",
    "              plot=True,\n",
    "              )"
   ]
  },
  {
   "cell_type": "code",
   "execution_count": null,
   "metadata": {},
   "outputs": [],
   "source": [
    "predictions = model_ctb.predict(test[features])\n",
    "predictions = pd.Series(predictions)"
   ]
  },
  {
   "cell_type": "code",
   "execution_count": null,
   "metadata": {},
   "outputs": [],
   "source": [
    "# Clipping predictions into [0, 20].\n",
    "predictions = predictions.map(lambda x: max(0, min(20, x)))\n",
    "\n",
    "test['pred'] = predictions\n",
    "output = test[['ID', 'pred']]\n",
    "output.columns = ['ID', 'item_cnt_month']\n",
    "output = output.set_index('ID')\n",
    "output.to_csv('catboost_baseline')\n",
    "\n",
    "output.head()"
   ]
  }
 ],
 "metadata": {
  "kernelspec": {
   "display_name": "Python 3",
   "language": "python",
   "name": "python3"
  },
  "language_info": {
   "codemirror_mode": {
    "name": "ipython",
    "version": 3
   },
   "file_extension": ".py",
   "mimetype": "text/x-python",
   "name": "python",
   "nbconvert_exporter": "python",
   "pygments_lexer": "ipython3",
   "version": "3.7.9"
  },
  "toc": {
   "base_numbering": 1,
   "nav_menu": {},
   "number_sections": true,
   "sideBar": true,
   "skip_h1_title": false,
   "title_cell": "Table of Contents",
   "title_sidebar": "Contents",
   "toc_cell": false,
   "toc_position": {},
   "toc_section_display": true,
   "toc_window_display": false
  },
  "varInspector": {
   "cols": {
    "lenName": 16,
    "lenType": 16,
    "lenVar": 40
   },
   "kernels_config": {
    "python": {
     "delete_cmd_postfix": "",
     "delete_cmd_prefix": "del ",
     "library": "var_list.py",
     "varRefreshCmd": "print(var_dic_list())"
    },
    "r": {
     "delete_cmd_postfix": ") ",
     "delete_cmd_prefix": "rm(",
     "library": "var_list.r",
     "varRefreshCmd": "cat(var_dic_list()) "
    }
   },
   "types_to_exclude": [
    "module",
    "function",
    "builtin_function_or_method",
    "instance",
    "_Feature"
   ],
   "window_display": false
  }
 },
 "nbformat": 4,
 "nbformat_minor": 4
}
