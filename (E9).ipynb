{
 "cells": [
  {
   "cell_type": "markdown",
   "id": "returning-sailing",
   "metadata": {},
   "source": [
    "# 9-2. 대회의 시작 (1) 참가 규칙, 평가 기준 살펴보기\n",
    "https://www.kaggle.com/c/2019-2nd-ml-month-with-kakr  \n",
    "\n",
    "2019 ML month 2nd baseline 커널  \n",
    "https://www.kaggle.com/kcs93023/2019-ml-month-2nd-baseline  \n",
    "  \n",
    "Evaluation, 점수 평가 기준  \n",
    "  \n",
    "RMSE(평균 제곱근 오차)  \n",
    "  \n",
    "추정 값 또는 모델이 예측한 값과 실제 환경에서 관찰되는 값의 차이를 다룰 때 흔히 사용하는 측도이다  \n",
    "Data Explorer, 데이터 파일  \n",
    "  \n",
    "train.csv를 활용해서 데이터를 뜯어보고 모델을 학습시킨 후, test.csv 파일의 데이터에 대해 price를 예측해서 sample_submission.csv의 형식에 맞는 형태로 캐글에 제출을 해볼 것입니다.  \n",
    "  \n",
    "$ wget https://aiffelstaticprd.blob.core.windows.net/media/documents/kaggle-kakr-housing-data.zip  \n",
    "$ mv kaggle-kakr-housing-data.zip ~/aiffel/kaggle_kakr_housing  \n",
    "$ cd ~/aiffel/kaggle_kakr_housing  \n",
    "$ unzip kaggle-kakr-housing-data.zip  \n",
    "├── 2019 ML month 2nd baseline 커널.ipynb      \n",
    "└── data  \n",
    "    ├── sample_submission.csv       \n",
    "    ├── test.csv       \n",
    "    └── train.csv  \n",
    "```\n",
    "$ conda install -c conda-forge xgboost  \n",
    "$ conda install -c conda-forge lightgbm  \n",
    "$ conda install -c conda-forge missingno  \n",
    "```  \n",
    "xgboost , lightgbm  -> 회귀 모델 구현 라이브러리  \n",
    "missingno           -> 결측 데이터 확인 라이브러리   \n",
    "\n",
    "  \n",
    "Q2. 그렇다면 이번 대회에서 푸는 문제는 분류 문제일까요, 회귀 문제일까요?  \n",
    "어떤 카테고리에 속하는지를 맞추는 문제가 아니라, 실수값을 맞추는 문제이므로 회귀 문제이다.  "
   ]
  },
  {
   "cell_type": "code",
   "execution_count": null,
   "id": "wireless-castle",
   "metadata": {},
   "outputs": [],
   "source": [
    "import warnings\n",
    "warnings.filterwarnings(\"ignore\")\n",
    "\n",
    "import os\n",
    "from os.path import join\n",
    "\n",
    "import pandas as pd\n",
    "import numpy as np\n",
    "\n",
    "import missingno as msno\n",
    "\n",
    "from sklearn.ensemble import GradientBoostingRegressor\n",
    "from sklearn.model_selection import KFold, cross_val_score\n",
    "import xgboost as xgb\n",
    "import lightgbm as lgb\n",
    "\n",
    "import matplotlib.pyplot as plt\n",
    "import seaborn as sns\n",
    "\n",
    "print('얍💢')"
   ]
  },
  {
   "cell_type": "markdown",
   "id": "funny-columbus",
   "metadata": {},
   "source": [
    "# ✓ 데이터 경로 지정하기\n",
    "캐글커널같은 경우 이와같이 설정해준다.\n",
    "train_data_path = join('../input', 'train.csv')\n",
    "sub_data_path = join('../input', 'test.csv'\n",
    "\n",
    "우리는 pc로컬에서 사용하기 때문에 자기자신에 맞는 경로로 바꿔 주자"
   ]
  },
  {
   "cell_type": "code",
   "execution_count": null,
   "id": "amber-custody",
   "metadata": {},
   "outputs": [],
   "source": [
    "data_dir = os.getenv('HOME')+'/aiffel/kaggle_kakr_housing/data' \n",
    "\n",
    "train_data_path = join(data_dir, 'train.csv') \n",
    "sub_data_path = join(data_dir, 'test.csv')\n",
    "\n",
    "print(train_data_path)\n",
    "print(sub_data_path)"
   ]
  },
  {
   "cell_type": "code",
   "execution_count": null,
   "id": "compressed-cause",
   "metadata": {},
   "outputs": [],
   "source": []
  },
  {
   "cell_type": "code",
   "execution_count": null,
   "id": "approximate-massachusetts",
   "metadata": {},
   "outputs": [],
   "source": []
  },
  {
   "cell_type": "code",
   "execution_count": null,
   "id": "parental-gossip",
   "metadata": {},
   "outputs": [],
   "source": []
  },
  {
   "cell_type": "code",
   "execution_count": null,
   "id": "sitting-harrison",
   "metadata": {},
   "outputs": [],
   "source": []
  },
  {
   "cell_type": "code",
   "execution_count": null,
   "id": "norwegian-bonus",
   "metadata": {},
   "outputs": [],
   "source": []
  }
 ],
 "metadata": {
  "kernelspec": {
   "display_name": "aiffel",
   "language": "python",
   "name": "aiffel"
  },
  "language_info": {
   "codemirror_mode": {
    "name": "ipython",
    "version": 3
   },
   "file_extension": ".py",
   "mimetype": "text/x-python",
   "name": "python",
   "nbconvert_exporter": "python",
   "pygments_lexer": "ipython3",
   "version": "3.7.9"
  },
  "toc": {
   "base_numbering": 1,
   "nav_menu": {},
   "number_sections": true,
   "sideBar": true,
   "skip_h1_title": false,
   "title_cell": "Table of Contents",
   "title_sidebar": "Contents",
   "toc_cell": false,
   "toc_position": {},
   "toc_section_display": true,
   "toc_window_display": false
  },
  "varInspector": {
   "cols": {
    "lenName": 16,
    "lenType": 16,
    "lenVar": 40
   },
   "kernels_config": {
    "python": {
     "delete_cmd_postfix": "",
     "delete_cmd_prefix": "del ",
     "library": "var_list.py",
     "varRefreshCmd": "print(var_dic_list())"
    },
    "r": {
     "delete_cmd_postfix": ") ",
     "delete_cmd_prefix": "rm(",
     "library": "var_list.r",
     "varRefreshCmd": "cat(var_dic_list()) "
    }
   },
   "types_to_exclude": [
    "module",
    "function",
    "builtin_function_or_method",
    "instance",
    "_Feature"
   ],
   "window_display": false
  }
 },
 "nbformat": 4,
 "nbformat_minor": 5
}
