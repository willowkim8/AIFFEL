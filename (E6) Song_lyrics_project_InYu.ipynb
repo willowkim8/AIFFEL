{
 "cells": [
  {
   "cell_type": "markdown",
   "id": "surprised-modem",
   "metadata": {},
   "source": [
    "## 6-7. 프로젝트: 멋진 작사가 만들기\n",
    "1) Step 1. 데이터 다운로드  \n",
    "Song Lyrics 데이터를 다운  \n",
    "  \n",
    "2) Step 2. 데이터 읽어오기  \n",
    "  \n",
    "3) Step 3. 데이터 정제  \n",
    "앞서 배운 테크닉들을 활용해 문장 생성에 적합한 모양새로 데이터를 정제하세요!  \n",
    "preprocess_sentence() 함수를 만든 것을 기억하시죠? 이를 활용해 데이터를 정제하도록 하겠습니다.  \n",
    "  \n",
    "추가로 지나치게 긴 문장은 다른 데이터들이 과도한 Padding을 갖게 하므로 제거합니다. 너무 긴 문장은 노래가사 작사하기에 어울리지 않을수도 있겠죠.\n",
    "그래서 이번에는 문장을 토큰화 했을 때 토큰의 개수가 15개를 넘어가는 문장을 학습데이터에서 제외하기를 권합니다.  \n",
    "  \n",
    "4) Step 4. 평가 데이터셋 분리  \n",
    "tokenize() 함수로 데이터를 Tensor로 변환한 후, sklearn 모듈의 train_test_split() 함수를 사용해 훈련 데이터와 평가 데이터를 분리하도록 하겠습니다. 단어장의 크기는 12,000 이상으로 설정하세요! 총 데이터의 20%를 평가 데이터셋으로 사용해 주세요!  \n",
    "```\n",
    "enc_train, enc_val, dec_train, dec_val = <코드 작성>\n",
    "\n",
    "print(\"Source Train:\", enc_train.shape)\n",
    "print(\"Target Train:\", dec_train.shape)\n",
    "\n",
    "\n",
    "out:\n",
    "\n",
    "Source Train: (124960, 14)\n",
    "Target Train: (124960, 14)\n",
    "```\n",
    "\n",
    "  \n",
    "5) Step 5. 인공지능 만들기  \n",
    "모델의 Embedding Size와 Hidden Size를 조절하며 10 Epoch 안에 val_loss 값을 2.2 수준으로 줄일 수 있는 모델을 설계하세요! (Loss는 아래 제시된 Loss 함수를 그대로 사용!)  \n",
    "``` \n",
    "#Loss\n",
    "\n",
    "loss = tf.keras.losses.SparseCategoricalCrossentropy(\n",
    "    from_logits=True, reduction='none')\n",
    "    \n",
    "print(\"Source Train:\", enc_train.shape)\n",
    "print(\"Target Train:\", dec_train.shape)\n",
    "\n",
    "```\n",
    "\n",
    "***\n",
    "\n",
    "평가문항\n",
    "1. 가사 텍스트 생성 모델이 정상적으로 동작하는가?  \n",
    "텍스트 제너레이션 결과가 그럴듯한 문장으로 생성되는가?  \n",
    "  \n",
    "2. 데이터의 전처리와 데이터셋 구성 과정이 체계적으로 진행되었는가?  \n",
    "특수문자 제거, 토크나이저 생성, 패딩처리 등의 과정이 빠짐없이 진행되었는가?  \n",
    "  \n",
    "3. 텍스트 생성모델이 안정적으로 학습되었는가?   \n",
    "텍스트 생성모델의 validation loss가 2.2 이하로 낮아졌는가?   \n",
    "\n"
   ]
  },
  {
   "cell_type": "markdown",
   "id": "tribal-rental",
   "metadata": {},
   "source": [
    "## 1) Step 1. 데이터 다운로드  \n",
    "Song Lyrics 데이터를 다운  \n",
    "  \n",
    "## 2) Step 2. 데이터 읽어오기  "
   ]
  },
  {
   "cell_type": "code",
   "execution_count": 1,
   "id": "incomplete-monday",
   "metadata": {},
   "outputs": [
    {
     "name": "stdout",
     "output_type": "stream",
     "text": [
      "데이터 크기: 187088\n",
      "Examples:\n",
      " ['How does a bastard, orphan, son of a whore', 'And a Scotsman, dropped in the middle of a forgotten spot in the Caribbean by providence impoverished,', 'In squalor, grow up to be a hero and a scholar? The ten-dollar founding father without a father']\n"
     ]
    }
   ],
   "source": [
    "import glob # 파일을 읽어오는 작업을 하기가 아주 용이\n",
    "import os\n",
    "\n",
    "txt_file_path = os.getenv('HOME')+'/aiffel/lyricist/data/lyrics/*' # * = all : 모두 읽는다.\n",
    "\n",
    "txt_list = glob.glob(txt_file_path)\n",
    "\n",
    "raw_corpus = []\n",
    "\n",
    "# 여러개의 txt 파일을 모두 읽어서 raw_corpus 에 담습니다.\n",
    "for txt_file in txt_list:\n",
    "    with open(txt_file, \"r\") as f:\n",
    "        raw = f.read().splitlines()\n",
    "        raw_corpus.extend(raw)\n",
    "\n",
    "print(\"데이터 크기:\", len(raw_corpus))\n",
    "print(\"Examples:\\n\", raw_corpus[:3])"
   ]
  },
  {
   "cell_type": "markdown",
   "id": "explicit-fifty",
   "metadata": {},
   "source": [
    "## 3) Step 3. 데이터 정제  \n",
    "앞서 배운 테크닉들을 활용해 문장 생성에 적합한 모양새로 데이터를 정제하세요!  \n",
    "preprocess_sentence() 함수를 만든 것을 기억하시죠? 이를 활용해 데이터를 정제하도록 하겠습니다. "
   ]
  },
  {
   "cell_type": "code",
   "execution_count": 13,
   "id": "answering-dependence",
   "metadata": {},
   "outputs": [
    {
     "name": "stdout",
     "output_type": "stream",
     "text": [
      "<start> this is sample sentence . <end>\n"
     ]
    }
   ],
   "source": [
    "def preprocess_sentence(sentence):\n",
    "    sentence = sentence.lower().strip()       # 소문자로 바꾸고 양쪽 공백을 삭제\n",
    "  \n",
    "    # 아래 3단계를 거쳐 sentence는 스페이스 1개를 delimeter로 하는 소문자 단어 시퀀스로 바뀝니다.\n",
    "    sentence = re.sub(r\"([?.!,¿])\", r\" \\1 \", sentence)        # 패턴의 특수문자를 만나면 특수문자 양쪽에 공백을 추가\n",
    "    sentence = re.sub(r'[\" \"]+', \" \", sentence)                  # 공백 패턴을 만나면 스페이스 1개로 치환\n",
    "    sentence = re.sub(r\"[^a-zA-Z?.!,¿]+\", \" \", sentence)  # a-zA-Z?.!,¿ 패턴을 제외한 모든 문자(공백문자까지도)를 스페이스 1개로 치환\n",
    "\n",
    "    sentence = sentence.strip()\n",
    "\n",
    "    sentence = '<start> ' + sentence + ' <end>'      # 이전 스텝에서 본 것처럼 문장 앞뒤로 <start>와 <end>를 단어처럼 붙여 줍니다\n",
    "    \n",
    "    return sentence\n",
    "\n",
    "print(preprocess_sentence(\"This @_is ;;;sample        sentence.\"))   # 이 문장이 어떻게 필터링되는지 확인해 보세요."
   ]
  },
  {
   "cell_type": "code",
   "execution_count": 16,
   "id": "mechanical-microwave",
   "metadata": {},
   "outputs": [
    {
     "data": {
      "text/plain": [
       "['<start> how does a bastard , orphan , son of a whore <end>',\n",
       " '<start> and a scotsman , dropped in the middle of a forgotten spot in the caribbean by providence impoverished , <end>',\n",
       " '<start> in squalor , grow up to be a hero and a scholar ? the ten dollar founding father without a father <end>',\n",
       " '<start> got a lot farther by working a lot harder <end>',\n",
       " '<start> by being a lot smarter by being a self starter <end>',\n",
       " '<start> by fourteen , they placed him in charge of a trading charter and every day while slaves were being slaughtered and carted away <end>',\n",
       " '<start> across the waves , he struggled and kept his guard up <end>',\n",
       " '<start> inside , he was longing for something to be a part of <end>',\n",
       " '<start> the brother was ready to beg , steal , borrow , or barter then a hurricane came , and devastation reigned <end>',\n",
       " '<start> our man saw his future drip , dripping down the drain <end>']"
      ]
     },
     "execution_count": 16,
     "metadata": {},
     "output_type": "execute_result"
    }
   ],
   "source": [
    "corpus = []\n",
    "\n",
    "for sentence in raw_corpus: # \n",
    "    if len(sentence) == 0: continue\n",
    "    if sentence[-1] == \":\": continue\n",
    "        \n",
    "    corpus.append(preprocess_sentence(sentence))\n",
    "        \n",
    "\n",
    "corpus[:10]"
   ]
  },
  {
   "cell_type": "markdown",
   "id": "functioning-satisfaction",
   "metadata": {},
   "source": [
    "**문장 토큰 개수를 12개로 조정**"
   ]
  },
  {
   "cell_type": "code",
   "execution_count": 45,
   "id": "nominated-negotiation",
   "metadata": {},
   "outputs": [
    {
     "name": "stdout",
     "output_type": "stream",
     "text": [
      "[[    2    78   626 ...     3     0     0]\n",
      " [   14     6   881 ... 11331     4     3]\n",
      " [    9  2040     8 ...     9   635     3]\n",
      " ...\n",
      " [    2   207     1 ...     0     0     0]\n",
      " [    2    76     7 ...     0     0     0]\n",
      " [    2    14     6 ...     0     0     0]]\n",
      "<keras_preprocessing.text.Tokenizer object at 0x7fc180112950>\n"
     ]
    }
   ],
   "source": [
    "def tokenize(corpus):\n",
    "    # 텐서플로우에서 제공하는 Tokenizer 패키지를 생성\n",
    "    tokenizer = tf.keras.preprocessing.text.Tokenizer(\n",
    "        num_words=12000,  # 전체 단어의 개수 \n",
    "        filters=' ',    # 별도로 전처리 로직을 추가할 수 있습니다. 이번에는 사용하지 않겠습니다.\n",
    "        oov_token=\"<unk>\"  # out-of-vocabulary, 사전에 없었던 단어는 어떤 토큰으로 대체할지\n",
    "    )\n",
    "    tokenizer.fit_on_texts(corpus)   # 우리가 구축한 corpus로부터 Tokenizer가 사전을 자동구축하게 됩니다.\n",
    "\n",
    "    # 이후 tokenizer를 활용하여 모델에 입력할 데이터셋을 구축하게 됩니다.\n",
    "    tensor = tokenizer.texts_to_sequences(corpus)   # tokenizer는 구축한 사전으로부터 corpus를 해석해 Tensor로 변환합니다.\n",
    "\n",
    "    # 입력 데이터의 시퀀스 길이를 일정하게 맞추기 위한 padding  메소드를 제공합니다.\n",
    "    # maxlen의 디폴트값은 None입니다. 이 경우 corpus의 가장 긴 문장을 기준으로 시퀀스 길이가 맞춰집니다.\n",
    "    tensor = tf.keras.preprocessing.sequence.pad_sequences(tensor, padding='post', maxlen = 15)  \n",
    "\n",
    "    print(tensor, tokenizer, sep='\\n')\n",
    "    return tensor, tokenizer\n",
    "\n",
    "tensor, tokenizer = tokenize(corpus)"
   ]
  },
  {
   "cell_type": "code",
   "execution_count": 46,
   "id": "acting-newport",
   "metadata": {},
   "outputs": [
    {
     "name": "stdout",
     "output_type": "stream",
     "text": [
      "[[    2    78   626     9  4376     4  5629     4   611    19]\n",
      " [   14     6   881    19     9  1974   808    14     6  4179]\n",
      " [    9  2040     8     9  7655    43     6   743  1128 11332]\n",
      " [    2    41     9   396  3196   122  1121     9   396  1032]\n",
      " [    2   122   543     9   396  7656   122   543     9  1202]]\n"
     ]
    }
   ],
   "source": [
    "# 생성된 텐서 데이터를 3번째 행, 10번째 열까지만 출력\n",
    "print(tensor[:5, :10])"
   ]
  },
  {
   "cell_type": "markdown",
   "id": "inner-young",
   "metadata": {},
   "source": [
    "# \\[1]번 보니까 앞에 부분을 잘라서 길이 맞췄다고 볼 수 있음"
   ]
  },
  {
   "cell_type": "code",
   "execution_count": 47,
   "id": "romance-essay",
   "metadata": {},
   "outputs": [
    {
     "name": "stdout",
     "output_type": "stream",
     "text": [
      "1 : <unk>\n",
      "2 : <start>\n",
      "3 : <end>\n",
      "4 : ,\n",
      "5 : i\n",
      "6 : the\n",
      "7 : you\n",
      "8 : and\n",
      "9 : a\n",
      "10 : to\n",
      "11 : it\n",
      "12 : me\n",
      "13 : my\n",
      "14 : in\n",
      "15 : t\n",
      "16 : s\n",
      "17 : that\n",
      "18 : on\n",
      "19 : of\n",
      "20 : .\n"
     ]
    }
   ],
   "source": [
    "# 단어 사전이 어떻게 구축되었는지 아래와 같이 확인\n",
    "for idx in tokenizer.index_word:\n",
    "    print(idx, \":\", tokenizer.index_word[idx])\n",
    "\n",
    "    if idx >= 20: break"
   ]
  },
  {
   "cell_type": "markdown",
   "id": "upset-behalf",
   "metadata": {},
   "source": [
    "## 4) Step 4. 평가 데이터셋 분리  \n",
    "tokenize() 함수로 데이터를 Tensor로 변환한 후, sklearn 모듈의 train_test_split() 함수를 사용해 훈련 데이터와 평가 데이터를 분리하도록 하겠습니다. 단어장의 크기는 12,000 이상으로 설정하세요! 총 데이터의 20%를 평가 데이터셋으로 사용해 주세요!   \n",
    "  \n",
    "```\n",
    "enc_train, enc_val, dec_train, dec_val = <코드 작성>\n",
    "\n",
    "print(\"Source Train:\", enc_train.shape)\n",
    "print(\"Target Train:\", dec_train.shape)\n",
    "\n",
    "\n",
    "out:\n",
    "\n",
    "Source Train: (124960, 14)\n",
    "Target Train: (124960, 14)\n",
    "```\n"
   ]
  },
  {
   "cell_type": "code",
   "execution_count": 48,
   "id": "formed-enemy",
   "metadata": {},
   "outputs": [
    {
     "name": "stdout",
     "output_type": "stream",
     "text": [
      "[   2   78  626    9 4376    4 5629    4  611   19    9 3293    3    0]\n",
      "[  78  626    9 4376    4 5629    4  611   19    9 3293    3    0    0]\n"
     ]
    }
   ],
   "source": [
    "# 생성된 텐서를 소스와 타겟으로 분리하여 모델이 학습할 수 있게\n",
    "src_input = tensor[:, :-1]  # tensor에서 마지막 토큰을 잘라내서 소스 문장을 생성합니다. 마지막 토큰은 <end>가 아니라 <pad>일 가능성이 높습니다.\n",
    "tgt_input = tensor[:, 1:]    # tensor에서 <start>를 잘라내서 타겟 문장을 생성합니다.\n",
    "\n",
    "print(src_input[0])\n",
    "print(tgt_input[0])"
   ]
  },
  {
   "cell_type": "code",
   "execution_count": 49,
   "id": "removed-briefing",
   "metadata": {},
   "outputs": [
    {
     "name": "stdout",
     "output_type": "stream",
     "text": [
      "<class 'tensorflow.python.data.ops.dataset_ops.BatchDataset'>\n"
     ]
    },
    {
     "data": {
      "text/plain": [
       "<BatchDataset shapes: ((256, 14), (256, 14)), types: (tf.int32, tf.int32)>"
      ]
     },
     "execution_count": 49,
     "metadata": {},
     "output_type": "execute_result"
    }
   ],
   "source": [
    "BUFFER_SIZE = len(src_input)\n",
    "BATCH_SIZE = 256\n",
    "steps_per_epoch = len(src_input) // BATCH_SIZE\n",
    "\n",
    "VOCAB_SIZE = tokenizer.num_words + 1    # tokenizer가 구축한 단어사전 내 12000개와, 여기 포함되지 않은 0:<pad>를 포함하여 12001개\n",
    "\n",
    "dataset = tf.data.Dataset.from_tensor_slices((src_input, tgt_input)).shuffle(BUFFER_SIZE)\n",
    "dataset = dataset.batch(BATCH_SIZE, drop_remainder=True)\n",
    "\n",
    "print(type(dataset))\n",
    "dataset"
   ]
  },
  {
   "cell_type": "code",
   "execution_count": 50,
   "id": "working-threat",
   "metadata": {},
   "outputs": [],
   "source": [
    "from sklearn.model_selection import train_test_split\n",
    "\n",
    "# train_test_split(arrays, test_size, train_size, random_state, shuffle, stratify)\n",
    "\n",
    "enc_train, enc_val, dec_train, dec_val = train_test_split(src_input, \n",
    "                                                          tgt_input, \n",
    "                                                          test_size=0.2, \n",
    "                                                          random_state=20)"
   ]
  },
  {
   "cell_type": "code",
   "execution_count": 51,
   "id": "animated-mileage",
   "metadata": {},
   "outputs": [
    {
     "name": "stdout",
     "output_type": "stream",
     "text": [
      "Source Train: (140599, 14)\n",
      "Target Train: (140599, 14)\n"
     ]
    }
   ],
   "source": [
    "print(\"Source Train:\", enc_train.shape)\n",
    "print(\"Target Train:\", dec_train.shape)"
   ]
  },
  {
   "cell_type": "markdown",
   "id": "trained-offense",
   "metadata": {},
   "source": [
    "## 5) Step 5. 인공지능 만들기  \n",
    "모델의 Embedding Size와 Hidden Size를 조절하며 10 Epoch 안에 val_loss 값을 2.2 수준으로 줄일 수 있는 모델을 설계하세요! (Loss는 아래 제시된 Loss 함수를 그대로 사용!)  \n",
    "``` \n",
    "#Loss\n",
    "\n",
    "loss = tf.keras.losses.SparseCategoricalCrossentropy(\n",
    "    from_logits=True, reduction='none')\n",
    "    \n",
    "print(\"Source Train:\", enc_train.shape)\n",
    "print(\"Target Train:\", dec_train.shape)\n",
    "\n",
    "```"
   ]
  },
  {
   "cell_type": "code",
   "execution_count": 52,
   "id": "coupled-practitioner",
   "metadata": {},
   "outputs": [],
   "source": [
    "class TextGenerator(tf.keras.Model):\n",
    "    def __init__(self, vocab_size, embedding_size, hidden_size):\n",
    "        super(TextGenerator, self).__init__()\n",
    "        \n",
    "        self.embedding = tf.keras.layers.Embedding(vocab_size, embedding_size) # Embedding 레이어\n",
    "        self.rnn_1 = tf.keras.layers.LSTM(hidden_size, return_sequences=True)\n",
    "        self.rnn_2 = tf.keras.layers.LSTM(hidden_size, return_sequences=True)\n",
    "        self.linear = tf.keras.layers.Dense(vocab_size)\n",
    "        \n",
    "    def call(self, x):\n",
    "        out = self.embedding(x)\n",
    "        out = self.rnn_1(out)\n",
    "        out = self.rnn_2(out)\n",
    "        out = self.linear(out)\n",
    "        \n",
    "        return out\n",
    "    \n",
    "embedding_size = 256\n",
    "hidden_size = 1024\n",
    "model = TextGenerator(tokenizer.num_words + 1, embedding_size , hidden_size)"
   ]
  },
  {
   "cell_type": "code",
   "execution_count": 53,
   "id": "grave-protocol",
   "metadata": {},
   "outputs": [
    {
     "name": "stdout",
     "output_type": "stream",
     "text": [
      "tf.Tensor(\n",
      "[[[-7.17030707e-05  9.66636726e-05 -1.35926719e-04 ... -5.78529034e-05\n",
      "   -1.68122162e-04  2.75197181e-05]\n",
      "  [-3.71309608e-04  1.28697240e-04 -3.36190627e-04 ... -1.08932065e-04\n",
      "   -3.81891414e-06  7.38477102e-05]\n",
      "  [-2.65153212e-04  3.11271113e-04 -3.62820545e-04 ... -2.24667689e-04\n",
      "    3.26630456e-04  1.03909324e-05]\n",
      "  ...\n",
      "  [-1.14605750e-03  1.72785786e-03  9.73225688e-04 ... -2.66238785e-04\n",
      "    2.12322897e-03  1.78654457e-03]\n",
      "  [-1.00275455e-03  1.84375024e-03  1.07264449e-03 ... -1.51951783e-04\n",
      "    2.23858887e-03  1.91745337e-03]\n",
      "  [-8.65304784e-04  1.92454935e-03  1.14755053e-03 ... -6.29854039e-05\n",
      "    2.33769789e-03  1.99997635e-03]]\n",
      "\n",
      " [[ 3.34372926e-05  1.65613717e-04  2.45500032e-05 ... -2.73446258e-05\n",
      "    1.97154644e-04  6.07340589e-05]\n",
      "  [ 1.09722467e-04  4.50927415e-04  7.50840845e-05 ... -5.42589441e-05\n",
      "    4.94283566e-04  1.21947691e-04]\n",
      "  [ 1.02939288e-04  3.98184784e-04  3.20623687e-04 ... -8.93959514e-05\n",
      "    6.38325349e-04 -2.10054292e-04]\n",
      "  ...\n",
      "  [-3.42022162e-04  9.61176993e-04  2.54708342e-03 ...  2.63485781e-05\n",
      "    1.10107486e-03 -1.74836186e-03]\n",
      "  [-4.22961195e-04  8.70598655e-04  2.74745445e-03 ...  5.74731021e-05\n",
      "    1.02217717e-03 -1.97491911e-03]\n",
      "  [-4.38263174e-04  1.04017963e-03  2.82484223e-03 ...  1.00713660e-04\n",
      "    1.05702411e-03 -1.92013918e-03]]\n",
      "\n",
      " [[-7.17030707e-05  9.66636726e-05 -1.35926719e-04 ... -5.78529034e-05\n",
      "   -1.68122162e-04  2.75197181e-05]\n",
      "  [-2.85591232e-04 -4.92259642e-05 -1.24193439e-05 ...  5.52064957e-05\n",
      "   -3.92006128e-04 -1.30600572e-04]\n",
      "  [-6.96376781e-04 -4.78077782e-05 -2.06419965e-04 ...  9.52110422e-05\n",
      "   -3.48994043e-04 -2.57114501e-04]\n",
      "  ...\n",
      "  [-1.63344096e-03  1.17930642e-03  1.74500840e-03 ... -7.17534334e-04\n",
      "    8.43681919e-04  3.04436486e-04]\n",
      "  [-1.71482179e-03  1.33459643e-03  1.86854380e-03 ... -5.74932026e-04\n",
      "    1.02949236e-03  6.97826676e-04]\n",
      "  [-1.69922016e-03  1.47271960e-03  1.95988268e-03 ... -4.15476447e-04\n",
      "    1.21163402e-03  1.06151786e-03]]\n",
      "\n",
      " ...\n",
      "\n",
      " [[-7.17030707e-05  9.66636726e-05 -1.35926719e-04 ... -5.78529034e-05\n",
      "   -1.68122162e-04  2.75197181e-05]\n",
      "  [-3.29141913e-05  1.60839161e-04 -1.75808273e-05 ...  4.92870677e-05\n",
      "   -1.70416184e-04  6.03758417e-05]\n",
      "  [-1.28560292e-04  4.69332503e-04  6.16497418e-05 ...  7.30891697e-05\n",
      "   -1.10159199e-04  1.86198638e-04]\n",
      "  ...\n",
      "  [-5.29163153e-05  8.23709532e-04  1.88127320e-04 ... -3.42138490e-04\n",
      "    9.13393742e-04 -4.07010375e-04]\n",
      "  [-2.28257268e-04  9.23454005e-04  2.57871143e-04 ... -2.18751011e-04\n",
      "    1.09475618e-03  1.46926992e-04]\n",
      "  [-3.35137651e-04  1.04763045e-03  3.63857340e-04 ... -9.64618448e-05\n",
      "    1.26835750e-03  6.56555872e-04]]\n",
      "\n",
      " [[-7.17030707e-05  9.66636726e-05 -1.35926719e-04 ... -5.78529034e-05\n",
      "   -1.68122162e-04  2.75197181e-05]\n",
      "  [-1.78314367e-04 -1.88908976e-04 -2.82983936e-04 ... -3.14298144e-04\n",
      "   -2.04182958e-04 -2.32267586e-04]\n",
      "  [-2.37026674e-04 -1.79762617e-04 -6.66000065e-04 ... -5.65025315e-04\n",
      "   -3.00153828e-04 -5.25960233e-04]\n",
      "  ...\n",
      "  [-1.24015030e-03  9.05771216e-04  6.88945409e-04 ...  2.70180084e-04\n",
      "    3.08099698e-04  5.50927944e-05]\n",
      "  [-1.11480290e-03  1.22492539e-03  8.20478424e-04 ...  3.77758959e-04\n",
      "    5.99923194e-04  4.97533416e-04]\n",
      "  [-9.71164205e-04  1.48456276e-03  9.23159940e-04 ...  4.56015056e-04\n",
      "    8.74665915e-04  8.59035528e-04]]\n",
      "\n",
      " [[-7.17030707e-05  9.66636726e-05 -1.35926719e-04 ... -5.78529034e-05\n",
      "   -1.68122162e-04  2.75197181e-05]\n",
      "  [-4.72680083e-04  4.59597941e-05  1.32322137e-04 ... -2.05854667e-04\n",
      "   -2.75991042e-04  4.89826198e-05]\n",
      "  [-8.61691951e-04 -2.32882576e-05  2.13782492e-04 ... -2.69599986e-04\n",
      "   -1.82607866e-04  7.88397083e-05]\n",
      "  ...\n",
      "  [-1.40394445e-03  2.89256626e-04 -4.62936616e-04 ... -3.52751638e-04\n",
      "    7.15649803e-04 -1.80527277e-04]\n",
      "  [-1.42600480e-03  5.33519546e-04 -2.35088723e-04 ... -1.01502228e-04\n",
      "    9.06855799e-04  2.00599286e-04]\n",
      "  [-1.38596410e-03  8.02955474e-04  1.39315016e-05 ...  1.28809028e-04\n",
      "    1.09809719e-03  5.71326411e-04]]], shape=(256, 14, 12001), dtype=float32)\n"
     ]
    }
   ],
   "source": [
    "# 모델의 최종 출력 텐서 shape\n",
    "for src_sample, tgt_sample in dataset.take(1): break\n",
    "print(model(src_sample))"
   ]
  },
  {
   "cell_type": "code",
   "execution_count": 54,
   "id": "quantitative-governor",
   "metadata": {},
   "outputs": [
    {
     "name": "stdout",
     "output_type": "stream",
     "text": [
      "Model: \"text_generator_1\"\n",
      "_________________________________________________________________\n",
      "Layer (type)                 Output Shape              Param #   \n",
      "=================================================================\n",
      "embedding_1 (Embedding)      multiple                  3072256   \n",
      "_________________________________________________________________\n",
      "lstm_2 (LSTM)                multiple                  5246976   \n",
      "_________________________________________________________________\n",
      "lstm_3 (LSTM)                multiple                  8392704   \n",
      "_________________________________________________________________\n",
      "dense_1 (Dense)              multiple                  12301025  \n",
      "=================================================================\n",
      "Total params: 29,012,961\n",
      "Trainable params: 29,012,961\n",
      "Non-trainable params: 0\n",
      "_________________________________________________________________\n"
     ]
    }
   ],
   "source": [
    "model.summary()"
   ]
  },
  {
   "cell_type": "code",
   "execution_count": 55,
   "id": "lovely-mountain",
   "metadata": {},
   "outputs": [
    {
     "name": "stdout",
     "output_type": "stream",
     "text": [
      "Epoch 1/10\n",
      "686/686 [==============================] - 99s 144ms/step - loss: 3.6439 - val_loss: 3.2349\n",
      "Epoch 2/10\n",
      "686/686 [==============================] - 101s 148ms/step - loss: 3.1296 - val_loss: 2.9753\n",
      "Epoch 3/10\n",
      "686/686 [==============================] - 98s 143ms/step - loss: 2.9300 - val_loss: 2.8043\n",
      "Epoch 4/10\n",
      "686/686 [==============================] - 101s 147ms/step - loss: 2.7808 - val_loss: 2.6669\n",
      "Epoch 5/10\n",
      "686/686 [==============================] - 100s 146ms/step - loss: 2.6526 - val_loss: 2.5399\n",
      "Epoch 6/10\n",
      "686/686 [==============================] - 100s 146ms/step - loss: 2.5339 - val_loss: 2.4214\n",
      "Epoch 7/10\n",
      "686/686 [==============================] - 100s 145ms/step - loss: 2.4223 - val_loss: 2.3147\n",
      "Epoch 8/10\n",
      "686/686 [==============================] - 97s 141ms/step - loss: 2.3179 - val_loss: 2.2038\n",
      "Epoch 9/10\n",
      "686/686 [==============================] - 99s 144ms/step - loss: 2.2153 - val_loss: 2.1014\n",
      "Epoch 10/10\n",
      "686/686 [==============================] - 100s 146ms/step - loss: 2.1155 - val_loss: 1.9992\n"
     ]
    },
    {
     "data": {
      "text/plain": [
       "<tensorflow.python.keras.callbacks.History at 0x7fc1dc00d690>"
      ]
     },
     "execution_count": 55,
     "metadata": {},
     "output_type": "execute_result"
    }
   ],
   "source": [
    "optimizer = tf.keras.optimizers.Adam()\n",
    "loss = tf.keras.losses.SparseCategoricalCrossentropy(\n",
    "    from_logits=True,\n",
    "    reduction='none'\n",
    ")\n",
    "\n",
    "# history = model.fit(partial_x_train,\n",
    "#                     partial_y_train,\n",
    "#                     epochs=epochs,\n",
    "#                     batch_size=512,\n",
    "#                     validation_data=(x_val, y_val),\n",
    "#                     verbose=1)\n",
    "\n",
    "model.compile(loss=loss, optimizer=optimizer)\n",
    "model.fit(dataset, epochs=10, validation_data=(enc_val, dec_val), verbose=1)"
   ]
  },
  {
   "cell_type": "code",
   "execution_count": 56,
   "id": "hungarian-postcard",
   "metadata": {},
   "outputs": [
    {
     "name": "stdout",
     "output_type": "stream",
     "text": [
      "<tensorflow.python.keras.losses.SparseCategoricalCrossentropy object at 0x7fc1dba91e50>\n"
     ]
    }
   ],
   "source": [
    "#Loss\n",
    "\n",
    "loss = tf.keras.losses.SparseCategoricalCrossentropy(from_logits=True, reduction='none')\n",
    "\n",
    "print(loss)"
   ]
  },
  {
   "cell_type": "code",
   "execution_count": 57,
   "id": "characteristic-bathroom",
   "metadata": {},
   "outputs": [
    {
     "name": "stdout",
     "output_type": "stream",
     "text": [
      "Source Train: (140599, 14)\n",
      "Target Train: (140599, 14)\n"
     ]
    }
   ],
   "source": [
    "print(\"Source Train:\", enc_train.shape)\n",
    "print(\"Target Train:\", dec_train.shape)"
   ]
  },
  {
   "cell_type": "markdown",
   "id": "continued-forward",
   "metadata": {},
   "source": [
    "## 6) 잘 만들어졌는지 평가하기"
   ]
  },
  {
   "cell_type": "code",
   "execution_count": 58,
   "id": "imported-silence",
   "metadata": {},
   "outputs": [],
   "source": [
    "def generate_text(model, tokenizer, init_sentence=\"<start>\", max_len=15):\n",
    "    # 테스트를 위해서 입력받은 init_sentence도 일단 텐서로 변환합니다.\n",
    "    test_input = tokenizer.texts_to_sequences([init_sentence])\n",
    "    test_tensor = tf.convert_to_tensor(test_input, dtype=tf.int64)\n",
    "    end_token = tokenizer.word_index[\"<end>\"]\n",
    "\n",
    "    # 텍스트를 실제로 생성할때는 루프를 돌면서 단어 하나씩 생성해야 합니다. \n",
    "    while True: # 주목!\n",
    "        predict = model(test_tensor)  # 입력받은 문장의 텐서를 입력합니다. \n",
    "        predict_word = tf.argmax(tf.nn.softmax(predict, axis=-1), axis=-1)[:, -1]   # 우리 모델이 예측한 마지막 단어가 바로 새롭게 생성한 단어가 됩니다. \n",
    "\n",
    "        # 우리 모델이 새롭게 예측한 단어를 입력 문장의 뒤에 붙여 줍니다. \n",
    "        test_tensor = tf.concat([test_tensor, \n",
    "                                 tf.expand_dims(predict_word, axis=0)], axis=-1)\n",
    "\n",
    "        # 우리 모델이 <end>를 예측했거나, max_len에 도달하지 않았다면  while 루프를 또 돌면서 다음 단어를 예측해야 합니다.\n",
    "        if predict_word.numpy()[0] == end_token: break\n",
    "        if test_tensor.shape[1] >= max_len: break\n",
    "\n",
    "    generated = \"\"\n",
    "    # 생성된 tensor 안에 있는 word index를 tokenizer.index_word 사전을 통해 실제 단어로 하나씩 변환합니다. \n",
    "    for word_index in test_tensor[0].numpy():\n",
    "        generated += tokenizer.index_word[word_index] + \" \"\n",
    "\n",
    "    return generated   # 이것이 최종적으로 모델이 생성한 자연어 문장입니다."
   ]
  },
  {
   "cell_type": "code",
   "execution_count": 59,
   "id": "mental-juvenile",
   "metadata": {},
   "outputs": [
    {
     "name": "stdout",
     "output_type": "stream",
     "text": [
      "<start> you know you re right <end> \n",
      "<start> we re gonna have to serve it <end> \n",
      "<start> hate to see the <unk> <end> \n",
      "<start> baby , baby , baby <end> \n",
      "<start> i m the one <end> \n"
     ]
    }
   ],
   "source": [
    "# init_sentence 를 바꿔가며 해보기 \n",
    "print(generate_text(model, tokenizer, init_sentence=\"<start> you\"))\n",
    "\n",
    "print(generate_text(model, tokenizer, init_sentence=\"<start> we\"))\n",
    "\n",
    "print(generate_text(model, tokenizer, init_sentence=\"<start> hate\"))\n",
    "\n",
    "print(generate_text(model, tokenizer, init_sentence=\"<start> baby\"))\n",
    "\n",
    "print(generate_text(model, tokenizer, init_sentence=\"<start> \"))"
   ]
  },
  {
   "cell_type": "markdown",
   "id": "manufactured-password",
   "metadata": {},
   "source": [
    "## 루브릭\n",
    "\n",
    "평가문항\n",
    "1. 가사 텍스트 생성 모델이 정상적으로 동작하는가?  \n",
    "   텍스트 제너레이션 결과가 그럴듯한 문장으로 생성되는가?  \n",
    "->부정적인 단어(hate)에는 \\<unk>이 나왔지만, 나머지 문장은 자연스러운 문장을 출력했다.  \n",
    "   \n",
    "2. 데이터의 전처리와 데이터셋 구성 과정이 체계적으로 진행되었는가?  \n",
    "   특수문자 제거, 토크나이저 생성, 패딩처리 등의 과정이 빠짐없이 진행되었는가?  \n",
    "-> 노드와 다르게 토큰의 개수가 15개를 넘어가는 문장을 학습데이터에서 제외해야했다. 그래서 토큰화 과정에 'maxlen = 15'을 추가해 주었다.\n",
    "  \n",
    "3. 텍스트 생성모델이 안정적으로 학습되었는가?   \n",
    "   텍스트 생성모델의 validation loss가 2.2 이하로 낮아졌는가?\n",
    "-> 마지막 loss가 1.9992 로 2.2보다 낮게 나왔다.  \n",
    "  \n",
    "***  \n",
    "## 고찰  \n",
    "노드에서 적절한 비유와 함께 설명해서 자연어 과제 중 가장 수월하게 해낼 수 있었다.  \n",
    "아쉽게도 maxlen을 15로 했음에도 data의 크기가 120000개가 넘었다. 이 점을 더 보완하면 좋을 것 같다. "
   ]
  }
 ],
 "metadata": {
  "kernelspec": {
   "display_name": "aiffel",
   "language": "python",
   "name": "aiffel"
  },
  "language_info": {
   "codemirror_mode": {
    "name": "ipython",
    "version": 3
   },
   "file_extension": ".py",
   "mimetype": "text/x-python",
   "name": "python",
   "nbconvert_exporter": "python",
   "pygments_lexer": "ipython3",
   "version": "3.7.9"
  }
 },
 "nbformat": 4,
 "nbformat_minor": 5
}
